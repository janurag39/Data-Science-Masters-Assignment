{
 "cells": [
  {
   "cell_type": "markdown",
   "id": "368974f8-d946-4603-a739-9510a194323d",
   "metadata": {},
   "source": [
    "### Q1. What is multiprocessing in python? Why is it useful? "
   ]
  },
  {
   "cell_type": "markdown",
   "id": "859426cf-915d-4030-b28a-62ce2c7d59e7",
   "metadata": {},
   "source": [
    "Ans. Multiprocessing refers to the ability of a system to support more than one processor at the same time. Applications in a multiprocessing system are broken into smaller routines that run independently. The operating system allocates these threads to the processors imporving performance of the system.\n",
    "\n",
    "- Importance of Multiprocessing:\n",
    "Consider a computer system with a single processor. If it is assigned several processes at the same time, it will have to interrupt each task and switch briefly to another, to keep all of the processes going.\n",
    "\n",
    "Therefore, Multiprocessing comes into the picture where CPU can execute several tasks at once, with each task using its own processor."
   ]
  },
  {
   "cell_type": "code",
   "execution_count": null,
   "id": "236d3613-b37a-4f72-ad73-289de89b6d87",
   "metadata": {},
   "outputs": [],
   "source": []
  },
  {
   "cell_type": "markdown",
   "id": "654cbc10-9d71-4873-9dc3-0f2ca02a3e6f",
   "metadata": {},
   "source": [
    "### Q2. What are the differences between multiprocessing and multithreading?"
   ]
  },
  {
   "cell_type": "markdown",
   "id": "af4a551d-df78-4a34-a6e0-8c0308e68478",
   "metadata": {},
   "source": [
    "Ans.\n",
    "1. Multiprocessing uses two or more CPUs to increase computing power, whereas multithreading uses a single process with multiple code segments to increase computing power.\n",
    "2. Multithreading focuses on generating computing threads from a single process, whereas multiprocessing increases computing power by adding CPUs.\n",
    "3. Multiprocessing is used to create a more reliable system, whereas multithreading is used to create threads that run parallel to each other.\n",
    "4. Multithreading is quick to create and requires few resources, whereas Multiprocessing requires a significant amount of time and specific resources to create.\n",
    "5. Multiprocessing executes many processes simultaneously, whereas multithreading executes many threads simultaneously.\n",
    "6. Multithreading uses a common address space for all the threads, whereas multiprocessing creates a separate address space for each process."
   ]
  },
  {
   "cell_type": "code",
   "execution_count": null,
   "id": "95c4efbc-09e5-4aea-8a39-f666885f8549",
   "metadata": {},
   "outputs": [],
   "source": []
  },
  {
   "cell_type": "markdown",
   "id": "faed2e36-26b8-46c8-9ed7-17eb898f1ff8",
   "metadata": {},
   "source": [
    "### Q3. Write a python code to create a process using the multiprocessing module."
   ]
  },
  {
   "cell_type": "code",
   "execution_count": 1,
   "id": "acffdbb9-8cbb-4af3-8177-d37261401a37",
   "metadata": {},
   "outputs": [],
   "source": [
    "import multiprocessing"
   ]
  },
  {
   "cell_type": "code",
   "execution_count": 2,
   "id": "d96b083b-a8d0-4a5d-b7b1-3dac0ef2bfbc",
   "metadata": {},
   "outputs": [
    {
     "name": "stdout",
     "output_type": "stream",
     "text": [
      "This is my main program\n",
      "This is my first Multiprocessing program written in Python\n"
     ]
    }
   ],
   "source": [
    "def test():\n",
    "    print('This is my first Multiprocessing program written in Python')\n",
    "\n",
    "if __name__ == '__main__':\n",
    "    mp = multiprocessing.Process(target=test)\n",
    "    print( 'This is my main program' )\n",
    "    mp.start()"
   ]
  },
  {
   "cell_type": "code",
   "execution_count": null,
   "id": "93fd6f70-aa8b-47e7-8727-03a155258302",
   "metadata": {},
   "outputs": [],
   "source": []
  },
  {
   "cell_type": "markdown",
   "id": "86142c59-66e3-4bbf-8be4-23584876bdf9",
   "metadata": {},
   "source": [
    "### Q4. What is a multiprocessing pool in python? Why is it used?"
   ]
  },
  {
   "cell_type": "markdown",
   "id": "3d41e75d-cacc-4c64-b95b-7d54f9c0b013",
   "metadata": {},
   "source": [
    "Ans. Python multiprocessing Pool can be used for parallel execution of a function across multiple input values, distributing the input data across processes (data parallelism).\n",
    "\n",
    "In the Process class, we had to create processes explicitly. However, the Pool class is more convenient, and you do not have to manage it manually. The syntax to create a pool object is multiprocessing.Pool(processes, initializer, initargs, maxtasksperchild, context)"
   ]
  },
  {
   "cell_type": "code",
   "execution_count": null,
   "id": "fe303f24-e727-434a-ac40-17aa741931e1",
   "metadata": {},
   "outputs": [],
   "source": []
  },
  {
   "cell_type": "markdown",
   "id": "954378bf-f708-4f3c-801e-ef9304f0b267",
   "metadata": {},
   "source": [
    "### Q5. How can we create a pool of worker processes in python using the multiprocessing module?"
   ]
  },
  {
   "cell_type": "markdown",
   "id": "273678b1-af7f-4153-9665-c5da86b2d3e0",
   "metadata": {},
   "source": [
    "Ans. The Pool class represents a pool of worker processes. It has methods which allows tasks to be offloaded to the worker processes in a few different ways.\n",
    "\n",
    "Note** the methods of a pool should only ever be used by the process which created it."
   ]
  },
  {
   "cell_type": "code",
   "execution_count": 6,
   "id": "90e38edb-c7a8-4936-917b-6bf605d6125f",
   "metadata": {},
   "outputs": [
    {
     "name": "stdout",
     "output_type": "stream",
     "text": [
      "Pool took:  0.7069954872131348\n"
     ]
    }
   ],
   "source": [
    "# example for pool of workers\n",
    "\n",
    "from multiprocessing import Pool\n",
    "import time\n",
    "\n",
    "def test_func(x):\n",
    "    sum = 0\n",
    "    for i in range(100000):\n",
    "        sum += x*x\n",
    "    \n",
    "    return sum\n",
    "\n",
    "if __name__ == '__main__':\n",
    "    \n",
    "    t1 = time.time()\n",
    "    with Pool() as p:\n",
    "        # print(p.map(test_func, range(10000)))\n",
    "        result = p.map(test_func, range(1000))\n",
    "        \n",
    "    print( \"Pool took: \", time.time() - t1 )"
   ]
  },
  {
   "cell_type": "code",
   "execution_count": null,
   "id": "e028761c-c65e-4cd6-bd56-fe21920c8793",
   "metadata": {},
   "outputs": [],
   "source": []
  },
  {
   "cell_type": "markdown",
   "id": "b6a9906e-2375-484d-be7e-573cc3671301",
   "metadata": {},
   "source": [
    "### Q6. Write a python program to create 4 processes, each process should print a different number using the multiprocessing module in python."
   ]
  },
  {
   "cell_type": "code",
   "execution_count": 29,
   "id": "4cc763c8-a0d3-4929-9656-ea2fa8c1c4a3",
   "metadata": {},
   "outputs": [
    {
     "name": "stdin",
     "output_type": "stream",
     "text": [
      "Enter the desired number: 64\n"
     ]
    },
    {
     "name": "stdout",
     "output_type": "stream",
     "text": [
      "Square of 64 is 4096\n",
      "Cube of 64 is 262144\n",
      "Square-root of 64 is 8.0\n",
      "Cube root of 64 is 4.0\n",
      "All the processes are completed and it took 0.039 secs to complete them\n"
     ]
    }
   ],
   "source": [
    "import multiprocessing\n",
    "import math\n",
    "import numpy as np\n",
    "import time\n",
    "\n",
    "def test_1(num):\n",
    "    # func to print square of a number\n",
    "    print(\"Square of {} is {}\".format(num, num**2))\n",
    "    return \"This is printed thorugh return statement\"\n",
    "    \n",
    "def test_2(num):\n",
    "    # func to print cube of a number\n",
    "    print(\"Cube of {} is {}\".format(num, num**3))\n",
    "    \n",
    "def test_3(num):\n",
    "    # func to print square root of a number\n",
    "    print(\"Square-root of {} is {}\".format(num, math.sqrt(num)))\n",
    "    \n",
    "def test_4(num):\n",
    "    # func to print cube root of a number\n",
    "    print(\"Cube root of {} is {}\".format(num, np.cbrt(num)))\n",
    "    \n",
    "    \n",
    "if __name__ == '__main__':\n",
    "    \n",
    "    try:\n",
    "        num = int(input(\"Enter the desired number:\"))\n",
    "        \n",
    "    except ValueError as ve:\n",
    "        print(\"Error:\", ve)\n",
    "        \n",
    "    else:  \n",
    "        t_start = time.time()\n",
    "        \n",
    "        # creating all 4 process\n",
    "        m1 = multiprocessing.Process(target=test_1, args=(num,))\n",
    "        m2 = multiprocessing.Process(target=test_2, args=(num,))\n",
    "        m3 = multiprocessing.Process(target=test_3, args=(num,))\n",
    "        m4 = multiprocessing.Process(target=test_4, args=(num,))\n",
    "        \n",
    "        # starting all the processes\n",
    "        m1.start()\n",
    "        m2.start()\n",
    "        m3.start()\n",
    "        m4.start()\n",
    "        \n",
    "        # wait until processes are finished\n",
    "        m1.join()\n",
    "        m2.join()\n",
    "        m3.join()\n",
    "        m4.join()\n",
    "        \n",
    "        t_end = time.time()\n",
    "        print(\"All the processes are completed and it took {} secs to complete them\".format(round(t_end - t_start, 3)))\n",
    "        \n",
    "        "
   ]
  },
  {
   "cell_type": "code",
   "execution_count": null,
   "id": "7c9166af-a995-4837-baaa-32002b4f00fa",
   "metadata": {},
   "outputs": [],
   "source": []
  },
  {
   "cell_type": "code",
   "execution_count": null,
   "id": "1cde42c9-ab04-4cd5-a8c2-90fe1ade79fa",
   "metadata": {},
   "outputs": [],
   "source": []
  }
 ],
 "metadata": {
  "kernelspec": {
   "display_name": "Python 3 (ipykernel)",
   "language": "python",
   "name": "python3"
  },
  "language_info": {
   "codemirror_mode": {
    "name": "ipython",
    "version": 3
   },
   "file_extension": ".py",
   "mimetype": "text/x-python",
   "name": "python",
   "nbconvert_exporter": "python",
   "pygments_lexer": "ipython3",
   "version": "3.10.8"
  }
 },
 "nbformat": 4,
 "nbformat_minor": 5
}
