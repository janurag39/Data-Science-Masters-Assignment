{
 "cells": [
  {
   "cell_type": "markdown",
   "id": "d2a66916-1221-421b-bff3-fce501532662",
   "metadata": {},
   "source": [
    "### Q1. What is the Probability density function?"
   ]
  },
  {
   "cell_type": "markdown",
   "id": "779eaabf-4861-4318-bff8-4b928e401999",
   "metadata": {},
   "source": [
    "Ans. **Probability Density Function (PDF)**: The Probability Density Function(PDF) defines the probability function representing the density of a continuous random variable lying between a specific range of values. In other words, the probability density function produces the likelihood of values of the continuous random variable. Sometimes it is also called a probability distribution function or just a probability function. However, this function is stated in many other sources as the function over a broad set of values. Often it is referred to as cumulative distribution function or sometimes as probability mass function(PMF). However, the actual truth is PDF (probability density function ) is defined for continuous random variables, whereas PMF (probability mass function) is defined for discrete random variables.\n",
    "\n",
    "Eg: The Normal/Gaussian distribution which forms a bell curve."
   ]
  },
  {
   "attachments": {
    "c99809ad-2e98-4fed-9bc5-9ed7b66cf903.png": {
     "image/png": "[encoded data removed]"
    }
   },
   "cell_type": "markdown",
   "id": "7a507997-0990-4bc4-90da-15c342d45e57",
   "metadata": {},
   "source": [
    "![PDF.png](attachment:c99809ad-2e98-4fed-9bc5-9ed7b66cf903.png)"
   ]
  },
  {
   "cell_type": "code",
   "execution_count": null,
   "id": "4b697a10-2318-48f7-81b8-8475a73e5121",
   "metadata": {},
   "outputs": [],
   "source": []
  },
  {
   "cell_type": "markdown",
   "id": "eb42df12-f074-425d-b70f-494a1716542d",
   "metadata": {},
   "source": [
    "### Q2. What are the types of Probability distribution?"
   ]
  },
  {
   "cell_type": "markdown",
   "id": "f447f999-61c6-4f22-a127-826c19411db9",
   "metadata": {},
   "source": [
    "Ans. The type of Probability distributions are as follows:\n",
    "1. **Normal/Gaussian Distribution**: Normal/Gaussian distribution, is a probability distribution that is symmetric about the mean, showing that data near the mean are more frequent in occurrence than data far from the mean. In graphical form, the normal distribution appears as a \"bell curve\". In the Normal Distribution the the (Mean ~ Median ~ Mode).\n",
    "\n",
    "<img src='https://lh6.googleusercontent.com/yEF1FMSbFyrzlyNNIK2fnMRSkFd3UJZtp90lB1kViRZDce3yjIug1QiaddC3XN4bHcl7iQLTC2OzuQo4hyacJ7rQdPyenQdy1XNtzK-gBeCzujr29_Rd0tmU1HoLDkMfLeM0NvB9' width=\"400\" height=\"340\">\n",
    "\n",
    "\n",
    "2. **Bernoulli Distribution**: It is the discrete probability distribution of a random variable which takes the value 1 with probability, 'p' and the value 0 with probability, 'q = 1-p'. For the Bernoulli distribution the outcomes are always in binary.\n",
    "\n",
    "<img src='https://upload.wikimedia.org/wikipedia/commons/7/74/Bernoulli_Distribution.PNG' width=\"400\" height=\"340\">\n",
    "\n",
    "\n",
    "3. **Uniform Distribution**: It is the probability distribution that represents equally likely outcomes i.e. the probability of each occurring is the same. There are two types of uniform distribution: Discrete uniform distribution and continuous uniform distribution (the most common type in elementary statistics). It defines the density function of the random variable, mean, and variance.\n",
    "\n",
    "    It has two parameters a and b: a = minimum and b = maximum. The distribution is written as U(a, b). Types of uniform distribution are:\n",
    "    \n",
    "    - *Continuous Uniform Distribution*: A continuous uniform probability distribution is a distribution that has an infinite number of values defined in a specified range. It has a rectangular-shaped graph so-called rectangular distribution. It works on the values which are continuous in nature. Example: Random number generator\n",
    "    - *Discrete Uniform Distribution*: A discrete uniform probability distribution is a distribution that has a finite number of values defined in a specified range. Its graph contains various vertical lines for each finite value. It works on values that are discrete in nature. Example: A dice is rolled.\n",
    "\n",
    "<img src='https://media.geeksforgeeks.org/wp-content/uploads/20220420172352/UDG.png' width=\"400\" height=\"340\">\n",
    "\n",
    "\n",
    "4. **Log Normal Distribution**: A log-normal (or lognormal) distribution is a continuous probability distribution of a random variable whose logarithm is normally distributed. Thus, if the random variable X is log-normally distributed, then Y = ln(X) has a normal distribution. Equivalently, if Y has a normal distribution, then the exponential function of Y, X = exp(Y), has a log-normal distribution. A random variable which is log-normally distributed takes only positive real values. It is a convenient and useful model for measurements in exact and engineering sciences, as well as medicine, economics and other topics (e.g., energies, concentrations, lengths, prices of financial instruments, and other metrics).\n",
    "\n",
    "    The distribution is occasionally referred to as the Galton distribution or Galton's distribution, A log-normal process is the statistical realization of the multiplicative product of many independent random variables, each of which is positive. This is justified by considering the central limit theorem in the log domain (sometimes called Gibrat's law). The log-normal distribution is the maximum entropy probability distribution for a random variate X—for which the mean and variance of ln(X) are specified.\n",
    "\n",
    "<img src='https://upload.wikimedia.org/wikipedia/commons/thumb/8/89/Log-normal-pdfs.png/300px-Log-normal-pdfs.png' width=\"400\" height=\"340\">\n",
    "\n",
    "\n",
    "5. **Poisson Distribution**: A Poisson distribution is a discrete probability distribution. It gives the probability of an event happening a certain number of times (k) within a given interval of time or space. The Poisson distribution has only one parameter, λ (lambda), which is the mean number of events.\n",
    "\n",
    "<img src='https://i0.wp.com/statisticsbyjim.com/wp-content/uploads/2021/08/Poisson_distribution_example.png?fit=576%2C384&ssl=1' width=\"400\" height=\"340\">\n",
    "\n",
    "\n",
    "6. **Power Law Distribution**: It indicate the ability of a system to self-organize when constantly pushed to a disordered state by natural perturbations.\n",
    "\n",
    "<img src='https://economicsfromthetopdown.files.wordpress.com/2019/04/linear_height.png' width=\"400\" height=\"340\">\n",
    "\n",
    "\n",
    "7. **Binomial Distribution**: In probability theory and statistics, the binomial distribution with parameters n and p is the discrete probability distribution Of the number Of successes in a sequence Of n independent experiments, each asking a yes—no question. and each with its own Boolean-valued outcome: success (with probability p) or failure (with probability q=l -p). A single success/failure experiment is also called a Bernoulli trial or Bernoulli experiment, and a sequence of outcomes is called a Bernoulli process; a single trial, i.e., n = 1, the binomial distribution is a Bernoulli distribution.\n",
    "\n",
    "<img src='https://www.dummies.com/wp-content/uploads/460747.image0.jpg' width=\"400\" height=\"340\">"
   ]
  },
  {
   "cell_type": "code",
   "execution_count": null,
   "id": "30995ba6-0c23-4378-a64e-44880ecd14e4",
   "metadata": {},
   "outputs": [],
   "source": []
  },
  {
   "cell_type": "markdown",
   "id": "efdc4c6f-0c7d-490f-a403-b76377be0778",
   "metadata": {},
   "source": [
    "### Q3. Write a Python function to calculate the probability density function of a normal distribution with given mean and standard deviation at a given point."
   ]
  },
  {
   "cell_type": "code",
   "execution_count": 94,
   "id": "380b39a5-c494-4229-902b-2c61e5f6d32b",
   "metadata": {},
   "outputs": [
    {
     "name": "stdout",
     "output_type": "stream",
     "text": [
      "Probability Density Funcion for normal distribution at 3 is 0.0804410163156249\n"
     ]
    }
   ],
   "source": [
    "# Probability Density Function for Normal Distribution.\n",
    "\n",
    "import scipy.stats as stat\n",
    "import numpy as np\n",
    "\n",
    "data = np.linspace(-5, 5, 11)\n",
    "# print(data)\n",
    "  \n",
    "mean = np.mean(data)\n",
    "std = np.std(data)\n",
    "# print(std)\n",
    "\n",
    "probability_pdf = stat.norm.pdf(3, loc=mean, scale=std)\n",
    "print(f'Probability Density Funcion for normal distribution at 3 is {probability_pdf}')"
   ]
  },
  {
   "cell_type": "code",
   "execution_count": 42,
   "id": "b77aeeea-1293-432c-b9a5-be5162551548",
   "metadata": {},
   "outputs": [],
   "source": [
    "# Q3 with Iris Dataset\n",
    "\n",
    "import scipy.stats as stat\n",
    "import pylab\n",
    "import numpy as np\n",
    "import seaborn as sns\n",
    "import matplotlib.pyplot as plt\n",
    "\n",
    "dfQ3 = sns.load_dataset(\"iris\")"
   ]
  },
  {
   "cell_type": "code",
   "execution_count": 43,
   "id": "28358783-2ce6-4d7c-a64d-dffc534c016b",
   "metadata": {},
   "outputs": [
    {
     "data": {
      "text/html": [
       "<div>\n",
       "<style scoped>\n",
       "    .dataframe tbody tr th:only-of-type {\n",
       "        vertical-align: middle;\n",
       "    }\n",
       "\n",
       "    .dataframe tbody tr th {\n",
       "        vertical-align: top;\n",
       "    }\n",
       "\n",
       "    .dataframe thead th {\n",
       "        text-align: right;\n",
       "    }\n",
       "</style>\n",
       "<table border=\"1\" class=\"dataframe\">\n",
       "  <thead>\n",
       "    <tr style=\"text-align: right;\">\n",
       "      <th></th>\n",
       "      <th>sepal_length</th>\n",
       "      <th>sepal_width</th>\n",
       "      <th>petal_length</th>\n",
       "      <th>petal_width</th>\n",
       "      <th>species</th>\n",
       "    </tr>\n",
       "  </thead>\n",
       "  <tbody>\n",
       "    <tr>\n",
       "      <th>0</th>\n",
       "      <td>5.1</td>\n",
       "      <td>3.5</td>\n",
       "      <td>1.4</td>\n",
       "      <td>0.2</td>\n",
       "      <td>setosa</td>\n",
       "    </tr>\n",
       "    <tr>\n",
       "      <th>1</th>\n",
       "      <td>4.9</td>\n",
       "      <td>3.0</td>\n",
       "      <td>1.4</td>\n",
       "      <td>0.2</td>\n",
       "      <td>setosa</td>\n",
       "    </tr>\n",
       "    <tr>\n",
       "      <th>2</th>\n",
       "      <td>4.7</td>\n",
       "      <td>3.2</td>\n",
       "      <td>1.3</td>\n",
       "      <td>0.2</td>\n",
       "      <td>setosa</td>\n",
       "    </tr>\n",
       "    <tr>\n",
       "      <th>3</th>\n",
       "      <td>4.6</td>\n",
       "      <td>3.1</td>\n",
       "      <td>1.5</td>\n",
       "      <td>0.2</td>\n",
       "      <td>setosa</td>\n",
       "    </tr>\n",
       "    <tr>\n",
       "      <th>4</th>\n",
       "      <td>5.0</td>\n",
       "      <td>3.6</td>\n",
       "      <td>1.4</td>\n",
       "      <td>0.2</td>\n",
       "      <td>setosa</td>\n",
       "    </tr>\n",
       "  </tbody>\n",
       "</table>\n",
       "</div>"
      ],
      "text/plain": [
       "   sepal_length  sepal_width  petal_length  petal_width species\n",
       "0           5.1          3.5           1.4          0.2  setosa\n",
       "1           4.9          3.0           1.4          0.2  setosa\n",
       "2           4.7          3.2           1.3          0.2  setosa\n",
       "3           4.6          3.1           1.5          0.2  setosa\n",
       "4           5.0          3.6           1.4          0.2  setosa"
      ]
     },
     "execution_count": 43,
     "metadata": {},
     "output_type": "execute_result"
    }
   ],
   "source": [
    "dfQ3.head()"
   ]
  },
  {
   "cell_type": "code",
   "execution_count": 45,
   "id": "5a44e0d0-b1b7-40a2-af16-c2a7517ca1ed",
   "metadata": {},
   "outputs": [
    {
     "name": "stdout",
     "output_type": "stream",
     "text": [
      "The Probability Density function at 3 is 0.9103887599028633\n"
     ]
    }
   ],
   "source": [
    "def pdf_function(df, col_name):\n",
    "    # plt.figure(figsize=(15,6))\n",
    "    # plt.subplot(1,2,1)\n",
    "    # sns.histplot(df[col_name], kde=True)\n",
    "    # plt.subplot(1,2,2)\n",
    "    # stat.probplot(df[col_name], dist=\"norm\", plot=pylab)\n",
    "    # plt.show()\n",
    "    \n",
    "    mean = np.mean(df[col_name])\n",
    "    std = np.std(df[col_name])\n",
    "    pdf = stat.norm.pdf(3.0, loc=mean, scale=std)\n",
    "    return f\"The Probability Density function at 3 is {pdf}\"\n",
    "    \n",
    "    \n",
    "if __name__ == \"__main__\":\n",
    "    # After executing the above commented code got to know that \"sepal_width\" follows Normal Distribution\n",
    "    print(pdf_function(dfQ3, \"sepal_width\"))"
   ]
  },
  {
   "cell_type": "code",
   "execution_count": null,
   "id": "c0d37c82-504c-453b-9670-5dafccff730b",
   "metadata": {},
   "outputs": [],
   "source": []
  },
  {
   "cell_type": "markdown",
   "id": "758cbbbf-79da-4716-9dc0-17f31462f7b5",
   "metadata": {},
   "source": [
    "### Q4. What are the properties of Binomial distribution? Give two examples of events where binomial distribution can be applied."
   ]
  },
  {
   "cell_type": "markdown",
   "id": "860ef810-3b1c-4570-abd2-d1726a7dc1b2",
   "metadata": {},
   "source": [
    "Ans. **Properties of Binomial Distribution:**\n",
    "1. There are two possible outcomes: true or false, success or failure, yes or no.\n",
    "2. There is ‘n’ number of independent trials or a fixed number of n times repeated trials.\n",
    "3. The probability of success or failure remains the same for each trial.\n",
    "4. Only the number of success is calculated out of n independent trials.\n",
    "5. Every trial is an independent trial, which means the outcome of one trial does not affect the outcome of another trial.\n",
    "\n",
    "\n",
    "**Example (Where Binomial Distribution can be applied)**:\n",
    "1. Number of successes (heads) in an experiment of 10 trials of tossing a coin\n",
    "2. Number of successes (six) in an experiment of 10 trials of rolling a die\n",
    "3. Number of successes (defective items) in an experiment of 10 trials of examining 10 items"
   ]
  },
  {
   "cell_type": "code",
   "execution_count": null,
   "id": "461fc03a-40d1-4cbe-8cc7-2d934909cefb",
   "metadata": {},
   "outputs": [],
   "source": []
  },
  {
   "cell_type": "markdown",
   "id": "476ee3f3-e437-4459-9687-f4fb8b3cb106",
   "metadata": {},
   "source": [
    "### Q5. Generate a random sample of size 1000 from a binomial distribution with probability of success 0.4 and plot a histogram of the results using matplotlib."
   ]
  },
  {
   "cell_type": "code",
   "execution_count": 55,
   "id": "64182c89-889f-40ea-9565-3b0bc157d170",
   "metadata": {},
   "outputs": [
    {
     "data": {
      "image/png": "[encoded data removed]",
      "text/plain": [
       "<Figure size 640x480 with 1 Axes>"
      ]
     },
     "metadata": {},
     "output_type": "display_data"
    }
   ],
   "source": [
    "import numpy as np\n",
    "import matplotlib.pyplot as plt\n",
    "\n",
    "# comsidering a 1000 trails for coin toss where, 0 - Tail and 1 - Head\n",
    "bino_dist = np.random.binomial(n=10, p=0.4, size=1000)\n",
    "\n",
    "# plotting histogram for bino_dist using matplotlib.pyplot\n",
    "plt.hist(bino_dist)\n",
    "plt.show()"
   ]
  },
  {
   "cell_type": "code",
   "execution_count": null,
   "id": "f790b703-b174-4708-b3ea-21a80a652491",
   "metadata": {},
   "outputs": [],
   "source": []
  },
  {
   "cell_type": "markdown",
   "id": "44046816-7480-4676-bbb6-390f59426563",
   "metadata": {},
   "source": [
    "### Q6. Write a Python function to calculate the cumulative distribution function of a Poisson distribution with given mean at a given point."
   ]
  },
  {
   "cell_type": "code",
   "execution_count": 44,
   "id": "d2c43938-8bb6-4654-886c-ba31670f807a",
   "metadata": {},
   "outputs": [
    {
     "name": "stdout",
     "output_type": "stream",
     "text": [
      "Cumulative Distribution Function at 5 is 0.6264874261571349\n"
     ]
    }
   ],
   "source": [
    "import numpy as np\n",
    "import scipy.stats as stat\n",
    "import matplotlib.pyplot as plt\n",
    "\n",
    "pois_dist = np.random.poisson(lam=5, size=100)\n",
    "# print(pois_dist)\n",
    "# plt.hist(pois_dist)\n",
    "# plt.show()\n",
    "\n",
    "mean = np.mean(pois_dist)\n",
    "# print(mean) \n",
    "# var = np.var(pois_dist)\n",
    "\n",
    "cdf = stat.poisson.cdf(k=5, mu=mean)\n",
    "print(f\"Cumulative Distribution Function at 5 is {cdf}\")"
   ]
  },
  {
   "cell_type": "code",
   "execution_count": null,
   "id": "9ac333eb-2f28-42c3-93e5-e0844b913f6e",
   "metadata": {},
   "outputs": [],
   "source": []
  },
  {
   "cell_type": "markdown",
   "id": "d6c84b65-88d8-4962-a098-78e46ab32824",
   "metadata": {},
   "source": [
    "### Q7. How Binomial distribution different from Poisson distribution?"
   ]
  },
  {
   "cell_type": "markdown",
   "id": "a4a755f0-3104-4a79-94eb-a3ffb274938c",
   "metadata": {},
   "source": [
    "Ans. Difference between Binomial and Poisson Distribution:\n",
    "\n",
    "|Binomial Distribution|Poisson Distribution|\n",
    "|-|-|\n",
    "|1. Binomial distribution is one in which the probability of repeated number of trials are studied.|1. Poisson Distribution gives the count of independent events occur randomly with a given period of time.\n",
    "|2. This has fixed number of trials.|2. This has infinite number of trials.|\n",
    "|3. It is biparametric, i.e. it has 2 parameters n and p.| 3. It is uniparametric, i.e. it has only 1 parameter m.|\n",
    "|4. The probability of success is constant.|4. The probability of success is extremely small.|\n",
    "|5. There are only two possible outcomes-Success or failure.|5. There are unlimited possible outcomes.|\n",
    "|6. Mean>Variance | 6. \tMean=Variance"
   ]
  },
  {
   "cell_type": "code",
   "execution_count": null,
   "id": "1321f3af-f760-48a1-98f2-10c5538c32f7",
   "metadata": {},
   "outputs": [],
   "source": []
  },
  {
   "cell_type": "markdown",
   "id": "7629870d-9337-4ae1-afcb-3b51e8b6719c",
   "metadata": {},
   "source": [
    "### Q8. Generate a random sample of size 1000 from a Poisson distribution with mean 5 and calculate the sample mean and variance."
   ]
  },
  {
   "cell_type": "code",
   "execution_count": 49,
   "id": "b57efb83-b918-4adf-864a-e2810ef2ad84",
   "metadata": {},
   "outputs": [],
   "source": [
    "import scipy.stats as stat\n",
    "\n",
    "data_Q8 = stat.poisson.rvs(mu=5, size=1000)"
   ]
  },
  {
   "cell_type": "code",
   "execution_count": 65,
   "id": "ed0e4272-42f6-4bcf-aed1-619706fe2e8b",
   "metadata": {},
   "outputs": [
    {
     "name": "stdout",
     "output_type": "stream",
     "text": [
      "The Sample Mean for poisson distribution of 1000 size with Population Mean 5 is 4\n",
      "The Variance for poisson distribution of 1000 size with Population Mean 5 is 5\n"
     ]
    }
   ],
   "source": [
    "import numpy as np\n",
    "import statistics as st\n",
    "\n",
    "sam_mean = st.mean(data_Q8) # returns the sample arithmetic mean for the given distribution\n",
    "print(\"The Sample Mean for poisson distribution of 1000 size with Population Mean 5 is {}\".format(sam_mean))\n",
    "\n",
    "var = st.variance(data_Q8)\n",
    "print(\"The Variance for poisson distribution of 1000 size with Population Mean 5 is {}\".format(var))"
   ]
  },
  {
   "cell_type": "code",
   "execution_count": null,
   "id": "22f716fd-541c-48f1-a4e8-3e75b71036cb",
   "metadata": {},
   "outputs": [],
   "source": []
  },
  {
   "cell_type": "markdown",
   "id": "88f7e263-6afd-4ae3-b63b-f35861d2ab07",
   "metadata": {},
   "source": [
    "### Q9. How mean and variance are related in Binomial distribution and Poisson distribution?"
   ]
  },
  {
   "cell_type": "markdown",
   "id": "ce0ed4cb-f957-459c-8185-438a71214236",
   "metadata": {},
   "source": [
    "Ans. The mean of the **binomial distribution** is np, and the variance of the binomial distribution is np (1 − p) or npq. Therefore Mean is greater than the variance for the Binomial Distribution.\n",
    "\n",
    "The mean and the variance of the **poisson distribution** is (lambda * time_interval). Therefore the mean and variance is equal in poisson's distribution\n",
    "\n",
    "Note* At time_interval = 1,\n",
    "- Mean = Variance = Lambda (Expected no. of event to occur at every time interval)"
   ]
  },
  {
   "cell_type": "code",
   "execution_count": null,
   "id": "fa10c064-a58b-470a-be85-fc56b6b48224",
   "metadata": {},
   "outputs": [],
   "source": []
  },
  {
   "cell_type": "markdown",
   "id": "b65924d5-4213-4adf-ab1d-38f65e980950",
   "metadata": {},
   "source": [
    "### Q10. In normal distribution with respect to mean position, where does the least frequent data appear?"
   ]
  },
  {
   "cell_type": "markdown",
   "id": "8c5f8b7d-6ff3-4d6e-9152-71b0c4c8b400",
   "metadata": {},
   "source": [
    "Ans. In Normal Distribution the mean, mode, and median falls at the mid point/ at the highest peak of the bell curve and has the highest frequency of data concentrated there, there the data points farthest from the mean will have the least frequency.\n",
    "\n",
    "As per the Emperical Rule for the Normal Distribution, the data falling outside the three standard deviation (3-sigma) would signify rare occurrences/ least occured data."
   ]
  },
  {
   "cell_type": "code",
   "execution_count": null,
   "id": "67f24944-384e-4b70-a3f4-6001664a7262",
   "metadata": {},
   "outputs": [],
   "source": []
  }
 ],
 "metadata": {
  "kernelspec": {
   "display_name": "Python 3 (ipykernel)",
   "language": "python",
   "name": "python3"
  },
  "language_info": {
   "codemirror_mode": {
    "name": "ipython",
    "version": 3
   },
   "file_extension": ".py",
   "mimetype": "text/x-python",
   "name": "python",
   "nbconvert_exporter": "python",
   "pygments_lexer": "ipython3",
   "version": "3.10.8"
  }
 },
 "nbformat": 4,
 "nbformat_minor": 5
}
