{
 "cells": [
  {
   "cell_type": "markdown",
   "id": "32df9954-96e6-4438-ae29-00fc168b7fd7",
   "metadata": {},
   "source": [
    "### Q1. What is Statistics?"
   ]
  },
  {
   "cell_type": "markdown",
   "id": "33a443db-9308-4a4a-b3d9-1dd5064d1a38",
   "metadata": {},
   "source": [
    "Ans. Statistics is the science concerned with developing and studying methods for collecting, analyzing, interpreting and presenting empirical data. Statistics is a highly interdisciplinary field; research in statistics finds applicability in virtually all scientific fields and research questions in the various scientific fields motivate the development of new statistical methods and theory. In developing methods and studying the theory that underlies the methods statisticians draw on a variety of mathematical and computational tools.\n",
    "\n",
    "Two fundamental ideas in the field of statistics are uncertainty and variation. There are many situations that we encounter in science (or more generally in life) in which the outcome is uncertain. In some cases the uncertainty is because the outcome in question is not determined yet (e.g., we may not know whether it will rain tomorrow) while in other cases the uncertainty is because although the outcome has been determined already we are not aware of it (e.g., we may not know whether we passed a particular exam).\n",
    "\n",
    "Probability is a mathematical language used to discuss uncertain events and probability plays a key role in statistics. Any measurement or data collection effort is subject to a number of sources of variation. By this we mean that if the same measurement were repeated, then the answer would likely change. Statisticians attempt to understand and control (where possible) the sources of variation in any situation."
   ]
  },
  {
   "cell_type": "code",
   "execution_count": null,
   "id": "78cb2b0a-3593-4763-bfe9-4de7c07e0442",
   "metadata": {},
   "outputs": [],
   "source": []
  },
  {
   "cell_type": "markdown",
   "id": "b2cf9883-0d4b-4757-b1ee-aff1dba426b5",
   "metadata": {},
   "source": [
    "### Q2. Define the different types of statistics and give an example of when each type might be used."
   ]
  },
  {
   "cell_type": "markdown",
   "id": "9af35009-5f9a-49a8-9a3e-20eacf42b2ba",
   "metadata": {},
   "source": [
    "Ans. **Different Types of Statistics:**\n",
    "1. **Descriptive statistics**: Descriptive statistics are used to describe the basic features of the data in a study. They provide simple summaries about the sample and the measures. Together with simple graphics analysis, they form the basis of virtually every quantitative analysis of data.\n",
    "\n",
    "    Descriptive Statistics are used to present quantitative descriptions in a manageable form. In a research study we may have lots of measures. Or we may measure a large number of people on any measure. Descriptive statistics help us to simplify large amounts of data in a sensible way. Each descriptive statistic reduces lots of data into a simpler summary. For instance, consider a simple number used to summarize how well a batter is performing in baseball, the batting average. This single number is simply the number of hits divided by the number of times at bat (reported to three significant digits). A batter who is hitting .333 is getting a hit one time in every three at bats. One batting .250 is hitting one time in four. The single number describes a large number of discrete events. Or, consider the scourge of many students, the Grade Point Average (GPA). This single number describes the general performance of a student across a potentially wide range of course experiences.\n",
    "    \n",
    "    Every time you try to describe a large set of observations with a single indicator you run the risk of distorting the original data or losing important detail. The batting average doesn’t tell you whether the batter is hitting home runs or singles. It doesn’t tell whether she’s been in a slump or on a streak. The GPA doesn’t tell you whether the student was in difficult courses or easy ones, or whether they were courses in their major field or in other disciplines. Even given these limitations, descriptive statistics provide a powerful summary that may enable comparisons across people or other units.\n",
    "\n",
    "2. **Inferential Statistics**: With inferential statistics, you are trying to reach conclusions that extend beyond the immediate data alone. For instance, we use inferential statistics to try to infer from the sample data what the population might think. Or, we use inferential statistics to make judgments of the probability that an observed difference between groups is a dependable one or one that might have happened by chance in this study. Thus, we use inferential statistics to make inferences from our data to more general conditions; we use descriptive statistics simply to describe what’s going on in our data.\n",
    "\n",
    "    Most of the major inferential statistics come from a general family of statistical models known as the General Linear Model. This includes the t-test, Analysis of Variance (ANOVA), Analysis of Covariance (ANCOVA), regression analysis, and many of the multivariate methods like factor analysis, multidimensional scaling, cluster analysis, discriminant function analysis, and so on."
   ]
  },
  {
   "cell_type": "code",
   "execution_count": null,
   "id": "40173492-be31-42c8-aea7-ba23b3238838",
   "metadata": {},
   "outputs": [],
   "source": []
  },
  {
   "cell_type": "markdown",
   "id": "447ab020-36dc-4281-99e7-9ae089179ecd",
   "metadata": {},
   "source": [
    "### Q3.  What are the different types of data and how do they differ from each other? Provide an example of each type of data."
   ]
  },
  {
   "cell_type": "markdown",
   "id": "b6f9af3e-dac4-4afb-970f-deb8f2b43cd0",
   "metadata": {},
   "source": [
    "Ans. **Data Type in Statistics:**\n",
    "1. **Quantitative Data/Numerical Data**: Quantitative Data as the name suggests it can be quantified and have numerical data with mathematical meaning to it.\n",
    "    \n",
    "    Types of Numerical Data:\n",
    "    - *Discrete Data*: Data can be discrete if its values are distinct and separate. In other word, discrete data is the data can only take on certain values. This type of data can’t be measured but it can be counted. It basically represents information that can be categorized into a classification. An example is the number of heads in 100 coin flips.\n",
    "    - *Continuous Data*: Continuous data represents measurements and therefore their values can’t be counted but they can be measured. An example would be the height of a person, which you can describe by using intervals on the real number line.\n",
    "    - *Interval Data*: Interval values represent ordered units that have the same difference. Therefore we speak of interval data when we have a variable that contains numeric values that are ordered and where we know the exact differences between the values. An example would be a feature that contains temperature of a given place.\n",
    "        For Example: \n",
    "        - Temprature = [ -10, -5, 0, 5, 10 ]\n",
    "        \n",
    "        The problem with interval values data is that they don’t have a “true zero.” That means in regards to our example, that there is no such thing as no temperature. With interval data, we can add and subtract, but we cannot multiply, divide or calculate ratios. Because there is no true zero, a lot of descriptive and inferential statistics can’t be applied.\n",
    "        \n",
    "    - *Ratio Data*: Ratio values are also ordered units that have the same difference. Ratio values are the same as interval values, with the difference that they do have an absolute zero. Good examples are height, weight, length, etc.\n",
    "    \n",
    "2. **Qualitative Data/Categorical Data**: Categorical data represents characteristics. Therefore it can represent things like a person’s gender, language, etc. Categorical data can also take on numerical values (Example: 1 for female and 0 for male) but those numbers don’t have mathematical meaning.\n",
    "\n",
    "    Types of Categorical Data:\n",
    "    - *Nominal Data*: Nominal values represent discrete units and are used to label variables that have no quantitative value. Just think of them as “labels.” The nominal data that has no order. Therefore, if we would change the order of its values, the meaning would not change.\n",
    "        For Example:\n",
    "        - Gender\n",
    "        - Blood Group\n",
    "    - *Ordinal Data*: Ordinal values represent discrete and ordered units. It is therefore nearly the same as nominal data, except that its ordering/Ranking matters.\n",
    "        For Example:\n",
    "        - Education Background\n",
    "        - Review of an Application"
   ]
  },
  {
   "cell_type": "code",
   "execution_count": null,
   "id": "34316976-f5ce-4fb1-b4ac-8f8430d219da",
   "metadata": {},
   "outputs": [],
   "source": []
  },
  {
   "cell_type": "markdown",
   "id": "bd2177b2-ed18-42d2-9187-a35df45eb230",
   "metadata": {},
   "source": [
    "### Q4. Categorise the following datasets with respect to quantitative and qualitative data types:\n",
    "\n",
    "1. Grading in exam: A+, A, B+, B, C+, C, D, E\n",
    "2. Colour of mangoes: yellow, green, orange, red\n",
    "3. Height data of a class: [178.9, 179, 179.5, 176, 177.2, 178.3, 175.8,...]\n",
    "4. Number of mangoes exported by a farm: [500, 600, 478, 672, …]"
   ]
  },
  {
   "cell_type": "markdown",
   "id": "a6419ea8-2a19-4cb7-a74d-d7b6b696065c",
   "metadata": {},
   "source": [
    "Ans.\n",
    "1. Qualitative Data (Nominal Data)\n",
    "2. Qualitative Data (Ordinal Data)\n",
    "3. Quantitave Data (Continuous Data)\n",
    "4. Quantitative Data (Discrete Data)"
   ]
  },
  {
   "cell_type": "code",
   "execution_count": null,
   "id": "777fa6b2-044c-4bef-96cc-e6e4ff247347",
   "metadata": {},
   "outputs": [],
   "source": []
  },
  {
   "cell_type": "markdown",
   "id": "2d7e1866-34b3-464d-acba-6f52bffb8b54",
   "metadata": {},
   "source": [
    "### Q5. Explain the concept of levels of measurement and give an example of a variable for each level."
   ]
  },
  {
   "cell_type": "markdown",
   "id": "48e7ed99-1f60-42c3-8b92-0a6a4b288049",
   "metadata": {},
   "source": [
    "Ans. Levels of measurement, also called scales of measurement, tell you how precisely variables are recorded. In scientific research, a variable is anything that can take on different values across your data set (e.g., height or test scores).\n",
    "\n",
    "There are 4 levels of measurement:\n",
    "- **Nominal**: the data can only be categorized\n",
    "- **Ordinal**: the data can be categorized and ranked\n",
    "- **Interval**: the data can be categorized, ranked, and evenly spaced\n",
    "- **Ratio**: the data can be categorized, ranked, evenly spaced, and has a natural zero.\n",
    "\n",
    "Depending on the level of measurement of the variable, what you can do to analyze our data may be limited. There is a hierarchy in the complexity and precision of the level of measurement, from low (nominal) to high (ratio).\n",
    "\n",
    "Going from lowest to highest, the 4 levels of measurement are cumulative. This means that they each take on the properties of lower levels and add new properties.\n",
    "1. *Nominal Level*: We can categorize our data by labelling them in mutually exclusive groups, but there is no order between the categories.\n",
    "    For Example:\n",
    "    - Gender\n",
    "    - City of Birth\n",
    "    - Ethnicity\n",
    "    \n",
    "2. *Ordinal Level*: We can categorize and rank our data in an order, but cannot say anything about the intervals between the rankings. Although you can rank the top 5 Olympic medallists, this scale does not tell you how close or far apart they are in number of wins. \n",
    "    For Example:\n",
    "    - Language Ability\n",
    "    - Top 5 Olympic Medalist\n",
    "    \n",
    "3. *Interval Data*: We can categorize, rank, and infer equal intervals between neighboring data points, but there is no true zero point. The difference between any two adjacent temperatures is the same: one degree. But  zero degrees is defined differently depending on the scale – it doesn’t mean an absolute absence of temperature.\n",
    "    For Example:\n",
    "    - Test Scores\n",
    "    - Temperature in Fahrenheit or Celsius\n",
    "    \n",
    "4. *Ratio Level*: We can categorize, rank, and infer equal intervals between neighboring data points, and there is a true zero point. A true zero means there is an absence of the variable of interest. In ratio scales, zero does mean an absolute lack of the variable.\n",
    "    For Example:\n",
    "    - Height\n",
    "    - Age\n",
    "    - Temperature in Kelvin"
   ]
  },
  {
   "cell_type": "code",
   "execution_count": null,
   "id": "8adc265e-a147-4a8b-bcad-d587017efa7b",
   "metadata": {},
   "outputs": [],
   "source": []
  },
  {
   "cell_type": "markdown",
   "id": "4b10fcb4-37d0-4926-8eac-d564a97ce56e",
   "metadata": {},
   "source": [
    "### Q6. Why is it important to understand the level of measurement when analyzing data? Provide an example to illustrate your answer."
   ]
  },
  {
   "cell_type": "markdown",
   "id": "6ca6dd1d-b345-4141-a3a8-9bbcb61e5645",
   "metadata": {},
   "source": [
    "Ans. The level of measurement is important because the level at which we measure a variable determines how we can analyze our data. The level at which we measure a variable determines how we can analyze our data. In many cases, our variables can be measured at different levels, so we have to choose the level of measurement we will use before data collection begins.\n",
    "\n",
    "Example of Variable at 2 levels of measurement\n",
    "\n",
    "we can measure the variable of income at an ordinal or ratio level.\n",
    "- *Ordinal Level*: Create brackets of income ranges: 0–19,999, 20,000–39,999, and 40,000–59,999. Ask participants to select the bracket that represents their annual income. The brackets are coded with numbers from 1–3.\n",
    "- *Ratio Level*: Collect data on the exact annual incomes of your participants."
   ]
  },
  {
   "cell_type": "markdown",
   "id": "6e6a6a03-c0c2-46d1-9628-1b4354f733ea",
   "metadata": {},
   "source": [
    "|Participants|Income(Ordinal Level)|Income(Ratio Level)|\n",
    "|------------|---------------------|-------------------|\n",
    "|     A      |     Bracket 1       |      12,550      |\n",
    "|     B      |     Bracket 2       |      39,700      |\n",
    "|     C      |     Bracket 3       |      40,300      |\n",
    "\n",
    "At a ratio level, We can oberserve that the difference between A and B’s incomes is far greater than the difference between B and C’s incomes.\n",
    "\n",
    "At an ordinal level, however, you only know the income bracket for each participant, not their exact income. Since you cannot say exactly how much each income differs from the others in your data set, you can only order the income levels and group the participants."
   ]
  },
  {
   "cell_type": "code",
   "execution_count": null,
   "id": "d67f9a83-ba3b-4bf2-8399-91d7dafcb0d8",
   "metadata": {},
   "outputs": [],
   "source": []
  },
  {
   "cell_type": "markdown",
   "id": "6d77d024-52fa-4f0e-9a58-6d5870058c80",
   "metadata": {},
   "source": [
    "### Q7. How nominal data type is different from ordinal data type."
   ]
  },
  {
   "cell_type": "markdown",
   "id": "148f2f6b-6b77-4c61-9492-b0f4096d80e8",
   "metadata": {},
   "source": [
    "Ans. The main differences between Nominal Data and Ordinal Data are:\n",
    "- While Nominal Data is classified without any intrinsic ordering or rank, Ordinal Data has some predetermined or natural order. \n",
    "- Nominal data is qualitative or categorical data, while Ordinal data is considered “in-between” qualitative and quantitative data.\n",
    "- Nominal data do not provide any quantitative value, and you cannot perform numeric operations with them or compare them with one another. However, Ordinal data provide sequence, and it is possible to assign numbers to the data. No numeric operations can be performed. But ordinal data makes it possible to compare one item with another in terms of ranking. \n",
    "- Example of Nominal Data – Eye color, Gender; Example of Ordinal data – Customer Feedback, Economic Status."
   ]
  },
  {
   "cell_type": "code",
   "execution_count": null,
   "id": "97127efd-d163-4d95-86b4-7e60b2b7b75b",
   "metadata": {},
   "outputs": [],
   "source": []
  },
  {
   "cell_type": "markdown",
   "id": "f42f3886-818d-4fd2-a985-2eaaf6c9da54",
   "metadata": {},
   "source": [
    "### Q8. Which type of plot can be used to display data in terms of range?"
   ]
  },
  {
   "cell_type": "markdown",
   "id": "36e22c61-d07c-4c25-ac01-50204c62c634",
   "metadata": {},
   "source": [
    "Ans. **Range Bar Chart** is similar to the regular Bar Chart type of data visualization. The key difference between them is that the latter plots values on the X axis one by one, whereas the former, the Range Bar Chart type, depicts two values on the X axis at a time — Low and High. In Range Bar Charts, data points are built starting from the minimum values. As a result, each bar shows the difference between the maximum and minimum values in each corresponding category. A Range Bar Chart can display more than one series. If there are multiple series in such a graph, data points will be grouped by category, which is also very convenient for comparing several variables."
   ]
  },
  {
   "cell_type": "code",
   "execution_count": null,
   "id": "9c91d571-707c-427d-bf9e-e1b52bd1d1e0",
   "metadata": {},
   "outputs": [],
   "source": [
    "# example for range bar chart\n",
    "\n",
    "import plotly.graph_objects as go\n",
    "\n",
    "years = ['2016','2017','2018']\n",
    "\n",
    "fig = go.Figure()\n",
    "fig.add_trace(go.Bar(x=years, y=[500, 600, 700],\n",
    "                base=[-500,-600,-700],\n",
    "                marker_color='crimson',\n",
    "                name='expenses'))\n",
    "fig.add_trace(go.Bar(x=years, y=[300, 400, 700],\n",
    "                base=0,\n",
    "                marker_color='lightslategrey',\n",
    "                name='revenue'\n",
    "                ))\n",
    "\n",
    "fig.show()"
   ]
  },
  {
   "attachments": {
    "4f8255f2-adf3-4510-86bf-73d9598972f3.png": {
     "image/png": "[encoded data removed]"
    }
   },
   "cell_type": "markdown",
   "id": "c5553fac-110c-4791-ab6a-0b429fdd498f",
   "metadata": {},
   "source": [
    "![Q8_6th mar.png](attachment:4f8255f2-adf3-4510-86bf-73d9598972f3.png)"
   ]
  },
  {
   "cell_type": "code",
   "execution_count": null,
   "id": "55323991-a297-4883-9c92-733da673ba3d",
   "metadata": {},
   "outputs": [],
   "source": []
  },
  {
   "cell_type": "markdown",
   "id": "c8aeccfb-eda2-4c15-be2c-97245b490a74",
   "metadata": {},
   "source": [
    "### Q9. Describe the difference between descriptive and inferential statistics. Give an example of each type of statistics and explain how they are used."
   ]
  },
  {
   "cell_type": "markdown",
   "id": "4ffda30c-0e9c-4857-a911-2106de06259a",
   "metadata": {},
   "source": [
    "Ans.\n",
    "- **Descriptive statistics**: Descriptive statistics are used to describe the basic features of the data in a study. They provide simple summaries about the sample and the measures. Together with simple graphics analysis, they form the basis of virtually every quantitative analysis of data.\n",
    "\n",
    "    Descriptive Statistics are used to present quantitative descriptions in a manageable form. In a research study we may have lots of measures. Or we may measure a large number of people on any measure. Descriptive statistics help us to simplify large amounts of data in a sensible way. Each descriptive statistic reduces lots of data into a simpler summary. For instance, consider a simple number used to summarize how well a batter is performing in baseball, the batting average. This single number is simply the number of hits divided by the number of times at bat (reported to three significant digits). A batter who is hitting .333 is getting a hit one time in every three at bats. One batting .250 is hitting one time in four. The single number describes a large number of discrete events. Or, consider the scourge of many students, the Grade Point Average (GPA). This single number describes the general performance of a student across a potentially wide range of course experiences.\n",
    "\n",
    "    Every time you try to describe a large set of observations with a single indicator you run the risk of distorting the original data or losing important detail. The batting average doesn’t tell you whether the batter is hitting home runs or singles. It doesn’t tell whether she’s been in a slump or on a streak. The GPA doesn’t tell you whether the student was in difficult courses or easy ones, or whether they were courses in their major field or in other disciplines. Even given these limitations, descriptive statistics provide a powerful summary that may enable comparisons across people or other units.\n",
    "\n",
    "- **Inferential Statistics**: With inferential statistics, you are trying to reach conclusions that extend beyond the immediate data alone. For instance, we use inferential statistics to try to infer from the sample data what the population might think. Or, we use inferential statistics to make judgments of the probability that an observed difference between groups is a dependable one or one that might have happened by chance in this study. Thus, we use inferential statistics to make inferences from our data to more general conditions; we use descriptive statistics simply to describe what’s going on in our data.\n",
    "\n",
    "    Most of the major inferential statistics come from a general family of statistical models known as the General Linear Model. This includes the t-test, Analysis of Variance (ANOVA), Analysis of Covariance (ANCOVA), regression analysis, and many of the multivariate methods like factor analysis, multidimensional scaling, cluster analysis, discriminant function analysis, and so on."
   ]
  },
  {
   "cell_type": "code",
   "execution_count": null,
   "id": "f2265907-5a3c-42c0-81a2-e04ea42fe80f",
   "metadata": {},
   "outputs": [],
   "source": []
  },
  {
   "cell_type": "markdown",
   "id": "27d59da2-19d6-49b0-97b7-b4e8c3ad7a89",
   "metadata": {},
   "source": [
    "### Q10. What are some common measures of central tendency and variability used in statistics? Explain how each measure can be used to describe a dataset."
   ]
  },
  {
   "cell_type": "markdown",
   "id": "0d8569d6-bcbe-4311-8cf2-909b99205fe2",
   "metadata": {},
   "source": [
    "Ans. **Common Measure of**:\n",
    "1. *Central tendency*\n",
    "    - Mean: average of data values\n",
    "        - Formulae: Mean = Summation of all the data elements / Total number of data element\n",
    "    - Median: “middle value” or the average of “middle two values” in a data set when the numbers are arranged in an order.\n",
    "        - Steps for find Median:\n",
    "            a. Sort the data in the acending order\n",
    "            b. Compute the average of two middle numbers if the ‘n’(Total number of data elements) is an even number else If the ‘n’ is an odd number, then find the middle value after sorting the numbers in an order\n",
    "    - Mode: value that occurs with greatest frequency\n",
    "        - Steps to find Mode:\n",
    "            a. Find the elements that has occured in the dataset for the most number of time.\n",
    "2. *Variability*\n",
    "    - Standard Deviation: measure of how much data values are deviated away from mean.\n",
    "        - Steps to find the Standard Deviation:\n",
    "            a. Compute the mean for the given dataset\n",
    "            b. Find x - mean for every elements, considering x be the variable element\n",
    "            c. Find the square for each individual value from step b.\n",
    "            d. Calculate the sum of all of the squares\n",
    "            e. Divide the sum by the number of values N, or n-1 (n or N, denotes the number of values in the sample)\n",
    "            f. Compute the square root of the number from step e.\n",
    "    - Variance: square of standard deviation\n",
    "    - Range: : difference between the maximum value and the minimum value in a data set, \n",
    "        - Formulae: Range = maximum value – minimum value"
   ]
  },
  {
   "cell_type": "markdown",
   "id": "8d0e03b6-b752-4a3b-aaa7-dbd783560864",
   "metadata": {},
   "source": []
  },
  {
   "cell_type": "markdown",
   "id": "82cc33b2-e99f-4706-bbbe-43de7957e694",
   "metadata": {},
   "source": []
  }
 ],
 "metadata": {
  "kernelspec": {
   "display_name": "Python 3 (ipykernel)",
   "language": "python",
   "name": "python3"
  },
  "language_info": {
   "codemirror_mode": {
    "name": "ipython",
    "version": 3
   },
   "file_extension": ".py",
   "mimetype": "text/x-python",
   "name": "python",
   "nbconvert_exporter": "python",
   "pygments_lexer": "ipython3",
   "version": "3.10.8"
  }
 },
 "nbformat": 4,
 "nbformat_minor": 5
}
