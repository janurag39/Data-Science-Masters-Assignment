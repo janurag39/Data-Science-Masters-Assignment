{
 "cells": [
  {
   "cell_type": "markdown",
   "id": "792988f6-add9-49ae-a0fd-e6c80e65abd5",
   "metadata": {},
   "source": [
    "### Q1: What is the difference between a t-test and a z-test? Provide an example scenario where you would use each type of test."
   ]
  },
  {
   "cell_type": "markdown",
   "id": "1e09e0b8-4801-4dbb-9813-852ceea3da7d",
   "metadata": {},
   "source": [
    "Ans. Key difference between Z-test and T-test.\n",
    "1. The t-test can be understood as a statistical test which is used to compare and analyse whether the means of the two population is different from one another or not when the standard deviation is not known. As against, Z-test is a parametric test, which is applied when the standard deviation is known, to determine, if the means of the two datasets differ from each other.\n",
    "2. The t-test is based on Student’s t-distribution. On the contrary, z-test relies on the assumption that the distribution of sample means is normal. Both student’s t-distribution and normal distribution appear alike, as both are symmetrical and bell-shaped. However, they differ in the sense that in a t-distribution, there is less space in the centre and more in the tails.\n",
    "3. One of the important conditions for adopting t-test is that population variance is unknown. Conversely, population variance should be known or assumed to be known in case of a z-test.\n",
    "4. Z-test is used to when the sample size is large, i.e. n > 30, and t-test is appropriate when the size of the sample is small, in the sense that n < 30.\n"
   ]
  },
  {
   "cell_type": "code",
   "execution_count": null,
   "id": "a802d56e-21a6-4256-983c-c372d27609a1",
   "metadata": {},
   "outputs": [],
   "source": []
  },
  {
   "cell_type": "markdown",
   "id": "96d108eb-b75f-4fa4-8056-9a15c9018c67",
   "metadata": {},
   "source": [
    "### Q2: Differentiate between one-tailed and two-tailed tests."
   ]
  },
  {
   "cell_type": "markdown",
   "id": "9a48b48b-e98a-4fbb-9b09-dd2ddebbd22c",
   "metadata": {},
   "source": [
    "Ans. Key difference between one-tailed and two-tailed tests.\n",
    "1. One-tailed test, as the name suggest is the statistical hypothesis test, in which the alternative hypothesis has a single end. On the other hand, two-tailed test implies the hypothesis test; wherein the alternative hypothesis has dual ends.\n",
    "2. In the one-tailed test, the alternative hypothesis is represented directionally. Conversely, the two-tailed test is a non-directional hypothesis test.\n",
    "3. In a one-tailed test, the region of rejection is either on the left or right of the sampling distribution. On the contrary, the region of rejection is on both the sides of the sampling distribution.\n",
    "4. A one-tailed test is used to ascertain if there is any relationship between variables in a single direction, i.e. left or right. As against this, the two-tailed test is used to identify whether or not there is any relationship between variables in either direction.\n",
    "5. In a one-tailed test, the test parameter calculated is more or less than the critical value. Unlike, two-tailed test, the result obtained is within or outside critical value.\n",
    "6. When an alternative hypothesis has ‘≠’ sign, then a two-tailed test is performed. In contrast, when an alternative hypothesis has ‘> or <‘ sign, then one-tailed test is carried out."
   ]
  },
  {
   "cell_type": "code",
   "execution_count": null,
   "id": "66dccfd0-688b-4bfc-9b42-42da6fd5d225",
   "metadata": {},
   "outputs": [],
   "source": []
  },
  {
   "cell_type": "markdown",
   "id": "3366a596-f222-426e-b119-87e0c18590fd",
   "metadata": {},
   "source": [
    "### Q3: Explain the concept of Type 1 and Type 2 errors in hypothesis testing. Provide an example scenario for each type of error."
   ]
  },
  {
   "cell_type": "markdown",
   "id": "18373e1b-31b3-4e99-9286-a3a127a4c574",
   "metadata": {},
   "source": [
    "Ans. **Type 1 Error:**\n",
    "A Type I error means rejecting the null hypothesis when it’s actually true. It means concluding that results are statistically significant when, in reality, they came about purely by chance or because of unrelated factors.\n",
    "\n",
    "The risk of committing this error is the significance level (alpha or α) you choose. That’s a value that you set at the beginning of your study to assess the statistical probability of obtaining your results (p value).\n",
    "\n",
    "The significance level is usually set at 0.05 or 5%. This means that your results only have a 5% chance of occurring, or less, if the null hypothesis is actually true.\n",
    "\n",
    "If the p value of your test is lower than the significance level, it means your results are statistically significant and consistent with the alternative hypothesis. If your p value is higher than the significance level, then your results are considered statistically non-significant.\n",
    "\n",
    "*Example for Type-1 Error:* In your clinical study, you compare the symptoms of patients who received the new drug intervention or a control treatment. Using a t test, you obtain a p value of .035. This p value is lower than your alpha of .05, so you consider your results statistically significant and reject the null hypothesis.\n",
    "However, the p value means that there is a 3.5% chance of your results occurring if the null hypothesis is true. Therefore, there is still a risk of making a Type I error.\n",
    "\n",
    "\n",
    "**Type 2 Error:**\n",
    "A Type II error means not rejecting the null hypothesis when it’s actually false. This is not quite the same as “accepting” the null hypothesis, because hypothesis testing can only tell you whether to reject the null hypothesis.\n",
    "\n",
    "Instead, a Type II error means failing to conclude there was an effect when there actually was. In reality, your study may not have had enough statistical power to detect an effect of a certain size.\n",
    "\n",
    "Power is the extent to which a test can correctly detect a real effect when there is one. A power level of 80% or higher is usually considered acceptable.\n",
    "\n",
    "The risk of a Type II error is inversely related to the statistical power of a study. The higher the statistical power, the lower the probability of making a Type II error.\n",
    "\n",
    "*Example for Type-2 Error:* When preparing your clinical study, you complete a power analysis and determine that with your sample size, you have an 80% chance of detecting an effect size of 20% or greater. An effect size of 20% means that the drug intervention reduces symptoms by 20% more than the control treatment.\n",
    "However, a Type II may occur if an effect that’s smaller than this size. A smaller effect size is unlikely to be detected in your study due to inadequate statistical power."
   ]
  },
  {
   "cell_type": "code",
   "execution_count": null,
   "id": "41c2e73e-3a27-4411-9fb2-09b801d3949c",
   "metadata": {},
   "outputs": [],
   "source": []
  },
  {
   "cell_type": "markdown",
   "id": "a42d8658-9672-465f-b729-9e0132c5e247",
   "metadata": {},
   "source": [
    "### Q4:  Explain Bayes's theorem with an example."
   ]
  },
  {
   "cell_type": "markdown",
   "id": "e62a3153-cd2a-4011-bcb3-9baa3e8bb6a2",
   "metadata": {},
   "source": [
    "Ans. **Bayes theorem** describes the probability of occurrence of an event related to any condition. It is also considered for the case of conditional probability. Bayes theorem is also known as the formula for the probability of “causes”. For example: if we have to calculate the probability of taking a blue ball from the second bag out of three different bags of balls, where each bag contains three different colour balls viz. red, blue, black. In this case, the probability of occurrence of an event is calculated depending on other conditions is known as conditional probability.\n",
    "\n",
    "If A and B are two events, then the formula for the Bayes theorem is given by:\n",
    "\n",
    "**P(A/B) = P(B/A)P(A)/P(B), where P(B) != 0**\n",
    "\n",
    "Where P(A|B) is the probability of condition when event A is occurring while event B has already occurred.\n",
    "\n",
    "*Example for Bayes Theorem:* A bag I contains 4 white and 6 black balls while another Bag II contains 4 white and 3 black balls. One ball is drawn at random from one of the bags, and it is found to be black. Find the probability that it was drawn from Bag I"
   ]
  },
  {
   "cell_type": "code",
   "execution_count": null,
   "id": "4aad902a-5427-4df4-a9de-71bed72dcf69",
   "metadata": {},
   "outputs": [],
   "source": []
  },
  {
   "cell_type": "markdown",
   "id": "0a77d68a-e5eb-48f5-b5de-f0b2c58930c5",
   "metadata": {},
   "source": [
    "### Q5: What is a confidence interval? How to calculate the confidence interval, explain with an example."
   ]
  },
  {
   "cell_type": "markdown",
   "id": "bc272bc4-e3a8-487c-9bad-87b94a7f2ee5",
   "metadata": {},
   "source": [
    "Ans. A confidence interval is the mean of your estimate plus and minus the variation in that estimate. This is the range of values you expect your estimate to fall between if you redo your test, within a certain level of confidence. Confidence, in statistics, is another way to describe probability.\n",
    "\n",
    "To obtain this confidence interval, add and subtract the margin of error from the sample mean. This result is the upper limit and the lower limit of the confidence interval.\n",
    "\n",
    "Upper_limit = Sample_Mean + Margin of Error\n",
    "\n",
    "Lower_limit = Sample_Mean - Margin of Error\n",
    "\n",
    "Margin of Error = z(s)/sqrt(n)"
   ]
  },
  {
   "cell_type": "code",
   "execution_count": null,
   "id": "571e4385-4bb1-4aa2-812c-b7c9b7c911fd",
   "metadata": {},
   "outputs": [],
   "source": []
  },
  {
   "cell_type": "markdown",
   "id": "0508845b-e417-403b-b080-1f7ac556b993",
   "metadata": {},
   "source": [
    "### Q6. Use Bayes' Theorem to calculate the probability of an event occurring given prior knowledge of the event's probability and new evidence. Provide a sample problem and solution."
   ]
  },
  {
   "cell_type": "code",
   "execution_count": 3,
   "id": "6fc74867-a247-4122-a512-95b0aca1938f",
   "metadata": {},
   "outputs": [
    {
     "data": {
      "text/plain": [
       "0.425"
      ]
     },
     "execution_count": 3,
     "metadata": {},
     "output_type": "execute_result"
    }
   ],
   "source": [
    "# sample problem\n",
    "''' Supose the probability of the weather being cloudy is 40%.\n",
    "Also suppose the probability of rain on a given day is 20%.\n",
    "Also suppose the probability of clouds on a rainy day is 85%.\n",
    "If it’s cloudy outside on a given day, what is the probability that it will rain that day?\n",
    "'''\n",
    "# Solution\n",
    "\n",
    "p_cloudy = 0.40 # P(cloudy)\n",
    "p_rain = 0.20 # P(rain)\n",
    "p_cloudy_rain = 0.85 # P(cloudy/rain)\n",
    "\n",
    "# Therefore to calculate P(rain/cloudy)\n",
    "p_rain_cloudy = ( p_rain * p_cloudy_rain ) / p_cloudy\n",
    "p_rain_cloudy"
   ]
  },
  {
   "cell_type": "code",
   "execution_count": 4,
   "id": "f05384b8-6281-4cca-9c43-3123c8de6130",
   "metadata": {},
   "outputs": [
    {
     "name": "stdout",
     "output_type": "stream",
     "text": [
      "The probability of the raining when its cloudy outside is 42.5%\n"
     ]
    }
   ],
   "source": [
    "print(f\"The probability of the raining when its cloudy outside is {p_rain_cloudy*100}%\")"
   ]
  },
  {
   "cell_type": "code",
   "execution_count": null,
   "id": "707e793a-a867-4096-8a6a-fce09466869a",
   "metadata": {},
   "outputs": [],
   "source": []
  },
  {
   "cell_type": "markdown",
   "id": "97c217d9-eb28-4360-a742-382da4a6e930",
   "metadata": {},
   "source": [
    "### Q7. Calculate the 95% confidence interval for a sample of data with a mean of 50 and a standard deviation of 5. Interpret the results."
   ]
  },
  {
   "cell_type": "code",
   "execution_count": 5,
   "id": "b81225cd-9555-48c7-b270-c8ac6cada2f8",
   "metadata": {},
   "outputs": [],
   "source": [
    "confidence_interval = 0.95\n",
    "alpha = 1 - confidence_interval # significance value\n",
    "x_bar = 50 # sample mean\n",
    "s = 5 # sample standard deviation\n",
    "\n",
    "# considering the sample size to be 30, two talied Normal distribution\n",
    "n = 30 \n",
    "df = n - 1"
   ]
  },
  {
   "cell_type": "code",
   "execution_count": 6,
   "id": "c49a6e84-38b9-4d69-8457-15be8c1cd782",
   "metadata": {},
   "outputs": [],
   "source": [
    "import scipy.stats as stat\n",
    "import numpy as np\n",
    "import math"
   ]
  },
  {
   "cell_type": "code",
   "execution_count": 7,
   "id": "6eab92e6-d79f-42cc-aa2d-50f2083ab6b2",
   "metadata": {},
   "outputs": [],
   "source": [
    "upper_limit = round(stat.t.ppf(q=1-(alpha/2),df=df),2)\n",
    "lower_limit = -upper_limit\n",
    "L_CI = round(x_bar + (lower_limit*(s/math.sqrt(n))),2)\n",
    "\n",
    "# Upper CI value for Population mean\n",
    "U_CI = round(x_bar + (upper_limit*(s/math.sqrt(n))),2)"
   ]
  },
  {
   "cell_type": "code",
   "execution_count": 8,
   "id": "10a1dcb8-bbda-4cc3-ae39-c91499b524ef",
   "metadata": {},
   "outputs": [
    {
     "name": "stdout",
     "output_type": "stream",
     "text": [
      "Hence, the 95% confidence interval is (48.13, 51.87)\n"
     ]
    }
   ],
   "source": [
    "print(f\"Hence, the 95% confidence interval is ({L_CI}, {U_CI})\")"
   ]
  },
  {
   "cell_type": "code",
   "execution_count": null,
   "id": "21bd5bf6-4ae9-49fc-9240-19d502dad867",
   "metadata": {},
   "outputs": [],
   "source": []
  },
  {
   "cell_type": "markdown",
   "id": "c00967ac-92bb-4eda-8791-3c61eac3e6f4",
   "metadata": {},
   "source": [
    "### Q8. What is the margin of error in a confidence interval? How does sample size affect the margin of error? Provide an example of a scenario where a larger sample size would result in a smaller margin of error."
   ]
  },
  {
   "cell_type": "markdown",
   "id": "db7a259a-4486-470b-80fa-e353840fc236",
   "metadata": {},
   "source": [
    "Ans. The margin of error in statistics is the degree of error in results received from random sampling surveys. A higher margin of error in statistics indicates less likelihood of relying on the results of a survey or poll, i.e. the confidence on the results will be lower to represent a population.\n",
    "\n",
    "The sample size and margin of error are inversly proportional to each other i.e. When the sample size is small the margin of error is high and when the sample is large the margin of error value is small.\n",
    "\n",
    "Example:\n",
    "- Consider the sample size of sample data A be 100 and sample data B be 30, therefore considering the formula for the margin of error and deducing the both margin of error and sample size are inversely proportional, therefore the margin of error for the sample data A with sample size 100 will be considerably smaller than the margin of error for sample data B with sample size 30."
   ]
  },
  {
   "cell_type": "code",
   "execution_count": null,
   "id": "53a20110-8eff-4ca7-b0bf-2357ec487945",
   "metadata": {},
   "outputs": [],
   "source": []
  },
  {
   "cell_type": "markdown",
   "id": "9bb3bf51-63d3-4fab-93b9-02132c85c5bd",
   "metadata": {},
   "source": [
    "### Q9. Calculate the z-score for a data point with a value of 75, a population mean of 70, and a population standard deviation of 5. Interpret the results."
   ]
  },
  {
   "cell_type": "code",
   "execution_count": 9,
   "id": "36d32c10-6dc6-4a4b-91a4-7b984173b4f4",
   "metadata": {},
   "outputs": [],
   "source": [
    "data_point = 75\n",
    "mu = 70 # population mean\n",
    "sigma = 5 # population standard deviation"
   ]
  },
  {
   "cell_type": "code",
   "execution_count": 10,
   "id": "d50f19c2-c710-44e6-a189-5fcc1d9c2c0c",
   "metadata": {},
   "outputs": [],
   "source": [
    "z_score = (data_point - mu) / sigma"
   ]
  },
  {
   "cell_type": "code",
   "execution_count": 11,
   "id": "85e2a4ce-a4a2-4275-b457-fc957ce7074d",
   "metadata": {},
   "outputs": [
    {
     "name": "stdout",
     "output_type": "stream",
     "text": [
      "The z_score for 75 is 1.0, which means the the data point 75 is one standard deviation above the mean\n"
     ]
    }
   ],
   "source": [
    "print(f\"The z_score for 75 is {z_score}, which means the the data point 75 is one standard deviation above the mean\")"
   ]
  },
  {
   "cell_type": "code",
   "execution_count": null,
   "id": "76612836-d12e-440c-94e0-c48569c52566",
   "metadata": {},
   "outputs": [],
   "source": []
  },
  {
   "cell_type": "markdown",
   "id": "5d19be5a-4063-4351-bc81-708de639fa41",
   "metadata": {},
   "source": [
    "### Q10. In a study of the effectiveness of a new weight loss drug, a sample of 50 participants lost an average of 6 pounds with a standard deviation of 2.5 pounds. Conduct a hypothesis test to determine if the drug is significantly effective at a 95% confidence level using a t-test."
   ]
  },
  {
   "cell_type": "code",
   "execution_count": 37,
   "id": "e801ae56-eb69-4ca3-8cc1-5405b4ff2121",
   "metadata": {},
   "outputs": [],
   "source": [
    "# Given parameters\n",
    "n = 50 # sample size\n",
    "x_bar = 6  # sample mean\n",
    "df = n - 1 # degree of freedom\n",
    "s = 2.5 # sample standard deviation\n",
    "confidence_interval = 0.95\n",
    "alpha = 1 - confidence_interval\n",
    "\n",
    "# As the sample standard deviation is given and the sample size is greater than 30, Using T-test for this problem"
   ]
  },
  {
   "cell_type": "code",
   "execution_count": 38,
   "id": "78050985-d6ef-460b-9495-f246baf48095",
   "metadata": {},
   "outputs": [],
   "source": [
    "# defining Null and Alternate Hypothesis\n",
    "H0 = \"The average weight loss after using the drug is 6 pound\"\n",
    "# considering two tailed distribution and testing for both the limit\n",
    "H1 = \"The average weight loss after using the drug is not 6 pound\""
   ]
  },
  {
   "cell_type": "code",
   "execution_count": 39,
   "id": "a7d53b38-eb86-468f-999b-33f392260ba2",
   "metadata": {},
   "outputs": [],
   "source": [
    "# importing packages for T-test\n",
    "import scipy.stats as stat\n",
    "import math\n",
    "import numpy as np"
   ]
  },
  {
   "cell_type": "code",
   "execution_count": 40,
   "id": "871f6cab-2af7-4bae-9e1e-44ff135f1914",
   "metadata": {},
   "outputs": [
    {
     "name": "stdout",
     "output_type": "stream",
     "text": [
      "If t-test value is less than -2.01 or greater than 2.01, we have to reject Null Hypotheseis\n"
     ]
    }
   ],
   "source": [
    "# calculating Acceptance and Rejection area boundary\n",
    "upper_limit_value = round(stat.t.ppf(q=1-(alpha/2), df=df),2)\n",
    "lower_limit_value = -upper_limit_value\n",
    "\n",
    "print(\"If t-test value is less than {lower_bound} or greater than {upper_bound}, we have to reject Null Hypotheseis\".format(lower_bound = lower_limit_value, upper_bound = upper_limit_value))"
   ]
  },
  {
   "cell_type": "code",
   "execution_count": 41,
   "id": "23dcf7f8-2b2d-4efd-a0cc-737c6ea65cdd",
   "metadata": {},
   "outputs": [],
   "source": [
    "# creating sample data\n",
    "sample = np.random.normal(loc=x_bar, scale=s, size=n)"
   ]
  },
  {
   "cell_type": "code",
   "execution_count": 42,
   "id": "fcfb722a-f969-408c-bb85-302c4b1ebf6d",
   "metadata": {},
   "outputs": [],
   "source": [
    "# calculating t-stat value\n",
    "t_stat, p_value = stat.ttest_1samp(sample, x_bar)"
   ]
  },
  {
   "cell_type": "code",
   "execution_count": 43,
   "id": "be83efee-2087-4226-ada0-f24ca87feb15",
   "metadata": {},
   "outputs": [
    {
     "name": "stdout",
     "output_type": "stream",
     "text": [
      "-1.2690229001234 0.21042795670999415\n"
     ]
    }
   ],
   "source": [
    "print(t_stat , p_value)"
   ]
  },
  {
   "cell_type": "code",
   "execution_count": 44,
   "id": "899cdc39-2d29-498e-83cc-0adeed6bcf95",
   "metadata": {},
   "outputs": [
    {
     "name": "stdout",
     "output_type": "stream",
     "text": [
      "We failed to reject the Null Hypothesis, The average weight loss after using the drug is 6 pound\n"
     ]
    }
   ],
   "source": [
    "#Conclusion\n",
    "if t_stat > upper_limit_value or t_stat < lower_limit_value:\n",
    "    print(f\"We need to reject the Null Hypothesis, {H1}\")\n",
    "else:\n",
    "    print(f\"We failed to reject the Null Hypothesis, {H0}\")"
   ]
  },
  {
   "cell_type": "code",
   "execution_count": null,
   "id": "dee44b05-358e-4f71-982e-99773426b1b1",
   "metadata": {},
   "outputs": [],
   "source": []
  },
  {
   "cell_type": "markdown",
   "id": "035cb8c4-52fa-400c-a6dc-553c5cda7687",
   "metadata": {},
   "source": [
    "### Q11. In a survey of 500 people, 65% reported being satisfied with their current job. Calculate the 95% confidence interval for the true proportion of people who are satisfied with their job."
   ]
  },
  {
   "cell_type": "code",
   "execution_count": 20,
   "id": "40123202-9ead-461a-97d0-6b49a8290590",
   "metadata": {},
   "outputs": [],
   "source": [
    "# given parameters\n",
    "n = 500\n",
    "p_satisfied = 0.65\n",
    "p_notsatisfied = 0.45\n",
    "confidence_interval = 0.95\n",
    "alpha = 1 - confidence_interval"
   ]
  },
  {
   "cell_type": "code",
   "execution_count": 21,
   "id": "4b1bfa2d-16d6-4bc3-a0d9-35ecc4fe54fb",
   "metadata": {},
   "outputs": [],
   "source": [
    "satisfied_people = n*p_satisfied"
   ]
  },
  {
   "cell_type": "code",
   "execution_count": 22,
   "id": "dfc2df2f-4625-4908-ae92-f8fac14be1c5",
   "metadata": {},
   "outputs": [],
   "source": [
    "x_bar = satisfied_people/n # point estimate"
   ]
  },
  {
   "cell_type": "code",
   "execution_count": 23,
   "id": "48d1c609-5829-4417-8276-644bbefa345d",
   "metadata": {},
   "outputs": [],
   "source": [
    "# according to 0.05 aplha, z value will be 1.96\n",
    "import math\n",
    "z_value = 1.96\n",
    "moe = z_value*(math.sqrt((x_bar*(1-x_bar))/n))"
   ]
  },
  {
   "cell_type": "code",
   "execution_count": 24,
   "id": "0c859ad1-2372-4e4d-a917-261174a6fe2e",
   "metadata": {},
   "outputs": [],
   "source": [
    "# 95% confidence interval = point estimate +- moe\n",
    "U_CI = x_bar + moe\n",
    "L_CI = x_bar - moe"
   ]
  },
  {
   "cell_type": "code",
   "execution_count": 25,
   "id": "40bf58d3-033a-436b-899a-5aa3e75b6893",
   "metadata": {},
   "outputs": [
    {
     "name": "stdout",
     "output_type": "stream",
     "text": [
      "The true proportion of people satisfied with thier job is between 61.0% and 69.0%\n"
     ]
    }
   ],
   "source": [
    "print(f\"The true proportion of people satisfied with thier job is between {round(L_CI,2)*100}% and {round(U_CI,2)*100}%\")"
   ]
  },
  {
   "cell_type": "code",
   "execution_count": null,
   "id": "9a01d585-83d2-48c4-b987-2060ec6149dc",
   "metadata": {},
   "outputs": [],
   "source": []
  },
  {
   "cell_type": "markdown",
   "id": "fc09c2f7-b10c-43f9-9edc-8d49cd6d5d77",
   "metadata": {},
   "source": [
    "### Q12. A researcher is testing the effectiveness of two different teaching methods on student performance. Sample A has a mean score of 85 with a standard deviation of 6, while sample B has a mean score of 82 with a standard deviation of 5. Conduct a hypothesis test to determine if the two teaching methods have a significant difference in student performance using a t-test with a significance level of 0.01."
   ]
  },
  {
   "cell_type": "code",
   "execution_count": 26,
   "id": "8a1bca12-9ddd-4e5c-ae10-1f1adc4d529e",
   "metadata": {},
   "outputs": [],
   "source": [
    "# two independent sample data A and B, considering A being the 1st sample dataset and B be the 2nd sample dataset\n",
    "# Given parameters\n",
    "x_bar1 = 85\n",
    "s1 = 6\n",
    "x_bar2 = 82\n",
    "s2 = 5\n",
    "alpha = 0.01\n",
    "confidence_interval = 1 - alpha"
   ]
  },
  {
   "cell_type": "code",
   "execution_count": 27,
   "id": "687d56c6-3430-4045-955a-c0b11c978305",
   "metadata": {},
   "outputs": [],
   "source": [
    "# importing required python packages\n",
    "import scipy.stats as stat\n",
    "import math\n",
    "import numpy as np"
   ]
  },
  {
   "cell_type": "code",
   "execution_count": 28,
   "id": "eb955ff5-43c3-49d3-9b78-3a92b624027c",
   "metadata": {},
   "outputs": [],
   "source": [
    "# considering the sample size for both the sample data to be 50\n",
    "n1 = 50\n",
    "n2 = 50\n",
    "\n",
    "sample1 = np.random.normal(loc=x_bar1, scale=s1, size=n1)\n",
    "sample2 = np.random.normal(loc=x_bar2, scale=s2, size=n2)"
   ]
  },
  {
   "cell_type": "code",
   "execution_count": 29,
   "id": "4796c692-679f-4aeb-b5b0-2b67cc3e34c9",
   "metadata": {},
   "outputs": [],
   "source": [
    "# degree of freedom\n",
    "df1 = n1 - 1\n",
    "df2 = n2 - 1\n",
    "\n",
    "var1 = np.var(sample1)\n",
    "var2 = np.var(sample2)"
   ]
  },
  {
   "cell_type": "code",
   "execution_count": 30,
   "id": "5cb45543-5f9f-4a4b-bb84-8ddee8237ef5",
   "metadata": {},
   "outputs": [
    {
     "name": "stdout",
     "output_type": "stream",
     "text": [
      "As ratio of the larger sample variance to the smaller sample variance is 2.329609054146101 which is less than 4, therefore assuming that population variances are equal\n"
     ]
    }
   ],
   "source": [
    "if var1>var2:\n",
    "    ratio = var1/var2\n",
    "else:\n",
    "    ratio = var2/var1\n",
    "    \n",
    "if ratio < 4:\n",
    "    print(f\"As ratio of the larger sample variance to the smaller sample variance is {ratio} which is less than 4, therefore assuming that population variances are equal\")\n",
    "    \n",
    "else:\n",
    "    print(f\"The ratio of the larger sample variance to the smaller sample variance is {ratio} which is greater than 4, therefore we have to perform Welch’s t-test, which does not assume equal population variance\")"
   ]
  },
  {
   "cell_type": "code",
   "execution_count": 31,
   "id": "7ff5dbb7-5f20-4f92-9ca3-32a4bbae1a96",
   "metadata": {},
   "outputs": [
    {
     "name": "stdout",
     "output_type": "stream",
     "text": [
      "5.444169622697375 3.853216698539572e-07\n"
     ]
    }
   ],
   "source": [
    "# perform two sample t-test with equal variance\n",
    "t_stat, p_value = stat.ttest_ind(a=sample1, b=sample2, equal_var=True)\n",
    "print(t_stat, p_value)"
   ]
  },
  {
   "cell_type": "code",
   "execution_count": 32,
   "id": "e5615dcc-3a68-435a-85e3-b52da38173fd",
   "metadata": {},
   "outputs": [],
   "source": [
    "# Conclusion\n",
    "# The two hypotheses for this particular two sample t-test are as follows:\n",
    "\n",
    "H0 = \"Population mean of sample dataset A = Population mean of sample dataset B\"\n",
    "H1 = \"Population mean of sample dataset A != Population mean of sample dataset B\""
   ]
  },
  {
   "cell_type": "code",
   "execution_count": 33,
   "id": "af23252a-9411-4f8a-8324-1e503e3a3781",
   "metadata": {},
   "outputs": [
    {
     "name": "stdout",
     "output_type": "stream",
     "text": [
      "We need to reject the Null Hypothesis as the Hypothesis results indicated that Population mean of sample dataset A != Population mean of sample dataset B\n"
     ]
    }
   ],
   "source": [
    "if p_value > alpha:\n",
    "    print(f\"We fail to reject the Null Hypthesis as we don't have enough evidence to say that {H1}\")\n",
    "    \n",
    "else:\n",
    "    print(f\"We need to reject the Null Hypothesis as the Hypothesis results indicated that {H1}\")"
   ]
  },
  {
   "cell_type": "code",
   "execution_count": null,
   "id": "850ee790-1e48-4a5b-805b-99112b532d7a",
   "metadata": {},
   "outputs": [],
   "source": []
  },
  {
   "cell_type": "markdown",
   "id": "cbae7409-60d4-4023-9c71-8557141873ae",
   "metadata": {},
   "source": [
    "### Q13. A population has a mean of 60 and a standard deviation of 8. A sample of 50 observations has a mean of 65. Calculate the 90% confidence interval for the true population mean."
   ]
  },
  {
   "cell_type": "code",
   "execution_count": 14,
   "id": "a8bf37f1-9d0a-46c4-9849-1372f9d1f5d5",
   "metadata": {},
   "outputs": [],
   "source": [
    "# given parameters\n",
    "mu = 60 # population mean\n",
    "sigma = 8 # populatiuon standard deviation\n",
    "n = 50 # sample size\n",
    "x_bar = 65 # sample mean\n",
    "confidence_interval = 0.90\n",
    "alpha = round(1 - confidence_interval,2)"
   ]
  },
  {
   "cell_type": "code",
   "execution_count": 15,
   "id": "cfe08806-86f7-4b08-a24f-2a45b4f5920c",
   "metadata": {},
   "outputs": [],
   "source": [
    "import scipy.stats as stat\n",
    "import numpy as np\n",
    "import math"
   ]
  },
  {
   "cell_type": "code",
   "execution_count": 16,
   "id": "4ddcb4e0-d051-45ef-ba8b-d22ab524e52c",
   "metadata": {},
   "outputs": [],
   "source": [
    "# for 90% confidence interval the z score will be 1.645\n",
    "z_score = 1.645\n",
    "# calculating standard error\n",
    "standard_error = sigma/math.sqrt(n)"
   ]
  },
  {
   "cell_type": "code",
   "execution_count": 17,
   "id": "9a1296b2-8a93-4232-9e6a-1724bb04805d",
   "metadata": {},
   "outputs": [],
   "source": [
    "# margin of error\n",
    "moe = z_score*standard_error"
   ]
  },
  {
   "cell_type": "code",
   "execution_count": 18,
   "id": "8f984248-bda8-4cf9-b755-7d694fe851fa",
   "metadata": {},
   "outputs": [],
   "source": [
    "# calculation range for true population mean with 90% confidence interval\n",
    "upper_limit = x_bar + moe\n",
    "lower_limit = x_bar - moe"
   ]
  },
  {
   "cell_type": "code",
   "execution_count": 19,
   "id": "6c13d80a-2634-4cbf-97eb-c5f9e39f591f",
   "metadata": {},
   "outputs": [
    {
     "name": "stdout",
     "output_type": "stream",
     "text": [
      "With 90% Confidence Interval, we can say that true population mean for the given sample dataset lie between 63.14 and 66.86\n"
     ]
    }
   ],
   "source": [
    "print(f\"With 90% Confidence Interval, we can say that true population mean for the given sample dataset lie between {round(lower_limit,2)} and {round(upper_limit,2)}\")"
   ]
  },
  {
   "cell_type": "code",
   "execution_count": null,
   "id": "eb8caa86-b6c1-4203-bcb2-efd2b26abc5f",
   "metadata": {},
   "outputs": [],
   "source": []
  },
  {
   "cell_type": "markdown",
   "id": "5c27a488-2cbf-4c8e-8dd7-8d899ce86584",
   "metadata": {},
   "source": [
    "### Q14. In a study of the effects of caffeine on reaction time, a sample of 30 participants had an average reaction time of 0.25 seconds with a standard deviation of 0.05 seconds. Conduct a hypothesis test to determine if the caffeine has a significant effect on reaction time at a 90% confidence level using a t-test."
   ]
  },
  {
   "cell_type": "code",
   "execution_count": 45,
   "id": "9beeb4a9-cce3-4a27-86f1-26f744c53d4b",
   "metadata": {},
   "outputs": [],
   "source": [
    "# Given parameters\n",
    "n = 30\n",
    "x_bar = 0.25\n",
    "s = 0.05\n",
    "confidence_interval = 0.90\n",
    "alpha = 1 - confidence_interval\n",
    "df = n - 1 # degree of freedom"
   ]
  },
  {
   "cell_type": "code",
   "execution_count": 46,
   "id": "dcc38276-e303-4020-9c9b-b2fffa9ce001",
   "metadata": {},
   "outputs": [],
   "source": [
    "# Using t-test for this Hypothesis testing\n",
    "import scipy.stats as stat\n",
    "import numpy as np\n",
    "import math"
   ]
  },
  {
   "cell_type": "code",
   "execution_count": 47,
   "id": "799e240f-6c19-4ca5-9243-05030cdf4cb8",
   "metadata": {},
   "outputs": [],
   "source": [
    "# Defining Null and Alternate Hypothesis\n",
    "H0 = \"Caffeine has significant affect after use\"\n",
    "H1 = \"Caffeine don't have significant affect after use\""
   ]
  },
  {
   "cell_type": "code",
   "execution_count": 48,
   "id": "9113ccba-cc44-4c81-a7f2-db156a41f265",
   "metadata": {},
   "outputs": [],
   "source": [
    "# calculating aceptance and rejection area\n",
    "upper_limit = round(stat.t.ppf(q=1-(alpha/2), df=df),2)\n",
    "lower_limit = -upper_limit"
   ]
  },
  {
   "cell_type": "code",
   "execution_count": 49,
   "id": "b0131566-509d-4069-9d60-82761732657e",
   "metadata": {},
   "outputs": [
    {
     "name": "stdout",
     "output_type": "stream",
     "text": [
      "If t-test value is less than -1.7 or greater than 1.7, we have to reject Null Hypotheseis\n"
     ]
    }
   ],
   "source": [
    "print(\"If t-test value is less than {lower_bound} or greater than {upper_bound}, we have to reject Null Hypotheseis\".format(lower_bound = lower_limit, upper_bound = upper_limit))"
   ]
  },
  {
   "cell_type": "code",
   "execution_count": 50,
   "id": "2a6c6c6b-9f15-423a-be49-06ccbeecc243",
   "metadata": {},
   "outputs": [],
   "source": [
    "# creating sample data\n",
    "sample = np.random.normal(loc=x_bar, scale=s, size=n)"
   ]
  },
  {
   "cell_type": "code",
   "execution_count": 51,
   "id": "29ab17e5-cd49-49ac-935a-74452862b90b",
   "metadata": {},
   "outputs": [],
   "source": [
    "# calculating t-stat value\n",
    "t_stat, p_value = stat.ttest_1samp(sample, x_bar)"
   ]
  },
  {
   "cell_type": "code",
   "execution_count": 52,
   "id": "5ad1fe44-f293-44c7-830c-e62ce9dcd825",
   "metadata": {},
   "outputs": [
    {
     "name": "stdout",
     "output_type": "stream",
     "text": [
      "0.2995650333021794 0.766645563736994\n"
     ]
    }
   ],
   "source": [
    "print(t_stat, p_value)"
   ]
  },
  {
   "cell_type": "code",
   "execution_count": 54,
   "id": "832ce982-9740-481c-b8ec-f0b1c0a6667f",
   "metadata": {},
   "outputs": [
    {
     "name": "stdout",
     "output_type": "stream",
     "text": [
      "We failed to reject the Null Hypothesis, Caffeine has significant affect after use\n"
     ]
    }
   ],
   "source": [
    "#onclusion\n",
    "if t_stat > upper_limit or t_stat < lower_limit:\n",
    "    print(f\"We need to reject the Null Hypothesis, {H1}\")\n",
    "else:\n",
    "    print(f\"We failed to reject the Null Hypothesis, {H0}\")"
   ]
  },
  {
   "cell_type": "code",
   "execution_count": null,
   "id": "f8111a2c-7336-414a-8786-04afbacedfb9",
   "metadata": {},
   "outputs": [],
   "source": []
  }
 ],
 "metadata": {
  "kernelspec": {
   "display_name": "Python 3 (ipykernel)",
   "language": "python",
   "name": "python3"
  },
  "language_info": {
   "codemirror_mode": {
    "name": "ipython",
    "version": 3
   },
   "file_extension": ".py",
   "mimetype": "text/x-python",
   "name": "python",
   "nbconvert_exporter": "python",
   "pygments_lexer": "ipython3",
   "version": "3.10.8"
  }
 },
 "nbformat": 4,
 "nbformat_minor": 5
}
