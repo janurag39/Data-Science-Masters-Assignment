{
 "cells": [
  {
   "cell_type": "markdown",
   "id": "e08b1ad5-7560-405d-aef0-99fa111ca2a9",
   "metadata": {},
   "source": [
    "### Q1. What is multithreading in python? Why is it used? Name the module used to handle threads in python."
   ]
  },
  {
   "cell_type": "markdown",
   "id": "ee29f85a-97c0-4564-bbba-2c57163fdf91",
   "metadata": {},
   "source": [
    "Ans. Multithreading is a threading technique in Python programming to run multiple threads concurrently by rapidly switching between threads with a CPU help (called context switching).\n",
    "\n",
    "Benefits of Multithreading in python.\n",
    "1. It ensures effective utilization of computer system resources.\n",
    "2. Multithreaded application are more responsive.\n",
    "3. It shares resources and its state with sub-threads which makes it more economical.\n",
    "4. It makes the multiprocessor architecture more effective due to similarity.\n",
    "5. It saves time by executing multiple threads at the same time.\n",
    "6. The system does not require too much memory to store multiple threads\n",
    "\n",
    "\"threading\" module is used to handle threads in python."
   ]
  },
  {
   "cell_type": "code",
   "execution_count": null,
   "id": "a1810bc7-21ff-45be-ad37-9efccf237cef",
   "metadata": {},
   "outputs": [],
   "source": []
  },
  {
   "cell_type": "markdown",
   "id": "65cbafcf-1313-4310-bbd4-3ee324e8164f",
   "metadata": {},
   "source": [
    "### Q2. Why threading module is used? Write the use of the following functions:\n",
    "1. activecount()\n",
    "2. currentthread()\n",
    "3. enumerate()"
   ]
  },
  {
   "cell_type": "markdown",
   "id": "a2327224-a7ab-4b99-a775-e8a9c6e874a2",
   "metadata": {},
   "source": [
    "Ans. Python threading allows you to have different parts of your program run concurrently and can simplify your design. The threading module exposes all the methods of the thread moudle and provieds some additional methods:\n",
    "1. threading.activeCount(): Returns the number of thread objects that are active\n",
    "2. threading.currentThread(): Returns the number of thread objects in the caller's thread control\n",
    "3. threading.enumerate(): Returns a list of all thread objects that are currently active."
   ]
  },
  {
   "cell_type": "code",
   "execution_count": null,
   "id": "9d78bb0e-60fe-4c5c-b8b3-0c3347c6b44f",
   "metadata": {},
   "outputs": [],
   "source": []
  },
  {
   "cell_type": "markdown",
   "id": "9f0ef29e-2e2e-4431-b0d0-403b789cc314",
   "metadata": {},
   "source": [
    "### Q3. Explain the following functions:\n",
    "1. run()\n",
    "2. start()\n",
    "3. join()\n",
    "4. isAlive()"
   ]
  },
  {
   "cell_type": "markdown",
   "id": "17a7994b-aa39-4555-b140-67fe7a3ea1c9",
   "metadata": {},
   "source": [
    "Ans. \n",
    "1. run(): The run() method is the entry point for a thread.\n",
    "2. start(): The start() method starts a thread by calling the run method.\n",
    "3. join(): The join() waits for threads to terminate.\n",
    "4. isAlive: The isAlive() method checks whether a thread is still executing."
   ]
  },
  {
   "cell_type": "code",
   "execution_count": null,
   "id": "1f0b6102-e61d-4e4b-80ba-5612aae5038a",
   "metadata": {},
   "outputs": [],
   "source": []
  },
  {
   "cell_type": "markdown",
   "id": "8c33d196-8f9a-404e-b18c-7488414e7ab0",
   "metadata": {},
   "source": [
    "### Q4. Write a python program to create two threads. Thread one must print the list of squares and thread two must print the list of cubes."
   ]
  },
  {
   "cell_type": "code",
   "execution_count": 1,
   "id": "fc2d6a4b-140b-4008-9dca-1b38d1704dec",
   "metadata": {},
   "outputs": [],
   "source": [
    "import threading\n",
    "\n",
    "def square_lst(num):\n",
    "\n",
    "    sq_lst = []\n",
    "    for i in range(1,num + 1):\n",
    "        sq_lst.append(i**2)\n",
    "    print(\"The list of square for the given input {} is {}\".format(num, sq_lst))\n",
    "        \n",
    "def cube_lst(num):\n",
    "    \n",
    "    cb_lst = []\n",
    "    for i in range(1,num + 1):\n",
    "        cb_lst.append(i**3)\n",
    "    print(\"The list of cubes for the given input {} is {}\".format(num, cb_lst))"
   ]
  },
  {
   "cell_type": "code",
   "execution_count": 2,
   "id": "76e22eb4-d59a-4c47-a711-59a0477d678a",
   "metadata": {},
   "outputs": [
    {
     "name": "stdin",
     "output_type": "stream",
     "text": [
      "Enter the number upto which list is required:  10\n"
     ]
    },
    {
     "name": "stdout",
     "output_type": "stream",
     "text": [
      "The list of square for the given input 10 is [1, 4, 9, 16, 25, 36, 49, 64, 81, 100]\n",
      "The list of cubes for the given input 10 is [1, 8, 27, 64, 125, 216, 343, 512, 729, 1000]\n"
     ]
    }
   ],
   "source": [
    "num = int( input(\"Enter the number upto which list is required: \") )\n",
    "\n",
    "# thread to print the list of squares\n",
    "square_thread = [threading.Thread(target = square_lst, args = (num,))]\n",
    "for t_sq in square_thread: t_sq.start()\n",
    "\n",
    "# thread to print list of cubes\n",
    "cube_thread = [threading.Thread(target = cube_lst, args = (num,))]\n",
    "for t_cb in cube_thread: t_cb.start()"
   ]
  },
  {
   "cell_type": "code",
   "execution_count": null,
   "id": "d3479b2a-6a52-47b7-9f72-497c6f8da8bc",
   "metadata": {},
   "outputs": [],
   "source": []
  },
  {
   "cell_type": "markdown",
   "id": "6bfcaf03-2401-400f-889b-ba956f520f72",
   "metadata": {},
   "source": [
    "### Q5. State Advantages and Disadvantages of Multithreading."
   ]
  },
  {
   "cell_type": "markdown",
   "id": "0365d3a0-1c97-4253-b6fa-c06ce0f00eba",
   "metadata": {},
   "source": [
    "Ans. Advantages of Multithreading:\n",
    "- Multithreading in Python streamlines the efficient utilization of resources as the threads share the same memory and data space.\n",
    "- It also allows the concurrent appearance of multiple tasks and reduces the response time. This improves the performance\n",
    "\n",
    "Disadvantages of Multithreading:\n",
    "- Python doesn't support true multithreading even though it has threading module through which multithreading can be achieved. The GIL (Global Interpreter Lock) prevents multiple threads to execute at the same time it just give control to one thread at a time or pass over the control to multiple threads."
   ]
  },
  {
   "cell_type": "code",
   "execution_count": null,
   "id": "124d65f5-79d9-4692-ab07-ba2b532254d2",
   "metadata": {},
   "outputs": [],
   "source": []
  },
  {
   "cell_type": "markdown",
   "id": "2e28b9ce-588d-4501-9938-6ac95f906c7c",
   "metadata": {},
   "source": [
    "### Q6. Explain Deadlock and Race condition."
   ]
  },
  {
   "cell_type": "markdown",
   "id": "acdb00bc-4b77-480f-a7c1-acb7d6f5d027",
   "metadata": {},
   "source": [
    "Ans. A deadlock is a concurrency failure mode where a thread or threads wait for a condition that never occurs. The result is that the deadlock threads are unable to progress and the program is stuck or frozen and must be terminateed forcefully.\n",
    "\n",
    "Deadlocks are not developed intentionally, isntead they are an unexpected side effect or bug in concurrency programming.\n",
    "\n",
    "Example for the cause of threading deadlock:\n",
    "1. A thread waits in itself (eg. attempts to aquire the same mutex lock twice)\n",
    "2. Threads that wait on each other (eg. A waits on B, B waits on A)\n",
    "3. Thread that fails to release a resource (eg. mutex lock, semaphore, barrier, condition, event etc)\n",
    "4. Threads that aquire mutex lock in different orders (eg. fails to perform lock ordering)\n",
    "\n"
   ]
  },
  {
   "cell_type": "markdown",
   "id": "875ca292-414c-455a-8875-0686e7e3be24",
   "metadata": {},
   "source": [
    "A race condition may be defined as the occurring of a condition when two or more threads can access shared data and then try to change its value at the same time. Due to this, the values of variables may be unpredictable and vary depending on the timings of context switched of the processes."
   ]
  },
  {
   "cell_type": "code",
   "execution_count": null,
   "id": "d6ca4063-495e-4969-852a-794c234f398a",
   "metadata": {},
   "outputs": [],
   "source": []
  }
 ],
 "metadata": {
  "kernelspec": {
   "display_name": "Python 3 (ipykernel)",
   "language": "python",
   "name": "python3"
  },
  "language_info": {
   "codemirror_mode": {
    "name": "ipython",
    "version": 3
   },
   "file_extension": ".py",
   "mimetype": "text/x-python",
   "name": "python",
   "nbconvert_exporter": "python",
   "pygments_lexer": "ipython3",
   "version": "3.10.8"
  }
 },
 "nbformat": 4,
 "nbformat_minor": 5
}
