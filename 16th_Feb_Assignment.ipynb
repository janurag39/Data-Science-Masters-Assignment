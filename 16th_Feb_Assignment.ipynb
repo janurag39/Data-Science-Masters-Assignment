{
 "cells": [
  {
   "cell_type": "markdown",
   "id": "59e7b55f-ab57-4218-8a1e-1d20a636e89d",
   "metadata": {},
   "source": [
    "### Q1. What is a database? Differentiate between SQL and NoSQL databases."
   ]
  },
  {
   "cell_type": "markdown",
   "id": "35523d9e-9ee6-4311-b791-750d713a3dc6",
   "metadata": {},
   "source": [
    "Ans. A database is an organized collection of structured information, or data, typically stored electronically in a computer system. A database is usually controlled by a database management system (DBMS).\n",
    "\n",
    "Difference between SQL and NOSQL DB:\n",
    "- Databases which uses SQL are relation databases and are managed by relation database management system (RDBMS). whereas NQSQL databases are non-relational databases system.\n",
    "- SQL databases have fixed/Predefined schema and Nosql databases have no predefined schema.\n",
    "- SQL databases are not suited for herarchical data storage, whereas NOSQL databases are best suited for hierarchical storage.\n",
    "- SQL databases are best suited for complex queries and NOSQL databases are not best for complex queries.\n",
    "- SQL databases follow ACID properties. NOSQL databases follows CAP theorm (Consistency, availability, partition tolerance)\n",
    "- Example for SQL DB: MySql, PostgresSQL, Oracle, MS-SQL\n",
    "- Example for NOSQL DB: MongoDB, HBase, Cassandra, New4j"
   ]
  },
  {
   "cell_type": "code",
   "execution_count": null,
   "id": "53bf148a-2f6b-498c-9512-9dc147069f6d",
   "metadata": {},
   "outputs": [],
   "source": []
  },
  {
   "cell_type": "markdown",
   "id": "0d265c85-a391-4757-a70d-4d05260da104",
   "metadata": {
    "tags": []
   },
   "source": [
    "### Q2. What is DDL? Explain why CREATE, DROP, ALTER, and TRUNCATE are used with an example."
   ]
  },
  {
   "cell_type": "markdown",
   "id": "5ddc3548-c53f-47d9-a24c-9f85e55ac2a5",
   "metadata": {
    "tags": []
   },
   "source": [
    "Ans. Data Definition Language (DDL) is a subset of SQL. It is a language for describing data and its relationships in a database.\n",
    "1. Create: Create is used to create new Databases and tables within the RDBMS System.\n",
    "2. Drop: This command is used to delete objects from the database.\n",
    "3. Alter: This is used to make changes within the tables in a RDBMS system.\n",
    "4. Truncate: This is used to remove all records from a table, including all spaces allocated for the records are removed."
   ]
  },
  {
   "cell_type": "code",
   "execution_count": 3,
   "id": "19d16b8c-0fa9-4a73-bfed-a71fb157183c",
   "metadata": {},
   "outputs": [],
   "source": [
    "import mysql.connector\n",
    "\n",
    "mydb = mysql.connector.connect(\n",
    "  host=\"localhost\",\n",
    "  user=\"abc\",\n",
    "  password=\"password\"\n",
    ")\n",
    "mycursor = mydb.cursor()\n",
    "\n",
    "# # Create for creating new DB 'pwskills'\n",
    "mycursor.execute(\"CREATE DATABASE if not exists pwskills\")\n",
    "\n",
    "# # Create Table to create test_mentor in pwskills DB\n",
    "mycursor.execute('''CREATE TABLE if not exists pwskills.test_mentor(\n",
    "    id INT PRIMARY KEY,\n",
    "    first_name VARCHAR(50),\n",
    "    last_name VARCHAR(50),\n",
    "    gender char(1),\n",
    "    age INT\n",
    ")''')\n",
    "\n",
    "# # Alter table to add a new column\n",
    "mycursor.execute(\"ALTER TABLE pwskills.test_mentor ADD course_id INT\")\n",
    "\n",
    "# # Insert to add data into the Table test_mentor\n",
    "mycursor.execute('''INSERT INTO pwskills.test_mentor VALUES (0001, 'Sudh', 'Kumar', 'M', 30, 325827263)''')\n",
    "mycursor.execute('''INSERT INTO pwskills.test_mentor VALUES (0002, 'Sudh', 'Kumar', 'M', 30, 325827263)''')\n",
    "mycursor.execute('''INSERT INTO pwskills.test_mentor VALUES (0003, 'Sudh', 'Kumar', 'M', 30, 325827263)''')\n",
    "mycursor.execute('''INSERT INTO pwskills.test_mentor VALUES (0004, 'Sudh', 'Kumar', 'M', 30, 325827263)''')\n",
    "mycursor.execute('''INSERT INTO pwskills.test_mentor VALUES (0005, 'Sudh', 'Kumar', 'M', 30, 325827263)''')\n",
    "mycursor.execute('''INSERT INTO pwskills.test_mentor VALUES (0006, 'Sudh', 'Kumar', 'M', 30, 325827263)''')\n",
    "mycursor.execute('''INSERT INTO pwskills.test_mentor VALUES (0007, 'Sudh', 'Kumar', 'M', 30, 325827263)''')\n",
    "mydb.commit()\n",
    "\n",
    "# retrieve the content of table\n",
    "mycursor.execute('''SELECT * FROM pwskills.test_mentor''')\n",
    "for i in mycursor:\n",
    "    print(i)\n",
    "\n",
    "# Truncate to delete the test_mentor table content\n",
    "mycursor.execute('''TRUNCATE TABLE pwskills.test_mentor''')\n",
    "\n",
    "# retrieve the content of table \n",
    "# This will return blank after truncate is done\n",
    "mycursor.execute('''SELECT * FROM pwskills.test_mentor''')\n",
    "for i in mycursor:\n",
    "    print(i)\n",
    "\n",
    "# Drop to delete the test_mentor table in DB pwskills\n",
    "mycursor.execute('''DROP TABLE pwskills.test_mentor''')\n"
   ]
  },
  {
   "cell_type": "code",
   "execution_count": null,
   "id": "241f0a09-6cc0-4f84-a497-6fc3a0b85d53",
   "metadata": {},
   "outputs": [],
   "source": []
  },
  {
   "cell_type": "markdown",
   "id": "c2e0632b-c49b-49da-b5ea-82657f1104aa",
   "metadata": {},
   "source": [
    "### Q3. What is DML? Explain INSERT, UPDATE, and DELETE with an example."
   ]
  },
  {
   "cell_type": "markdown",
   "id": "64d15d11-c87e-44d0-8b2c-a7ef4b257202",
   "metadata": {},
   "source": [
    "Ans. DML: The SQL commands that deals with the manipulation of data present in the database belong to DML or Data Manipulation Language and this includes most of the SQL statements.\n",
    "1. Insert: It is used to insert data into a table.\n",
    "2. Update: It is used to update existing data within a table.\n",
    "3. Delete: It is used to delete records from a database table."
   ]
  },
  {
   "cell_type": "code",
   "execution_count": null,
   "id": "2c975859-78d6-4a72-b555-7d56afdcd0c5",
   "metadata": {},
   "outputs": [],
   "source": [
    "import mysql.connector\n",
    "\n",
    "mydb = mysql.connector.connect(\n",
    "  host=\"localhost\",\n",
    "  user=\"abc\",\n",
    "  password=\"password\"\n",
    ")\n",
    "mycursor = mydb.cursor()\n",
    "\n",
    "# # Create for creating new DB 'pwskills'\n",
    "mycursor.execute(\"CREATE DATABASE if not exists pwskills\")\n",
    "\n",
    "# # Create Table to create test_mentor in pwskills DB\n",
    "mycursor.execute('''CREATE TABLE if not exists pwskills.test_mentor(\n",
    "    id INT PRIMARY KEY,\n",
    "    first_name VARCHAR(50),\n",
    "    last_name VARCHAR(50),\n",
    "    gender char(1),\n",
    "    age INT,\n",
    "    course_id INT\n",
    ")''')\n",
    "\n",
    "# # Insert to add data into the Table test_mentor\n",
    "mycursor.execute('''INSERT INTO pwskills.test_mentor VALUES (0001, 'Sudh', 'Kumar', 'M', 30, 325827263)''')\n",
    "mycursor.execute('''INSERT INTO pwskills.test_mentor VALUES (0002, 'Sudh', 'Kumar', 'M', 30, 325827263)''')\n",
    "mycursor.execute('''INSERT INTO pwskills.test_mentor VALUES (0003, 'Sudh', 'Kumar', 'M', 30, 325827263)''')\n",
    "mycursor.execute('''INSERT INTO pwskills.test_mentor VALUES (0004, 'Sudh', 'Kumar', 'M', 30, 325827263)''')\n",
    "mycursor.execute('''INSERT INTO pwskills.test_mentor VALUES (0005, 'Sudh', 'Kumar', 'M', 30, 325827263)''')\n",
    "mycursor.execute('''INSERT INTO pwskills.test_mentor VALUES (0006, 'Sudh', 'Kumar', 'M', 30, 325827263)''')\n",
    "mycursor.execute('''INSERT INTO pwskills.test_mentor VALUES (0007, 'Sudh', 'Kumar', 'M', 30, 325827263)''')\n",
    "mydb.commit()\n",
    "\n",
    "# retrieve the content of table\n",
    "mycursor.execute('''SELECT * FROM pwskills.test_mentor''')\n",
    "for i in mycursor:\n",
    "    print(i)\n",
    "\n",
    "# Deletes the record which id defined in where clause\n",
    "mycursor.execute('''DELETE FROM pwskills.test_mentor WHERE id = 3''')\n",
    "\n",
    "# Updates the record in the table\n",
    "mycursor.execute('''UPDATE pwskills.test_mentor SET id = 999 WHERE id = 6''')\n",
    "\n",
    "# retrieve the content of table\n",
    "mycursor.execute('''SELECT * FROM pwskills.test_mentor''')\n",
    "for i in mycursor:\n",
    "    print(i)"
   ]
  },
  {
   "cell_type": "code",
   "execution_count": null,
   "id": "3e2e63ff-cb7e-4545-889f-b3e4182e9c88",
   "metadata": {},
   "outputs": [],
   "source": []
  },
  {
   "cell_type": "markdown",
   "id": "cd39cc2e-5061-422b-8778-dcc64151bce6",
   "metadata": {},
   "source": [
    "### Q4. What is DQL? Explain SELECT with an example."
   ]
  },
  {
   "cell_type": "markdown",
   "id": "7f2318cd-24d4-47b0-9973-7971296d3879",
   "metadata": {},
   "source": [
    "Ans. The full form of DQL is Data Query Language. DQL is a part of the grouping involved in SQL (Structures Query Language) sub-languages.\n",
    "- Select: It is used to retrieve records from the tables within a Database."
   ]
  },
  {
   "cell_type": "code",
   "execution_count": null,
   "id": "577da376-098e-4291-a06e-24535fe997e7",
   "metadata": {},
   "outputs": [],
   "source": [
    "import mysql.connector\n",
    "\n",
    "mydb = mysql.connector.connect(\n",
    "  host=\"localhost\",\n",
    "  user=\"abc\",\n",
    "  password=\"password\"\n",
    ")\n",
    "mycursor = mydb.cursor()\n",
    "\n",
    "# # Create for creating new DB 'pwskills'\n",
    "mycursor.execute(\"CREATE DATABASE if not exists pwskills\")\n",
    "\n",
    "# # Create Table to create test_mentor in pwskills DB\n",
    "mycursor.execute('''CREATE TABLE if not exists pwskills.test_mentor(\n",
    "    id INT PRIMARY KEY,\n",
    "    first_name VARCHAR(50),\n",
    "    last_name VARCHAR(50),\n",
    "    gender char(1),\n",
    "    age INT,\n",
    "    course_id INT\n",
    ")''')\n",
    "\n",
    "# # Insert to add data into the Table test_mentor\n",
    "mycursor.execute('''INSERT INTO pwskills.test_mentor VALUES (0001, 'Sudh', 'Kumar', 'M', 30, 325827263)''')\n",
    "mycursor.execute('''INSERT INTO pwskills.test_mentor VALUES (0002, 'Sudh', 'Kumar', 'M', 30, 325827263)''')\n",
    "mycursor.execute('''INSERT INTO pwskills.test_mentor VALUES (0003, 'Sudh', 'Kumar', 'M', 30, 325827263)''')\n",
    "mycursor.execute('''INSERT INTO pwskills.test_mentor VALUES (0004, 'Sudh', 'Kumar', 'M', 30, 325827263)''')\n",
    "mycursor.execute('''INSERT INTO pwskills.test_mentor VALUES (0005, 'Sudh', 'Kumar', 'M', 30, 325827263)''')\n",
    "mycursor.execute('''INSERT INTO pwskills.test_mentor VALUES (0006, 'Sudh', 'Kumar', 'M', 30, 325827263)''')\n",
    "mycursor.execute('''INSERT INTO pwskills.test_mentor VALUES (0007, 'Sudh', 'Kumar', 'M', 30, 325827263)''')\n",
    "mydb.commit()\n",
    "\n",
    "# retrieve the content of table\n",
    "mycursor.execute('''SELECT * FROM pwskills.test_mentor''')\n",
    "for i in mycursor:\n",
    "    print(i)"
   ]
  },
  {
   "cell_type": "code",
   "execution_count": null,
   "id": "016fd5c4-6516-49ee-9021-99e787d6abf5",
   "metadata": {},
   "outputs": [],
   "source": []
  },
  {
   "cell_type": "markdown",
   "id": "d8a892c1-1780-49b2-9199-ec4539586ac4",
   "metadata": {},
   "source": [
    "### Q5. Explain Primary Key and Foreign Key."
   ]
  },
  {
   "cell_type": "markdown",
   "id": "a97d679f-7f69-4ea5-b3ca-c131ef1da5b3",
   "metadata": {},
   "source": [
    "Ans. \n",
    "- Primary Key: The PRIMARY KEY constraint uniquely identifies each record in a table. Primary key must contain UNIQUE values and cannot contain NULL values. A table can have only one primary key and in the table the primary key can consist of single or multiple fields(Columns).\n",
    "\n",
    "- Foreign Key: The FOREIGN KEY constraint is used to prevent actions that would destroy links between tables. A FOREIGN KEY is a field (or collection of fields) in one table, that refers to the PRIMARY KEY in another table. The table with the foreign key is called the child table, and the table with the primary key is called the referenced or parent table."
   ]
  },
  {
   "cell_type": "code",
   "execution_count": null,
   "id": "86d3d0cc-fd43-473c-a118-e07499210892",
   "metadata": {},
   "outputs": [],
   "source": []
  },
  {
   "cell_type": "markdown",
   "id": "6fb512f4-de29-444f-9eab-42f9b5939f4f",
   "metadata": {},
   "source": [
    "### Q6. Write a python code to connect MySQL to python. Explain the cursor() and execute() method.\n"
   ]
  },
  {
   "cell_type": "code",
   "execution_count": null,
   "id": "f81bf555-995b-46fa-bcff-979595ab6c79",
   "metadata": {},
   "outputs": [],
   "source": [
    "# python code to connect mysql to python\n",
    "import mysql.connector\n",
    "\n",
    "mydb = mysql.connector.connect(\n",
    "  host=\"localhost\",\n",
    "  user=\"abc\",\n",
    "  password=\"password\"\n",
    ")\n",
    "mycursor = mydb.cursor()"
   ]
  },
  {
   "cell_type": "markdown",
   "id": "51c1dace-eaf9-49ca-b038-8ef22383f0ac",
   "metadata": {},
   "source": [
    "1. cursor(): It is an object that is used to make the connection for executing SQL queries. It acts as middleware between SQLite database connection and SQL query. It is created after giving connection to SQLite database. A cursor keeps track of the position in the result set, and allows you to perform multiple operations row by row against a result set, with or without returning to the original table. In other words, cursors conceptually return a result set based on tables within the databases. The cursor is so named because it indicates the current position in the result set, just as the cursor on a computer screen indicates current position.\n",
    "\n",
    "Using cursors, we can:\n",
    "- Specify positioning at specific rows in the result set.\n",
    "- Retrieve one row or a block of rows based on the current result set position.\n",
    "- Modify data in the rows at the current position in the result set.\n",
    "- Define different levels of sensitivity to data changes made by other users.\n",
    "\n",
    "2. Execute(): The execute () method helps to execute the query and return records according to the query."
   ]
  },
  {
   "cell_type": "code",
   "execution_count": null,
   "id": "0bb00051-4dbe-4969-a276-c380fc1c6edc",
   "metadata": {},
   "outputs": [],
   "source": []
  },
  {
   "cell_type": "markdown",
   "id": "c78fa2c8-6d1f-4a6e-89bc-9598523a465e",
   "metadata": {},
   "source": [
    "### Q7. Give the order of execution of SQL clauses in an SQL query."
   ]
  },
  {
   "cell_type": "markdown",
   "id": "b65c5c62-56cd-4aff-833a-00b8a33d1f22",
   "metadata": {},
   "source": [
    "Ans.\n",
    "1. from: Choose and join tables to get base data.\n",
    "2. where: Filters the base data.\n",
    "3. group by: Aggregates the base data.\n",
    "4. having: Filters the aggregated data.\n",
    "5. select: Returns the final data.\n",
    "6. order by: Sorts the final data.\n",
    "7. limit/Offset: Limits the returned data to a row count."
   ]
  },
  {
   "cell_type": "code",
   "execution_count": null,
   "id": "4a4c831a-3634-4829-9c38-9eba4863d0bf",
   "metadata": {},
   "outputs": [],
   "source": []
  }
 ],
 "metadata": {
  "kernelspec": {
   "display_name": "Python 3 (ipykernel)",
   "language": "python",
   "name": "python3"
  },
  "language_info": {
   "codemirror_mode": {
    "name": "ipython",
    "version": 3
   },
   "file_extension": ".py",
   "mimetype": "text/x-python",
   "name": "python",
   "nbconvert_exporter": "python",
   "pygments_lexer": "ipython3",
   "version": "3.10.8"
  }
 },
 "nbformat": 4,
 "nbformat_minor": 5
}
