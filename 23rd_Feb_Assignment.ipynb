{
 "cells": [
  {
   "cell_type": "markdown",
   "id": "01105adf-0f49-4149-8331-274dfb2b4846",
   "metadata": {},
   "source": [
    "### Q1. Create a Pandas Series that contains the following data: 4, 8, 15, 16, 23, and 42. Then, print the series."
   ]
  },
  {
   "cell_type": "code",
   "execution_count": 1,
   "id": "4a712e3d-852a-4645-99a2-cb0e0f01627b",
   "metadata": {},
   "outputs": [
    {
     "name": "stdout",
     "output_type": "stream",
     "text": [
      "0     4\n",
      "1     8\n",
      "2    15\n",
      "3    16\n",
      "4    23\n",
      "5    42\n",
      "dtype: int64\n"
     ]
    }
   ],
   "source": [
    "import pandas as pd\n",
    "\n",
    "lst = [4, 8, 15, 16, 23, 42]\n",
    "panda_series = pd.Series(lst)\n",
    "print(panda_series)"
   ]
  },
  {
   "cell_type": "code",
   "execution_count": null,
   "id": "8cc3a533-72d6-4ce7-8973-aff0d27eb8cd",
   "metadata": {},
   "outputs": [],
   "source": []
  },
  {
   "cell_type": "markdown",
   "id": "f5088f22-4ffd-4bb1-9920-0d8c909c1d09",
   "metadata": {},
   "source": [
    "### Q2. Create a variable of list type containing 10 elements in it, and apply pandas.Series function on the variable print it."
   ]
  },
  {
   "cell_type": "code",
   "execution_count": 2,
   "id": "9b5e3139-3899-4f35-a4bf-46c998c3c39b",
   "metadata": {},
   "outputs": [
    {
     "name": "stdout",
     "output_type": "stream",
     "text": [
      "0     1\n",
      "1     2\n",
      "2     3\n",
      "3     4\n",
      "4     5\n",
      "5     6\n",
      "6     7\n",
      "7     8\n",
      "8     9\n",
      "9    10\n",
      "dtype: int64\n"
     ]
    }
   ],
   "source": [
    "import pandas as pd\n",
    "\n",
    "lst1 = [i for i in range(1,11)]\n",
    "pd_series = pd.Series(lst1)\n",
    "print(pd_series)"
   ]
  },
  {
   "cell_type": "code",
   "execution_count": null,
   "id": "c821fefa-17f1-4097-9e52-9e8ca088c243",
   "metadata": {},
   "outputs": [],
   "source": []
  },
  {
   "cell_type": "markdown",
   "id": "c80d83c3-6eb3-4dcd-8e54-dda28ec59198",
   "metadata": {},
   "source": [
    "### Q3. Create a Pandas DataFrame that contains the following data:"
   ]
  },
  {
   "cell_type": "code",
   "execution_count": 45,
   "id": "f24245e3-19e5-4ce9-ae99-8ecd334693f0",
   "metadata": {},
   "outputs": [
    {
     "name": "stdout",
     "output_type": "stream",
     "text": [
      "     Name  Age  Gender\n",
      "0   Alice   25  Female\n",
      "1     Bob   30    Male\n",
      "2  Claire   27  Female\n"
     ]
    }
   ],
   "source": [
    "import pandas as pd\n",
    "\n",
    "data =  {\n",
    "        \"Name\": [\"Alice\",  \"Bob\", \"Claire\"],\n",
    "        \"Age\": [25, 30, 27],\n",
    "        \"Gender\": [\"Female\", \"Male\", \"Female\"]\n",
    "}\n",
    "\n",
    "df = pd.DataFrame(data)\n",
    "print(df)"
   ]
  },
  {
   "cell_type": "code",
   "execution_count": null,
   "id": "ad728ae9-a8e2-4e03-b46f-f5c166bf33c0",
   "metadata": {},
   "outputs": [],
   "source": []
  },
  {
   "cell_type": "markdown",
   "id": "877b76a0-c1dd-4dda-a176-2d0f1e70201e",
   "metadata": {},
   "source": [
    "### Q4. What is ‘DataFrame’ in pandas and how is it different from pandas.series? Explain with an example."
   ]
  },
  {
   "cell_type": "markdown",
   "id": "92036f29-e3b4-4628-a2f2-9390fd3eec51",
   "metadata": {},
   "source": [
    "Ans. A Pandas DataFrame is a 2 dimensional data structure, like a 2 dimensional array, or a table with rows and columns whereas series is always a 1d array or a single column for any specific data frame. Series elements must be of the same data type."
   ]
  },
  {
   "cell_type": "code",
   "execution_count": null,
   "id": "10e4fd0a-b43f-4643-9353-6b69e6bf816c",
   "metadata": {},
   "outputs": [],
   "source": []
  },
  {
   "cell_type": "markdown",
   "id": "76943824-b0fb-4c86-a263-c00569f7dae7",
   "metadata": {},
   "source": [
    "### Q5. What are some common functions you can use to manipulate data in a Pandas DataFrame? Can you give an example of when you might use one of these functions?"
   ]
  },
  {
   "cell_type": "code",
   "execution_count": 54,
   "id": "276cd77d-b4de-48fd-a13e-b9b28bb1f1cf",
   "metadata": {},
   "outputs": [
    {
     "name": "stdout",
     "output_type": "stream",
     "text": [
      "Head:\n",
      "     Name  Age  Gender\n",
      "0  Alice   25  Female \n",
      "\n",
      "Tail:\n",
      "      Name  Age  Gender\n",
      "2  Claire   27  Female \n",
      "\n"
     ]
    }
   ],
   "source": [
    "# Answer\n",
    "# Using the dataframe created in Q3\n",
    "\n",
    "'''head()  or tail() can be used to read records from the dataframe head returns the records from the top and tails returns the data from the botton'''\n",
    "top_row = df.head(1)\n",
    "print(\"Head:\\n\", top_row, \"\\n\")\n",
    "bottom_row = df.tail(1)\n",
    "print(\"Tail:\\n\", bottom_row, \"\\n\")"
   ]
  },
  {
   "cell_type": "code",
   "execution_count": 56,
   "id": "a5f9d518-f19b-4e5e-a4f3-3f383f1ad4c9",
   "metadata": {},
   "outputs": [
    {
     "name": "stdout",
     "output_type": "stream",
     "text": [
      "Shape: (3, 3) \n",
      "\n"
     ]
    }
   ],
   "source": [
    "'''shape returns the no. of rows and columns enclosed in a tuple'''\n",
    "sp = df.shape\n",
    "print( \"Shape:\", sp, \"\\n\" )"
   ]
  },
  {
   "cell_type": "code",
   "execution_count": 57,
   "id": "41ed838a-7f0e-4ed9-845a-5fdf991a667d",
   "metadata": {},
   "outputs": [
    {
     "name": "stdout",
     "output_type": "stream",
     "text": [
      "Describe:\n",
      "              Age\n",
      "count   3.000000\n",
      "mean   27.333333\n",
      "std     2.516611\n",
      "min    25.000000\n",
      "25%    26.000000\n",
      "50%    27.000000\n",
      "75%    28.500000\n",
      "max    30.000000 \n",
      "\n"
     ]
    }
   ],
   "source": [
    "'''Summary of Statistics of DataFrame using describe() method'''\n",
    "sumry = df.describe()\n",
    "print(\"Describe:\\n\", sumry, \"\\n\")"
   ]
  },
  {
   "cell_type": "code",
   "execution_count": 59,
   "id": "678ccbb5-ce01-4e80-8393-f916142c125c",
   "metadata": {},
   "outputs": [
    {
     "name": "stdout",
     "output_type": "stream",
     "text": [
      "dropna():\n",
      " Empty DataFrame\n",
      "Columns: [id, location_id, program_id, accepted_payments, alternate_name, application_process, audience, description, eligibility, email, fees, funding_sources, interpretation_services, keywords, languages, name, required_documents, service_areas, status, wait_time, website, taxonomy_ids]\n",
      "Index: []\n",
      "\n",
      "[0 rows x 22 columns] \n",
      "\n",
      "dropna(axis = 1)\n",
      "     id  location_id                                application_process  \\\n",
      "0    1            1                         Walk in or apply by phone.   \n",
      "1    2            2                 Apply by phone for an appointment.   \n",
      "2    3            3        Phone for information (403-4300 Ext. 4322).   \n",
      "3    4            4                                    Apply by phone.   \n",
      "4    5            5                             Phone for information.   \n",
      "5    6            6  Walk in or apply by phone for membership appli...   \n",
      "6    7            7  Apply by phone or be referred by a doctor, soc...   \n",
      "7    8            8                                    Apply by phone.   \n",
      "8    9            9  Walk in. Proof of residency in California requ...   \n",
      "9   10           10  Walk in. Proof of California residency to rece...   \n",
      "10  11           11  Walk in. Proof of California residency require...   \n",
      "11  12           12  Walk in or apply by phone, email or webpage re...   \n",
      "12  13           13  Walk in. Proof of California residency require...   \n",
      "13  14           14  Call for appointment. Referral from human serv...   \n",
      "14  15           15          Walk in or through other agency referral.   \n",
      "15  16           16  Walk in. Written application, identification r...   \n",
      "16  17           17                              Call for information.   \n",
      "17  18           18  Call for screening appointment. Medical visits...   \n",
      "18  19           19     Call for screening appointment (650-347-3648).   \n",
      "19  20           20                                           Walk in.   \n",
      "20  21           21                    By phone during business hours.   \n",
      "21  22           22                  Walk in or apply by phone or mail   \n",
      "22  23           22                  Walk in or apply by phone or mail   \n",
      "\n",
      "                                          description  \\\n",
      "0   A walk-in center for older adults that provide...   \n",
      "1   Provides training and job placement to eligibl...   \n",
      "2   Offers supportive counseling services to San M...   \n",
      "3   Provides supervised visitation services and a ...   \n",
      "4   Provides fixed 8% short term loans to eligible...   \n",
      "5   A multipurpose center offering a wide variety ...   \n",
      "6   Rosener House is a day center for older adults...   \n",
      "7   Delivers a hot meal to the home of persons age...   \n",
      "8   Provides general reading material, including b...   \n",
      "9   Provides general reading and media materials, ...   \n",
      "10  Provides general reading materials, including ...   \n",
      "11  Offers an intergenerational literacy program f...   \n",
      "12  Provides general reading materials, including ...   \n",
      "13  Provides food, clothing, bus tokens and shelte...   \n",
      "14  Provides a long-term (6-12 month) residential ...   \n",
      "15  Provides emergency assistance including food a...   \n",
      "16  Provides emergency food, clothing and furnitur...   \n",
      "17  By appointment only, Project Smile provides a ...   \n",
      "18  Provides free medical and dental care to those...   \n",
      "19              no unrequired fields for this service   \n",
      "20                                just a test service   \n",
      "21  [NOTE THIS IS NOT A REAL SERVICE--THIS IS FOR ...   \n",
      "22  [NOTE THIS IS NOT A REAL ORGANIZATION--THIS IS...   \n",
      "\n",
      "                                    name    status  \n",
      "0        Fair Oaks Adult Activity Center    active  \n",
      "1       Second Career Employment Program    active  \n",
      "2                 Senior Peer Counseling    active  \n",
      "3               Family Visitation Center    active  \n",
      "4      Economic Self-Sufficiency Program    active  \n",
      "5   Little House Recreational Activities    active  \n",
      "6       Rosener House Adult Day Services    active  \n",
      "7         Meals on Wheels - South County    active  \n",
      "8                       Fair Oaks Branch    active  \n",
      "9                           Main Library    active  \n",
      "10                       Schaberg Branch    active  \n",
      "11                          Project Read    active  \n",
      "12                 Redwood Shores Branch    active  \n",
      "13                    Redwood City Corps    active  \n",
      "14           Adult Rehabilitation Center    active  \n",
      "15                       Sunnyvale Corps    active  \n",
      "16     South San Francisco Citadel Corps    active  \n",
      "17                         Project Smile    active  \n",
      "18         San Mateo Free Medical Clinic    active  \n",
      "19             Service with blank fields   defunct  \n",
      "20       Service for Admin Test Location  inactive  \n",
      "21                       Passport Photos    active  \n",
      "22                  Example Service Name    active  \n"
     ]
    }
   ],
   "source": [
    "'''Dropping the missing values in DataFrame, it can be done using the dropna() method, it removes all the NaN values in the dataframe'''\n",
    "df1 = pd.read_csv(\"services.csv\")\n",
    "# print(df1)\n",
    "df_dropped = df1.dropna()\n",
    "print(\"dropna():\\n\",df_dropped, \"\\n\")\n",
    "\n",
    "df_dropped = df1.dropna(axis=1) # This will drop all the columns with any missing values.\n",
    "print(\"dropna(axis = 1)\\n\",df_dropped)"
   ]
  },
  {
   "cell_type": "code",
   "execution_count": 60,
   "id": "f4ba9d3c-7d22-4710-8605-6f0c52dbb6a6",
   "metadata": {},
   "outputs": [
    {
     "name": "stdout",
     "output_type": "stream",
     "text": [
      "Merged Columns: \n",
      "      Name  Age  Gender        Course\n",
      "0   Alice   25  Female  Data Science\n",
      "1     Bob   30    Male  Data Science\n",
      "2  Claire   27  Female  Data Science \n",
      "\n"
     ]
    }
   ],
   "source": [
    "'''Merging DataFrames using merge(), arguments passed are the dataframes to be merged along with the column name'''\n",
    "data2 = {\n",
    "        \"Name\": [\"Alice\",  \"Bob\", \"Claire\",],\n",
    "        \"Course\": [\"Data Science\", \"Data Science\", \"Data Science\"]\n",
    "}\n",
    "df2 = pd.DataFrame(data2)\n",
    "merge_cols = pd.merge(df, df2, on=\"Name\")\n",
    "# An additional argument ‘on’ is the name of the common column, here ‘Name’ is the common column given to the merge() function. \n",
    "# df is the first dataframe & df2 is the second dataframe that is to be merged\n",
    "print(\"Merged Columns: \\n\", merge_cols, \"\\n\")"
   ]
  },
  {
   "cell_type": "code",
   "execution_count": 61,
   "id": "6fb0a6d1-dec3-485a-800b-3de226aafe5c",
   "metadata": {},
   "outputs": [
    {
     "name": "stdout",
     "output_type": "stream",
     "text": [
      "renamed_df2\n",
      "   Student_name Enrolled_Courses\n",
      "0        Alice     Data Science\n",
      "1          Bob     Data Science\n",
      "2       Claire     Data Science \n",
      "\n"
     ]
    }
   ],
   "source": [
    "'''Renaming the columns of dataframe using rename(), arguments passed are the columns to be renamed & inplace'''\n",
    "renmed_df2 = df2.rename(columns = {\"Name\": \"Student_name\", \"Course\": \"Enrolled_Courses\"}, inplace=False) #The code ‘inplace = False’ means the result would be stored in a new DataFrame instead of the original one.\n",
    "print(\"renamed_df2\\n\", renmed_df2, \"\\n\")"
   ]
  },
  {
   "cell_type": "code",
   "execution_count": 62,
   "id": "82d78d49-2ebd-4bcc-9c4a-a34b69505d7b",
   "metadata": {},
   "outputs": [
    {
     "name": "stdout",
     "output_type": "stream",
     "text": [
      "Sorted_df2\n",
      "      Name  Age  Gender        Course\n",
      "1     Bob   30    Male  Data Science\n",
      "2  Claire   27  Female  Data Science\n",
      "0   Alice   25  Female  Data Science \n",
      "\n"
     ]
    }
   ],
   "source": [
    "'''Sorting the DataFrame using sort_values() method'''\n",
    "sorted_df2 = merge_cols.sort_values(by=['Age'], ascending=False)\n",
    "print(\"Sorted_df2\\n\", sorted_df2, \"\\n\")"
   ]
  },
  {
   "cell_type": "code",
   "execution_count": null,
   "id": "47927edd-7446-42a3-acea-eee8fdba19a8",
   "metadata": {},
   "outputs": [],
   "source": []
  },
  {
   "cell_type": "markdown",
   "id": "56a809bf-606d-4188-835d-c94ac123a06d",
   "metadata": {},
   "source": [
    "### Q6. Which of the following is mutable in nature Series, DataFrame, Panel?"
   ]
  },
  {
   "cell_type": "markdown",
   "id": "bee89764-c6ae-4e74-8ae0-4b74aefc10ea",
   "metadata": {},
   "source": [
    "Ans. All Pandas data structures are value mutable (can be changed) and except Series all are size mutable. Series is size immutable."
   ]
  },
  {
   "cell_type": "code",
   "execution_count": null,
   "id": "aa53c9a7-03e0-48b6-83d6-a5fa497dd581",
   "metadata": {},
   "outputs": [],
   "source": []
  },
  {
   "cell_type": "markdown",
   "id": "c8ca211b-d19f-4e6a-8d02-175164ba0004",
   "metadata": {},
   "source": [
    "### Q7. Create a DataFrame using multiple Series. Explain with an example."
   ]
  },
  {
   "cell_type": "code",
   "execution_count": 83,
   "id": "01be706c-a41a-47a6-9d2f-d9e61b71ec8d",
   "metadata": {},
   "outputs": [
    {
     "name": "stdout",
     "output_type": "stream",
     "text": [
      "        0   1       2\n",
      "0   Alice  25  Female\n",
      "1     Bob  30    Male\n",
      "2  Claire  27  Female\n"
     ]
    }
   ],
   "source": [
    "name = [\"Alice\",  \"Bob\", \"Claire\"]\n",
    "age = [25, 30, 27]\n",
    "gender = [\"Female\", \"Male\", \"Female\"]\n",
    "\n",
    "s1 = pd.Series(name)\n",
    "s2 = pd.Series(age)\n",
    "s3 = pd.Series(gender)\n",
    "\n",
    "df_from_series = pd.concat([s1,s2,s3], axis=1)\n",
    "print(df_from_series)"
   ]
  },
  {
   "cell_type": "code",
   "execution_count": null,
   "id": "2fb8293e-071c-4426-b1c3-74abaf0e9f8c",
   "metadata": {},
   "outputs": [],
   "source": []
  }
 ],
 "metadata": {
  "kernelspec": {
   "display_name": "Python 3 (ipykernel)",
   "language": "python",
   "name": "python3"
  },
  "language_info": {
   "codemirror_mode": {
    "name": "ipython",
    "version": 3
   },
   "file_extension": ".py",
   "mimetype": "text/x-python",
   "name": "python",
   "nbconvert_exporter": "python",
   "pygments_lexer": "ipython3",
   "version": "3.10.8"
  }
 },
 "nbformat": 4,
 "nbformat_minor": 5
}
