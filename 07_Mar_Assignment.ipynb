{
 "cells": [
  {
   "cell_type": "markdown",
   "id": "7b21bf36-878c-48a5-922f-deee38423ad8",
   "metadata": {},
   "source": [
    "### Q1. What are the three measures of central tendency?"
   ]
  },
  {
   "cell_type": "markdown",
   "id": "8e0711f9-4283-4c94-88ac-ef81629b1f31",
   "metadata": {},
   "source": [
    "Ans\n",
    "##### *Central tendency*\n",
    "1. Mean: average of data values\n",
    "    - Formulae: Mean = Summation of all the data elements / Total number of data element\n",
    "2. Median: “middle value” or the average of “middle two values” in a data set when the numbers are arranged in an order.\n",
    "    - Steps for find Median:\n",
    "            a. Sort the data in the acending order\n",
    "            b. Compute the average of two middle numbers if the ‘n’(Total number of data elements) is an even number else If the ‘n’ is an odd number, then find the middle value after sorting the numbers in an order\n",
    "3. Mode: value that occurs with greatest frequency\n",
    "    - Steps to find Mode:\n",
    "            a. Find the elements that has occured in the dataset for the most number of time."
   ]
  },
  {
   "cell_type": "code",
   "execution_count": null,
   "id": "7fa8f806-3fad-4f3e-91d2-726d6f651419",
   "metadata": {},
   "outputs": [],
   "source": []
  },
  {
   "cell_type": "markdown",
   "id": "0969b4b0-3780-4ebb-a739-a84555dd2c80",
   "metadata": {},
   "source": [
    "### Q2. What is the difference between the mean, median, and mode? How are they used to measure the central tendency of a dataset?"
   ]
  },
  {
   "cell_type": "markdown",
   "id": "8f810225-a658-4429-bfc6-69884d129e23",
   "metadata": {},
   "source": [
    "Ans.\n",
    "1. Mean is the average of all the data values.\n",
    "2. Median is the middle value or the average of the middle two values in the dataset when the nuumbers are arranged in ascending order.\n",
    "3. Mode is the value that occurs with the greatest frequency in the dataset.\n",
    "\n",
    "Depending upon the relationship between mean, median and mode we can determine the skewness of the given dataset.\n",
    "- If mean = median = mode, then the given dataset is symmetrically aligned data with zero skewness.\n",
    "- If mean < median < mode, then the given dataest is asymmetric data with left skewed dsitributuon.\n",
    "- If mean > median > mode, then the given dataset is asymmetric data with right skewed distribution."
   ]
  },
  {
   "cell_type": "code",
   "execution_count": null,
   "id": "c4402d8e-999b-463f-b301-0fdf033e28bc",
   "metadata": {},
   "outputs": [],
   "source": []
  },
  {
   "cell_type": "markdown",
   "id": "1b04aebb-bd96-41cd-802e-156c4285cb2b",
   "metadata": {},
   "source": [
    "### Q3. Measure the three measures of central tendency for the given height data:\n",
    "\n",
    " [178,177,176,177,178.2,178,175,179,180,175,178.9,176.2,177,172.5,178,176.5]"
   ]
  },
  {
   "cell_type": "code",
   "execution_count": 30,
   "id": "cb9d2b69-828d-4380-b766-36aec5870bc4",
   "metadata": {},
   "outputs": [
    {
     "name": "stdout",
     "output_type": "stream",
     "text": [
      "Mean is 177.01875\n",
      "Median is 177.0\n",
      "Mode is 177.0 and the frequency is 3\n"
     ]
    }
   ],
   "source": [
    "import numpy as np\n",
    "from scipy import stats\n",
    "\n",
    "lst_Q3 = [178,177,176,177,178.2,178,175,179,180,175,178.9,176.2,177,172.5,178,176.5]\n",
    "mean = np.mean(lst_Q3)\n",
    "median = np.median(lst_Q3)\n",
    "mode_result  = stats.mode(lst_Q3, keepdims=False)\n",
    "mode = mode_result[0]\n",
    "mode_count = mode_result[1]\n",
    "\n",
    "print(f'''Mean is {mean}\n",
    "Median is {median}\n",
    "Mode is {mode} and the frequency is {mode_count}''')"
   ]
  },
  {
   "cell_type": "code",
   "execution_count": null,
   "id": "20ef8ca7-c7be-4d5a-a892-c043ee72c853",
   "metadata": {},
   "outputs": [],
   "source": []
  },
  {
   "cell_type": "markdown",
   "id": "41fffc10-d326-46b7-906b-2056cb92fec9",
   "metadata": {},
   "source": [
    "### Q4. Find the standard deviation for the given data:\n",
    "\n",
    "[178,177,176,177,178.2,178,175,179,180,175,178.9,176.2,177,172.5,178,176.5]"
   ]
  },
  {
   "cell_type": "code",
   "execution_count": 34,
   "id": "9fd3ce43-6dd8-4cfc-ac0a-28660e993f41",
   "metadata": {},
   "outputs": [
    {
     "name": "stdout",
     "output_type": "stream",
     "text": [
      "Variance is 3.199023437500001\n",
      "Standard Deviation is 1.7885814036548633\n"
     ]
    }
   ],
   "source": [
    "import numpy as np\n",
    "\n",
    "lst_Q4 = [178,177,176,177,178.2,178,175,179,180,175,178.9,176.2,177,172.5,178,176.5]\n",
    "\n",
    "standard_deviation = np.std(lst_Q4)\n",
    "variance = np.var(lst_Q4)\n",
    "\n",
    "print(f'''Variance is {variance}\n",
    "Standard Deviation is {standard_deviation}''')"
   ]
  },
  {
   "cell_type": "code",
   "execution_count": null,
   "id": "61c58c4d-8171-490f-ac6b-e582b00a2e72",
   "metadata": {},
   "outputs": [],
   "source": []
  },
  {
   "cell_type": "markdown",
   "id": "d80f1f79-6c78-4b41-89f4-2349b8eeb087",
   "metadata": {},
   "source": [
    "### Q5. How are measures of dispersion such as range, variance, and standard deviation used to describe the spread of a dataset? Provide an example."
   ]
  },
  {
   "cell_type": "markdown",
   "id": "386f8abb-7bc1-45a2-98bd-9cfb7d00c053",
   "metadata": {},
   "source": [
    "Ans. \n",
    "1. Standard Deviation: measure of how much data values are deviated away from mean.\n",
    "    - Steps to find the Standard Deviation:\n",
    "        - Compute the mean for the given dataset\n",
    "        - Find x - mean for every elements, considering x be the variable element\n",
    "        - Find the square for each individual value from step b.\n",
    "        - Calculate the sum of all of the squares\n",
    "        - Divide the sum by the number of values N, or n-1 (n or N, denotes the number of values in the sample)\n",
    "        - Compute the square root of the number from step e.\n",
    "2. Variance: square of standard deviation\n",
    "3. Range: : difference between the maximum value and the minimum value in a data set, \n",
    "    - Formulae: Range = maximum value – minimum value"
   ]
  },
  {
   "cell_type": "code",
   "execution_count": 39,
   "id": "3538f0b3-6be6-4c70-b218-7d1499192a76",
   "metadata": {},
   "outputs": [],
   "source": [
    "# example for measure of dispersion\n",
    "import seaborn as sns\n",
    "\n",
    "df = sns.load_dataset(\"taxis\")"
   ]
  },
  {
   "cell_type": "code",
   "execution_count": 40,
   "id": "2cff87af-8f55-4c65-92d7-9f713d4c1931",
   "metadata": {},
   "outputs": [
    {
     "name": "stderr",
     "output_type": "stream",
     "text": [
      "/tmp/ipykernel_70/1568254755.py:1: FutureWarning: The default value of numeric_only in DataFrame.var is deprecated. In a future version, it will default to False. In addition, specifying 'numeric_only=None' is deprecated. Select only valid columns or specify the value of numeric_only to silence this warning.\n",
      "  df.var()\n"
     ]
    },
    {
     "data": {
      "text/plain": [
       "passengers      1.449058\n",
       "distance       14.652566\n",
       "fare          133.444182\n",
       "tip             5.995444\n",
       "tolls           2.002982\n",
       "total         190.869976\n",
       "dtype: float64"
      ]
     },
     "execution_count": 40,
     "metadata": {},
     "output_type": "execute_result"
    }
   ],
   "source": [
    "df.var()"
   ]
  },
  {
   "cell_type": "code",
   "execution_count": 41,
   "id": "8d513a02-ab51-4757-99ff-0a9e3baff6f7",
   "metadata": {},
   "outputs": [
    {
     "name": "stderr",
     "output_type": "stream",
     "text": [
      "/tmp/ipykernel_70/3390915376.py:1: FutureWarning: The default value of numeric_only in DataFrame.std is deprecated. In a future version, it will default to False. In addition, specifying 'numeric_only=None' is deprecated. Select only valid columns or specify the value of numeric_only to silence this warning.\n",
      "  df.std()\n"
     ]
    },
    {
     "data": {
      "text/plain": [
       "pickup        8 days 21:26:32.294630561\n",
       "dropoff       8 days 21:26:25.435073709\n",
       "passengers                     1.203768\n",
       "distance                       3.827867\n",
       "fare                          11.551804\n",
       "tip                             2.44856\n",
       "tolls                          1.415267\n",
       "total                          13.81557\n",
       "dtype: object"
      ]
     },
     "execution_count": 41,
     "metadata": {},
     "output_type": "execute_result"
    }
   ],
   "source": [
    "df.std()"
   ]
  },
  {
   "cell_type": "code",
   "execution_count": 42,
   "id": "227493c4-9c87-46e7-9c55-d09f0c4d4368",
   "metadata": {},
   "outputs": [],
   "source": [
    "desc = df.describe()\n",
    "range_taxis = desc.loc[\"max\"] - desc.loc[\"min\"]"
   ]
  },
  {
   "cell_type": "code",
   "execution_count": 43,
   "id": "7fe53d2a-3b17-43b8-b0db-484f763b3213",
   "metadata": {},
   "outputs": [
    {
     "data": {
      "text/plain": [
       "passengers      6.00\n",
       "distance       36.70\n",
       "fare          149.00\n",
       "tip            33.20\n",
       "tolls          24.02\n",
       "total         173.52\n",
       "dtype: float64"
      ]
     },
     "execution_count": 43,
     "metadata": {},
     "output_type": "execute_result"
    }
   ],
   "source": [
    "range_taxis"
   ]
  },
  {
   "cell_type": "code",
   "execution_count": null,
   "id": "1a3c7da7-5e43-4738-8b16-d0f2037ad056",
   "metadata": {},
   "outputs": [],
   "source": []
  },
  {
   "cell_type": "markdown",
   "id": "5edd4237-6a36-45ee-ba4b-b275f4d12fcc",
   "metadata": {},
   "source": [
    "### Q6. What is a Venn diagram?"
   ]
  },
  {
   "cell_type": "markdown",
   "id": "cd6ac8be-8c21-48df-9e3a-65d9d224bce9",
   "metadata": {},
   "source": [
    "Ans. A **Venn diagram** uses overlapping circles or other shapes to illustrate the logical relationships between two or more sets of items. Often, they serve to graphically organize things, highlighting how the items are similar and different. \n",
    "\n",
    "**Venn diagram purpose and benefits**:\n",
    "- To visually organize information to see the relationship between sets of items, such as commonalities and differences. Students and professionals can use them to think through the logic behind a concept and to depict the relationships for visual communication. This purpose can range from elementary to highly advanced.\n",
    "- To compare two or more choices and clearly see what they have in common versus what might distinguish them. This might be done for selecting an important product or service to buy.\n",
    "- To solve complex mathematical problems. Assuming you’re a mathematician, of course.\n",
    "- To compare data sets, find correlations and predict probabilities of certain occurrences.\n",
    "- To reason through the logic behind statements or equations, such as the Boolean logic behind a word search involving “or” and “and” statements and how they’re grouped."
   ]
  },
  {
   "cell_type": "code",
   "execution_count": null,
   "id": "a3e1329d-2053-4542-a52c-85c4fed03c14",
   "metadata": {},
   "outputs": [],
   "source": []
  },
  {
   "cell_type": "markdown",
   "id": "4a2d1fec-c212-4cc4-8ad3-3257653eb4d7",
   "metadata": {},
   "source": [
    "### Q7. For the two given sets A = (2,3,4,5,6,7) & B = (0,2,6,8,10). Find:\n",
    "\n",
    "1. A Intersection B\n",
    "2. A Union B"
   ]
  },
  {
   "cell_type": "code",
   "execution_count": 5,
   "id": "700c7778-2b26-40f8-bb16-e93b49cdac7f",
   "metadata": {},
   "outputs": [
    {
     "name": "stdout",
     "output_type": "stream",
     "text": [
      "Intersection of A and B is {2, 6}\n",
      "Union of A and B is {0, 2, 3, 4, 5, 6, 7, 8, 10}\n"
     ]
    }
   ],
   "source": [
    "A = set((2,3,4,5,6,7))\n",
    "B = set((0,2,6,8,10))\n",
    "\n",
    "# A Intersection B\n",
    "inter_section = A.intersection(B)\n",
    "print(f\"Intersection of A and B is {inter_section}\")\n",
    "\n",
    "# A Union B\n",
    "union_dataset = A.union(B)\n",
    "print(f\"Union of A and B is {union_dataset}\")"
   ]
  },
  {
   "cell_type": "code",
   "execution_count": null,
   "id": "d80383af-c39a-4a94-b6b5-2112fb7dec12",
   "metadata": {},
   "outputs": [],
   "source": []
  },
  {
   "cell_type": "markdown",
   "id": "7c3604f5-4a63-47c7-8506-166237240dbc",
   "metadata": {},
   "source": [
    "### Q8. What do you understand about skewness in data?"
   ]
  },
  {
   "cell_type": "markdown",
   "id": "80dad995-0ef7-4539-9b09-7a177f3e5719",
   "metadata": {},
   "source": [
    "Ans. Skewness is a measurement of the distortion of symmetrical distribution or asymmetry in a data set. Skewness is demonstrated on a bell curve when data points are not distributed symmetrically to the left and right sides of the median on a bell curve. If the bell curve is shifted to the left or the right, it is said to be skewed. Skewness can be quantified as a representation of the extent to which a given distribution varies from a normal distribution. A normal distribution has a zero skew, while a lognormal distribution, for example, would exhibit some right skew.\n",
    "\n",
    "Skewness tells us the direction of outliers. In a positive skew, the tail of a distribution curve is longer on the right side. This means the outliers of the distribution curve are further out towards the right and closer to the mean on the left. Skewness does not inform on the number of outliers; it only communicates the direction of outliers. Skewness is simply a reflection of a data set in which activity is heavily condensed in one range and less condensed in another. Imagine scores being measured at an Olympic long jump contest. Many jumpers will likely land larger distances, while a fewer amount will likely land short distances. This often creates a right-skewed distribution. Therefore, the relationship between the data points and how often they occur causes skewness."
   ]
  },
  {
   "cell_type": "code",
   "execution_count": null,
   "id": "5425f594-048c-409c-9237-ff03e4c21797",
   "metadata": {},
   "outputs": [],
   "source": []
  },
  {
   "cell_type": "markdown",
   "id": "b8cca927-b6a2-4c35-b612-e11428fe3da1",
   "metadata": {},
   "source": [
    "### Q9. If a data is right skewed then what will be the position of median with respect to mean?"
   ]
  },
  {
   "cell_type": "markdown",
   "id": "e5b963dd-ac0f-4e26-a608-4c14ee0ac357",
   "metadata": {},
   "source": [
    "Ans. If the distribution of data is skewed to the right, the mode is often less than the median, which is less than the mean."
   ]
  },
  {
   "attachments": {
    "3860637e-8183-4d12-88d5-21726c21fa33.png": {
     "image/png": "[encoded data removed]"
    }
   },
   "cell_type": "markdown",
   "id": "7b600b93-2c84-4b52-8b29-2ee657d20e1b",
   "metadata": {},
   "source": [
    "##### Right Skewed Bell curve\n",
    "\n",
    "![image.png](attachment:3860637e-8183-4d12-88d5-21726c21fa33.png)"
   ]
  },
  {
   "cell_type": "code",
   "execution_count": null,
   "id": "672a784e-67f3-46e3-935e-17271dbbfba3",
   "metadata": {},
   "outputs": [],
   "source": []
  },
  {
   "cell_type": "markdown",
   "id": "340e24b3-54b7-46a6-add1-e014e81a489c",
   "metadata": {},
   "source": [
    "###  Q10. Explain the difference between covariance and correlation. How are these measures used in statistical analysis?"
   ]
  },
  {
   "cell_type": "markdown",
   "id": "8cc60bfc-f77a-4cfc-8d24-5b74521e2a94",
   "metadata": {},
   "source": [
    "Ans. Covariance and correlation are two terms that are opposed and are both used in statistics and regression analysis. Covariance shows you how the two variables differ, whereas correlation shows you how the two variables are related.\n",
    "\n",
    "| Correlation | Covariance |\n",
    "|     -       |    -       |\n",
    "| 1. Correlation shows you how the two variables are related. | 1. Covariance shows you how the two variables differ. |\n",
    "| 2. Measures the strength of variables under comparison. | 2. Measure the extent of change in one with regards to change in another. |\n",
    "| 3. Correlattion is a scaled down version of the covariance. | 3. Covariance is considered as the part of Correlation. |\n",
    "| 4. Values here lies between -1 to +1. | 4. Values here lies between -infinity to +infinity. |\n",
    "| 5. Correlation is a unit free measurement. | 5. Covariance value is the product of the units of the variables. |\n",
    "| 6. There would be no change in correlation due to scale. | 6. Any change in scale affects covariance. |"
   ]
  },
  {
   "cell_type": "code",
   "execution_count": null,
   "id": "37df87cf-8da6-49d1-be65-4690fbc7f6e8",
   "metadata": {},
   "outputs": [],
   "source": []
  },
  {
   "cell_type": "markdown",
   "id": "7c86ed85-c563-4148-a5a1-1edcf5bfb315",
   "metadata": {},
   "source": [
    "### Q11. What is the formula for calculating the sample mean? Provide an example calculation for a dataset."
   ]
  },
  {
   "cell_type": "markdown",
   "id": "60963ced-4a07-4b00-8be4-6626a2aed16b",
   "metadata": {},
   "source": [
    "Ans. Formulae for Sample mean is:\n",
    "s = ( Total of all the values in the dataset / Total no. of values in the dataset"
   ]
  },
  {
   "cell_type": "code",
   "execution_count": 8,
   "id": "559f02ae-10d0-4e70-827c-1076ab10ab46",
   "metadata": {},
   "outputs": [
    {
     "name": "stdout",
     "output_type": "stream",
     "text": [
      "Mean is 3.0\n"
     ]
    }
   ],
   "source": [
    "# example for mean\n",
    "x = [1,2,3,4,5] # suppose x is dataset with some random values\n",
    "s = (1+2+3+4+5)/5\n",
    "print(f\"Mean is {s}\")"
   ]
  },
  {
   "cell_type": "code",
   "execution_count": null,
   "id": "f5472d3f-0eff-455f-b1d0-b21af46622c7",
   "metadata": {},
   "outputs": [],
   "source": []
  },
  {
   "cell_type": "markdown",
   "id": "a4674502-ee0f-4b7f-9d7c-70f4693b4203",
   "metadata": {},
   "source": [
    "### Q12. For a normal distribution data what is the relationship between its measure of central tendency?"
   ]
  },
  {
   "cell_type": "markdown",
   "id": "7a2f31d2-a761-41d5-a3be-edd9a1fa619f",
   "metadata": {},
   "source": [
    "Ans. In a normal distribution, data are symmetrically distributed with no skew. Most values cluster around a central region, with values tapering off as they go further away from the center. The measures of central tendency (mean, mode, and median) are exactly the same in a normal distribution."
   ]
  },
  {
   "cell_type": "code",
   "execution_count": null,
   "id": "b3b18175-0e02-4a29-abb5-4b3580fb5b4f",
   "metadata": {},
   "outputs": [],
   "source": []
  },
  {
   "cell_type": "markdown",
   "id": "65694e80-30c2-41a6-b43b-d1a95c76b358",
   "metadata": {},
   "source": [
    "### Q13. How is covariance different from correlation?"
   ]
  },
  {
   "cell_type": "markdown",
   "id": "b74f9de8-746c-4cb6-b6f9-bd6d56bc81e7",
   "metadata": {},
   "source": [
    "Ans.\n",
    "| Correlation | Covariance |\n",
    "|     -       |    -       |\n",
    "| 1. Correlation shows you how the two variables are related. | 1. Covariance shows you how the two variables differ. |\n",
    "| 2. Measures the strength of variables under comparison. | 2. Measure the extent of change in one with regards to change in another. |\n",
    "| 3. Correlattion is a scaled down version of the covariance. | 3. Covariance is considered as the part of Correlation. |\n",
    "| 4. Values here lies between -1 to +1. | 4. Values here lies between -infinity to +infinity. |\n",
    "| 5. Correlation is a unit free measurement. | 5. Covariance value is the product of the units of the variables. |\n",
    "| 6. There would be no change in correlation due to scale. | 6. Any change in scale affects covariance. |"
   ]
  },
  {
   "cell_type": "code",
   "execution_count": null,
   "id": "d1441837-b128-458e-9bac-81ddce59af5c",
   "metadata": {},
   "outputs": [],
   "source": []
  },
  {
   "cell_type": "markdown",
   "id": "d8850916-fddf-49ae-973e-eef978691c13",
   "metadata": {},
   "source": [
    "### Q14. How do outliers affect measures of central tendency and dispersion? Provide an example."
   ]
  },
  {
   "cell_type": "markdown",
   "id": "f26e17fc-6b3c-428c-970d-90f328414142",
   "metadata": {},
   "source": [
    "Ans. \n",
    "1. *Effect of Outliers on range and standard deviation/Variance*: The inclusion of outliers increases the spread of data, leading to larger range and standard deviation. Conversely, removing outliers decreases the spread of data, leading to smaller range and standard deviation.\n",
    "\n",
    "2. *Effect on Mean*: An outlier can significantly skew the mean of a data set. For example, consider the data set {3,5,7,7,10,100}, 100 is an outlier; it is significantly larger than the other values in the data set. If we include the 100, the mean of the dataset is 22. Notice that the mean, 22 is greater than 5 of the 6 values in the dataset! If we remove the 100, the mean of the remaining value is 6.4\n",
    "    - The removal of an outlier is guaranteed to change the mean:\n",
    "        - If a very large outlier is removed, the mean of the remaining values will decrease.\n",
    "        - If a very small outlier is removed, the mean of the remaining values will increase.\n",
    "\n",
    "3. *Effect on Median*: The median of the dataset {3,5,7,7,10,100} is 7, and if we remove the outlier 100 the median remains the same that is 7. Because the median is based on the middle values of a data set, an outlier does not affect the median of a data set as strongly as it affects the mean. As such, the removal of an outlier can still change the median, but that change is not guaranteed.\n",
    "    - If a very large outlier is removed, the median of the remaining value will either decrease or remain the same.\n",
    "    - If a very small outlier is removed, the median of the remaining value will either increase or remain the same.\n",
    "\n",
    "4. *Effect on Mode*: As mode is the value with the highest frequency in the dataset, therefore addition and removal of outlier doesn't have greater impact on the Mode as well."
   ]
  },
  {
   "cell_type": "code",
   "execution_count": null,
   "id": "6d9e9d67-fb6d-45bf-af13-178f5e6b7d0e",
   "metadata": {},
   "outputs": [],
   "source": []
  }
 ],
 "metadata": {
  "kernelspec": {
   "display_name": "Python 3 (ipykernel)",
   "language": "python",
   "name": "python3"
  },
  "language_info": {
   "codemirror_mode": {
    "name": "ipython",
    "version": 3
   },
   "file_extension": ".py",
   "mimetype": "text/x-python",
   "name": "python",
   "nbconvert_exporter": "python",
   "pygments_lexer": "ipython3",
   "version": "3.10.8"
  }
 },
 "nbformat": 4,
 "nbformat_minor": 5
}
