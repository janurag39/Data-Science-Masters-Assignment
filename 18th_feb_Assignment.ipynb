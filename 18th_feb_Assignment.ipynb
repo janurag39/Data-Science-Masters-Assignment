{
 "cells": [
  {
   "cell_type": "markdown",
   "id": "c9cde070-eb56-430a-ab58-a2e964e7e19c",
   "metadata": {},
   "source": [
    "### Q1. What is an API? Give an example, where an API is used in real life."
   ]
  },
  {
   "cell_type": "markdown",
   "id": "13f338ef-2718-4922-a2e3-ebb3c3c268b3",
   "metadata": {},
   "source": [
    "Ans. APIs are mechanisms that enable two software components to communicate with each other using a set of definitions and protocols. API stands for Application Programming Interface. In the context of APIs, the word Application refers to any software with a distinct function. Interface can be thought of as a contract of service between two applications. This contract defines how the two communicate with each other using requests and responses.\n",
    "\n",
    "For example, the weather bureau’s software system contains daily weather data. The weather app on your phone “talks” to this system via APIs and shows you daily weather updates on your phone.\n"
   ]
  },
  {
   "cell_type": "code",
   "execution_count": null,
   "id": "9242974a-824b-4184-afb9-0e29481081ad",
   "metadata": {},
   "outputs": [],
   "source": []
  },
  {
   "cell_type": "markdown",
   "id": "899378fe-c371-4a16-8910-be4adbab4eca",
   "metadata": {
    "tags": []
   },
   "source": [
    "### Q2. Give advantages and disadvantages of using API. "
   ]
  },
  {
   "cell_type": "markdown",
   "id": "211a027c-6d43-4601-91a2-6e3d6bb6c9c0",
   "metadata": {},
   "source": [
    "Ans.\n",
    "The main advantage of providing an API is that it allows your users to do more with your product or service (i.e. it increases the value of your product). This typically takes one of two forms:\n",
    "- An integration: An example of an integration is to push notifications from your product (such as CRM, Helpdesk) to a messaging tool such as Slack. In this way, if your customer uses Slack they can receive notifications without having to login directly to your system or check emails.\n",
    "- New functionality: In the early days of Twitter, some of the most popular Twitter clients were produced by third parties using the Twitter API. Twitter and its users benefited from the new functionality that was undertaken by other companies.\n",
    "\n",
    "Disadvantages:\n",
    "- Cost: Providing an API is expensive in terms of development time, ongoing maintenance, providing API documentation on your website and providing support to users of your API.\n",
    "- Security exposure: Adding an API adds another attack surface to your website."
   ]
  },
  {
   "cell_type": "code",
   "execution_count": null,
   "id": "ccda7b2d-1ad5-4f5c-8071-6eaec00fa215",
   "metadata": {},
   "outputs": [],
   "source": []
  },
  {
   "cell_type": "markdown",
   "id": "baaf82d3-d5fa-49ae-b9a2-b7667df23627",
   "metadata": {},
   "source": [
    "### Q3. What is a Web API? Differentiate between API and Web API."
   ]
  },
  {
   "cell_type": "markdown",
   "id": "e601c3cd-2823-46d1-be66-45ef95114b7b",
   "metadata": {},
   "source": [
    "Ans. Web API can be accessed over the web using HTTP protocol. It is a framework that helps you to create and develop HTTP based RESTFUL services. Web API is used in either a web service or a web browser.\n",
    "\n",
    "Difference between API and Web API:\n",
    "- Web API is a collection of open source protocols and standards used for exchanging data between systems or applications, whereas API is a software interface that allows two applications to interact with each other without any user involvement.\n",
    "- Web API is used for REST, SOAP and XML-RPC for communication, While API is used for any style of communication.\n",
    "- Web api supports only HTTP protocol, whereas API supports HTTP/HTTPS Protocol.\n",
    "- Web api supports XML, While API supports XML and JSON."
   ]
  },
  {
   "cell_type": "code",
   "execution_count": null,
   "id": "221607a0-a80d-49bb-8876-e393d672d974",
   "metadata": {},
   "outputs": [],
   "source": []
  },
  {
   "cell_type": "markdown",
   "id": "17ed98cc-4366-4bc3-a80b-763dc5ace5bf",
   "metadata": {},
   "source": [
    "### Q4. Explain REST and SOAP Architecture. Mention shortcomings of SOAP."
   ]
  },
  {
   "cell_type": "markdown",
   "id": "f3d642e4-77fe-4dea-b635-f27c0e623ad3",
   "metadata": {},
   "source": [
    "Ans. **REST Architecture**: REST stands for Representational State Transfer. REST is a software architectural style that defines the set of rules to be used for creating web services. web services which follow REST architecture style are known as RESTful web services. It allows requesting system to access and manipulate web resources by using a uniform and predefined set of rules. Interaction in REST based systems happen through HTTP.\n",
    "\n",
    "A REST system consist of:\n",
    "- Client who request for the resources.\n",
    "- Server who has the resources.\n",
    "\n",
    "Architectural constraint of RESTful API:\n",
    "- Uniform Interface\n",
    "- Stateles\n",
    "- Cacheable\n",
    "- Client-Server\n",
    "- Layered System\n",
    "- Code on Demand (Optional constraint)\n",
    "\n",
    "**SOAP**: **SOAP**: Simple Object Access Protocol(SOAP) is a network protocol for exchanging structured data between nodes. It uses XML format to transfer messages. It works on top of application layer protocols like HTML and SMTP for notations and transmission. SOAP allows processes to communicate throughout platforms, languages and operating systems, since protocols like HTTP are already installed on all platforms.\n",
    "\n",
    "Shortcoming of SOAP:\n",
    "- SOAP is used only XML format data in web service, whereas JSON and other lightweight formats are not supported by it.\n",
    "- It is slow because it uses XML format, whereas the payload for a simple string message is large.\n",
    "- There are no security features in the SOAP specification.\n",
    "- There is no state reference for the remote object in the SOAP client."
   ]
  },
  {
   "cell_type": "markdown",
   "id": "9f4221bd-574f-4244-a7dd-38f7c015bcf9",
   "metadata": {},
   "source": [
    "### Q5. Differentiate between REST and SOAP.\n"
   ]
  },
  {
   "cell_type": "markdown",
   "id": "4010bcee-e0c5-455f-ab12-482601b4e781",
   "metadata": {},
   "source": [
    "Ans.\n",
    "- SOAP stands for Simple Object Access Protocol whereas REST stands for Representational State Transfer.\n",
    "- SOAP is a protocol whereas REST is an architectural pattern.\n",
    "- SOAP uses service interfaces to expose its functionality to client applications while REST uses Uniform Service locators to access to the components on the hardware device.\n",
    "- SOAP needs more bandwidth for its usage whereas REST doesn’t need much bandwidth.\n",
    "- Comparing SOAP vs REST API, SOAP only works with XML formats whereas REST work with plain text, XML, HTML and JSON.\n",
    "- SOAP cannot make use of REST whereas REST can make use of SOAP."
   ]
  },
  {
   "cell_type": "code",
   "execution_count": null,
   "id": "8faabf1c-c53f-4666-99e0-2b1e92bf1812",
   "metadata": {},
   "outputs": [],
   "source": []
  }
 ],
 "metadata": {
  "kernelspec": {
   "display_name": "Python 3 (ipykernel)",
   "language": "python",
   "name": "python3"
  },
  "language_info": {
   "codemirror_mode": {
    "name": "ipython",
    "version": 3
   },
   "file_extension": ".py",
   "mimetype": "text/x-python",
   "name": "python",
   "nbconvert_exporter": "python",
   "pygments_lexer": "ipython3",
   "version": "3.10.8"
  }
 },
 "nbformat": 4,
 "nbformat_minor": 5
}
