{
 "cells": [
  {
   "cell_type": "markdown",
   "metadata": {},
   "source": [
    "### Q1. Pearson correlation coefficient is a measure of the linear relationship between two variables. Suppose you have collected data on the amount of time students spend studying for an exam and their final exam scores. Calculate the Pearson correlation coefficient between these two variables and interpret the result."
   ]
  },
  {
   "cell_type": "markdown",
   "metadata": {},
   "source": [
    "Ans. To calculate the Pearson correlation coefficient between the amount of time students spend studying for an exam and their final exam scores, you can use the following formula:\n",
    "\n",
    "\\[ r = \\frac{{\\sum (x_i - \\bar{x})(y_i - \\bar{y})}}{{\\sqrt{\\sum (x_i - \\bar{x})^2 \\sum (y_i - \\bar{y})^2}}} \\]\n",
    "\n",
    "Where:\n",
    "- \\( r \\) is the Pearson correlation coefficient.\n",
    "- \\( x_i \\) and \\( y_i \\) are the individual data points for the two variables.\n",
    "- \\( \\bar{x} \\) and \\( \\bar{y} \\) are the means of the two variables.\n",
    "\n",
    "Here's an example Python code using NumPy to calculate the Pearson correlation coefficient:\n",
    "\n",
    "```python\n",
    "import numpy as np\n",
    "\n",
    "# Sample data for demonstration purposes\n",
    "study_time = [5, 8, 10, 3, 7]  # Hours spent studying\n",
    "exam_scores = [70, 85, 90, 60, 80]  # Final exam scores\n",
    "\n",
    "# Calculate the means of the variables\n",
    "mean_study_time = np.mean(study_time)\n",
    "mean_exam_scores = np.mean(exam_scores)\n",
    "\n",
    "# Calculate the numerator of the correlation coefficient\n",
    "numerator = np.sum((np.array(study_time) - mean_study_time) * (np.array(exam_scores) - mean_exam_scores))\n",
    "\n",
    "# Calculate the denominators of the correlation coefficient\n",
    "denominator_study = np.sqrt(np.sum((np.array(study_time) - mean_study_time) ** 2))\n",
    "denominator_scores = np.sqrt(np.sum((np.array(exam_scores) - mean_exam_scores) ** 2))\n",
    "\n",
    "# Calculate the correlation coefficient\n",
    "pearson_corr_coefficient = numerator / (denominator_study * denominator_scores)\n",
    "\n",
    "print(\"Pearson Correlation Coefficient:\", pearson_corr_coefficient)\n",
    "```\n",
    "\n",
    "**Interpretation of Results:**\n",
    "\n",
    "- The Pearson correlation coefficient \\( r \\) ranges from -1 to 1.\n",
    "- A correlation coefficient of 1 indicates a perfect positive linear relationship, meaning that as one variable increases, the other variable increases proportionally.\n",
    "- A correlation coefficient of -1 indicates a perfect negative linear relationship, meaning that as one variable increases, the other variable decreases proportionally.\n",
    "- A correlation coefficient of 0 indicates no linear relationship between the variables.\n",
    "- In this example, if the Pearson correlation coefficient is positive and close to 1, it suggests a strong positive linear relationship between the amount of time students spend studying and their final exam scores. Conversely, if it is negative and close to -1, it suggests a strong negative linear relationship. If it is close to 0, there is little to no linear relationship between the two variables."
   ]
  },
  {
   "cell_type": "markdown",
   "metadata": {},
   "source": []
  },
  {
   "cell_type": "markdown",
   "metadata": {},
   "source": [
    "### Q2. Spearman's rank correlation is a measure of the monotonic relationship between two variables. Suppose you have collected data on the amount of sleep individuals get each night and their overall job satisfaction level on a scale of 1 to 10. Calculate the Spearman's rank correlation between these two variables and interpret the result."
   ]
  },
  {
   "cell_type": "markdown",
   "metadata": {},
   "source": [
    "Ans. To calculate Spearman's rank correlation coefficient between the amount of sleep individuals get each night and their overall job satisfaction level, you can use the following steps:\n",
    "\n",
    "1. Rank the data for each variable separately, from lowest to highest.\n",
    "2. Assign ranks to each data point, with the lowest value receiving a rank of 1, the next lowest a rank of 2, and so on.\n",
    "3. Calculate the difference between the ranks for each pair of corresponding data points.\n",
    "4. Square each of these differences.\n",
    "5. Calculate Spearman's rank correlation coefficient using the formula:\n",
    "\n",
    "\\[ \\rho = 1 - \\frac{{6 \\sum d_i^2}}{{n(n^2 - 1)}} \\]\n",
    "\n",
    "Where:\n",
    "- \\( \\rho \\) is the Spearman's rank correlation coefficient.\n",
    "- \\( d_i \\) is the difference between the ranks of corresponding data points.\n",
    "- \\( n \\) is the number of data points.\n",
    "\n",
    "Here's how you can calculate Spearman's rank correlation coefficient using Python:\n",
    "\n",
    "```python\n",
    "import numpy as np\n",
    "\n",
    "# Sample data for demonstration purposes\n",
    "sleep_hours = [7, 6, 8, 5, 6]\n",
    "job_satisfaction = [8, 6, 9, 4, 7]\n",
    "\n",
    "# Calculate the ranks for each variable\n",
    "sleep_ranks = np.argsort(np.argsort(sleep_hours)) + 1\n",
    "job_satisfaction_ranks = np.argsort(np.argsort(job_satisfaction)) + 1\n",
    "\n",
    "# Calculate the differences between ranks\n",
    "rank_diff = sleep_ranks - job_satisfaction_ranks\n",
    "\n",
    "# Calculate the squared differences\n",
    "squared_diff = rank_diff ** 2\n",
    "\n",
    "# Calculate the Spearman's rank correlation coefficient\n",
    "n = len(sleep_hours)\n",
    "spearman_corr_coefficient = 1 - (6 * np.sum(squared_diff)) / (n * (n**2 - 1))\n",
    "\n",
    "print(\"Spearman's Rank Correlation Coefficient:\", spearman_corr_coefficient)\n",
    "```\n",
    "\n",
    "**Interpretation of Results:**\n",
    "\n",
    "- Spearman's rank correlation coefficient \\( \\rho \\) ranges from -1 to 1.\n",
    "- A correlation coefficient of 1 indicates a perfect monotonic relationship, meaning that as one variable increases, the other variable increases monotonically.\n",
    "- A correlation coefficient of -1 indicates a perfect inverse monotonic relationship, meaning that as one variable increases, the other variable decreases monotonically.\n",
    "- A correlation coefficient of 0 indicates no monotonic relationship between the variables.\n",
    "- In this example, if the Spearman's rank correlation coefficient is positive and close to 1, it suggests a strong positive monotonic relationship between the amount of sleep individuals get each night and their overall job satisfaction level. Conversely, if it is negative and close to -1, it suggests a strong negative monotonic relationship. If it is close to 0, there is little to no monotonic relationship between the two variables."
   ]
  },
  {
   "cell_type": "markdown",
   "metadata": {},
   "source": []
  },
  {
   "cell_type": "markdown",
   "metadata": {},
   "source": [
    "### Q3. Suppose you are conducting a study to examine the relationship between the number of hours of exercise per week and body mass index (BMI) in a sample of adults. You collected data on both variables for 50 participants. Calculate the Pearson correlation coefficient and the Spearman's rank correlation between these two variables and compare the results."
   ]
  },
  {
   "cell_type": "code",
   "execution_count": 1,
   "metadata": {},
   "outputs": [
    {
     "name": "stdout",
     "output_type": "stream",
     "text": [
      "Pearson Correlation Coefficient: 0.8890552073277832\n",
      "Spearman's Rank Correlation Coefficient: 0.8864776381536708\n"
     ]
    }
   ],
   "source": [
    "import numpy as np\n",
    "from scipy.stats import pearsonr, spearmanr\n",
    "\n",
    "# Sample data for demonstration purposes\n",
    "exercise_hours = [3, 5, 2, 4, 6, 1, 5, 2, 3, 4,\n",
    "                  2, 5, 3, 6, 4, 2, 5, 3, 4, 1,\n",
    "                  3, 5, 2, 4, 6, 1, 5, 2, 3, 4,\n",
    "                  2, 5, 3, 6, 4, 2, 5, 3, 4, 1,\n",
    "                  3, 5, 2, 4, 6, 1, 5, 2, 3, 4]\n",
    "\n",
    "bmi = [24, 26, 22, 28, 30, 20, 25, 21, 23, 27,\n",
    "       22, 25, 23, 29, 26, 21, 24, 23, 27, 19,\n",
    "       24, 26, 22, 28, 30, 20, 25, 21, 23, 27,\n",
    "       22, 25, 23, 29, 26, 21, 24, 23, 27, 19,\n",
    "       24, 26, 22, 28, 30, 20, 25, 21, 23, 27]\n",
    "\n",
    "# Calculate Pearson correlation coefficient\n",
    "pearson_corr_coefficient, _ = pearsonr(exercise_hours, bmi)\n",
    "\n",
    "# Calculate Spearman's rank correlation coefficient\n",
    "spearman_corr_coefficient, _ = spearmanr(exercise_hours, bmi)\n",
    "\n",
    "print(\"Pearson Correlation Coefficient:\", pearson_corr_coefficient)\n",
    "print(\"Spearman's Rank Correlation Coefficient:\", spearman_corr_coefficient)"
   ]
  },
  {
   "cell_type": "markdown",
   "metadata": {},
   "source": []
  },
  {
   "cell_type": "markdown",
   "metadata": {},
   "source": [
    "### Q4. A researcher is interested in examining the relationship between the number of hours individuals spend watching television per day and their level of physical activity. The researcher collected data on both variables from a sample of 50 participants. Calculate the Pearson correlation coefficient between these two variables."
   ]
  },
  {
   "cell_type": "code",
   "execution_count": 3,
   "metadata": {},
   "outputs": [
    {
     "name": "stdout",
     "output_type": "stream",
     "text": [
      "Pearson Correlation Coefficient: -0.012651134984231444\n"
     ]
    }
   ],
   "source": [
    "import numpy as np\n",
    "from scipy.stats import pearsonr\n",
    "\n",
    "# Sample data for demonstration purposes\n",
    "tv_hours_per_day = [3, 2, 4, 1, 5, 3, 2, 4, 1, 5,\n",
    "                    3, 2, 4, 1, 5, 3, 2, 4, 1, 5,\n",
    "                    3, 2, 4, 1, 5, 3, 2, 4, 1, 5,\n",
    "                    3, 2, 4, 1, 5, 3, 2, 4, 1, 5,\n",
    "                    3, 2, 4, 1, 5, 3, 2, 4, 1, 5]\n",
    "\n",
    "physical_activity_level = [1, 3, 2, 4, 1, 3, 2, 4, 1, 3,\n",
    "                           2, 4, 1, 3, 2, 4, 1, 3, 2, 4,\n",
    "                           1, 3, 2, 4, 1, 3, 2, 4, 1, 3,\n",
    "                           2, 4, 1, 3, 2, 4, 1, 3, 2, 4,\n",
    "                           1, 3, 2, 4, 1, 3, 2, 4, 1, 3]\n",
    "\n",
    "# Calculate Pearson correlation coefficient\n",
    "pearson_corr_coefficient, _ = pearsonr(tv_hours_per_day, physical_activity_level)\n",
    "\n",
    "print(\"Pearson Correlation Coefficient:\", pearson_corr_coefficient)"
   ]
  },
  {
   "cell_type": "markdown",
   "metadata": {},
   "source": []
  },
  {
   "cell_type": "markdown",
   "metadata": {},
   "source": [
    "### Q5. A survey was conducted to examine the relationship between age and preference for a particular brand of soft drink. The survey results are shown below:"
   ]
  },
  {
   "cell_type": "code",
   "execution_count": 5,
   "metadata": {},
   "outputs": [
    {
     "name": "stdout",
     "output_type": "stream",
     "text": [
      "Pearson Correlation Coefficient: 0.7587035441865055\n",
      "Spearman's Rank Correlation Coefficient: 0.8332380897952965\n"
     ]
    }
   ],
   "source": [
    "import pandas as pd\n",
    "from scipy.stats import pearsonr, spearmanr\n",
    "\n",
    "# Create a DataFrame with the provided data\n",
    "data = {\n",
    "    'Age (Years)': [25, 42, 37, 19, 31, 28],\n",
    "    'Soft drink Preference': ['Coke', 'Pepsi', 'Mountain Dew', 'Coke', 'Pepsi', 'Coke']\n",
    "}\n",
    "\n",
    "df = pd.DataFrame(data)\n",
    "\n",
    "# Map soft drink preferences to numerical values\n",
    "preference_mapping = {'Coke': 0, 'Pepsi': 1, 'Mountain Dew': 2}\n",
    "df['Preference_Numeric'] = df['Soft drink Preference'].map(preference_mapping)\n",
    "\n",
    "# Calculate Pearson correlation coefficient\n",
    "pearson_corr_coefficient, _ = pearsonr(df['Age (Years)'], df['Preference_Numeric'])\n",
    "\n",
    "# Calculate Spearman's rank correlation coefficient\n",
    "spearman_corr_coefficient, _ = spearmanr(df['Age (Years)'], df['Preference_Numeric'])\n",
    "\n",
    "print(\"Pearson Correlation Coefficient:\", pearson_corr_coefficient)\n",
    "print(\"Spearman's Rank Correlation Coefficient:\", spearman_corr_coefficient)"
   ]
  },
  {
   "cell_type": "markdown",
   "metadata": {},
   "source": []
  },
  {
   "cell_type": "markdown",
   "metadata": {},
   "source": [
    "### Q6. A company is interested in examining the relationship between the number of sales calls made per day and the number of sales made per week. The company collected data on both variables from a sample of 30 sales representatives. Calculate the Pearson correlation coefficient between these two variables."
   ]
  },
  {
   "cell_type": "code",
   "execution_count": 6,
   "metadata": {},
   "outputs": [
    {
     "name": "stdout",
     "output_type": "stream",
     "text": [
      "Pearson Correlation Coefficient: 0.9896157270271363\n"
     ]
    }
   ],
   "source": [
    "import numpy as np\n",
    "from scipy.stats import pearsonr\n",
    "\n",
    "# Sample data for demonstration purposes\n",
    "sales_calls_per_day = [20, 25, 30, 15, 18, 22, 28, 17, 19, 21,\n",
    "                       23, 26, 29, 16, 24, 27, 31, 14, 18, 20,\n",
    "                       25, 30, 15, 18, 22, 28, 17, 19, 21, 23]\n",
    "\n",
    "sales_per_week = [100, 120, 140, 80, 90, 110, 130, 85, 95, 105,\n",
    "                   115, 125, 135, 75, 105, 125, 145, 70, 90, 100,\n",
    "                   120, 140, 80, 90, 110, 130, 85, 95, 105, 115]\n",
    "\n",
    "# Calculate Pearson correlation coefficient\n",
    "pearson_corr_coefficient, _ = pearsonr(sales_calls_per_day, sales_per_week)\n",
    "\n",
    "print(\"Pearson Correlation Coefficient:\", pearson_corr_coefficient)"
   ]
  },
  {
   "cell_type": "markdown",
   "metadata": {},
   "source": []
  }
 ],
 "metadata": {
  "kernelspec": {
   "display_name": "Python 3",
   "language": "python",
   "name": "python3"
  },
  "language_info": {
   "codemirror_mode": {
    "name": "ipython",
    "version": 3
   },
   "file_extension": ".py",
   "mimetype": "text/x-python",
   "name": "python",
   "nbconvert_exporter": "python",
   "pygments_lexer": "ipython3",
   "version": "3.8.18"
  }
 },
 "nbformat": 4,
 "nbformat_minor": 2
}
