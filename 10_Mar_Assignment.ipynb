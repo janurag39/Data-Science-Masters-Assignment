{
 "cells": [
  {
   "cell_type": "markdown",
   "id": "3d27a4a3-78cd-4469-b6b1-0ecd2ee2e7c0",
   "metadata": {},
   "source": [
    "### Q1: What is Estimation Statistics? Explain point estimate and interval estimate."
   ]
  },
  {
   "cell_type": "markdown",
   "id": "2dd66a86-a9c6-4219-adbd-78496b471dd4",
   "metadata": {},
   "source": [
    "Ans. **Estimation** is the process by which the numerical value of unknown population values are inferred from incomplete data, such as a sample. \n",
    "- *Point Estimate* - If a single figure is calculated for each unknown parameter, the process is called point estimation. \n",
    "- *Interval Estimate* - If an interval is calculated within which the parameter is likely to occur, in some sense, the process is called interval estimation."
   ]
  },
  {
   "cell_type": "code",
   "execution_count": null,
   "id": "91014538-9416-4901-aa95-ae70a50f8ea2",
   "metadata": {},
   "outputs": [],
   "source": []
  },
  {
   "cell_type": "markdown",
   "id": "cb18edf0-9476-434c-8abe-26bc519a9c97",
   "metadata": {},
   "source": [
    "### Q2. Write a Python function to estimate the population mean using a sample mean and standard deviation."
   ]
  },
  {
   "cell_type": "code",
   "execution_count": 92,
   "id": "dc88a50b-255b-4b46-8ce2-f8448fc7f708",
   "metadata": {},
   "outputs": [],
   "source": [
    "# function for calculate population mean using sample mean and standard deviation\n",
    "\n",
    "import scipy.stats as stat\n",
    "import numpy as np\n",
    "\n",
    "dataset = np.random.normal(loc=160, scale=3, size=1000) # defining a population dataset with normal distribution (population mean = 160 and Std = 3, as it will be easier to compare afterwards)"
   ]
  },
  {
   "cell_type": "code",
   "execution_count": 93,
   "id": "c58a4a5f-4232-4cef-9dd9-4d85e24b1ec6",
   "metadata": {},
   "outputs": [],
   "source": [
    "sample = np.random.choice(dataset, 40)"
   ]
  },
  {
   "cell_type": "code",
   "execution_count": 94,
   "id": "9bd139c0-9d16-4e7a-a2d1-dbd71e47c4b2",
   "metadata": {},
   "outputs": [
    {
     "name": "stdout",
     "output_type": "stream",
     "text": [
      "Sample mean for the sample dataset size of n=40 is 160.04208130464767\n",
      "Sample Standard Deviation for sample dataset size, n=40 is 2.7870071103262175\n"
     ]
    }
   ],
   "source": [
    "# calculating sample mean\n",
    "\n",
    "sample_mean = np.mean(sample)\n",
    "print(f\"Sample mean for the sample dataset size of n=40 is {sample_mean}\")\n",
    "\n",
    "sample_std = np.std(sample)\n",
    "print(f\"Sample Standard Deviation for sample dataset size, n=40 is {sample_std}\")"
   ]
  },
  {
   "cell_type": "markdown",
   "id": "15ae834a-14a8-4616-b372-284ed289c2c9",
   "metadata": {},
   "source": [
    "As, The Sample Mean is 160.04 for sample size, n=40, Therefore we can estimate that the Population Mean would be approx ~ 160.0"
   ]
  },
  {
   "cell_type": "code",
   "execution_count": null,
   "id": "5f580dd2-e8e9-4efb-9636-d86ec453bded",
   "metadata": {},
   "outputs": [],
   "source": []
  },
  {
   "cell_type": "markdown",
   "id": "65469246-51cd-4abe-8c6d-5b561b6292a3",
   "metadata": {},
   "source": [
    "### Q3: What is Hypothesis testing? Why is it used? State the importance of Hypothesis testing."
   ]
  },
  {
   "cell_type": "markdown",
   "id": "dd1b8948-6ea1-4a7e-9194-04f1bbd697d1",
   "metadata": {},
   "source": [
    "Ans. **Hypothesis Testing**: It is an act in statistics whereby an analyst tests an assumption regarding a population parameter. The methodology employed by the analyst depends on the nature of the data used and the reason for the analysis. Hypothesis testing is used to assess the plausibility of a hypothesis by using sample data.\n",
    "\n",
    "**Importance of Hypothesis Testing**\n",
    "1. It ensures the entire research methodologies are scientific and valid.\n",
    "2. It helps to assume the probability of research failure and progress.\n",
    "3. It helps to provide link to the underlying theory and specific research question.\n",
    "4. It helps in data analysis and measure the validity and reliability of the research.\n",
    "5. It provides a basis or evidence to prove the validity of the research.\n",
    "6. It helps to describe research study in concrete terms rather than theoretical terms."
   ]
  },
  {
   "cell_type": "code",
   "execution_count": null,
   "id": "f136dea1-2c57-4137-bc74-68f85fe85404",
   "metadata": {},
   "outputs": [],
   "source": []
  },
  {
   "cell_type": "markdown",
   "id": "5874011c-4e82-4488-8faa-191f66a41adc",
   "metadata": {},
   "source": [
    "### Q4. Create a hypothesis that states whether the average weight of male college students is greater than the average weight of female college students."
   ]
  },
  {
   "cell_type": "markdown",
   "id": "408c5341-7b39-46d6-8cec-a35067dc3257",
   "metadata": {},
   "source": [
    "Ans. \n",
    "- *Null Hypothesis, H0:* Average height of Male student > Average height of Female student\n",
    "- *Alternate Hypothesis, H1:* Average height of Male student != Average height of Female Student"
   ]
  },
  {
   "cell_type": "code",
   "execution_count": null,
   "id": "26dca9aa-fd7f-4d2a-aaa2-7f361c84639d",
   "metadata": {},
   "outputs": [],
   "source": []
  },
  {
   "cell_type": "markdown",
   "id": "32ccbd6f-89a7-4895-8a03-62cbf08ae23e",
   "metadata": {},
   "source": [
    "### Q5. Write a Python script to conduct a hypothesis test on the difference between two population means, given a sample from each population."
   ]
  },
  {
   "cell_type": "code",
   "execution_count": 4,
   "id": "0fd2f44f-76f8-4b3b-ad71-30fc26ac5ae2",
   "metadata": {},
   "outputs": [
    {
     "name": "stdout",
     "output_type": "stream",
     "text": [
      "Basic Statistics from sample data\n",
      "Number of 'a'sample: 30 Number of 'b' sample: 30\n",
      "Sample 'a' mean: 37.6 Sample 'b' mean: 55.8\n",
      "The difference between the two population means is 18.2\n"
     ]
    }
   ],
   "source": [
    "\n",
    "import numpy as np\n",
    "import scipy.stats as stats\n",
    "\n",
    "# considering sample data a and sample data b from the 2 different population\n",
    "signi_val = 0.1\n",
    "sample_a = np.array([13, 130, 39, 33, 68, 10, 13, 18, 3, 11, 9, 70, 30, 19, 26, 15, 22, 5, 60, 23, 38, 59, 58, 67, 8, 20, 167, 3, 86, 5])\n",
    "sample_b = np.array([14, 138, 3, 78, 27, 8, 3, 111, 69, 8, 20, 36, 109, 80, 3, 18, 31, 12, 15, 128, 35, 35, 27, 122, 68, 32, 111, 91, 176, 66])\n",
    "\n",
    "# possible types \"right-tailed, left-tailed, two-tailed\"\n",
    "tail_hypothesis_type = \"two-tailed\"\n",
    "\n",
    "if tail_hypothesis_type == \"two-tailed\":\n",
    "    signi_val /= 2\n",
    "\n",
    "# calculate number of sample for both a and b\n",
    "n1 = len(sample_a)\n",
    "n2 = len(sample_b)\n",
    "\n",
    "# calculate sample mean\n",
    "x1_bar = np.mean(sample_a)\n",
    "x2_bar = np.mean(sample_b)\n",
    "\n",
    "print(\"Basic Statistics from sample data\")\n",
    "print(\"Number of 'a'sample:\", n1, \"Number of 'b' sample:\", n2)\n",
    "print(\"Sample 'a' mean:\", x1_bar, \"Sample 'b' mean:\", x2_bar)\n",
    "\n",
    "# Estimating difference between the Population means, based on sample means\n",
    "if x1_bar > x2_bar:\n",
    "    diff = round((x1_bar - x2_bar),2)\n",
    "    print(f\"The difference between the two population means is {diff}\")\n",
    "else:\n",
    "    diff = round((x2_bar - x1_bar),2)\n",
    "    print(f\"The difference between the two population means is {diff}\")"
   ]
  },
  {
   "cell_type": "code",
   "execution_count": null,
   "id": "1db5c215-99aa-466d-afe3-41669e676d33",
   "metadata": {},
   "outputs": [],
   "source": []
  },
  {
   "cell_type": "markdown",
   "id": "93d417ee-820f-4fc0-aa3f-3d7d90f2de9a",
   "metadata": {},
   "source": [
    "### Q6: What is a null and alternative hypothesis? Give some examples."
   ]
  },
  {
   "cell_type": "markdown",
   "id": "adc594cf-cd84-4904-9e06-efa1724f8795",
   "metadata": {},
   "source": [
    "Ans. The null and alternative hypotheses are two competing claims that researchers weigh evidence for and against using a statistical test:\n",
    "- Null hypothesis (H0): There’s no effect in the population.\n",
    "    - Example: Does tooth flossing affect the number of cavities?\n",
    "        \n",
    "        H0: Tooth flossing has no effect on the number of cavities.\n",
    "        \n",
    "        T-Test: The mean number of cavities per person does not differ between the flossing group (µ1) and the non-flossing group (µ2) in the population; µ1 = µ2.\n",
    "- Alternative hypothesis (Ha or H1): There’s an effect in the population.\n",
    "    The effect is usually the effect of the independent variable on the dependent variable.\n",
    "    - Example: Does tooth flossing affect the number of cavities?\n",
    "        \n",
    "        H1: Tooth flossing has an effect on the number of cavities.\n",
    "        \n",
    "        T-Test: The mean number of cavities per person differs between the flossing group (µ1) and the non-flossing group (µ2) in the population; µ1 ≠ µ2."
   ]
  },
  {
   "cell_type": "code",
   "execution_count": null,
   "id": "d4b7d02d-8db7-449a-bc8b-004c353ecd57",
   "metadata": {},
   "outputs": [],
   "source": []
  },
  {
   "cell_type": "markdown",
   "id": "952a916a-ef60-4fef-9793-f538da9d5be2",
   "metadata": {},
   "source": [
    "### Q7: Write down the steps involved in hypothesis testing."
   ]
  },
  {
   "cell_type": "markdown",
   "id": "6556de44-e23b-4d80-8a4b-23f81f8d2261",
   "metadata": {},
   "source": [
    "Ans. Steps involved in Hypothesis Testing:\n",
    "- Step1: State your research hypothesis as a null hypothesis and alternate hypothesis (Ho) and (Ha or H1).\n",
    "- Step2: Collect data in a way designed to test the hypothesis.\n",
    "- Step3: Perform an appropriate statistical test/Experiments.\n",
    "- Step4: Decide whether to reject or fail to reject your null hypothesis.\n",
    "- Step5: Present the findings in your results and discussion section."
   ]
  },
  {
   "cell_type": "code",
   "execution_count": null,
   "id": "595467ed-3c21-4d07-87f9-d3978d2208d1",
   "metadata": {},
   "outputs": [],
   "source": []
  },
  {
   "cell_type": "markdown",
   "id": "bb1f33bb-be1f-44af-ad70-ecb27a812e5f",
   "metadata": {},
   "source": [
    "### Q8. Define p-value and explain its significance in hypothesis testing."
   ]
  },
  {
   "cell_type": "markdown",
   "id": "7756bfe9-8526-4795-9169-52a3bfee0e01",
   "metadata": {},
   "source": [
    "Ans. The **P-value** is defined as the probability under the assumption of no effect or no difference (null hypothesis), of obtaining a result equal to or more extreme than what was actually observed. The P stands for probability and measures how likely it is that any observed difference between groups is due to chance.\n",
    "\n",
    "**Importance of P-value:**\n",
    "- A p-value is a statistical measurement used to validate a hypothesis against observed data.\n",
    "- A p-value measures the probability of obtaining the observed results, assuming that the null hypothesis is true.\n",
    "- The lower the p-value, the greater the statistical significance of the observed difference.\n",
    "- A p-value of 0.05 or lower is generally considered statistically significant.\n",
    "- P-value can serve as an alternative to—or in addition to—preselected confidence levels for hypothesis testing."
   ]
  },
  {
   "cell_type": "code",
   "execution_count": null,
   "id": "57e1caee-0cda-4881-bfcc-79ada7c97d92",
   "metadata": {},
   "outputs": [],
   "source": []
  },
  {
   "cell_type": "markdown",
   "id": "c75e3bca-aa89-4510-9e95-cb4a0c020d5b",
   "metadata": {},
   "source": [
    "### Q9. Generate a Student's t-distribution plot using Python's matplotlib library, with the degrees of freedom parameter set to 10"
   ]
  },
  {
   "cell_type": "code",
   "execution_count": 1,
   "id": "6d2bcd4c-b6e0-490c-9dc2-d565a0fbe2be",
   "metadata": {},
   "outputs": [],
   "source": [
    "import matplotlib.pyplot as plt\n",
    "from scipy.stats import t\n",
    "\n",
    "dof = 10 # degree of freedom\n",
    "size = dof + 1 # size of sample dataset"
   ]
  },
  {
   "cell_type": "code",
   "execution_count": 61,
   "id": "5da547ae-0b45-4cbc-94b9-8bc569c737d8",
   "metadata": {},
   "outputs": [],
   "source": [
    "y = t.rvs(df=10, size=11)"
   ]
  },
  {
   "cell_type": "code",
   "execution_count": 64,
   "id": "4c21d199-5003-496a-8ffe-214289610341",
   "metadata": {
    "tags": []
   },
   "outputs": [
    {
     "data": {
      "text/plain": [
       "[<matplotlib.lines.Line2D at 0x7f6d0a9af430>]"
      ]
     },
     "execution_count": 64,
     "metadata": {},
     "output_type": "execute_result"
    },
    {
     "data": {
      "image/png": "[encoded data removed]",
      "text/plain": [
       "<Figure size 640x480 with 1 Axes>"
      ]
     },
     "metadata": {},
     "output_type": "display_data"
    }
   ],
   "source": [
    "plt.plot(y)"
   ]
  },
  {
   "cell_type": "code",
   "execution_count": 65,
   "id": "8c2a2b19-d037-4c4a-886d-b4b5ec251f11",
   "metadata": {},
   "outputs": [
    {
     "data": {
      "text/plain": [
       "[<matplotlib.lines.Line2D at 0x7f6d09f4f3a0>]"
      ]
     },
     "execution_count": 65,
     "metadata": {},
     "output_type": "execute_result"
    },
    {
     "data": {
      "image/png": "[encoded data removed]",
      "text/plain": [
       "<Figure size 640x480 with 1 Axes>"
      ]
     },
     "metadata": {},
     "output_type": "display_data"
    }
   ],
   "source": [
    "plt.plot(t.rvs(df=10, size=11))"
   ]
  },
  {
   "cell_type": "code",
   "execution_count": null,
   "id": "b8e20626-f4a6-485c-8cde-8a3f53db16b3",
   "metadata": {},
   "outputs": [],
   "source": []
  },
  {
   "cell_type": "markdown",
   "id": "438b8773-c8f0-4030-99ed-19b637403160",
   "metadata": {},
   "source": [
    "### Q10. Write a Python program to calculate the two-sample t-test for independent samples, given two random samples of equal size and a null hypothesis that the population means are equal."
   ]
  },
  {
   "cell_type": "code",
   "execution_count": 151,
   "id": "a594abeb-2692-4c06-becd-920078fc4a8c",
   "metadata": {},
   "outputs": [],
   "source": [
    "import numpy as np\n",
    "import scipy.stats as stat\n",
    "\n",
    "'''Step1: Create the data'''\n",
    "n = 40 # sample size"
   ]
  },
  {
   "cell_type": "code",
   "execution_count": 144,
   "id": "4667d687-78bf-4358-a02c-d89f4557eb70",
   "metadata": {},
   "outputs": [],
   "source": [
    "sample1 = np.random.normal(loc=5, scale=3, size=n) # sample dataset A\n",
    "sample2 = np.random.poisson(lam=5, size=n) # sample dataset B"
   ]
  },
  {
   "cell_type": "code",
   "execution_count": 150,
   "id": "de855ce1-c295-4667-8893-67b4721a93df",
   "metadata": {},
   "outputs": [],
   "source": [
    "'''\n",
    "Step2: Conduct a two sample t-test\n",
    "Null Hypothesis, H0: Population mean of sample dataset A = Population mean of sample dataset B\n",
    "Alternate Hypothesis, H1: Population mean of sample dataset A != Population mean of sample dataset B\n",
    "'''\n",
    "\n",
    "mean1 = np.mean(sample1)\n",
    "var1 = np.var(sample1)\n",
    "\n",
    "mean2 = np.mean(sample2)\n",
    "var2 = np.var(sample2)"
   ]
  },
  {
   "cell_type": "code",
   "execution_count": 146,
   "id": "8c48bc23-bb09-4585-b474-2a5fb58e13dc",
   "metadata": {},
   "outputs": [
    {
     "name": "stdout",
     "output_type": "stream",
     "text": [
      "As ratio of the larger sample variance to the smaller sample variance is 1.3294655555595105 which is less than 4, therefore assuming that population variances are equal\n",
      "Ttest_indResult(statistic=0.6098479011748461, pvalue=0.5437351450892502)\n"
     ]
    }
   ],
   "source": [
    "if var1>var2:\n",
    "    ratio = var1/var2\n",
    "else:\n",
    "    ratio = var2/var1\n",
    "    \n",
    "if ratio < 4:\n",
    "    print(f\"As ratio of the larger sample variance to the smaller sample variance is {ratio} which is less than 4, therefore assuming that population variances are equal\")\n",
    "    \n",
    "else:\n",
    "    print(f\"The ratio of the larger sample variance to the smaller sample variance is {ratio} which is greater than 4, therefore we have to perform Welch’s t-test, which does not assume equal population variance\")\n",
    "    \n",
    "# perform two sample t-test with equal variance\n",
    "result = stat.ttest_ind(a=sample1, b=sample2, equal_var=True)\n",
    "print(result)"
   ]
  },
  {
   "cell_type": "markdown",
   "id": "9c7428b8-0a82-4edb-83e9-5fb3856078f6",
   "metadata": {},
   "source": [
    "##### Step3: Interpret the result\n",
    "\n",
    "The two hypotheses for this particular two sample t-test are as follows:\n",
    "- Null Hypothesis, H0: Population mean of sample dataset A = Population mean of sample dataset B\n",
    "- Alternate Hypothesis, H1: Population mean of sample dataset A != Population mean of sample dataset B\n",
    "\n",
    "\n",
    "\n",
    "**Conclusion**: Because the p-value of our test (0.54373) is greater than standard significance value = 0.05, we fail to reject the null hypothesis of the test.\n",
    "We don't have enough evidence to say that Population mean of two independent population are different."
   ]
  },
  {
   "cell_type": "code",
   "execution_count": null,
   "id": "845759db-f2aa-4cc0-a4af-5fdd92577832",
   "metadata": {},
   "outputs": [],
   "source": []
  },
  {
   "cell_type": "markdown",
   "id": "5d9cb6c8-222c-493c-8c65-39d817e76f78",
   "metadata": {},
   "source": [
    "### Q11: What is Student’s t distribution? When to use the t-Distribution."
   ]
  },
  {
   "cell_type": "markdown",
   "id": "6f954868-6c69-431e-940d-916e3b99da9e",
   "metadata": {},
   "source": [
    "Ans. The t-distribution, also known as the Student's t-distribution, is a type of probability distribution that is similar to the normal distribution with its bell shape but has heavier tails. It is used for estimating population parameters for small sample sizes or unknown variances/standard deviation.\n",
    "\n",
    "We generally use T-test when the population standard deviation (σ) is not known and the sample size is small (n<30). General Correct Rule: If σ is not known, then using t-distribution is correct. If σ is known, then using the normal distribution is correct."
   ]
  },
  {
   "cell_type": "code",
   "execution_count": null,
   "id": "938a7727-9eb1-486c-b272-17761ae89b81",
   "metadata": {},
   "outputs": [],
   "source": []
  },
  {
   "cell_type": "markdown",
   "id": "3c6800ca-1a54-4f0e-b52c-f34179f11fd1",
   "metadata": {},
   "source": [
    "### Q12: What is t-statistic? State the formula for t-statistic."
   ]
  },
  {
   "cell_type": "markdown",
   "id": "ad2ae4c0-9faf-434a-9927-2957762bd75c",
   "metadata": {},
   "source": [
    "Ans. In statistics, the t-statistic is the ratio of the departure of the estimated value of a parameter from its hypothesized value to its standard error. It is used in hypothesis testing via Student's t-test. The t-statistic is used in a t-test to determine whether to support or reject the null hypothesis. It is very similar to the z-score but with the difference that t-statistic is used when the sample size is small or the population standard deviation is unknown. For example, the t-statistic is used in estimating the population mean from a sampling distribution of sample means if the population standard deviation is unknown. It is also used along with p-value when running hypothesis tests where the p-value tells us what the odds are of the results to have happened.\n",
    "\n",
    "*Formula for T-test:*  \n",
    "t = (sample_mean - population_mean) / (sample_std / root(sample_size))"
   ]
  },
  {
   "cell_type": "code",
   "execution_count": null,
   "id": "40d479b4-457d-4110-be77-799afbbb340b",
   "metadata": {},
   "outputs": [],
   "source": []
  },
  {
   "cell_type": "markdown",
   "id": "b664dfbd-7293-4f89-93a4-eda6db3965f1",
   "metadata": {},
   "source": [
    "### Q13. A coffee shop owner wants to estimate the average daily revenue for their shop. They take a random sample of 50 days and find the sample mean revenue to be dollar 500 with a standard deviation of $50. Estimate the population mean revenue with a 95% confidence interval."
   ]
  },
  {
   "cell_type": "code",
   "execution_count": 52,
   "id": "a02ce6dc-64fc-4d32-bb52-e5f018034436",
   "metadata": {},
   "outputs": [],
   "source": [
    "# According to given statement\n",
    "n=50 # sample size\n",
    "x_bar = 500 # sample mean\n",
    "s = 50 # sample standard deviation\n",
    "confidence_interval = 0.95\n",
    "alpha = 1-confidence_interval # significance value\n",
    "df = n-1 # degree of freedom"
   ]
  },
  {
   "cell_type": "code",
   "execution_count": 53,
   "id": "60203e00-7481-4269-b2dd-849293cb02a4",
   "metadata": {},
   "outputs": [],
   "source": [
    "import scipy.stats as stat\n",
    "import math\n",
    "\n",
    "# Lower CI value for Population mean\n",
    "upper_limit = round(stat.t.ppf(q=1-(alpha/2),df=df),2) # Using T-test here as sample standard deviation is given in the problem Statement\n",
    "lower_limit = -upper_limit\n",
    "L_CI = round(x_bar + (lower_limit*(s/math.sqrt(n))),2)\n",
    "\n",
    "# Upper CI value for Population mean\n",
    "U_CI = round(x_bar + (upper_limit*(s/math.sqrt(n))),2)"
   ]
  },
  {
   "cell_type": "code",
   "execution_count": 54,
   "id": "be00fe3b-d093-442d-94c4-cb82dfb22fdf",
   "metadata": {},
   "outputs": [
    {
     "name": "stdout",
     "output_type": "stream",
     "text": [
      "The population mean revenue lies between 485.79 and 514.21 with 95% Confidence Interval\n"
     ]
    }
   ],
   "source": [
    "print(f\"The population mean revenue lies between {L_CI} and {U_CI} with 95% Confidence Interval\")"
   ]
  },
  {
   "cell_type": "code",
   "execution_count": null,
   "id": "0b1b29cd-8826-434b-b84f-5196b89c7dca",
   "metadata": {},
   "outputs": [],
   "source": []
  },
  {
   "cell_type": "markdown",
   "id": "84bec760-4369-4054-a889-05bfa5ba0d86",
   "metadata": {},
   "source": [
    "### Q14. A researcher hypothesizes that a new drug will decrease blood pressure by 10 mmHg. They conduct a clinical trial with 100 patients and find that the sample mean decrease in blood pressure is 8 mmHg with a standard deviation of 3 mmHg. Test the hypothesis with a significance level of 0.05."
   ]
  },
  {
   "cell_type": "code",
   "execution_count": 30,
   "id": "37e0729b-a1f5-44b1-b16a-8a41eadd531b",
   "metadata": {},
   "outputs": [],
   "source": [
    "# Defining NULL and ALTERNATE Hypothesis\n",
    "H0 = \"New Drug decreases Blood Pressure by 10mmHg\"\n",
    "H1 = \"New Drug doesn't decreases Blood Pressure by 10mmHg\""
   ]
  },
  {
   "cell_type": "code",
   "execution_count": 31,
   "id": "7cee6708-2ff6-404b-a10d-83b6e973abed",
   "metadata": {},
   "outputs": [],
   "source": [
    "# Defining Significance value and Confidence Interval\n",
    "alpha = 0.05\n",
    "confidence_interval = 1-alpha"
   ]
  },
  {
   "cell_type": "code",
   "execution_count": 32,
   "id": "55a095fb-8739-4422-852e-06b3385025b9",
   "metadata": {},
   "outputs": [],
   "source": [
    "# sample size\n",
    "n = 100\n",
    "# Calculate Degree of Freedom\n",
    "df = n-1"
   ]
  },
  {
   "cell_type": "code",
   "execution_count": 33,
   "id": "ba8a686f-5581-4f73-94a5-4b10c910e79f",
   "metadata": {},
   "outputs": [],
   "source": [
    "# Population mean\n",
    "mu = 10\n",
    "# Sample Mean\n",
    "x_bar = 8\n",
    "# sample standard deviation \n",
    "s = 3"
   ]
  },
  {
   "cell_type": "code",
   "execution_count": 34,
   "id": "f96de8ca-d6e9-43b8-b27f-b3026f58c958",
   "metadata": {},
   "outputs": [
    {
     "name": "stdout",
     "output_type": "stream",
     "text": [
      "If t-test value is less than -1.98 or greater than 1.98, we have to reject Null Hypotheseis\n"
     ]
    }
   ],
   "source": [
    "# Using T-test to perform the Hypothesis testing as sample std is given with sample size 100\n",
    "\n",
    "import scipy.stats as stat\n",
    "import math\n",
    "import numpy as np\n",
    "\n",
    "# Calculation Rejection Area and Acceptance Area Boundary\n",
    "upper_bound = round(stat.t.ppf(q=1-(alpha/2),df=df),2)\n",
    "lower_bound = -upper_bound\n",
    "print(f'If t-test value is less than {lower_bound} or greater than {upper_bound}, we have to reject Null Hypotheseis')"
   ]
  },
  {
   "cell_type": "code",
   "execution_count": 35,
   "id": "29a2ee8e-52da-42e7-b43f-4b2832c705ac",
   "metadata": {},
   "outputs": [],
   "source": [
    "# Creating sample data \n",
    "sample = np.random.normal(loc=8, scale=3, size=100)\n",
    "# Calculating T-stat value\n",
    "t_stat, p_value = stat.ttest_1samp(sample,mu)"
   ]
  },
  {
   "cell_type": "code",
   "execution_count": 36,
   "id": "c0f8d52d-3f91-4b9e-b42f-c1859ddbfe53",
   "metadata": {},
   "outputs": [
    {
     "name": "stdout",
     "output_type": "stream",
     "text": [
      "-9.068401638747549 1.1760756698573346e-14\n"
     ]
    }
   ],
   "source": [
    "print(t_stat , p_value)"
   ]
  },
  {
   "cell_type": "code",
   "execution_count": 37,
   "id": "cad19a70-54a9-4dc5-8092-968664de4e16",
   "metadata": {},
   "outputs": [
    {
     "name": "stdout",
     "output_type": "stream",
     "text": [
      "We need to reject the Null Hypothesis, New Drug doesn't decreases Blood Pressure by 10mmHg\n"
     ]
    }
   ],
   "source": [
    "#onclusion\n",
    "if t_stat > upper_bound or t_stat < lower_bound:\n",
    "    print(f\"We need to reject the Null Hypothesis, {H1}\")\n",
    "else:\n",
    "    print(f\"We failed to reject the Null Hypothesis, {H1}\")"
   ]
  },
  {
   "cell_type": "code",
   "execution_count": null,
   "id": "77438da1-a80b-4f00-bf3f-8c3fc60c437e",
   "metadata": {},
   "outputs": [],
   "source": []
  },
  {
   "cell_type": "markdown",
   "id": "13d33929-2e05-42ee-b01c-45a022efaff5",
   "metadata": {},
   "source": [
    "### Q15. An electronics company produces a certain type of product with a mean weight of 5 pounds and a standard deviation of 0.5 pounds. A random sample of 25 products is taken, and the sample mean weight is found to be 4.8 pounds. Test the hypothesis that the true mean weight of the products is less than 5 pounds with a significance level of 0.01."
   ]
  },
  {
   "cell_type": "code",
   "execution_count": 80,
   "id": "36365f9f-fe2a-47e3-b0fa-f8f89902b2e5",
   "metadata": {},
   "outputs": [],
   "source": [
    "# Defining Null and Alternate Hypothesis\n",
    "H0 = \"The true mean weight of the product is not less than 5 pounds\"\n",
    "H1 = \"The true mean weight of the product is less than 5 pounds\"\n",
    "\n",
    "# importing t-test as sample size is less than 30\n",
    "from statsmodels.stats.weightstats import ztest\n",
    "import scipy.stats as stat\n",
    "import numpy as np"
   ]
  },
  {
   "cell_type": "code",
   "execution_count": 74,
   "id": "9f2810e2-a5c6-46d1-a69a-5f2cc8718673",
   "metadata": {},
   "outputs": [],
   "source": [
    "sample = np.random.normal(loc=4.8, scale=0.5, size=25)"
   ]
  },
  {
   "cell_type": "code",
   "execution_count": 75,
   "id": "43b087b6-0bd6-4705-9dfc-001649e466a8",
   "metadata": {},
   "outputs": [],
   "source": [
    "t_stat, p_value = stat.ttest_1samp(sample, 5)"
   ]
  },
  {
   "cell_type": "code",
   "execution_count": 76,
   "id": "9d0b4be6-b795-4706-9cbf-4381e0367023",
   "metadata": {},
   "outputs": [
    {
     "name": "stdout",
     "output_type": "stream",
     "text": [
      "-1.79 0.09\n"
     ]
    }
   ],
   "source": [
    "print(round(t_stat,2), round(p_value,2))"
   ]
  },
  {
   "cell_type": "code",
   "execution_count": 77,
   "id": "bf038fbc-d291-4a97-a05e-18da7cd3aafe",
   "metadata": {},
   "outputs": [
    {
     "name": "stdout",
     "output_type": "stream",
     "text": [
      "The t_stat value is -1.79\n"
     ]
    }
   ],
   "source": [
    "print(f\"The t_stat value is {round(t_stat,2)}\")"
   ]
  },
  {
   "cell_type": "code",
   "execution_count": 78,
   "id": "0f168b00-fce0-4a67-a3ee-6c49da8327c3",
   "metadata": {},
   "outputs": [
    {
     "name": "stdout",
     "output_type": "stream",
     "text": [
      "If t-test value is less than -2.49, we have to reject Null Hypotheseis\n"
     ]
    }
   ],
   "source": [
    "alpha15 = 0.01\n",
    "confidence_interval15 = 1-alpha15\n",
    "n15 = 25\n",
    "df15 = n15-1\n",
    "\n",
    "# Now calculating rejection and acceptance area boundary\n",
    "bound15 = round(stat.t.ppf(q=(alpha15), df=df15),2)\n",
    "print(f'If t-test value is less than {bound15}, we have to reject Null Hypotheseis')"
   ]
  },
  {
   "cell_type": "code",
   "execution_count": 83,
   "id": "89e15be1-0833-4a4f-b332-0e1f2f0f3941",
   "metadata": {},
   "outputs": [
    {
     "name": "stdout",
     "output_type": "stream",
     "text": [
      "We failed to reject the Null Hypothesis, we don't have enough evidence to say that true mean weight of the product produced by the given electronic company is less than the 5 pounds\n"
     ]
    }
   ],
   "source": [
    "#onclusion\n",
    "if t_stat > upper_bound or t_stat < lower_bound:\n",
    "    print(f\"We need to reject the Null Hypothesis, {H1}\")\n",
    "else:\n",
    "    print(f\"We failed to reject the Null Hypothesis, we don't have enough evidence to say that true mean weight of the product produced by the given electronic company is less than the 5 pounds\")"
   ]
  },
  {
   "cell_type": "code",
   "execution_count": null,
   "id": "b3a7f028-c2b7-4a41-9baa-20c9aa49f88a",
   "metadata": {},
   "outputs": [],
   "source": []
  },
  {
   "cell_type": "markdown",
   "id": "2edaff61-fccd-4e2e-9877-e1ccd1a1394a",
   "metadata": {},
   "source": [
    "### Q16. Two groups of students are given different study materials to prepare for a test. The first group (n1 = 30) has a mean score of 80 with a standard deviation of 10, and the second group (n2 = 40) has a mean score of 75 with a standard deviation of 8. Test the hypothesis that the population means for the two groups are equal with a significance level of 0.01."
   ]
  },
  {
   "cell_type": "code",
   "execution_count": 1,
   "id": "0afed7e6-93fe-491e-9a4e-93a3e24e8bb3",
   "metadata": {},
   "outputs": [],
   "source": [
    "# Defining Null and Alternate Hypothesis\n",
    "H0 = \"The Population mean of the two groups are equal (mu1 = mu2)\"\n",
    "H1 = \"The Population mean of the two groups are not equal (mu1 != mu2)\""
   ]
  },
  {
   "cell_type": "code",
   "execution_count": 21,
   "id": "237e6c70-feee-454e-89cb-7fe7232428c6",
   "metadata": {},
   "outputs": [],
   "source": [
    "# Given parameters in the problem statement\n",
    "n1 = 30\n",
    "x_bar1 = 80\n",
    "s1 = 10\n",
    "n2 = 40\n",
    "x_bar2 = 75\n",
    "s2 = 8\n",
    "\n",
    "alpha = 0.01"
   ]
  },
  {
   "cell_type": "code",
   "execution_count": 22,
   "id": "280b95f1-2a6a-4f66-b2ba-7aba1a0e922f",
   "metadata": {},
   "outputs": [],
   "source": [
    "# Calculating Degree of freedom and Confidence Interval\n",
    "df1 = n1-1\n",
    "df2 = n2-1\n",
    "confidence_interval = 1-alpha"
   ]
  },
  {
   "cell_type": "code",
   "execution_count": 27,
   "id": "465e9c2a-c2c5-4759-982d-26c92d767fb0",
   "metadata": {},
   "outputs": [
    {
     "name": "stdout",
     "output_type": "stream",
     "text": [
      "The variances of the two sample groups can be considered equal\n"
     ]
    }
   ],
   "source": [
    "# Finding variance for each group\n",
    "import scipy.stats as stat\n",
    "import numpy as np\n",
    "\n",
    "sample1 = np.random.normal(loc=x_bar1, scale=s1, size=n1)\n",
    "sample2 = np.random.normal(loc=x_bar2, scale=s2, size=n2)\n",
    "\n",
    "var1 = np.var(sample1)\n",
    "var2 = np.var(sample2)\n",
    "\n",
    "if var1 > 0 and var2 > 0:\n",
    "    if var1 > var2:\n",
    "        if var1/var2 <= 4:\n",
    "            print(\"The variances of the two sample groups can be considered equal\")\n",
    "            flag = 1\n",
    "        else:\n",
    "            print(\"The variances of the two sample groups can't be considered equal\")\n",
    "            flag=0\n",
    "    elif var2 > var1:\n",
    "        if var2/var1 <= 4:\n",
    "            print(\"The variances of the two sample groups can be considered equal\")\n",
    "            flag = 1\n",
    "        else:\n",
    "            print(\"The variances of the two sample groups can't be considered equal\")\n",
    "            flag=0\n",
    "    else:\n",
    "        if var1/var2 == 1:\n",
    "            print(\"The variance of the two sample groups can be considered equal\")\n",
    "            flag=1\n",
    "        else:\n",
    "            flag=0\n",
    "            pass"
   ]
  },
  {
   "cell_type": "code",
   "execution_count": 33,
   "id": "c9cfd118-12d4-4a92-ac17-42e980acf09e",
   "metadata": {},
   "outputs": [
    {
     "name": "stdout",
     "output_type": "stream",
     "text": [
      "2.03 0.05\n"
     ]
    }
   ],
   "source": [
    "# Proceeding with two sample t-test\n",
    "t_stat, p_value = stat.ttest_ind(a=sample1, b=sample2, equal_var=True)\n",
    "print(round(t_stat,2), round(p_value,2))"
   ]
  },
  {
   "cell_type": "code",
   "execution_count": 35,
   "id": "8b06b0f3-9fdf-4d18-8ef1-bb8313d79cf9",
   "metadata": {},
   "outputs": [
    {
     "name": "stdout",
     "output_type": "stream",
     "text": [
      "As P-Value 0.05 is greater than the Significance value 0.01, We fail to reject the Null Hypothesis. Therefore, we can consider that the population mean of the two groups may be equal.\n"
     ]
    }
   ],
   "source": [
    "# Conclusion\n",
    "if p_value <= alpha:\n",
    "    print(f\"As P-Value {round(p_value,2)} is less than the Significance value {round(alpha,2)}, We have to reject he Null Hypothesis. Therefore, we can consider that the poplation mean of the two groups aren't equal.\")\n",
    "else:\n",
    "    print(f\"As P-Value {round(p_value,2)} is greater than the Significance value {round(alpha,2)}, We fail to reject the Null Hypothesis. Therefore, we can consider that the population mean of the two groups may be equal.\")"
   ]
  },
  {
   "cell_type": "code",
   "execution_count": null,
   "id": "de05e18d-d130-4b0a-8187-591841e697fb",
   "metadata": {},
   "outputs": [],
   "source": []
  },
  {
   "cell_type": "markdown",
   "id": "9e9a584f-8e35-43eb-af94-02243db0fa96",
   "metadata": {},
   "source": [
    "### Q17. A marketing company wants to estimate the average number of ads watched by viewers during a TV program. They take a random sample of 50 viewers and find that the sample mean is 4 with a standard deviation of 1.5. Estimate the population mean with a 99% confidence interval."
   ]
  },
  {
   "cell_type": "code",
   "execution_count": 56,
   "id": "1c57e5b8-db27-49f3-9146-9d0b8a019f1b",
   "metadata": {},
   "outputs": [],
   "source": [
    "# Parameters given in the problem statement\n",
    "n = 50\n",
    "x_bar = 4\n",
    "s = 1.5\n",
    "confidence_interval = 99/100\n",
    "# Calculating Significance value\n",
    "alpha = 1-confidence_interval\n",
    "df = n-1"
   ]
  },
  {
   "cell_type": "code",
   "execution_count": 59,
   "id": "6fc15fc4-499b-4d2f-9d1f-5e4cd528c36b",
   "metadata": {},
   "outputs": [],
   "source": [
    "import scipy.stats as stat\n",
    "import math\n",
    "\n",
    "# Lower CI value for Population mean\n",
    "upper_limit = round(stat.t.ppf(q=1-(alpha/2),df=df),2) # Using T-test here as sample standard deviation is given in the problem Statement\n",
    "lower_limit = -upper_limit\n",
    "L_CI = round(x_bar + (lower_limit*(s/math.sqrt(n))),2)\n",
    "\n",
    "# Upper CI value for Population mean\n",
    "U_CI = round(x_bar + (upper_limit*(s/math.sqrt(n))),2)"
   ]
  },
  {
   "cell_type": "code",
   "execution_count": 63,
   "id": "5701bb43-9532-4430-be99-1c70d3ab4143",
   "metadata": {},
   "outputs": [
    {
     "name": "stdout",
     "output_type": "stream",
     "text": [
      "The avg number of adds lies between 3.43 and 4.57 with 99% Confidence Interval\n"
     ]
    }
   ],
   "source": [
    "print(f\"The avg number of adds lies between {L_CI} and {U_CI} with 99% Confidence Interval\")"
   ]
  },
  {
   "cell_type": "code",
   "execution_count": null,
   "id": "43d4c14c-c3a7-4488-8053-3ee41d1d7a91",
   "metadata": {},
   "outputs": [],
   "source": []
  }
 ],
 "metadata": {
  "kernelspec": {
   "display_name": "Python 3 (ipykernel)",
   "language": "python",
   "name": "python3"
  },
  "language_info": {
   "codemirror_mode": {
    "name": "ipython",
    "version": 3
   },
   "file_extension": ".py",
   "mimetype": "text/x-python",
   "name": "python",
   "nbconvert_exporter": "python",
   "pygments_lexer": "ipython3",
   "version": "3.10.8"
  }
 },
 "nbformat": 4,
 "nbformat_minor": 5
}
