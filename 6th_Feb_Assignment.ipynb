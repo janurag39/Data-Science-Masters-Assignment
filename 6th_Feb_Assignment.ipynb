{
 "cells": [
  {
   "cell_type": "markdown",
   "id": "035517da-9715-4810-97ad-a5be3ec5d474",
   "metadata": {},
   "source": [
    "### Q1. Create a function which will take a list as an argument and return the product of all the numbers after creating a flat list. Use the below-given list as an argument for your function.\n",
    "\n",
    "list1 = [1,2,3,4, [44,55,66, True], False, (34,56,78,89,34), {1,2,3,3,2,1}, {1:34, \"key2\": [55, 67, 78, 89], 4: (45, \n",
    "22, 61, 34)}, [56, 'data science'], 'Machine Learning']\n",
    "\n",
    "Note: you must extract numeric keys and values of the dictionary also."
   ]
  },
  {
   "cell_type": "code",
   "execution_count": 62,
   "id": "729bfd01-0b3d-465d-9388-81e7d265d963",
   "metadata": {},
   "outputs": [],
   "source": [
    "lst = list1 = [1,2,3,4, [44,55,66, True], False, (34,56,78,89,34), {1,2,3,3,2,1}, {1:34, \"key2\": [55, 67, 78, 89], 4: (45, 22, 61, 34)}, [56, 'data science'], 'Machine Learning']"
   ]
  },
  {
   "cell_type": "code",
   "execution_count": 63,
   "id": "09e0324b-db4f-453c-a69e-0984de3ec439",
   "metadata": {},
   "outputs": [],
   "source": [
    "from functools import reduce\n",
    "\n",
    "# Function for creating flat list from the nested list and then returning product of that flat list\n",
    "def flat_list_product(lst):\n",
    "    new_lst = []\n",
    "    for item in lst:\n",
    "        if type(item) is int or type(item) is float:\n",
    "            new_lst.append(item)\n",
    "        \n",
    "        elif type(item) is list or type(item) is tuple or type(item) is set:\n",
    "            for sub_item in item:\n",
    "                if type(sub_item) is int or type(sub_item) is float:\n",
    "                    new_lst.append(sub_item)\n",
    "        \n",
    "        elif type(item) is dict:\n",
    "            for key,value in item.items():\n",
    "                if type(key) is int or type(key) is float:\n",
    "                    new_lst.append(key)\n",
    "                    \n",
    "                if type(value) is int or type(value) is float:\n",
    "                    new_lst.append(value)\n",
    "                    \n",
    "                elif type(value) is list or type(value) is set or type(value) is tuple:\n",
    "                    for sub_item in value:\n",
    "                        if type(sub_item) is int or type(sub_item) is float:\n",
    "                            new_lst.append(sub_item)\n",
    "\n",
    "    return reduce( lambda x, y: x*y, new_lst)"
   ]
  },
  {
   "cell_type": "code",
   "execution_count": 64,
   "id": "a7b561bc-96df-4543-9c30-ee1856832e36",
   "metadata": {},
   "outputs": [
    {
     "data": {
      "text/plain": [
       "4134711838987085478833841242112000"
      ]
     },
     "execution_count": 64,
     "metadata": {},
     "output_type": "execute_result"
    }
   ],
   "source": [
    "flat_list_product(lst)"
   ]
  },
  {
   "cell_type": "code",
   "execution_count": null,
   "id": "96080152-8aa5-4e08-bd93-e38a7843d98c",
   "metadata": {},
   "outputs": [],
   "source": []
  },
  {
   "cell_type": "markdown",
   "id": "1acd1a82-3a3d-4e27-a20d-e271b6a3b7b0",
   "metadata": {},
   "source": [
    "### Q2. Write a python program for encrypting a message sent to you by your friend. The logic of encryption should be such that, for a the output should be z. For b, the output should be y. For c, the output should be x respectively. Also, the whitespace should be replaced with a dollar sign. Keep the punctuation marks unchanged.\n",
    "\n",
    "Input Sentence: I want to become a Data Scientist.\n",
    "\n",
    "Encrypt the above input sentence using the program you just created.\n",
    "\n",
    "Note: Convert the given input sentence into lowercase before encrypting. The final output should be \n",
    "lowercase."
   ]
  },
  {
   "cell_type": "code",
   "execution_count": 65,
   "id": "98593da6-c7b6-4901-ba35-601fcdd62b6f",
   "metadata": {},
   "outputs": [],
   "source": [
    "str_a = \"I want to become a Data Scientist\""
   ]
  },
  {
   "cell_type": "code",
   "execution_count": 66,
   "id": "592ca90d-25bb-41eb-b70e-8552de742204",
   "metadata": {},
   "outputs": [],
   "source": [
    "def encrypt(string_input):\n",
    "    ch_lst = list(string_input.lower())\n",
    "    ch_value_lst = []\n",
    "    for ch in ch_lst:\n",
    "        ch_value_lst.append(ord(ch))\n",
    "    \n",
    "    org_seq = [i for i in range(97, 123)]\n",
    "    rev_seq = org_seq[::-1]\n",
    "    \n",
    "    for ch_value in ch_value_lst:\n",
    "        if ch_value == 32:\n",
    "            ch_value_lst[ch_value_lst.index(ch_value)] = 36\n",
    "        \n",
    "        if ch_value in org_seq:\n",
    "            loc =  org_seq.index(ch_value)\n",
    "            ch_value_lst[ch_value_lst.index(ch_value)] = rev_seq[loc]\n",
    "        \n",
    "    \n",
    "    result = list(map(lambda x: chr(x), ch_value_lst))\n",
    "    return ''.join(result)"
   ]
  },
  {
   "cell_type": "code",
   "execution_count": 67,
   "id": "8ec80691-7ab6-40dd-a303-273e18ffc2df",
   "metadata": {},
   "outputs": [
    {
     "data": {
      "text/plain": [
       "'r$wzmg$gl$yvxlmv$z$dzgz$hxrvngrhg'"
      ]
     },
     "execution_count": 67,
     "metadata": {},
     "output_type": "execute_result"
    }
   ],
   "source": [
    "encrypt(str_a)"
   ]
  },
  {
   "cell_type": "code",
   "execution_count": null,
   "id": "15e26cae-2c39-42b7-be3e-c9ad80786aa6",
   "metadata": {},
   "outputs": [],
   "source": []
  },
  {
   "cell_type": "code",
   "execution_count": null,
   "id": "bff2899e-a5af-4af4-abd1-2b1eb607e5d8",
   "metadata": {},
   "outputs": [],
   "source": []
  },
  {
   "cell_type": "code",
   "execution_count": null,
   "id": "deba3ad0-74c0-4768-b4d4-7b7365be0e9a",
   "metadata": {},
   "outputs": [],
   "source": []
  },
  {
   "cell_type": "code",
   "execution_count": null,
   "id": "2ede7bbe-d5cb-45b6-a4b4-7a22b266f21b",
   "metadata": {},
   "outputs": [],
   "source": []
  }
 ],
 "metadata": {
  "kernelspec": {
   "display_name": "Python 3 (ipykernel)",
   "language": "python",
   "name": "python3"
  },
  "language_info": {
   "codemirror_mode": {
    "name": "ipython",
    "version": 3
   },
   "file_extension": ".py",
   "mimetype": "text/x-python",
   "name": "python",
   "nbconvert_exporter": "python",
   "pygments_lexer": "ipython3",
   "version": "3.10.8"
  }
 },
 "nbformat": 4,
 "nbformat_minor": 5
}
