{
 "cells": [
  {
   "cell_type": "markdown",
   "id": "8b2f5f07-5776-445b-94f7-7ed28a350088",
   "metadata": {},
   "source": [
    "### Q1, Create a vehicle class with an init method having instance variables as name_of_vehicle, max_speed and average_of_vehicle. "
   ]
  },
  {
   "cell_type": "code",
   "execution_count": 37,
   "id": "a025cf07-7146-4a6e-8394-9f48dd8963c5",
   "metadata": {},
   "outputs": [],
   "source": [
    "class vehicle():\n",
    "    \n",
    "    def __init__( self, name_of_vehicle, max_speed, average_of_vehicle ):\n",
    "        self.__name_of_vehicle = name_of_vehicle\n",
    "        self.__max_speed = max_speed\n",
    "        self.__average_of_vehicle = average_of_vehicle\n",
    "    "
   ]
  },
  {
   "cell_type": "code",
   "execution_count": null,
   "id": "f980df79-691a-4014-bd50-81cdb8ba362a",
   "metadata": {},
   "outputs": [],
   "source": []
  },
  {
   "cell_type": "markdown",
   "id": "017fdcb0-3184-4f3a-a286-ff4e3db01289",
   "metadata": {},
   "source": [
    "### Q2.  Create a child class car from the vehicle class created in Que 1, which will inherit the vehicle class. Create a method named seating_capacity which takes capacity as an argument and returns the name of the vehicle and its seating capacity."
   ]
  },
  {
   "cell_type": "code",
   "execution_count": 44,
   "id": "2fdf8980-8bf3-45b5-9780-abfd5ce9ca57",
   "metadata": {},
   "outputs": [],
   "source": [
    "class car(vehicle):\n",
    "    \n",
    "    def seating_capacity( self, capacity ):\n",
    "        return 'The name of car is {} and its seating capacity is: {}'.format(self._vehicle__name_of_vehicle, capacity)"
   ]
  },
  {
   "cell_type": "code",
   "execution_count": 45,
   "id": "9aa2d72e-c5e3-4d95-9a92-02b73943a69c",
   "metadata": {},
   "outputs": [],
   "source": [
    "mustang  = car('Mustang', 250, 45)"
   ]
  },
  {
   "cell_type": "code",
   "execution_count": 46,
   "id": "1cf42fc2-b1e8-426e-82a3-3a9eacf1ddc8",
   "metadata": {},
   "outputs": [
    {
     "data": {
      "text/plain": [
       "'The name of car is Mustang and its seating capacity is: 4'"
      ]
     },
     "execution_count": 46,
     "metadata": {},
     "output_type": "execute_result"
    }
   ],
   "source": [
    "mustang.seating_capacity(4)"
   ]
  },
  {
   "cell_type": "code",
   "execution_count": null,
   "id": "75c9ae9b-b957-4c7a-b39d-fc6d65138fa2",
   "metadata": {},
   "outputs": [],
   "source": []
  },
  {
   "cell_type": "markdown",
   "id": "daab91fb-29ab-401c-ada6-18d7297e1444",
   "metadata": {},
   "source": [
    "### Q3. What is multiple inheritance? Write a python code to demonstrate multiple inheritance"
   ]
  },
  {
   "cell_type": "markdown",
   "id": "4d5aab46-eeb5-49ef-bd64-7e9b7395137f",
   "metadata": {},
   "source": [
    "Ans. When a class is derived from more than one base class it is called multiple Inheritance. The derived class inherits all the features of the base classes."
   ]
  },
  {
   "cell_type": "code",
   "execution_count": 47,
   "id": "baa8724f-e8de-44fd-b423-f3d753a6f087",
   "metadata": {},
   "outputs": [],
   "source": [
    "# Example for Multiple Inheritance\n",
    "class parent1:\n",
    "    \n",
    "    def func_parent1(self):\n",
    "        return 'This is method for parent1'"
   ]
  },
  {
   "cell_type": "code",
   "execution_count": 48,
   "id": "5cb39c68-5c45-4f0b-ab03-f5f3f14ac23a",
   "metadata": {},
   "outputs": [],
   "source": [
    "class parent2:\n",
    "    \n",
    "    def func_parent2(self):\n",
    "        return 'This is method for parent2'"
   ]
  },
  {
   "cell_type": "code",
   "execution_count": 49,
   "id": "b8d26593-098c-4f7f-b7a0-f83dc3bf4b84",
   "metadata": {},
   "outputs": [],
   "source": [
    "class child( parent1, parent2 ):\n",
    "    \n",
    "    def func_child(self):\n",
    "        return 'This is method for child'"
   ]
  },
  {
   "cell_type": "code",
   "execution_count": 50,
   "id": "d1f66602-a483-42d7-8b4d-0787569d754a",
   "metadata": {},
   "outputs": [],
   "source": [
    "child_obj = child()"
   ]
  },
  {
   "cell_type": "code",
   "execution_count": 52,
   "id": "c0a103c0-43af-488b-a5db-cc77f56fcdc9",
   "metadata": {},
   "outputs": [
    {
     "data": {
      "text/plain": [
       "'This is method for parent1'"
      ]
     },
     "execution_count": 52,
     "metadata": {},
     "output_type": "execute_result"
    }
   ],
   "source": [
    "child_obj.func_parent1()"
   ]
  },
  {
   "cell_type": "code",
   "execution_count": 53,
   "id": "8a0aa4c6-a79d-40d5-924d-755a4e997e04",
   "metadata": {},
   "outputs": [
    {
     "data": {
      "text/plain": [
       "'This is method for parent2'"
      ]
     },
     "execution_count": 53,
     "metadata": {},
     "output_type": "execute_result"
    }
   ],
   "source": [
    "child_obj.func_parent2()"
   ]
  },
  {
   "cell_type": "code",
   "execution_count": 54,
   "id": "5e852131-2b0d-471e-918d-7c833aad52fb",
   "metadata": {},
   "outputs": [
    {
     "data": {
      "text/plain": [
       "'This is method for child'"
      ]
     },
     "execution_count": 54,
     "metadata": {},
     "output_type": "execute_result"
    }
   ],
   "source": [
    "child_obj.func_child()"
   ]
  },
  {
   "cell_type": "code",
   "execution_count": null,
   "id": "e90bd881-4956-4da2-a84b-77fab77aabdf",
   "metadata": {},
   "outputs": [],
   "source": []
  },
  {
   "cell_type": "markdown",
   "id": "263fc567-b026-4f66-95ea-5a8aabb380af",
   "metadata": {},
   "source": [
    "### Q4. What are getter and setter in python? Create a class and create a getter and a setter method in this class."
   ]
  },
  {
   "cell_type": "markdown",
   "id": "b22cfb49-5871-4663-b0b1-8f6ca681ba1a",
   "metadata": {},
   "source": [
    "Ans. Getter: These are the methods used in object-oriented programming (oops) which helps to access the private and protected attributed from a class.\n",
    "\n",
    "Setters: These are the methods used in oops feature which helps to set the value to private/protected attributes in a class"
   ]
  },
  {
   "cell_type": "code",
   "execution_count": 14,
   "id": "26063254-9663-4511-aabb-71b443c366ff",
   "metadata": {},
   "outputs": [],
   "source": [
    "# Example for getter and setter\n",
    "\n",
    "class test_class:\n",
    "    \n",
    "    # Constructor method\n",
    "    def __init__(self, var_a, var_b):\n",
    "        self._var_a = var_a # protected variable\n",
    "        self.__var_b = var_b # private variable\n",
    "    \n",
    "    # defining getter method\n",
    "    @property\n",
    "    def test_fun_get(self):\n",
    "        return self._var_a, self.__var_b\n",
    "    \n",
    "    # defining setter method\n",
    "    @test_fun_get.setter\n",
    "    def test_fun_set(self, new_b):\n",
    "        self.__var_b = new_b"
   ]
  },
  {
   "cell_type": "code",
   "execution_count": 15,
   "id": "ec789456-22ea-44d2-a4a8-8a94bf92729a",
   "metadata": {},
   "outputs": [],
   "source": [
    "test_obj = test_class('Ash', 'Del')"
   ]
  },
  {
   "cell_type": "code",
   "execution_count": 16,
   "id": "f74fb263-0af5-4148-a39d-eb836b652376",
   "metadata": {},
   "outputs": [
    {
     "data": {
      "text/plain": [
       "('Ash', 'Del')"
      ]
     },
     "execution_count": 16,
     "metadata": {},
     "output_type": "execute_result"
    }
   ],
   "source": [
    "test_obj.test_fun_get"
   ]
  },
  {
   "cell_type": "code",
   "execution_count": 17,
   "id": "9e3979ac-5566-4887-a4df-7b34de11acbc",
   "metadata": {},
   "outputs": [],
   "source": [
    "test_obj.test_fun_set = 'Hyd'"
   ]
  },
  {
   "cell_type": "code",
   "execution_count": 18,
   "id": "62b05a16-4bc8-4eee-9369-3417e5fecf47",
   "metadata": {},
   "outputs": [
    {
     "data": {
      "text/plain": [
       "('Ash', 'Hyd')"
      ]
     },
     "execution_count": 18,
     "metadata": {},
     "output_type": "execute_result"
    }
   ],
   "source": [
    "test_obj.test_fun_get"
   ]
  },
  {
   "cell_type": "code",
   "execution_count": null,
   "id": "0226de0c-0f99-4871-a48f-67983d25f039",
   "metadata": {},
   "outputs": [],
   "source": []
  },
  {
   "cell_type": "markdown",
   "id": "927fb87b-0f22-4d49-aeaf-751de9cb64fa",
   "metadata": {},
   "source": [
    "### Q5.What is method overriding in python? Write a python code to demonstrate method overriding."
   ]
  },
  {
   "cell_type": "markdown",
   "id": "62c2899e-ecbb-4a4f-97bd-ee903a213c41",
   "metadata": {},
   "source": [
    "Ans. Method Overriding is an ability of any object-oriented programming language that allows a subclass or chlid class to provide specific implementation of a method that is already provided by one of its superior classes or parent classes. When a method in a subclass has the same name, same parameters or signature and same return type(or sub-type) as a method in its super-class, then the method in the subclass is said to override the method in the super-class."
   ]
  },
  {
   "cell_type": "code",
   "execution_count": 60,
   "id": "83fae093-c4ef-49c1-b97c-2571acfe8061",
   "metadata": {},
   "outputs": [],
   "source": [
    "# Example of Method Overriding\n",
    "\n",
    "class test:\n",
    "    def __init__(self, name , email):\n",
    "        self.name = name\n",
    "        self.email = email\n",
    "    \n",
    "    # this method will override the init() method\n",
    "    @classmethod\n",
    "    def details(cls , new_name , new_email):\n",
    "        return cls(new_name , new_email)\n",
    "    \n",
    "    def student_details(self):\n",
    "        print(self.name , self.email)\n",
    "    \n",
    "    "
   ]
  },
  {
   "cell_type": "code",
   "execution_count": 61,
   "id": "d98f7e2a-c06d-43d4-87f7-25a6eb77aac3",
   "metadata": {},
   "outputs": [],
   "source": [
    "test_obj = test('Ash', 'ash@gmail.com')"
   ]
  },
  {
   "cell_type": "code",
   "execution_count": 62,
   "id": "7add565d-05d2-471c-acc5-3f42b7880d83",
   "metadata": {},
   "outputs": [
    {
     "name": "stdout",
     "output_type": "stream",
     "text": [
      "Ash ash@gmail.com\n"
     ]
    }
   ],
   "source": [
    "test_obj.student_details()"
   ]
  },
  {
   "cell_type": "code",
   "execution_count": 63,
   "id": "b9412520-cb95-4d8c-9e08-18d4dd35487d",
   "metadata": {},
   "outputs": [],
   "source": [
    "test_obj = test.details('Rax', 'maz@gmail.com')"
   ]
  },
  {
   "cell_type": "code",
   "execution_count": 64,
   "id": "6f836216-eb64-43ec-bdcc-a3834bd88940",
   "metadata": {},
   "outputs": [
    {
     "name": "stdout",
     "output_type": "stream",
     "text": [
      "Rax maz@gmail.com\n"
     ]
    }
   ],
   "source": [
    "test_obj.student_details()"
   ]
  },
  {
   "cell_type": "code",
   "execution_count": null,
   "id": "05210d50-3e03-4cf8-938b-b67f7bf9704d",
   "metadata": {},
   "outputs": [],
   "source": []
  },
  {
   "cell_type": "code",
   "execution_count": null,
   "id": "fd119881-4027-43cd-85a7-9deea196abbe",
   "metadata": {},
   "outputs": [],
   "source": []
  }
 ],
 "metadata": {
  "kernelspec": {
   "display_name": "Python 3 (ipykernel)",
   "language": "python",
   "name": "python3"
  },
  "language_info": {
   "codemirror_mode": {
    "name": "ipython",
    "version": 3
   },
   "file_extension": ".py",
   "mimetype": "text/x-python",
   "name": "python",
   "nbconvert_exporter": "python",
   "pygments_lexer": "ipython3",
   "version": "3.10.8"
  }
 },
 "nbformat": 4,
 "nbformat_minor": 5
}
