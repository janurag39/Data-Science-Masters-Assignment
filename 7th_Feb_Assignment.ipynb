{
 "cells": [
  {
   "cell_type": "markdown",
   "id": "8f478802-ad8e-4463-a30b-9d79ade06fed",
   "metadata": {},
   "source": [
    "### Q1. You are writing code for a company. The requirement of the company is that you create a python function that will check whether the password entered by the user is correct or not. The function should take the password as input and return the string “Valid Password” if the entered password follows the below-given password guidelines else it should return “Invalid Password”.\n",
    "\n",
    "Note: 1. The Password should contain at least two uppercase letters and at least two lowercase letters.\n",
    "\n",
    "2. The Password should contain at least a number and three special characters.\n",
    "\n",
    "3. The length of the password should be 10 characters long."
   ]
  },
  {
   "cell_type": "code",
   "execution_count": 109,
   "id": "af18c49d-7cc7-4a03-a9f2-500ca431a145",
   "metadata": {},
   "outputs": [],
   "source": [
    "def pswd_checker():\n",
    "    pswd = input('Enter your Password: ')\n",
    "    num_lst = [i for i in '0123456789']\n",
    "    num_count = 0\n",
    "    sp_ch_lst = [ i for i in '!\\\"#$%&\\'()*+,-./:;<=>?@[\\]^_`{|}~' ]\n",
    "    sp_ch_count = 0\n",
    "    low_ch_count = 0\n",
    "    up_ch_count = 0\n",
    "    \n",
    "    if len(pswd) >= 10:\n",
    "        pswd_lst = list(pswd)\n",
    "        # print(pswd_lst)\n",
    "        for item in pswd_lst:\n",
    "            if item in num_lst:\n",
    "                num_count += 1\n",
    "                # print('num',num_count)\n",
    "                \n",
    "            elif item in sp_ch_lst:\n",
    "                sp_ch_count += 1\n",
    "                # print('sp',sp_ch_count)\n",
    "            \n",
    "            elif item.islower() is True:\n",
    "                low_ch_count += 1\n",
    "                # print('Low_ch_count',low_ch_count)\n",
    "                \n",
    "            elif item.isupper() is True:\n",
    "                up_ch_count += 1\n",
    "                # print('up_ch_count', up_ch_count)\n",
    "        \n",
    "        \n",
    "        if num_count >= 1 and sp_ch_count >= 3 and low_ch_count >= 2 and up_ch_count >= 2:\n",
    "            return 'Valid Password'\n",
    "        \n",
    "        else: return 'Invalid Password'\n",
    "    \n",
    "    else:\n",
    "        return 'Invalid Password'\n"
   ]
  },
  {
   "cell_type": "code",
   "execution_count": 112,
   "id": "c856b0ee-75d0-47d3-841c-1de21c61019f",
   "metadata": {},
   "outputs": [
    {
     "name": "stdin",
     "output_type": "stream",
     "text": [
      "Enter your Password:  sjngjnsgjJNGLJDN55568/.,..,\n"
     ]
    },
    {
     "data": {
      "text/plain": [
       "'Valid Password'"
      ]
     },
     "execution_count": 112,
     "metadata": {},
     "output_type": "execute_result"
    }
   ],
   "source": [
    "pswd_checker()"
   ]
  },
  {
   "cell_type": "code",
   "execution_count": null,
   "id": "fa2d6eab-25de-4578-94ec-9567b361ee5f",
   "metadata": {},
   "outputs": [],
   "source": []
  },
  {
   "cell_type": "markdown",
   "id": "1412234a-8d04-47dd-8154-24ce964cc156",
   "metadata": {},
   "source": [
    "### Q2. Solve the below-given questions using at least one of the following: \n",
    "\n",
    "1. Lambda function\n",
    "2. Filter function\n",
    "3. Map function\n",
    "4. List Comprehension\n",
    "- Check if the string starts with a particular letter.\n",
    "- Check if the string is numeric.\n",
    "- Sort a list of tuples having fruit names and their quantity. [(\"mango\",99),(\"orange\",80), (\"grapes\", 1000)]\n",
    "- Find the squares of numbers from 1 to 10\n",
    "- Find the cube root of numbers from 1 to 10\n",
    "- Check if a given number is even\n",
    "- Filter odd numbers from the given list.\n",
    "\n",
    " [1,2,3,4,5,6,7,8,9,10]\n",
    "- Sort a list of integers into positive and negative integers lists.\n",
    "\n",
    " [1,2,3,4,5,6,-1,-2,-3,-4,-5,0]"
   ]
  },
  {
   "cell_type": "code",
   "execution_count": 148,
   "id": "29fec281-2ad0-4fbf-9eb1-7147cb2f7a0c",
   "metadata": {},
   "outputs": [
    {
     "data": {
      "text/plain": [
       "'String starts with particular letter'"
      ]
     },
     "execution_count": 148,
     "metadata": {},
     "output_type": "execute_result"
    }
   ],
   "source": [
    "# Check if the string starts with a particular letter.\n",
    "str_a = 'Data Science with PWSkills'\n",
    "# particular letter to check within the string is 'Data'\n",
    "starts_with = lambda x: 'String starts with particular letter' if x.lower().startswith('data') else False\n",
    "\n",
    "starts_with(str_a)"
   ]
  },
  {
   "cell_type": "code",
   "execution_count": 157,
   "id": "169eb658-bcc6-4832-8cc8-3cbbfdbd7f75",
   "metadata": {},
   "outputs": [
    {
     "name": "stdout",
     "output_type": "stream",
     "text": [
      "String is not numeric\n",
      "String is Numeric\n"
     ]
    }
   ],
   "source": [
    "# Check if the string is numeric. \n",
    "alpnum_str = '1616d5g1dg51'\n",
    "num_str = '84161846'\n",
    "is_numeric = lambda x: 'String is Numeric' if x.isnumeric() else 'String is not numeric'\n",
    "\n",
    "print(is_numeric(alpnum_str))\n",
    "print(is_numeric(num_str))"
   ]
  },
  {
   "cell_type": "code",
   "execution_count": 159,
   "id": "6b9d5255-4734-419e-80c5-a917088496d7",
   "metadata": {},
   "outputs": [
    {
     "data": {
      "text/plain": [
       "[('orange', 80), ('mango', 99), ('grapes', 1000)]"
      ]
     },
     "execution_count": 159,
     "metadata": {},
     "output_type": "execute_result"
    }
   ],
   "source": [
    "# Sort a list of tuples having fruit names and their quantity.\n",
    "lst = [(\"mango\",99),(\"orange\",80), (\"grapes\", 1000)]\n",
    "sorted(lst, key = lambda x: x[1])"
   ]
  },
  {
   "cell_type": "code",
   "execution_count": 162,
   "id": "5decf8f2-0b5e-4872-a0ec-8bb27f1e9729",
   "metadata": {},
   "outputs": [
    {
     "data": {
      "text/plain": [
       "[1, 4, 9, 16, 25, 36, 49, 64, 81, 100]"
      ]
     },
     "execution_count": 162,
     "metadata": {},
     "output_type": "execute_result"
    }
   ],
   "source": [
    "# Find the squares of numbers from 1 to 10\n",
    "list( map( lambda x: x**2, [i for i in range (1,11)] ) )"
   ]
  },
  {
   "cell_type": "code",
   "execution_count": 163,
   "id": "708282f2-ebc6-4c4d-ab3e-6215e4a3a7f0",
   "metadata": {},
   "outputs": [
    {
     "data": {
      "text/plain": [
       "[1.0,\n",
       " 1.2599210498948734,\n",
       " 1.4422495703074083,\n",
       " 1.5874010519681996,\n",
       " 1.7099759466766968,\n",
       " 1.8171205928321394,\n",
       " 1.9129311827723894,\n",
       " 2.0,\n",
       " 2.080083823051904,\n",
       " 2.1544346900318834]"
      ]
     },
     "execution_count": 163,
     "metadata": {},
     "output_type": "execute_result"
    }
   ],
   "source": [
    "# Find the cube root of numbers from 1 to 10\n",
    "import numpy as np\n",
    "\n",
    "list( map( lambda x: np.cbrt(x), [i for i in range(1,11)] ) )"
   ]
  },
  {
   "cell_type": "code",
   "execution_count": 178,
   "id": "b1351848-6853-46d3-aaf7-e0742bfe4211",
   "metadata": {},
   "outputs": [],
   "source": [
    "# Check if a given number is even\n",
    "def even_num_checker():\n",
    "    num = int(input('Enter the Numeric Value: '))\n",
    "    is_even = lambda x: 'Number is Even' if x%2 == 0 else 'Number is not Even'\n",
    "    \n",
    "    return is_even(num)\n",
    "    "
   ]
  },
  {
   "cell_type": "code",
   "execution_count": 179,
   "id": "a57669fe-2a2b-4d26-8060-4c5894fc071e",
   "metadata": {},
   "outputs": [
    {
     "name": "stdin",
     "output_type": "stream",
     "text": [
      "Enter the Numeric Value:  6\n"
     ]
    },
    {
     "data": {
      "text/plain": [
       "'Number is Even'"
      ]
     },
     "execution_count": 179,
     "metadata": {},
     "output_type": "execute_result"
    }
   ],
   "source": [
    "even_num_checker()"
   ]
  },
  {
   "cell_type": "code",
   "execution_count": 180,
   "id": "7f85140a-ecaa-434f-9a3a-65386b6faa47",
   "metadata": {},
   "outputs": [
    {
     "data": {
      "text/plain": [
       "[1, 3, 5, 7, 9]"
      ]
     },
     "execution_count": 180,
     "metadata": {},
     "output_type": "execute_result"
    }
   ],
   "source": [
    "# Filter odd numbers from the given list.\n",
    "lst_a = [1,2,3,4,5,6,7,8,9,10]\n",
    "\n",
    "list( filter( lambda x: x%2 != 0, lst_a ) )"
   ]
  },
  {
   "cell_type": "code",
   "execution_count": 8,
   "id": "0e25fd38-65de-4c6c-8ff7-54280c2439a1",
   "metadata": {},
   "outputs": [],
   "source": [
    "# Sort a list of integers into positive and negative integers lists\n",
    "lst_b = [1,2,3,4,5,6,-1,-2,-3,-4,-5,0]\n",
    "# lst_c = [1,2,3,4,5,6,-1,-2,-3,-4,-5]\n",
    "\n",
    "def test1(lst):\n",
    "    result_lst = []\n",
    "    \n",
    "    pos_num = list( filter( lambda x: x>0, lst ))\n",
    "    # print(pos_num)\n",
    "    neg_num = list( filter( lambda x: x<0, lst ))\n",
    "    # print(neg_num)\n",
    "    \n",
    "    result_lst.append(neg_num)\n",
    "    result_lst.append(0) if 0 in lst else False\n",
    "    result_lst.append(pos_num)\n",
    "    \n",
    "    return result_lst"
   ]
  },
  {
   "cell_type": "code",
   "execution_count": 9,
   "id": "299efd98-dcab-4f96-8a95-76e962df1982",
   "metadata": {},
   "outputs": [
    {
     "data": {
      "text/plain": [
       "[[-1, -2, -3, -4, -5], 0, [1, 2, 3, 4, 5, 6]]"
      ]
     },
     "execution_count": 9,
     "metadata": {},
     "output_type": "execute_result"
    }
   ],
   "source": [
    "test1(lst_b)"
   ]
  },
  {
   "cell_type": "code",
   "execution_count": null,
   "id": "7b6e5019-a3d8-4ed9-a75f-397b7d50f336",
   "metadata": {},
   "outputs": [],
   "source": []
  }
 ],
 "metadata": {
  "kernelspec": {
   "display_name": "Python 3 (ipykernel)",
   "language": "python",
   "name": "python3"
  },
  "language_info": {
   "codemirror_mode": {
    "name": "ipython",
    "version": 3
   },
   "file_extension": ".py",
   "mimetype": "text/x-python",
   "name": "python",
   "nbconvert_exporter": "python",
   "pygments_lexer": "ipython3",
   "version": "3.10.8"
  }
 },
 "nbformat": 4,
 "nbformat_minor": 5
}
