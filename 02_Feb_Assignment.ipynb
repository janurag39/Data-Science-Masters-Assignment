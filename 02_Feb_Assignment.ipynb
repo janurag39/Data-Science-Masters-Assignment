{
 "cells": [
  {
   "cell_type": "markdown",
   "id": "347004ba-d7c3-4236-9739-f4350ffe0732",
   "metadata": {},
   "source": [
    "### Q1. What are the characterstics of the tuples? Is tuple immutable ?"
   ]
  },
  {
   "cell_type": "markdown",
   "id": "c8df6cfe-3af3-47e4-8108-a580bdef26c6",
   "metadata": {},
   "source": [
    "Ans. A tuple is a collection of python objects seperated by commas. In someways tuple is similar to a list in terms of indexing, nested objects and repetition and Yes, tuples are immutable\n",
    "\n",
    "Note** While generation a single element tuple a comma should be added after the element."
   ]
  },
  {
   "cell_type": "code",
   "execution_count": null,
   "id": "2d44c40f-5df5-45ea-9956-8bff311f5ca9",
   "metadata": {},
   "outputs": [],
   "source": []
  },
  {
   "cell_type": "markdown",
   "id": "a022ce01-178c-4121-a36c-5a44fb1e8a8e",
   "metadata": {},
   "source": [
    "### Q2. What are the two tuple methods in python? Give an example of each method. Give a reason why typles have only two in-built methods as compared to list?"
   ]
  },
  {
   "cell_type": "markdown",
   "id": "c5445cf2-9d85-4e43-8edf-2fe9c4c344ff",
   "metadata": {},
   "source": [
    "Ans. The two in-built tuple methods in python are:\n",
    "1. Count() - Returns the number of times a specified value occurs in a tuple\n",
    "2. index() - Searches the tuple for a specified value and returns the position of where it was found"
   ]
  },
  {
   "cell_type": "code",
   "execution_count": 4,
   "id": "998322e3-958b-4fb1-83c8-092a68a50547",
   "metadata": {},
   "outputs": [
    {
     "data": {
      "text/plain": [
       "6"
      ]
     },
     "execution_count": 4,
     "metadata": {},
     "output_type": "execute_result"
    }
   ],
   "source": [
    "# Example for Count() method tuple\n",
    "t = ( 1,2,3,4,5,6,7,4,5,6,8,7,4,5,4,4,4 )\n",
    "# Here t.count(4) will return the number of times 4 occurs in the tuple that is 6 times\n",
    "t.count(4)"
   ]
  },
  {
   "cell_type": "code",
   "execution_count": 6,
   "id": "7fb7c00e-c9bd-4e9d-a011-4aa79471f6d2",
   "metadata": {},
   "outputs": [
    {
     "data": {
      "text/plain": [
       "3"
      ]
     },
     "execution_count": 6,
     "metadata": {},
     "output_type": "execute_result"
    }
   ],
   "source": [
    "# Example for index() method tuple\n",
    "t1 = ( 1,2,3,4,5,6,7,4,5,6,8,7,4,5,4,4,4 )\n",
    "# Here t.index(4) will return the position value where the 4 if found in the tuple for the first time\n",
    "t.index(4)"
   ]
  },
  {
   "cell_type": "markdown",
   "id": "93bc3aef-c4b0-43f5-ba82-868cbf6dc8d2",
   "metadata": {},
   "source": [
    "Tuple have only two in-built functions, this is because methods that can add or remove items are not availabe in tuple. Since tuple() is immutable, and therefore it doesn't change after the initial assigning of items. Whereas List in python are mutable and the items within the list can be reassigned as per the need."
   ]
  },
  {
   "cell_type": "code",
   "execution_count": null,
   "id": "6c27c2c9-627e-41bc-9056-68005566df43",
   "metadata": {},
   "outputs": [],
   "source": []
  },
  {
   "cell_type": "markdown",
   "id": "cc7217ed-facc-41c4-8e18-4970be6b80c3",
   "metadata": {},
   "source": [
    "### Q3. Which collection datatypes in python do not allow duplicate items? Write a code using set to remove duplicates from the given list.\n",
    "\n",
    "List = [1, 1, 1, 2, 1, 3, 1, 4, 2, 1, 2, 2, 2, 3, 2, 4, 3, 1, 3, 2, 3, 3, 3, 4, 4, 1, 4, 2, 4, 3, 4, 4]"
   ]
  },
  {
   "cell_type": "markdown",
   "id": "658d41f7-775c-4e08-ad0a-ceae34192b5b",
   "metadata": {},
   "source": [
    "Ans. The set() datatype in python don't allow duplicate items."
   ]
  },
  {
   "cell_type": "code",
   "execution_count": 8,
   "id": "ed1e3142-acb1-4538-943a-e73e4a18ed82",
   "metadata": {},
   "outputs": [
    {
     "data": {
      "text/plain": [
       "{1, 2, 3, 4}"
      ]
     },
     "execution_count": 8,
     "metadata": {},
     "output_type": "execute_result"
    }
   ],
   "source": [
    "List = [1, 1, 1, 2, 1, 3, 1, 4, 2, 1, 2, 2, 2, 3, 2, 4, 3, 1, 3, 2, 3, 3, 3, 4, 4, 1, 4, 2, 4, 3, 4, 4]\n",
    "set(List)"
   ]
  },
  {
   "cell_type": "code",
   "execution_count": 9,
   "id": "0f4ab51d-1f95-4b7a-8a11-d5781c840fd0",
   "metadata": {},
   "outputs": [
    {
     "name": "stdout",
     "output_type": "stream",
     "text": [
      "{1, 2, 3, 4}\n"
     ]
    }
   ],
   "source": [
    "# We can also save new set in some variable and reuse it again when needed\n",
    "new_set = set(List)\n",
    "print(new_set)"
   ]
  },
  {
   "cell_type": "code",
   "execution_count": null,
   "id": "c1117a48-8cbe-4db8-8a8a-cf3956d0f09d",
   "metadata": {},
   "outputs": [],
   "source": []
  },
  {
   "cell_type": "markdown",
   "id": "b16cc1e9-4939-48bf-9e3f-485bfa10a1f8",
   "metadata": {},
   "source": [
    "### Q4. Explain the difference between the union() and update() methods for a set. Give an example of each method."
   ]
  },
  {
   "cell_type": "markdown",
   "id": "27c85b46-c0a6-41f2-a747-6aca33a6a423",
   "metadata": {},
   "source": [
    "Ans. Union() and Update() in set gives the union of one or more set. The only difference those two has is Union() creates the output as completely new set containing distinct elements which can be saved to other variable and doesn't affects the two sets over which the union() was called. Whereas Update() method updates the set on which this method is called with all the distinct elements present in iterables."
   ]
  },
  {
   "cell_type": "code",
   "execution_count": 15,
   "id": "9cb95970-3203-4757-8c4a-ad0a1633d4f1",
   "metadata": {},
   "outputs": [
    {
     "name": "stdout",
     "output_type": "stream",
     "text": [
      "Union_set:  {1, 2, 3, 4, 5, 6, 7, 8}\n",
      "Set_a:  {1, 2, 3, 4}\n",
      "Set_b:  {3, 4, 5, 6, 7, 8}\n"
     ]
    }
   ],
   "source": [
    "# Example for union() method in set\n",
    "set_a = { 1,2,3,4 }\n",
    "set_b = { 3,4,5,6,7,8 }\n",
    "\n",
    "print(\"Union_set: \",set_a.union(set_b))\n",
    "# set_a isn't updated as union() method was used\n",
    "print('Set_a: ',set_a)\n",
    "print('Set_b: ',set_b)"
   ]
  },
  {
   "cell_type": "code",
   "execution_count": 16,
   "id": "640d4dbf-5ec6-4870-8713-365cd6729955",
   "metadata": {},
   "outputs": [
    {
     "name": "stdout",
     "output_type": "stream",
     "text": [
      "Update_set:  None\n",
      "Set_a:  {1, 2, 3, 4, 5, 6, 7, 8}\n",
      "Set_b:  {3, 4, 5, 6, 7, 8}\n"
     ]
    }
   ],
   "source": [
    "# Example for update() method in set\n",
    "set_a = { 1,2,3,4 }\n",
    "set_b = { 3,4,5,6,7,8 }\n",
    "\n",
    "print(\"Update_set: \",set_a.update(set_b))\n",
    "# Here set_a is updated as update() method was called over set_a\n",
    "print('Set_a: ',set_a)\n",
    "print('Set_b: ',set_b)"
   ]
  },
  {
   "cell_type": "code",
   "execution_count": null,
   "id": "d6e6a6b3-a5f6-4b4b-9fae-95b8e638ea18",
   "metadata": {},
   "outputs": [],
   "source": []
  },
  {
   "cell_type": "markdown",
   "id": "20b63b33-9023-4f30-9d5f-b3de7e9996c3",
   "metadata": {},
   "source": [
    "### Q5. What is dictionary? Give an example. Also, state whether a dictionary is ordered or unordered."
   ]
  },
  {
   "cell_type": "markdown",
   "id": "58b6e90f-77e7-4a9a-be3f-663fc8b5f698",
   "metadata": {},
   "source": [
    "Ans. Dictionary is one of the four data structure in python. Dict stores data in {key:value} pairs where key can only contain unique data and values can contain duplicated.\n",
    "Dictionary is ordered from python3.7 onwards before python3.6 the dictionary was unordered."
   ]
  },
  {
   "cell_type": "code",
   "execution_count": 18,
   "id": "2c8a4e24-0db1-46d2-b4ce-1e715d4222da",
   "metadata": {},
   "outputs": [
    {
     "name": "stdout",
     "output_type": "stream",
     "text": [
      "{'name': 'Ash', 'city': 'Del', 'Contact_number': 987654321}\n"
     ]
    }
   ],
   "source": [
    "# Example for Dictionary\n",
    "dict_1 = { 'name':'Ash', 'city':'Del', 'Contact_number': 987654321 }\n",
    "# In the above di\n",
    "print(dict_1)"
   ]
  },
  {
   "cell_type": "code",
   "execution_count": 26,
   "id": "f3b64ed0-47aa-4afb-953e-e010e5752ce2",
   "metadata": {},
   "outputs": [
    {
     "name": "stdout",
     "output_type": "stream",
     "text": [
      "{'name': 'Ash', 'city': 'Del', 'Contact_number': 987654321}\n",
      "dict_keys(['name', 'city', 'Contact_number'])\n",
      "dict_values(['Ash', 'Del', 987654321])\n"
     ]
    }
   ],
   "source": [
    "# Example for Dictionary\n",
    "dict_1 = { 'name':'Ash', 'city':'Del', 'Contact_number': 987654321 }\n",
    "print(dict_1)\n",
    "print(dict_1.keys())\n",
    "print(dict_1.values())"
   ]
  },
  {
   "cell_type": "code",
   "execution_count": null,
   "id": "60dcb1da-2a93-4711-b3a6-ff8a1306053f",
   "metadata": {},
   "outputs": [],
   "source": []
  },
  {
   "cell_type": "markdown",
   "id": "59017297-8a8b-456a-bace-53b8d207de12",
   "metadata": {},
   "source": [
    "### Q6. Can we create a nested dictionary? If so, please give an example by creating a simple one-level nested dictionary."
   ]
  },
  {
   "cell_type": "markdown",
   "id": "ed58fd94-4e48-4f53-b89d-1ff4736049ba",
   "metadata": {},
   "source": [
    "Ans. Yes, We can create a nested dictionary in key value pair where key is unique and value has the data in the form of key and value pairs. This way we can create n number of nested dict in python."
   ]
  },
  {
   "cell_type": "code",
   "execution_count": 1,
   "id": "cf9ccf3d-91f1-4eab-9d8f-935ed313ed3a",
   "metadata": {},
   "outputs": [],
   "source": [
    "# Example for nested dictionary\n",
    "dict_2 = { 'name':'Ash', 'city':'Del', 'Contact_number': 987654321 }\n",
    "dict_2['course_content'] = { 'prog_lang':'python', 'query_lang':'Sql', 'BI_tools':'Power BI' } "
   ]
  },
  {
   "cell_type": "code",
   "execution_count": 8,
   "id": "113aab6f-554e-4e3d-9c68-06d24e0dad64",
   "metadata": {},
   "outputs": [
    {
     "name": "stdout",
     "output_type": "stream",
     "text": [
      "{'name': 'Ash', 'city': 'Del', 'Contact_number': 987654321, 'course_content': {'prog_lang': 'python', 'query_lang': 'Sql', 'BI_tools': 'Power BI'}}\n"
     ]
    }
   ],
   "source": [
    "print(dict_2)"
   ]
  },
  {
   "cell_type": "code",
   "execution_count": null,
   "id": "8389e052-913b-4e2b-a73b-643fc97c4255",
   "metadata": {},
   "outputs": [],
   "source": []
  },
  {
   "cell_type": "markdown",
   "id": "5414118c-8c75-4e00-84b2-8ecf52e0d315",
   "metadata": {},
   "source": [
    "### Q7. Using setdefault() method, create key named topics in the given dictionary and also add the value of the key as this list \n",
    "\n",
    "['Python', 'Machine Learning’, 'Deep Learning']\n",
    "\n",
    "dict1 = {'language' : 'Python', 'course': 'Data Science Masters'}"
   ]
  },
  {
   "cell_type": "code",
   "execution_count": 19,
   "id": "fa086bbd-f7ae-4122-a962-27352b49ca10",
   "metadata": {},
   "outputs": [
    {
     "data": {
      "text/plain": [
       "['Python', 'Machine Learning', 'Deep Learning']"
      ]
     },
     "execution_count": 19,
     "metadata": {},
     "output_type": "execute_result"
    }
   ],
   "source": [
    "# python Dict using setdeault() method\n",
    "lst_a = ['Python', 'Machine Learning', 'Deep Learning' ]\n",
    "dict1 = {'language' : 'Python', 'course': 'Data Science Masters'}\n",
    "\n",
    "dict1.setdefault('topics', lst_a)"
   ]
  },
  {
   "cell_type": "code",
   "execution_count": 20,
   "id": "00b26545-e7d6-4e8d-a810-c3e602de53f2",
   "metadata": {},
   "outputs": [
    {
     "data": {
      "text/plain": [
       "{'language': 'Python',\n",
       " 'course': 'Data Science Masters',\n",
       " 'topics': ['Python', 'Machine Learning', 'Deep Learning']}"
      ]
     },
     "execution_count": 20,
     "metadata": {},
     "output_type": "execute_result"
    }
   ],
   "source": [
    "dict1"
   ]
  },
  {
   "cell_type": "code",
   "execution_count": null,
   "id": "33a061b6-5e27-41c0-90b7-2b6bb3cbbf47",
   "metadata": {},
   "outputs": [],
   "source": []
  },
  {
   "cell_type": "markdown",
   "id": "664651c2-9ff0-47c9-ae03-19837f183737",
   "metadata": {},
   "source": [
    "### Q8. What are the three view objects in dictionaries? Use the three in-built methods in python to display these three view objects for the given dictionary.\n",
    "\n",
    "dict1 = {'Sport': 'Cricket' , 'Teams': ['India', 'Australia', 'England', 'South Africa', 'Sri Lanka', 'New Zealand']}"
   ]
  },
  {
   "cell_type": "markdown",
   "id": "81b224b1-2a92-4454-b197-44cac9b3365d",
   "metadata": {},
   "source": [
    "Ans. The three view objects method in python dictionary are:\n",
    "1. items() - This method displays the key,value pair in the form of list\n",
    "2. keys() - This method displays all the keys within a dictionary in the form of list\n",
    "3. values() - This method displays all the values within a dictionary in the form of list"
   ]
  },
  {
   "cell_type": "code",
   "execution_count": 21,
   "id": "133ba0da-26f9-49eb-8861-3498409f255c",
   "metadata": {},
   "outputs": [],
   "source": [
    "# Example for all three view methods in dictionary\n",
    "dict1 = {'Sport': 'Cricket' , 'Teams': ['India', 'Australia', 'England', 'South Africa', 'Sri Lanka', 'New Zealand']}"
   ]
  },
  {
   "cell_type": "code",
   "execution_count": 22,
   "id": "f6475d71-43f2-4636-9b04-1add27b18f79",
   "metadata": {},
   "outputs": [
    {
     "data": {
      "text/plain": [
       "dict_items([('Sport', 'Cricket'), ('Teams', ['India', 'Australia', 'England', 'South Africa', 'Sri Lanka', 'New Zealand'])])"
      ]
     },
     "execution_count": 22,
     "metadata": {},
     "output_type": "execute_result"
    }
   ],
   "source": [
    "# items() method\n",
    "dict1.items()"
   ]
  },
  {
   "cell_type": "code",
   "execution_count": 23,
   "id": "0a868582-ec28-47cc-a447-5d85716455f5",
   "metadata": {},
   "outputs": [
    {
     "data": {
      "text/plain": [
       "dict_keys(['Sport', 'Teams'])"
      ]
     },
     "execution_count": 23,
     "metadata": {},
     "output_type": "execute_result"
    }
   ],
   "source": [
    "# keys() method\n",
    "dict1.keys()"
   ]
  },
  {
   "cell_type": "code",
   "execution_count": 25,
   "id": "a295cc51-c08a-4b34-bcc3-919cb9acf739",
   "metadata": {},
   "outputs": [
    {
     "data": {
      "text/plain": [
       "dict_values(['Cricket', ['India', 'Australia', 'England', 'South Africa', 'Sri Lanka', 'New Zealand']])"
      ]
     },
     "execution_count": 25,
     "metadata": {},
     "output_type": "execute_result"
    }
   ],
   "source": [
    "# values() method\n",
    "dict1.values()"
   ]
  },
  {
   "cell_type": "code",
   "execution_count": null,
   "id": "9caa4c16-0152-4e61-b6f2-b83132c3badc",
   "metadata": {},
   "outputs": [],
   "source": []
  }
 ],
 "metadata": {
  "kernelspec": {
   "display_name": "Python 3 (ipykernel)",
   "language": "python",
   "name": "python3"
  },
  "language_info": {
   "codemirror_mode": {
    "name": "ipython",
    "version": 3
   },
   "file_extension": ".py",
   "mimetype": "text/x-python",
   "name": "python",
   "nbconvert_exporter": "python",
   "pygments_lexer": "ipython3",
   "version": "3.10.8"
  }
 },
 "nbformat": 4,
 "nbformat_minor": 5
}
