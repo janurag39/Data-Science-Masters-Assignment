{
 "cells": [
  {
   "cell_type": "markdown",
   "id": "8946f1e8-a486-44d8-8edd-55f9acce1359",
   "metadata": {},
   "source": [
    "### Q1. What is an Exception in python? Write the difference between Exceptions and Syntax Errors.\n"
   ]
  },
  {
   "cell_type": "markdown",
   "id": "71334573-6cf9-4ba4-a1ef-8a78d47dcfe1",
   "metadata": {},
   "source": [
    "Ans. Errors are the problems in a program due to which the program will stop the execution. On the other hand, exceptions are raised when some internal events occur which changes the normal flow of the program.\n",
    "\n",
    "Two types of Error occurs in python.\n",
    "1. Syntax Error: When the proper syntax of the language is not followed then a syntax error is thrown.\n",
    "2. Logical Error (Exceptions): When in the runtime an error that occurs after passing the syntax test is called exception or logical type. For example, when we divide any number by zero then the ZeroDivisionError exception is raised, or when we import a module that does not exist then ImportError is raised.\n",
    "\n"
   ]
  },
  {
   "cell_type": "code",
   "execution_count": null,
   "id": "5b99e8e7-a7cc-418d-9457-f29f9c794a00",
   "metadata": {},
   "outputs": [],
   "source": []
  },
  {
   "cell_type": "markdown",
   "id": "33e1f8a3-97e0-487c-acf3-f99ed027b5cb",
   "metadata": {},
   "source": [
    "### Q2. What happens when an exception is not handled? Explain with an example."
   ]
  },
  {
   "cell_type": "markdown",
   "id": "d2a1afbd-399c-4b67-be8b-043799fd34a2",
   "metadata": {},
   "source": [
    "Ans. When Exceptions are not handled, we will get the error message due to which the exception occured."
   ]
  },
  {
   "cell_type": "code",
   "execution_count": 2,
   "id": "7e5ee8a2-fcae-4376-baf0-be0a9da25a96",
   "metadata": {},
   "outputs": [
    {
     "ename": "ZeroDivisionError",
     "evalue": "division by zero",
     "output_type": "error",
     "traceback": [
      "\u001b[0;31m---------------------------------------------------------------------------\u001b[0m",
      "\u001b[0;31mZeroDivisionError\u001b[0m                         Traceback (most recent call last)",
      "Cell \u001b[0;32mIn[2], line 2\u001b[0m\n\u001b[1;32m      1\u001b[0m \u001b[38;5;66;03m# example for exceptions\u001b[39;00m\n\u001b[0;32m----> 2\u001b[0m \u001b[38;5;241;43m10\u001b[39;49m\u001b[38;5;241;43m/\u001b[39;49m\u001b[38;5;241;43m0\u001b[39;49m\n\u001b[1;32m      3\u001b[0m \u001b[38;5;124;03m''' Here we will get the ZeroDivisionError because because dividing something with zero givies the infinite as the result '''\u001b[39;00m\n",
      "\u001b[0;31mZeroDivisionError\u001b[0m: division by zero"
     ]
    }
   ],
   "source": [
    "# example for exceptions\n",
    "10/0\n",
    "''' Here we will get the ZeroDivisionError because because dividing something with zero givies the infinite as the result '''"
   ]
  },
  {
   "cell_type": "code",
   "execution_count": null,
   "id": "3b41d544-b560-4471-83f0-274a3df13c2b",
   "metadata": {},
   "outputs": [],
   "source": []
  },
  {
   "cell_type": "markdown",
   "id": "a43d97df-bf9c-4923-a3af-f3a3a9488853",
   "metadata": {},
   "source": [
    "### Q3. Which Python statements are used to catch and handle exceptions? Explain with an example."
   ]
  },
  {
   "cell_type": "markdown",
   "id": "fca858f5-d164-4277-aff0-1822baed67ca",
   "metadata": {},
   "source": [
    "Ans. The try and except block in Python is used to catch and handle exceptions. Python executes code following the try statement as a “normal” part of the program. The code that follows the except statement is the program's response to any exceptions in the preceding try block."
   ]
  },
  {
   "cell_type": "code",
   "execution_count": 4,
   "id": "a6bdb6c5-d295-428c-8295-975b91b2cec0",
   "metadata": {},
   "outputs": [
    {
     "name": "stdout",
     "output_type": "stream",
     "text": [
      "Error -----> division by zero\n"
     ]
    }
   ],
   "source": [
    "# example for try and except\n",
    "try:\n",
    "    10/0\n",
    "    \n",
    "except ZeroDivisionError as zde:\n",
    "    print('Error ----->',zde)"
   ]
  },
  {
   "cell_type": "code",
   "execution_count": null,
   "id": "bdf237d5-4072-428f-9bca-138ec5f83b12",
   "metadata": {},
   "outputs": [],
   "source": []
  },
  {
   "cell_type": "markdown",
   "id": "bcaca330-c70c-49f9-a231-21d29b2f13dd",
   "metadata": {},
   "source": [
    "### Q4. Explain with an example:\n",
    "- try and else\n",
    "- finally\n",
    "- raise"
   ]
  },
  {
   "cell_type": "code",
   "execution_count": 6,
   "id": "1b5267f9-9bd2-4edf-8e7a-95bb88a34049",
   "metadata": {},
   "outputs": [
    {
     "name": "stdout",
     "output_type": "stream",
     "text": [
      "This will only get print after try block is executed without any exception\n"
     ]
    }
   ],
   "source": [
    "# try and else\n",
    "''' try and else is useful when we want some code to be executed only \n",
    "when the try block is executed without an exception '''\n",
    "\n",
    "try:\n",
    "    with open('test.txt', 'w') as f_handle:\n",
    "        f_handle.write(\"This the test.txt files 1st line of text\")\n",
    "        \n",
    "except FileNotFoundError as fnf:\n",
    "    print(fnf)\n",
    "    \n",
    "else:\n",
    "    print('This will only get print after try block is executed without any exception')"
   ]
  },
  {
   "cell_type": "code",
   "execution_count": 9,
   "id": "c1e3181a-710a-4477-86fb-6d13ee04a1ef",
   "metadata": {},
   "outputs": [
    {
     "name": "stdout",
     "output_type": "stream",
     "text": [
      "This will always be printed\n"
     ]
    },
    {
     "ename": "ZeroDivisionError",
     "evalue": "division by zero",
     "output_type": "error",
     "traceback": [
      "\u001b[0;31m---------------------------------------------------------------------------\u001b[0m",
      "\u001b[0;31mZeroDivisionError\u001b[0m                         Traceback (most recent call last)",
      "Cell \u001b[0;32mIn[9], line 6\u001b[0m\n\u001b[1;32m      2\u001b[0m \u001b[38;5;124;03m''' Finally is used when we want to executed some code and its execution doesn't depends on the \u001b[39;00m\n\u001b[1;32m      3\u001b[0m \u001b[38;5;124;03mtry block or except blocks execution'''\u001b[39;00m\n\u001b[1;32m      5\u001b[0m \u001b[38;5;28;01mtry\u001b[39;00m:\n\u001b[0;32m----> 6\u001b[0m     \u001b[38;5;241;43m10\u001b[39;49m\u001b[38;5;241;43m/\u001b[39;49m\u001b[38;5;241;43m0\u001b[39;49m\n\u001b[1;32m      8\u001b[0m \u001b[38;5;28;01mfinally\u001b[39;00m:\n\u001b[1;32m      9\u001b[0m     \u001b[38;5;28mprint\u001b[39m(\u001b[38;5;124m'\u001b[39m\u001b[38;5;124mThis will always be printed\u001b[39m\u001b[38;5;124m'\u001b[39m)\n",
      "\u001b[0;31mZeroDivisionError\u001b[0m: division by zero"
     ]
    }
   ],
   "source": [
    "# Finally\n",
    "''' Finally is used when we want to executed some code and its execution doesn't depends on the \n",
    "try block or except blocks execution'''\n",
    "\n",
    "try:\n",
    "    10/0\n",
    "\n",
    "finally:\n",
    "    print('This will always be printed')"
   ]
  },
  {
   "cell_type": "code",
   "execution_count": 40,
   "id": "4bd2cd25-de3e-4945-978c-663250ba464e",
   "metadata": {},
   "outputs": [
    {
     "ename": "TypeError",
     "evalue": "Only Integers are allowed",
     "output_type": "error",
     "traceback": [
      "\u001b[0;31m---------------------------------------------------------------------------\u001b[0m",
      "\u001b[0;31mTypeError\u001b[0m                                 Traceback (most recent call last)",
      "Cell \u001b[0;32mIn[40], line 7\u001b[0m\n\u001b[1;32m      4\u001b[0m x \u001b[38;5;241m=\u001b[39m \u001b[38;5;124m'\u001b[39m\u001b[38;5;124mAsh\u001b[39m\u001b[38;5;124m'\u001b[39m\n\u001b[1;32m      6\u001b[0m \u001b[38;5;28;01mif\u001b[39;00m \u001b[38;5;28mtype\u001b[39m(x) \u001b[38;5;129;01mis\u001b[39;00m  \u001b[38;5;129;01mnot\u001b[39;00m \u001b[38;5;28mint\u001b[39m:\n\u001b[0;32m----> 7\u001b[0m     \u001b[38;5;28;01mraise\u001b[39;00m \u001b[38;5;167;01mTypeError\u001b[39;00m(\u001b[38;5;124m'\u001b[39m\u001b[38;5;124mOnly Integers are allowed\u001b[39m\u001b[38;5;124m'\u001b[39m)\n",
      "\u001b[0;31mTypeError\u001b[0m: Only Integers are allowed"
     ]
    }
   ],
   "source": [
    "# raise\n",
    "''' raise is a keyword that is used to raise an exception '''\n",
    "\n",
    "x = 'Ash'\n",
    "\n",
    "if type(x) is  not int:\n",
    "    raise TypeError('Only Integers are allowed')"
   ]
  },
  {
   "cell_type": "code",
   "execution_count": null,
   "id": "dd1c734c-e72a-4bf4-8749-f667c357a1a0",
   "metadata": {},
   "outputs": [],
   "source": []
  },
  {
   "cell_type": "markdown",
   "id": "e592eac1-26f6-435d-bf02-cb76ea7be0a9",
   "metadata": {},
   "source": [
    "### Q5. What are Custom Exceptions in python? Why do we need Custom Exceptions? Explain with an example."
   ]
  },
  {
   "cell_type": "markdown",
   "id": "16f1da8f-9526-4dd0-99ac-874516dbd9c4",
   "metadata": {},
   "source": [
    "Ans. Custom Exceptions are user defined exceptions in which we uses the Exceptions superclass as parent and raise keyword while defining.\n",
    "\n",
    "Built-in exceptions offer information about Python-related problems, and custom exceptions will add information about project-related problems. That way, we can design our code (and traceback, if an exception is raised) in a way that combines Python code with the language of the project. "
   ]
  },
  {
   "cell_type": "code",
   "execution_count": 43,
   "id": "e51559fd-3622-4129-ac20-b89281ffc9cb",
   "metadata": {},
   "outputs": [],
   "source": [
    "# example for custom exception\n",
    "class validateage(Exception):\n",
    "    \n",
    "    def __init__(self, msg):\n",
    "        self.msg = msg\n",
    "        \n",
    "def validate_age(age):\n",
    "    if age <= 0:\n",
    "        raise validateage(\"The Age should be not be lesser than Zero\")\n",
    "        \n",
    "    elif age >= 200:\n",
    "        raise validateage(\"The Age is too High\")\n",
    "        \n",
    "    else:\n",
    "        raise validateage(\"Age is Valid\")"
   ]
  },
  {
   "cell_type": "code",
   "execution_count": 44,
   "id": "6d4b8c57-0368-4f87-9852-a3523410be6a",
   "metadata": {},
   "outputs": [
    {
     "name": "stdin",
     "output_type": "stream",
     "text": [
      "Enter the age:  999\n"
     ]
    },
    {
     "name": "stdout",
     "output_type": "stream",
     "text": [
      "The Age is too High\n"
     ]
    }
   ],
   "source": [
    "try:\n",
    "    age = int(input('Enter the age: '))\n",
    "    validate_age(age)\n",
    "    \n",
    "except validateage as e:\n",
    "    print( e )"
   ]
  },
  {
   "cell_type": "code",
   "execution_count": null,
   "id": "bfdd9b49-dda2-47f8-9876-e70bc4f9f2c8",
   "metadata": {},
   "outputs": [],
   "source": []
  },
  {
   "cell_type": "markdown",
   "id": "e0512bce-7177-4fd7-84ce-231d8365cb84",
   "metadata": {},
   "source": [
    "### Q6. Create a custom exception class. Use this class to handle an exception."
   ]
  },
  {
   "cell_type": "code",
   "execution_count": 5,
   "id": "a4772031-89da-42a9-8286-7ea21caa6da5",
   "metadata": {},
   "outputs": [
    {
     "name": "stdin",
     "output_type": "stream",
     "text": [
      "Enter the Value between 0 & 20:  -36\n"
     ]
    },
    {
     "name": "stdout",
     "output_type": "stream",
     "text": [
      "Error: Entered Quantity is Incorrect, Please provide the correct quantity that is greater than 0\n"
     ]
    }
   ],
   "source": [
    "class test_error(Exception):\n",
    "    \n",
    "    def __init__(self, value):\n",
    "        self.value = value\n",
    "        \n",
    "def test_func(quant):\n",
    "    \n",
    "    if quant <=0:\n",
    "        raise test_error('Entered Quantity is Incorrect, Please provide the correct quantity that is greater than 0')\n",
    "        \n",
    "    elif quant > 20:\n",
    "        raise test_error(\"Entered Quantity is Incorrect, Please provide the correct quantity that is Equal to or less than 20\")\n",
    "    \n",
    "    \n",
    "try:\n",
    "    quantity = int(input(\"Enter the Value between 0 & 20: \"))\n",
    "    test_func(quantity)\n",
    "    \n",
    "except test_error as te:\n",
    "    print( 'Error:',te )"
   ]
  },
  {
   "cell_type": "code",
   "execution_count": null,
   "id": "833c9b84-623e-4acd-96b9-7ac6ee2e1fa1",
   "metadata": {},
   "outputs": [],
   "source": []
  }
 ],
 "metadata": {
  "kernelspec": {
   "display_name": "Python 3 (ipykernel)",
   "language": "python",
   "name": "python3"
  },
  "language_info": {
   "codemirror_mode": {
    "name": "ipython",
    "version": 3
   },
   "file_extension": ".py",
   "mimetype": "text/x-python",
   "name": "python",
   "nbconvert_exporter": "python",
   "pygments_lexer": "ipython3",
   "version": "3.10.8"
  }
 },
 "nbformat": 4,
 "nbformat_minor": 5
}
