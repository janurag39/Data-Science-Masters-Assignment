{
 "cells": [
  {
   "cell_type": "markdown",
   "id": "4099967b-c32f-4dd6-a054-529aca185bdc",
   "metadata": {},
   "source": [
    "### Q1. Calculate the 95% confidence interval for a sample of data with a mean of 50 and a standard deviation of 5 using Python. Interpret the results."
   ]
  },
  {
   "cell_type": "code",
   "execution_count": 1,
   "id": "53ee7105-c157-4e0b-afd3-c3c0f5d9cc42",
   "metadata": {},
   "outputs": [],
   "source": [
    "# Given Parameters\n",
    "confidence_interval = 0.95\n",
    "alpha = 1 - confidence_interval\n",
    "x_bar = 50\n",
    "s = 5"
   ]
  },
  {
   "cell_type": "code",
   "execution_count": 2,
   "id": "b5562c56-c0ff-4ca5-be9c-cac6c32bd399",
   "metadata": {},
   "outputs": [],
   "source": [
    "# considering the sample size to be 30, two talied Normal distribution\n",
    "n = 30 \n",
    "df = n - 1"
   ]
  },
  {
   "cell_type": "code",
   "execution_count": 3,
   "id": "af86f036-5ea5-4df9-b181-f92158fe80da",
   "metadata": {},
   "outputs": [],
   "source": [
    "import scipy.stats as stat\n",
    "import math"
   ]
  },
  {
   "cell_type": "code",
   "execution_count": 4,
   "id": "309095b6-bfd5-4a62-b423-c85cec59464b",
   "metadata": {},
   "outputs": [],
   "source": [
    "upper_limit = round(stat.t.ppf(q=1-(alpha/2),df=df),2)\n",
    "lower_limit = -upper_limit\n",
    "L_CI = round(x_bar + (lower_limit*(s/math.sqrt(n))),2)\n",
    "\n",
    "# Upper CI value for Population mean\n",
    "U_CI = round(x_bar + (upper_limit*(s/math.sqrt(n))),2)"
   ]
  },
  {
   "cell_type": "code",
   "execution_count": 5,
   "id": "1a01c152-8bc7-453e-b003-1de4fa798d89",
   "metadata": {},
   "outputs": [
    {
     "name": "stdout",
     "output_type": "stream",
     "text": [
      "Hence, the 95% confidence interval is (48.13, 51.87)\n"
     ]
    }
   ],
   "source": [
    "print(f\"Hence, the 95% confidence interval is ({L_CI}, {U_CI})\")"
   ]
  },
  {
   "cell_type": "code",
   "execution_count": null,
   "id": "e83c14f4-194c-4f4a-9304-106131b15d09",
   "metadata": {},
   "outputs": [],
   "source": []
  },
  {
   "cell_type": "markdown",
   "id": "726c3756-481a-4689-ba95-18a2b1a3e9fd",
   "metadata": {},
   "source": [
    "### Q2. Conduct a chi-square goodness of fit test to determine if the distribution of colors of M&Ms in a bag matches the expected distribution of 20% blue, 20% orange, 20% green, 10% yellow, 10% red, and 20% brown. Use Python to perform the test with a significance level of 0.05."
   ]
  },
  {
   "cell_type": "code",
   "execution_count": 10,
   "id": "16724c22-b326-486b-b675-8f7a101119fd",
   "metadata": {},
   "outputs": [],
   "source": [
    "# Given Parameter\n",
    "''' \n",
    "blue = 20%\n",
    "Orange = 20%\n",
    "Green = 20%\n",
    "yellow = 10%\n",
    "red = 10%\n",
    "brown = 20%\n",
    "'''\n",
    "alpha = 0.05"
   ]
  },
  {
   "cell_type": "code",
   "execution_count": 46,
   "id": "73712dff-bfb1-4334-849f-f80e939d9edf",
   "metadata": {},
   "outputs": [],
   "source": [
    "# Chi-square goodness of fit test for Categorical variables\n",
    "# Defining Null and Alternate Hypothesis\n",
    "H0 = \"The color distribution for plain M&Ms is 20% blue, 20% orange, 20% green, 10% yellow, 10% red, and 20% brown.\"\n",
    "H1 = \"The color distribution for plain M&Ms is different from the distribution stated in the null hypothesis.\""
   ]
  },
  {
   "cell_type": "code",
   "execution_count": 13,
   "id": "e732a6ae-54e7-4d74-802f-75f10d6acb3d",
   "metadata": {},
   "outputs": [
    {
     "name": "stdout",
     "output_type": "stream",
     "text": [
      "[60.0, 60.0, 60.0, 30.0, 30.0, 60.0]\n"
     ]
    }
   ],
   "source": [
    "# considering the sample size to be 300\n",
    "sample_size = 300\n",
    "n=6\n",
    "dof = n - 1\n",
    "# According to sample_size = 300 the expected values for the respective colors will be\n",
    "# 20% blue of 300, 20% orange, 20% green, 10% yellow, 10% red, and 20% brown.\n",
    "expected_value = [0.2*300, 0.2*300, 0.2*300, 0.1*300, 0.1*300, 0.2*300]\n",
    "print(expected_value)"
   ]
  },
  {
   "cell_type": "code",
   "execution_count": 14,
   "id": "c74ce57f-0060-4f37-a6f5-f829247a756c",
   "metadata": {},
   "outputs": [
    {
     "name": "stdout",
     "output_type": "stream",
     "text": [
      "11.070497693516351\n"
     ]
    }
   ],
   "source": [
    "# calculated critical value for the abve chi-square test\n",
    "import scipy.stats as stat\n",
    "\n",
    "critical_value = stat.chi2.ppf(1-alpha, dof)\n",
    "print(critical_value)"
   ]
  },
  {
   "cell_type": "code",
   "execution_count": 25,
   "id": "680f443f-29fd-46fb-ad25-3c43b0317de0",
   "metadata": {},
   "outputs": [],
   "source": [
    "# Assuming the ovserved values to be\n",
    "observed_value = [50, 50, 50, 50, 50, 50]"
   ]
  },
  {
   "cell_type": "code",
   "execution_count": 26,
   "id": "678f8c3b-64bf-4746-be8e-8ce1b617f8e6",
   "metadata": {},
   "outputs": [],
   "source": [
    "# Calculating chi-square-test-statistics value\n",
    "chisquare_test_statistics, p_value = stat.chisquare(f_obs=observed_value, f_exp=expected_value)"
   ]
  },
  {
   "cell_type": "code",
   "execution_count": 27,
   "id": "4452067d-de54-4534-b589-37460d6027b2",
   "metadata": {},
   "outputs": [
    {
     "name": "stdout",
     "output_type": "stream",
     "text": [
      "33.333333333333336\n",
      "3.231222345468034e-06\n"
     ]
    },
    {
     "data": {
      "text/plain": [
       "(None, None)"
      ]
     },
     "execution_count": 27,
     "metadata": {},
     "output_type": "execute_result"
    }
   ],
   "source": [
    "print(chisquare_test_statistics), print(p_value)"
   ]
  },
  {
   "cell_type": "code",
   "execution_count": 28,
   "id": "b2d9b40a-ba93-4a53-9416-4ae9e06f4524",
   "metadata": {},
   "outputs": [
    {
     "name": "stdout",
     "output_type": "stream",
     "text": [
      "Reject the null hypothesis The color distribution for plain M&Ms is 20% blue, 20% orange, 20% green, 10% yellow, 10% red, and 20% brown.\n"
     ]
    }
   ],
   "source": [
    "if chisquare_test_statistics > critical_value:\n",
    "    print(\"Reject the null hypothesis\", H0)\n",
    "else:\n",
    "    print(\"Accept the null hypothesis\", H0)"
   ]
  },
  {
   "cell_type": "code",
   "execution_count": null,
   "id": "8b33b20a-651c-44b0-8b51-6cee3f3fb4a0",
   "metadata": {},
   "outputs": [],
   "source": []
  },
  {
   "attachments": {
    "f30ca63a-261b-40bf-a8ff-343a032796aa.png": {
     "image/png": "[encoded data removed]"
    }
   },
   "cell_type": "markdown",
   "id": "5d96f3ae-97d3-46e6-909c-128b276452ed",
   "metadata": {},
   "source": [
    "### Q3. Use Python to calculate the chi-square statistic and p-value for a contingency table with the following data:\n",
    "\n",
    "![mar12Q3.png](attachment:f30ca63a-261b-40bf-a8ff-343a032796aa.png)\n",
    "\n",
    "Interpret the results of the test."
   ]
  },
  {
   "cell_type": "code",
   "execution_count": 6,
   "id": "a38cb31b-1d48-45d7-830b-5b3d7e8f5d69",
   "metadata": {},
   "outputs": [],
   "source": [
    "# Given parameter\n",
    "observed_data = [[20, 15], [10, 25], [15, 20]]"
   ]
  },
  {
   "cell_type": "code",
   "execution_count": 7,
   "id": "38e04415-7d2b-47aa-ae3e-5bd364b4db12",
   "metadata": {},
   "outputs": [],
   "source": [
    "import scipy.stats as stat\n",
    "\n",
    "chisquare_test_stat, p_value, dof, expected = stat.chi2_contingency(observed_data)"
   ]
  },
  {
   "cell_type": "code",
   "execution_count": 8,
   "id": "9ffd626e-f844-4d88-8399-86c2a746fc26",
   "metadata": {},
   "outputs": [
    {
     "name": "stdout",
     "output_type": "stream",
     "text": [
      "p value is 0.05411376622282158\n",
      "Independent (H0 holds true)\n"
     ]
    }
   ],
   "source": [
    "# Assuming significance level to be 0.05\n",
    "alpha = 0.05\n",
    "print(\"p value is\", p_value)\n",
    "if p_value <= alpha:\n",
    "    print('Dependent (reject H0)')\n",
    "else:\n",
    "    print('Independent (H0 holds true)')"
   ]
  },
  {
   "cell_type": "code",
   "execution_count": 9,
   "id": "32df45a4-cd39-41e1-bf0b-480b8e72ee88",
   "metadata": {},
   "outputs": [
    {
     "data": {
      "text/plain": [
       "'Therefore, we accept H0, which shows that our variables do not have a significant relation.'"
      ]
     },
     "execution_count": 9,
     "metadata": {},
     "output_type": "execute_result"
    }
   ],
   "source": [
    "\"Therefore, we accept H0, which shows that our variables do not have a significant relation.\""
   ]
  },
  {
   "cell_type": "code",
   "execution_count": null,
   "id": "596b9a02-ff7c-43a7-97f9-92afb98f4479",
   "metadata": {},
   "outputs": [],
   "source": []
  },
  {
   "cell_type": "markdown",
   "id": "8bd27f28-59e7-4c72-9152-3063228bb40a",
   "metadata": {},
   "source": [
    "### Q4. A study of the prevalence of smoking in a population of 500 individuals found that 60 individuals smoked. Use Python to calculate the 95% confidence interval for the true proportion of individuals in the population who smoke."
   ]
  },
  {
   "cell_type": "code",
   "execution_count": 107,
   "id": "7bbf3390-4deb-4c16-b137-6d785c911caa",
   "metadata": {},
   "outputs": [],
   "source": [
    "# Given parameters \n",
    "n = 500 # Sample Size\n",
    "x_bar = 60 # Average Smoker\n",
    "confidence_interval = 0.95\n",
    "alpha = 1 - confidence_interval\n",
    "dof = n - 1\n",
    "p = 60/500 # Sample Proportion"
   ]
  },
  {
   "cell_type": "code",
   "execution_count": 90,
   "id": "c5bdcbd3-4e5a-4863-b7bb-88f609847b78",
   "metadata": {},
   "outputs": [],
   "source": [
    "import scipy.stats as stat\n",
    "import math"
   ]
  },
  {
   "cell_type": "code",
   "execution_count": 93,
   "id": "8b14dfcc-0202-4dbe-8471-f3b9d9c1aee3",
   "metadata": {},
   "outputs": [],
   "source": [
    "# considering two tailed t-test\n",
    "upper_limit = round(stat.t.ppf(q=1-(alpha/2),df=dof),2)\n",
    "lower_limit = -upper_limit\n",
    "L_CI = round(p + (lower_limit*(math.sqrt((p*(1-p))/n))),2)\n",
    "\n",
    "# Upper CI value for Population mean\n",
    "U_CI = round(p + (upper_limit*(math.sqrt((p*(1-p))/n))),2)"
   ]
  },
  {
   "cell_type": "code",
   "execution_count": 97,
   "id": "98cde753-3b28-4979-86cd-28d3bba307b1",
   "metadata": {},
   "outputs": [
    {
     "name": "stdout",
     "output_type": "stream",
     "text": [
      "Hence, With 95% confidence interval the true proportion of individuals in the population who smoke is (0.09, 0.15)\n"
     ]
    }
   ],
   "source": [
    "print(f\"Hence, With 95% confidence interval the true proportion of individuals in the population who smoke is ({L_CI}, {U_CI})\")"
   ]
  },
  {
   "cell_type": "code",
   "execution_count": null,
   "id": "7b4f504a-3c85-4344-a7e5-6dff05f02c65",
   "metadata": {},
   "outputs": [],
   "source": []
  },
  {
   "cell_type": "markdown",
   "id": "9e78b090-d84a-41b1-aa5f-b0a199c54202",
   "metadata": {},
   "source": [
    "### Q5. Calculate the 90% confidence interval for a sample of data with a mean of 75 and a standard deviation of 12 using Python. Interpret the results."
   ]
  },
  {
   "cell_type": "code",
   "execution_count": 10,
   "id": "c6db7570-906c-4b9a-a32c-1befe5ec00d6",
   "metadata": {},
   "outputs": [],
   "source": [
    "# Given parameters \n",
    "n = 50 # Assuming Sample Size\n",
    "x_bar = 75\n",
    "s = 12\n",
    "confidence_interval = 0.90\n",
    "alpha = 1 - confidence_interval\n",
    "dof = n - 1"
   ]
  },
  {
   "cell_type": "code",
   "execution_count": 11,
   "id": "71e0504e-c8cb-4542-a5a4-65dae1b18a03",
   "metadata": {},
   "outputs": [],
   "source": [
    "import scipy.stats as stat\n",
    "import math"
   ]
  },
  {
   "cell_type": "code",
   "execution_count": 12,
   "id": "23b67e19-c55f-432e-8208-7a8bcf008759",
   "metadata": {},
   "outputs": [],
   "source": [
    "# considering two tailed t-test\n",
    "upper_limit = round(stat.t.ppf(q=1-(alpha/2),df=dof),2)\n",
    "lower_limit = -upper_limit\n",
    "L_CI = round(x_bar + (lower_limit*(s/math.sqrt(n))),2)\n",
    "\n",
    "# Upper CI value for Population mean\n",
    "U_CI = round(x_bar + (upper_limit*(s/math.sqrt(n))),2)"
   ]
  },
  {
   "cell_type": "code",
   "execution_count": 13,
   "id": "17b4f44e-d8e4-4ba9-b8ad-846d65f3509c",
   "metadata": {},
   "outputs": [
    {
     "name": "stdout",
     "output_type": "stream",
     "text": [
      "Hence, the 95% confidence interval is (72.15, 77.85)\n"
     ]
    }
   ],
   "source": [
    "print(f\"Hence, the 95% confidence interval is ({L_CI}, {U_CI})\")"
   ]
  },
  {
   "cell_type": "code",
   "execution_count": null,
   "id": "1069843f-12fb-46c5-8ac7-bda76c65928c",
   "metadata": {},
   "outputs": [],
   "source": []
  },
  {
   "cell_type": "markdown",
   "id": "3e272efd-f58b-4f0a-bde5-94fe62d2d19b",
   "metadata": {},
   "source": [
    "### Q6. Use Python to plot the chi-square distribution with 10 degrees of freedom. Label the axes and shade the area corresponding to a chi-square statistic of 15."
   ]
  },
  {
   "cell_type": "code",
   "execution_count": 15,
   "id": "aa04d708-2508-4b5f-b234-e8d4f73c89e2",
   "metadata": {},
   "outputs": [],
   "source": [
    "import matplotlib.pyplot as plt\n",
    "import numpy as np\n",
    "import scipy.stats as stat"
   ]
  },
  {
   "cell_type": "code",
   "execution_count": 16,
   "id": "450d28d6-6da8-43a0-8c5e-54add9a84e5a",
   "metadata": {},
   "outputs": [],
   "source": [
    "dof = 10\n",
    "chi_square_statistic = 15"
   ]
  },
  {
   "cell_type": "code",
   "execution_count": 43,
   "id": "53406cd1-bb29-4c05-b597-035c0c8c0dfd",
   "metadata": {},
   "outputs": [
    {
     "data": {
      "image/png": "[encoded data removed]",
      "text/plain": [
       "<Figure size 640x480 with 1 Axes>"
      ]
     },
     "metadata": {},
     "output_type": "display_data"
    }
   ],
   "source": [
    "x = np.arange(0, 40, 0.001)\n",
    "plt.plot(x, stat.chi2.pdf(x, df=dof))\n",
    "plt.ylabel('y-axis')\n",
    "plt.xlabel('x-axis')\n",
    "plt.show()"
   ]
  },
  {
   "cell_type": "code",
   "execution_count": null,
   "id": "50579652-1dfe-4049-82d0-8d8f1df3340e",
   "metadata": {},
   "outputs": [],
   "source": []
  },
  {
   "cell_type": "markdown",
   "id": "eba8c4e7-48dc-4a84-b6c0-06d9b9a3518b",
   "metadata": {},
   "source": [
    "### Q7. A random sample of 1000 people was asked if they preferred Coke or Pepsi. Of the sample, 520 preferred Coke. Calculate a 99% confidence interval for the true proportion of people in the population who prefer Coke."
   ]
  },
  {
   "cell_type": "code",
   "execution_count": 98,
   "id": "8732201b-8632-402f-bad3-2e968ac8a075",
   "metadata": {},
   "outputs": [],
   "source": [
    "# Given Parameters\n",
    "n = 1000\n",
    "coke = 520\n",
    "pepsi = n - coke\n",
    "confidence_interval = 0.99\n",
    "alpha = 1 - confidence_interval\n",
    "dof = n - 1"
   ]
  },
  {
   "cell_type": "code",
   "execution_count": 108,
   "id": "e5b1ba64-be69-4e08-8621-5f9444bd98be",
   "metadata": {},
   "outputs": [],
   "source": [
    "import scipy.stats as stat\n",
    "import math\n",
    "import pandas as pd"
   ]
  },
  {
   "cell_type": "code",
   "execution_count": 109,
   "id": "0187ee58-6a48-4399-b2f5-267b3a12ebac",
   "metadata": {},
   "outputs": [],
   "source": [
    "p = 520/1000 # sample proportion\n",
    "temp_val = n*p*(1-p)"
   ]
  },
  {
   "cell_type": "code",
   "execution_count": 110,
   "id": "2180132f-5a79-4ad0-9eb4-6ef3cab33914",
   "metadata": {},
   "outputs": [
    {
     "name": "stdout",
     "output_type": "stream",
     "text": [
      "True\n"
     ]
    }
   ],
   "source": [
    "if temp_val >= 10:\n",
    "    print(True)"
   ]
  },
  {
   "cell_type": "code",
   "execution_count": 111,
   "id": "3afb6928-f7dd-444d-a81c-9100d2935856",
   "metadata": {},
   "outputs": [],
   "source": [
    "# Taking the above distribution as Normal Distribution\n",
    "# z_score = 1.96, from z-table\n",
    "t_score = round(stat.t.ppf(q=1-(alpha/2),df=dof),2)\n",
    "margin_of_error = t_score*math.sqrt((p*(1-p))/n)"
   ]
  },
  {
   "cell_type": "code",
   "execution_count": 112,
   "id": "73f3da4c-f1d3-4cdd-bc9e-351eb363d46d",
   "metadata": {},
   "outputs": [],
   "source": [
    "upper_bound = round(p + margin_of_error,2)\n",
    "lower_bound = round(p - margin_of_error,2)"
   ]
  },
  {
   "cell_type": "code",
   "execution_count": 113,
   "id": "390167c2-4f09-45e8-870d-09e6aabdde9b",
   "metadata": {},
   "outputs": [
    {
     "name": "stdout",
     "output_type": "stream",
     "text": [
      "Therefore, with 99% confidence interval the true proportion of people in the population who prefer Coke is (0.48, 0.56)\n"
     ]
    }
   ],
   "source": [
    "print(f\"Therefore, with 99% confidence interval the true proportion of people in the population who prefer Coke is ({lower_bound}, {upper_bound})\")"
   ]
  },
  {
   "cell_type": "code",
   "execution_count": null,
   "id": "fa217bc9-6990-44aa-ac86-3b7c6345d22b",
   "metadata": {},
   "outputs": [],
   "source": []
  },
  {
   "cell_type": "markdown",
   "id": "e2db9eb7-b166-40c0-bd89-a9ee2be9dd2e",
   "metadata": {},
   "source": [
    "### Q8. A researcher hypothesizes that a coin is biased towards tails. They flip the coin 100 times and observe 45 tails. Conduct a chi-square goodness of fit test to determine if the observed frequencies match the expected frequencies of a fair coin. Use a significance level of 0.05."
   ]
  },
  {
   "cell_type": "code",
   "execution_count": 2,
   "id": "d90e7286-7e49-4d9d-a652-a17194a962e0",
   "metadata": {},
   "outputs": [],
   "source": [
    "import scipy.stats as stat\n",
    "import math\n",
    "\n",
    "# Given parameters\n",
    "total_flips = 100\n",
    "observed_flips = [45,55] # obsered_value\n",
    "alpha = 0.05\n",
    "n = 2 # total categorical variables i.e (heads, tails)\n",
    "dof = n - 1"
   ]
  },
  {
   "cell_type": "code",
   "execution_count": 3,
   "id": "2e89640f-3c40-4db3-98cd-dbfa677f45ff",
   "metadata": {},
   "outputs": [],
   "source": [
    "expected_flips = [50,50]\n",
    "\n",
    "# Defining Null and Alternate Hypothesis\n",
    "H0 = \"Observed frequency matches the Expected frequency\"\n",
    "H1 = \"Observed frequency doesn't matches the Expected frequency\""
   ]
  },
  {
   "cell_type": "code",
   "execution_count": 4,
   "id": "d22c3dff-c993-46a5-bbdd-3a8ccd9c74b2",
   "metadata": {},
   "outputs": [],
   "source": [
    "# chi_square_statistic = ((tails_observed - tails_expected)**2)/tails_expected\n",
    "chi_square_statistic, p_value = stat.chisquare(f_obs=observed_flips, f_exp=expected_flips)\n",
    "critical_value=stat.chi2.ppf(1-alpha,dof)"
   ]
  },
  {
   "cell_type": "code",
   "execution_count": 5,
   "id": "4f8042c6-8d9c-41b5-a990-fbebfe3dbf32",
   "metadata": {},
   "outputs": [
    {
     "name": "stdout",
     "output_type": "stream",
     "text": [
      "Accept the null hypothesis\n"
     ]
    }
   ],
   "source": [
    "if chi_square_statistic > critical_value:\n",
    "    print(\"Reject the null hypothesis\")\n",
    "else:\n",
    "    print(\"Accept the null hypothesis\")"
   ]
  },
  {
   "cell_type": "code",
   "execution_count": null,
   "id": "6deb0047-9efe-4a65-be00-4c05cade6b7e",
   "metadata": {},
   "outputs": [],
   "source": []
  },
  {
   "attachments": {
    "ba9a0b56-ba36-49a4-be93-f1d2c7436baf.png": {
     "image/png": "[encoded data removed]"
    }
   },
   "cell_type": "markdown",
   "id": "48fab0bd-d7a8-4690-85ce-8b5e1661756f",
   "metadata": {},
   "source": [
    "### Q9. A study was conducted to determine if there is an association between smoking status (smoker or non-smoker) and lung cancer diagnosis (yes or no). The results are shown in the contingency table below. Conduct a chi-square test for independence to determine if there is a significant association between smoking status and lung cancer diagnosis.\n",
    "\n",
    "![mar12Q9.png](attachment:ba9a0b56-ba36-49a4-be93-f1d2c7436baf.png)\n",
    "\n",
    "Use a significance level of 0.05."
   ]
  },
  {
   "cell_type": "code",
   "execution_count": 34,
   "id": "b66f0800-37ff-4ff6-bf9e-48117c2fb35a",
   "metadata": {},
   "outputs": [],
   "source": [
    "observed_dataset = [[60,140],[30,170]]"
   ]
  },
  {
   "cell_type": "code",
   "execution_count": 35,
   "id": "08fd636b-6d12-4d5b-a90f-902feeab71af",
   "metadata": {},
   "outputs": [],
   "source": [
    "# defining Null and Alternate Hypothesis\n",
    "H0 = \"Smoking status and Lung cancer diagnosis are independent of eachother\"\n",
    "H1 = \"Smoking status and Lung cancer diagnosis are dependent of eachother\""
   ]
  },
  {
   "cell_type": "code",
   "execution_count": 36,
   "id": "00c37286-fb2a-4352-b288-46468422d4f1",
   "metadata": {},
   "outputs": [],
   "source": [
    "import scipy.stats as stat\n",
    "\n",
    "chisquare_test_stat, p_value, dof, expected = stat.chi2_contingency(observed_dataset)"
   ]
  },
  {
   "cell_type": "code",
   "execution_count": 37,
   "id": "ea66cde3-3c89-4b16-b842-a6a6c9aa9bae",
   "metadata": {},
   "outputs": [
    {
     "name": "stdout",
     "output_type": "stream",
     "text": [
      "p value is 0.0005158863863703744\n",
      "Dependent (reject H0) Smoking status and Lung cancer diagnosis are dependent of eachother\n"
     ]
    }
   ],
   "source": [
    "alpha = 0.05\n",
    "print(\"p value is\", p_value)\n",
    "if p_value <= alpha:\n",
    "    print('Dependent (reject H0)', H1)\n",
    "else:\n",
    "    print('Independent (H0 holds true)', H0)"
   ]
  },
  {
   "cell_type": "code",
   "execution_count": null,
   "id": "9c264d35-4aa3-4e56-a8d1-ab9795a2ea8f",
   "metadata": {},
   "outputs": [],
   "source": []
  },
  {
   "attachments": {
    "a81d1d1c-05f6-4ff9-b046-a4370e648ba3.png": {
     "image/png": "[encoded data removed]"
    }
   },
   "cell_type": "markdown",
   "id": "f0d67557-635a-4dad-8129-d677bb901989",
   "metadata": {},
   "source": [
    "### Q10. A study was conducted to determine if the proportion of people who prefer milk chocolate, dark chocolate, or white chocolate is different in the U.S. versus the U.K. A random sample of 500 people from the U.S. and a random sample of 500 people from the U.K. were surveyed. The results are shown in the contingency table below. Conduct a chi-square test for independence to determine if there is a significant association between chocolate preference and country of origin.\n",
    "\n",
    "![mar12Q10.png](attachment:a81d1d1c-05f6-4ff9-b046-a4370e648ba3.png)\n",
    "\n",
    "Use a significance level of 0.01."
   ]
  },
  {
   "cell_type": "code",
   "execution_count": 38,
   "id": "1bff33e3-607f-412a-b786-c3b121fd2d13",
   "metadata": {},
   "outputs": [],
   "source": [
    "# defining Null and Alternate Hypothesis\n",
    "H0 = \"Chocolate prefrence and Country of Origin diagnosis are independent of eachother\"\n",
    "H1 = \"Chocolate prefrence and Country of Origin diagnosis are dependent of eachother\""
   ]
  },
  {
   "cell_type": "code",
   "execution_count": 39,
   "id": "cfcae067-0ccc-49a3-94ab-c0b9161efd64",
   "metadata": {},
   "outputs": [],
   "source": [
    "observed_dataset = [[200,150,150],[225,175,100]]"
   ]
  },
  {
   "cell_type": "code",
   "execution_count": 40,
   "id": "0f47ed8d-c205-4930-8128-6e680565e5ba",
   "metadata": {},
   "outputs": [],
   "source": [
    "import scipy.stats as stat\n",
    "\n",
    "chisquare_test_stat, p_value, dof, expected = stat.chi2_contingency(observed_dataset)"
   ]
  },
  {
   "cell_type": "code",
   "execution_count": 41,
   "id": "38fd08a0-259d-4ecd-a681-7a111d29bd0a",
   "metadata": {},
   "outputs": [
    {
     "name": "stdout",
     "output_type": "stream",
     "text": [
      "p value is 0.0012348168997745918\n",
      "Dependent (reject H0) Chocolate prefrence and Country of Origin diagnosis are dependent of eachother\n"
     ]
    }
   ],
   "source": [
    "alpha = 0.01\n",
    "print(\"p value is\", p_value)\n",
    "if p_value <= alpha:\n",
    "    print('Dependent (reject H0)', H1)\n",
    "else:\n",
    "    print('Independent (H0 holds true)', H0)"
   ]
  },
  {
   "cell_type": "code",
   "execution_count": null,
   "id": "28866aac-2bac-4413-83f0-d772454f97e4",
   "metadata": {},
   "outputs": [],
   "source": []
  },
  {
   "cell_type": "markdown",
   "id": "2bd0fa41-3560-4960-b725-98cb86bfa4ab",
   "metadata": {
    "tags": []
   },
   "source": [
    "### Q11. A random sample of 30 people was selected from a population with an unknown mean and standard deviation. The sample mean was found to be 72 and the sample standard deviation was found to be 10. Conduct a hypothesis test to determine if the population mean is significantly different from 70. Use a significance level of 0.05."
   ]
  },
  {
   "cell_type": "code",
   "execution_count": 50,
   "id": "25e5b972-b73b-4b91-a9c1-318716f50299",
   "metadata": {},
   "outputs": [],
   "source": [
    "# Given parameters\n",
    "n = 30\n",
    "x_bar = 72\n",
    "s = 10\n",
    "alpha = 0.05\n",
    "dof = n - 1"
   ]
  },
  {
   "cell_type": "code",
   "execution_count": 51,
   "id": "405a02c8-4c1b-4907-aa75-2039f7b2eda9",
   "metadata": {},
   "outputs": [],
   "source": [
    "import scipy.stats as stat\n",
    "import math"
   ]
  },
  {
   "cell_type": "code",
   "execution_count": 53,
   "id": "8279e09e-fe6d-4285-a783-746dc0cf39de",
   "metadata": {},
   "outputs": [
    {
     "name": "stdout",
     "output_type": "stream",
     "text": [
      "With 95% Confidence interval the population mean lie between 68.27 and 75.73\n"
     ]
    }
   ],
   "source": [
    "# t-test\n",
    "t_score = stat.t.ppf(q=1-(alpha/2), df=dof)\n",
    "margin_of_error = t_score*(s/math.sqrt(n))\n",
    "\n",
    "upper_bound = round(x_bar + margin_of_error,2)\n",
    "lower_bound = round(x_bar - margin_of_error,2)\n",
    "\n",
    "print(f\"With 95% Confidence interval the population mean lie between {lower_bound} and {upper_bound}\")"
   ]
  },
  {
   "cell_type": "code",
   "execution_count": null,
   "id": "c334dca4-72e7-4c4e-bd89-df808cdcd390",
   "metadata": {},
   "outputs": [],
   "source": []
  },
  {
   "cell_type": "code",
   "execution_count": null,
   "id": "d746bbf2-8465-4cfd-b507-e0f74fd9af61",
   "metadata": {},
   "outputs": [],
   "source": []
  }
 ],
 "metadata": {
  "kernelspec": {
   "display_name": "Python 3 (ipykernel)",
   "language": "python",
   "name": "python3"
  },
  "language_info": {
   "codemirror_mode": {
    "name": "ipython",
    "version": 3
   },
   "file_extension": ".py",
   "mimetype": "text/x-python",
   "name": "python",
   "nbconvert_exporter": "python",
   "pygments_lexer": "ipython3",
   "version": "3.10.8"
  }
 },
 "nbformat": 4,
 "nbformat_minor": 5
}
