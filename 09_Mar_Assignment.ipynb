{
 "cells": [
  {
   "cell_type": "markdown",
   "id": "4b1ab3da-a9be-486b-8354-184541b7a685",
   "metadata": {},
   "source": [
    "### Q1: What are the Probability Mass Function (PMF) and Probability Density Function (PDF)? Explain with an example."
   ]
  },
  {
   "cell_type": "markdown",
   "id": "38856b38-8429-4765-9d29-9e9a0bcc837e",
   "metadata": {},
   "source": [
    "Ans.\n",
    "1. **Probability Mass Function (PMF):**\n",
    "    - The *Probability Mass Function (PMF)* is also called a probability function or frequency function which characterizes the distribution of a discrete random variable. Let X be a discrete random variable of a function, then the probability mass function of a random variable X is given by\n",
    "        \n",
    "        Px (x) = P( X=x ), For all x belongs to the range of X\n",
    "        \n",
    "        example: Rolling a Die - { 1,2,3,4,5,6 }\n",
    "        \n",
    "        Here, Pr(X <= 4) = Pr(X = 1) + Pr(X = 2) + Pr(X = 3) + Pr(X = 4)\n",
    "        Pr(X <= 4) = 4/6 = 2/3\n",
    "        \n",
    "2. **Probability Density Function (PDF):**\n",
    "    - In probability theory, a *probability density function (PDF)* is used to define the continuous random variable’s probability coming within a distinct range of values, as opposed to taking on any one value. The function explains the probability density function of normal distribution and how mean and deviation exists.\n",
    "    \n",
    "        example: Say we have a continuous random variable whose probability density function is given by f(x) = x + 2, when 0 < x ≤ 2. We want to find P(0.5 < X < 1). Then we integrate x + 2 within the limits 0.5 and 1. This gives us 1.375. Thus, the probability that the continuous random variable lies between 0.5 and 1 is 1.375."
   ]
  },
  {
   "cell_type": "code",
   "execution_count": null,
   "id": "1c7f7681-d091-44d6-af04-8ceca7208a60",
   "metadata": {},
   "outputs": [],
   "source": []
  },
  {
   "cell_type": "markdown",
   "id": "24baf67b-be11-4189-b601-2c482891af05",
   "metadata": {},
   "source": [
    "### Q2: What is Cumulative Density Function (CDF)? Explain with an example. Why CDF is used?"
   ]
  },
  {
   "cell_type": "markdown",
   "id": "c6534ce1-5253-48a3-8e5e-f7327862fa3c",
   "metadata": {},
   "source": [
    "Ans. **Cumulative Distribution Function:**\n",
    "- The Cumulative Distribution Function (CDF), of a real-valued random variable X, evaluated at x, is the probability function that X will take a value less than or equal to x. It is used to describe the probability distribution of random variables in a table.\n",
    "\n",
    "    Fn(x) = P(X ≤ x)\n",
    "    \n",
    "    In other words, CDF finds the cumulative probability for the given value. To determine the probability of a random variable, it is used and also to compare the probability between values under certain conditions. For discrete distribution functions, CDF gives the probability values till what we specify and for continuous distribution functions, it gives the area under the probability density function up to the given value specified."
   ]
  },
  {
   "cell_type": "code",
   "execution_count": null,
   "id": "2d67714b-bcb8-426c-abe2-531ee69b5610",
   "metadata": {},
   "outputs": [],
   "source": []
  },
  {
   "cell_type": "markdown",
   "id": "1e200bd7-b8b6-433f-a736-35cdde2c30d8",
   "metadata": {},
   "source": [
    "### Q3: What are some examples of situations where the normal distribution might be used as a model? Explain how the parameters of the normal distribution relate to the shape of the distribution."
   ]
  },
  {
   "cell_type": "markdown",
   "id": "ba328abd-d71e-4d55-ba2d-fb0e2eba003b",
   "metadata": {},
   "source": [
    "Ans. **Common Examples of situations where *Normal Distribution* can be applied:**\n",
    "1. Height: The height of people is an example of normal distribution. Most of the people in a specific population are of average height. The number of people taller and shorter than the average height people is almost equal, and a very small number of people are either extremely tall or extremely short. Several genetic and environmental factors influence height. Therefore, it follows the normal distribution.\n",
    "\n",
    "2. Rolling a Dice: A fair rolling of dice is also a good example of normal distribution. In an experiment, it has been found that when a dice is rolled 100 times, chances to get ‘1’ are 15-18% and if we roll the dice 1000 times, the chances to get ‘1’ is, again, the same, which averages to 16.7% (1/6). If we roll two dice simultaneously, there are 36 possible combinations. The probability of rolling ‘1’ (with six possible combinations) again averages to around 16.7%, i.e., (6/36). More the number of dice more elaborate will be the normal distribution graph.\n",
    "\n",
    "3. IQ: In this scenario of increasing competition, most parents, as well as children, want to analyze the Intelligent Quotient level. Well, the IQ of a particular population is a normal distribution curve; where the IQ of a majority of the people in the population lies in the normal range whereas the IQ of the rest of the population lives in the deviated range.\n",
    "\n",
    "4. Blood Pressure: Blood pressure generally follows a Gaussian distribution (normal) in the general population, and it makes Gaussian mixture models a suitable candidate for modelling blood pressure behaviour.\n",
    "\n",
    "**Parameters of the Normal Distribution that relates to its shape:**\n",
    "- The two main parameters of a (normal) distribution are the mean and standard deviation. The parameters determine the shape and probabilities of the distribution. The shape of the distribution changes as the parameter values change.\n",
    "\n",
    "1. Mean: The mean is used by researchers as a measure of central tendency. It can be used to describe the distribution of variables measured as ratios or intervals. In a normal distribution graph, the mean defines the location of the peak, and most of the data points are clustered around the mean. Any changes made to the value of the mean move the curve either to the left or right along the X-axis.\n",
    "\n",
    "2. Standard Deviation: The standard deviation measures the dispersion of the data points relative to the mean. It determines how far away from the mean the data points are positioned and represents the distance between the mean and the observations. On the graph, the standard deviation determines the width of the curve, and it tightens or expands the width of the distribution along the x-axis. Typically, a small standard deviation relative to the mean produces a steep curve, while a large standard deviation relative to the mean produces a flatter curve."
   ]
  },
  {
   "cell_type": "code",
   "execution_count": null,
   "id": "aab1f0b0-0b76-496d-8886-b97fb581f3c2",
   "metadata": {},
   "outputs": [],
   "source": []
  },
  {
   "cell_type": "markdown",
   "id": "fca9869c-468a-489e-a471-85b7fd08faf3",
   "metadata": {},
   "source": [
    "### Q4: Explain the importance of Normal Distribution. Give a few real-life examples of Normal Distribution."
   ]
  },
  {
   "cell_type": "markdown",
   "id": "9cab2be8-6004-489e-be37-d58285426a22",
   "metadata": {},
   "source": [
    "Ans. **Normal Distribution**:\n",
    "- The normal distribution is also termed as a gaussian distribution. It represents the data from the mean position. In the graph form normal distribution appears as a bell curve.\n",
    "- The normal distribution is widely used in financing industries. To examine the price action of the stocks and to account for the returns in the assent class.\n",
    "- The normal distribution is symmetric and has a skewness of zero. The skewness measures the symmetry of a distribution with respect to the normal distribution.\n",
    "- The normal distribution is an important probability distribution in math and statistics because many continuous data in nature and psychology display this bell-shaped curve when compiled and graphed.\n",
    "\n",
    "Example: Height - The height of people is an example of normal distribution. Most of the people in a specific population are of average height. The number of people taller and shorter than the average height people is almost equal, and a very small number of people are either extremely tall or extremely short. Several genetic and environmental factors influence height. Therefore, it follows the normal distribution."
   ]
  },
  {
   "cell_type": "code",
   "execution_count": null,
   "id": "f890b8d4-256c-40fa-aa56-7d0eee6d0a9a",
   "metadata": {},
   "outputs": [],
   "source": []
  },
  {
   "cell_type": "markdown",
   "id": "0fc9912d-6d97-429e-9f3f-8c38029dd782",
   "metadata": {},
   "source": [
    "### Q5: What is Bernaulli Distribution? Give an Example. What is the difference between Bernoulli Distribution and Binomial Distribution?"
   ]
  },
  {
   "cell_type": "markdown",
   "id": "c51afcc3-044e-489a-bdc4-90234f79a1d3",
   "metadata": {},
   "source": [
    "Ans. **Bernoulli distribution** is a discrete probability distribution where the Bernoulli random variable can have only 0 or 1 as the outcome. p is the probability of success and 1 - p is the probability of failure. The mean of a Bernoulli distribution is E[X] = p and the variance, Var[X] = p(1-p).\n",
    "\n",
    "**Difference between Bernoulli Distribution and Binomial Distribution:**\n",
    "A random variable follows a Bernoulli distribution if it only has two possible outcomes: 0 or 1. For example, suppose we flip a coin one time. Let the probability that it lands on heads be p. This means the probability that it lands on tails is 1-p.\n",
    "\n",
    "In this case, random variable X follows a Bernoulli distribution. It can only take on two possible values.\n",
    "\n",
    "*Now, if we flip a coin multiple times then the sum of the Bernoulli random variables will follow a Binomial distribution.*\n",
    "\n",
    "For example, suppose we flip a coin 5 times and we want to know the probability of obtaining heads k times. We would say that the random variable X follows a Binomial distribution.\n",
    "\n",
    "Therefore, When number of trial is 1, then Binomial Distribution is equivalent to Bernoulli Distribution but when number of trials are greater than 1 than its Binomial Distribution only.\n",
    "\n",
    "**Important Note**\n",
    "1. A random variables that follows a Bernoulli distribution can only take on two possible values, but a random variable that follows a Binomial distribution can take on several values. For example, in a single coin flip we will either have 0 or 1 heads. However, in a series of 5 coin flips we could have 0, 1, 2, 3, 4, or 5 heads.\n",
    "\n",
    "2. In order for a random variable to follow a Binomial distribution, the probability of “success” in each Bernoulli trial must be equal and independent. For example, if we define “success” as landing on heads, then the probability of success on each coin flip is equal to 0.5 and each flip is independent – the outcome of one coin flip does not affect the outcome of another."
   ]
  },
  {
   "cell_type": "code",
   "execution_count": null,
   "id": "c3b364ca-c243-4696-b9d4-ec69f3e8a603",
   "metadata": {},
   "outputs": [],
   "source": []
  },
  {
   "cell_type": "markdown",
   "id": "42ba947f-2d58-433f-92a8-287354e3349a",
   "metadata": {},
   "source": [
    "### Q6. Consider a dataset with a mean of 50 and a standard deviation of 10. If we assume that the dataset is normally distributed, what is the probability that a randomly selected observation will be greater than 60? Use the appropriate formula and show your calculations."
   ]
  },
  {
   "cell_type": "markdown",
   "id": "3efe2383-57fb-44a6-bc85-0a38939f28cd",
   "metadata": {},
   "source": [
    "Ans. **Normally Distributed Dataset**\n",
    "mean = 50\n",
    "std = 10\n",
    "\n",
    "P(X > 60) = ?\n",
    "x = 60\n",
    "\n",
    "According to Z-score formulae\n",
    "\n",
    "z-score = (X - Mean)/Std"
   ]
  },
  {
   "cell_type": "code",
   "execution_count": 6,
   "id": "46db68d3-9870-405f-8b89-c15e78128457",
   "metadata": {},
   "outputs": [
    {
     "data": {
      "text/plain": [
       "1.0"
      ]
     },
     "execution_count": 6,
     "metadata": {},
     "output_type": "execute_result"
    }
   ],
   "source": [
    "z_score = (60 - 50)/10\n",
    "z_score"
   ]
  },
  {
   "cell_type": "markdown",
   "id": "096d30b0-3d36-40e5-9263-7baf645f287a",
   "metadata": {},
   "source": [
    "From Z-Table the value of Z-score 1 is 0.84134 (Z-Value)"
   ]
  },
  {
   "cell_type": "code",
   "execution_count": 7,
   "id": "18f99950-23ad-41a8-8b4b-fe419ee5d408",
   "metadata": {},
   "outputs": [],
   "source": [
    "z_value = 0.84134"
   ]
  },
  {
   "cell_type": "markdown",
   "id": "f6f1ee3f-eb25-4558-a0cc-1381dac90429",
   "metadata": {},
   "source": [
    "For P(X>60) = 1 - 0.84134"
   ]
  },
  {
   "cell_type": "code",
   "execution_count": 8,
   "id": "ec4de151-c961-40ff-b73c-d8d6718c372a",
   "metadata": {},
   "outputs": [
    {
     "data": {
      "text/plain": [
       "0.15866000000000002"
      ]
     },
     "execution_count": 8,
     "metadata": {},
     "output_type": "execute_result"
    }
   ],
   "source": [
    "P = 1 - 0.84134\n",
    "P"
   ]
  },
  {
   "cell_type": "markdown",
   "id": "be6475fe-d2b4-46b4-b7c9-135f433f5acf",
   "metadata": {},
   "source": [
    "The Probability of randomly selected observation to be greater than 60 in normally distributed dataset with mean 50 and standard deviation 10 is approx 15.87%"
   ]
  },
  {
   "cell_type": "code",
   "execution_count": null,
   "id": "7ef7af55-96a7-449f-afde-373469ac9b7b",
   "metadata": {},
   "outputs": [],
   "source": []
  },
  {
   "cell_type": "markdown",
   "id": "a85a34d4-a5ef-487d-9889-fef4c8549f20",
   "metadata": {},
   "source": [
    "### Q7: Explain uniform Distribution with an example."
   ]
  },
  {
   "cell_type": "markdown",
   "id": "b2723b72-79e3-47eb-84d7-cb0ef779e61a",
   "metadata": {},
   "source": [
    "Ans. **Uniform Distribution**: It is the probability distribution that represents equally likely outcomes i.e. the probability of each occurring is the same. There are two types of uniform distribution: Discrete uniform distribution and continuous uniform distribution (the most common type in elementary statistics). It defines the density function of the random variable, mean, and variance.\n",
    "\n",
    "It has two parameters a and b: a = minimum and b = maximum. The distribution is written as U(a, b). Types of uniform distribution are:\n",
    "    \n",
    "- *Continuous Uniform Distribution*: A continuous uniform probability distribution is a distribution that has an infinite number of values defined in a specified range. It has a rectangular-shaped graph so-called rectangular distribution. It works on the values which are continuous in nature. Example: Random number generator\n",
    "- *Discrete Uniform Distribution*: A discrete uniform probability distribution is a distribution that has a finite number of values defined in a specified range. Its graph contains various vertical lines for each finite value. It works on values that are discrete in nature. Example: A dice is rolled.\n",
    "\n",
    "<img src='https://media.geeksforgeeks.org/wp-content/uploads/20220420172352/UDG.png' width=\"400\" height=\"340\">\n",
    "\n",
    "**Continuous Uniform Distribution Graph**"
   ]
  },
  {
   "cell_type": "code",
   "execution_count": null,
   "id": "f60549ce-2431-4e54-b7c7-3232f09110ca",
   "metadata": {},
   "outputs": [],
   "source": []
  },
  {
   "cell_type": "markdown",
   "id": "b1ebcc7a-ca94-45cb-8b59-aea600d4e367",
   "metadata": {},
   "source": [
    "### Q8: What is the z score? State the importance of the z score."
   ]
  },
  {
   "cell_type": "markdown",
   "id": "f0399a06-7e71-4d85-87e8-99969a8b3ea9",
   "metadata": {},
   "source": [
    "Ans. **Z-score** (also called a standard score) gives you an idea of how far from the mean a data point is. But more technically it’s a measure of how many standard deviations below or above the population mean a raw score is. A z-score can be placed on a normal distribution curve. Z-scores range from -3 standard deviations (which would fall to the far left of the normal distribution curve) up to +3 standard deviations (which would fall to the far right of the normal distribution curve). In order to use a z-score, you need to know the mean μ and also the population standard deviation σ.\n",
    "\n",
    "Formula: z = (x – μ) / σ\n",
    "\n",
    "**Importance of Z-Score:**\n",
    "- Z-scores allow you to take data points drawn from populations with different means and standard deviations and place them on a common scale. This standard scale lets us compare observations for different types of variables that would otherwise be difficult."
   ]
  },
  {
   "cell_type": "code",
   "execution_count": null,
   "id": "396533ce-7225-40c2-986d-49a8d979e0a3",
   "metadata": {},
   "outputs": [],
   "source": []
  },
  {
   "cell_type": "markdown",
   "id": "b260ad1f-ddf1-447b-bbc0-5b04fdc2d910",
   "metadata": {},
   "source": [
    "### Q9: What is Central Limit Theorem? State the significance of the Central Limit Theorem."
   ]
  },
  {
   "cell_type": "markdown",
   "id": "473b8116-4132-4765-b528-a216f10b27db",
   "metadata": {},
   "source": [
    "Ans. In probability theory, the central limit theorem (CLT) states that the distribution of a sample variable approximates a normal distribution (i.e., a “bell curve”) as the sample size becomes larger, assuming that all samples are identical in size, and regardless of the population's actual distribution shape. In other words, CLT is a statistical premise that, given a sufficiently large sample size from a population with a finite level of variance, the mean of all sampled variables from the same population will be approximately equal to the mean of the whole population. Furthermore, these samples approximate a normal distribution, with their variances being approximately equal to the variance of the population as the sample size gets larger, according to the law of large numbers.\n",
    "\n",
    "*Significance of Central Limit Theorem*\n",
    "- The central limit theorem is useful when analyzing large data sets because it allows one to assume that the sampling distribution of the mean will be normally-distributed in most cases. This allows for easier statistical analysis and inference. For example, investors can use central limit theorem to aggregate individual security performance data and generate distribution of sample means that represent a larger population distribution for security returns over a period of time."
   ]
  },
  {
   "cell_type": "code",
   "execution_count": null,
   "id": "d3fc2f17-9db2-4ba3-be37-eb02aa0e442e",
   "metadata": {},
   "outputs": [],
   "source": []
  },
  {
   "cell_type": "markdown",
   "id": "f4bfa3f8-5362-4102-9501-5ff3dab08a76",
   "metadata": {},
   "source": [
    "### Q10: State the assumptions of the Central Limit Theorem."
   ]
  },
  {
   "cell_type": "markdown",
   "id": "49d43cee-f47f-4f5f-9402-39a50989c616",
   "metadata": {},
   "source": [
    "Ans. Assumptions of Central Limit Theorem:\n",
    "1. The data must adhere to the randomization rule. It needs to be sampled at random.\n",
    "2. The samples should be unrelated to one another. One sample should not impact the others.\n",
    "3. When taking samples without replacement, the sample size should not exceed 10% of the population.\n",
    "4. When the population is symmetric, a sample size of 30 is generally considered reasonable.\n",
    "\n",
    "- The sample size of 30 is considered sufficient to see the effect of the CLT. If the population distribution is closer to the normal distribution, you will need fewer samples to demonstrate the central limit theorem. On the other hand, if the population distribution is highly skewed, you will need a large number of samples to understand the CLT."
   ]
  },
  {
   "cell_type": "code",
   "execution_count": null,
   "id": "9b1a7088-e58c-4aee-98e4-32282ea86ad8",
   "metadata": {},
   "outputs": [],
   "source": []
  }
 ],
 "metadata": {
  "kernelspec": {
   "display_name": "Python 3 (ipykernel)",
   "language": "python",
   "name": "python3"
  },
  "language_info": {
   "codemirror_mode": {
    "name": "ipython",
    "version": 3
   },
   "file_extension": ".py",
   "mimetype": "text/x-python",
   "name": "python",
   "nbconvert_exporter": "python",
   "pygments_lexer": "ipython3",
   "version": "3.10.8"
  }
 },
 "nbformat": 4,
 "nbformat_minor": 5
}
