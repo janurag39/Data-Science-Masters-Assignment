{
 "cells": [
  {
   "cell_type": "markdown",
   "metadata": {},
   "source": [
    "### Q1. Write a Python function that takes in two arrays of data and calculates the F-value for a variance ratio test. The function should return the F-value and the corresponding p-value for the test."
   ]
  },
  {
   "cell_type": "markdown",
   "metadata": {},
   "source": [
    "Ans. You can create a Python function to calculate the F-value and corresponding p-value for a variance ratio test (also known as an F-test) using the `scipy.stats` module. Here's the implementation:\n",
    "\n",
    "```python\n",
    "from scipy.stats import f\n",
    "\n",
    "def variance_ratio_test(data1, data2):\n",
    "    \"\"\"\n",
    "    Perform variance ratio test (F-test) between two arrays of data.\n",
    "\n",
    "    Parameters:\n",
    "    - data1: Array-like, first dataset\n",
    "    - data2: Array-like, second dataset\n",
    "\n",
    "    Returns:\n",
    "    - f_value: Float, F-value for the variance ratio test\n",
    "    - p_value: Float, p-value for the test\n",
    "    \"\"\"\n",
    "    # Calculate variances\n",
    "    var1 = np.var(data1, ddof=1)  # ddof=1 for unbiased estimator\n",
    "    var2 = np.var(data2, ddof=1)\n",
    "\n",
    "    # Calculate F-value\n",
    "    f_value = var1 / var2 if var1 >= var2 else var2 / var1\n",
    "\n",
    "    # Calculate degrees of freedom\n",
    "    df1 = len(data1) - 1\n",
    "    df2 = len(data2) - 1\n",
    "\n",
    "    # Calculate p-value\n",
    "    p_value = f.cdf(f_value, df1, df2)\n",
    "\n",
    "    return f_value, p_value\n",
    "\n",
    "# Example usage:\n",
    "data1 = [23, 25, 28, 30, 32]\n",
    "data2 = [20, 22, 25, 27, 29]\n",
    "f_value, p_value = variance_ratio_test(data1, data2)\n",
    "print(\"F-value:\", f_value)\n",
    "print(\"p-value:\", p_value)\n",
    "```\n",
    "\n",
    "In this function:\n",
    "- We calculate the variances of the two datasets using `np.var()`.\n",
    "- We then compute the F-value by taking the ratio of the larger variance to the smaller variance.\n",
    "- We calculate the degrees of freedom (`df1` and `df2`) as the number of observations minus 1.\n",
    "- Finally, we use the cumulative distribution function (`f.cdf()`) from `scipy.stats` to calculate the p-value associated with the F-value.\n",
    "\n",
    "You can replace the `data1` and `data2` variables with your actual data when using the function."
   ]
  },
  {
   "cell_type": "markdown",
   "metadata": {},
   "source": []
  },
  {
   "cell_type": "markdown",
   "metadata": {},
   "source": [
    "### Q2. Given a significance level of 0.05 and the degrees of freedom for the numerator and denominator of an F-distribution, write a Python function that returns the critical F-value for a two-tailed test."
   ]
  },
  {
   "cell_type": "markdown",
   "metadata": {},
   "source": [
    "Ans. You can create a Python function to calculate the critical F-value for a two-tailed test given a significance level and the degrees of freedom for the numerator and denominator of an F-distribution. Here's the implementation:\n",
    "\n",
    "```python\n",
    "from scipy.stats import f\n",
    "\n",
    "def critical_f_value(alpha, dfn, dfd):\n",
    "    \"\"\"\n",
    "    Calculate the critical F-value for a two-tailed test.\n",
    "\n",
    "    Parameters:\n",
    "    - alpha: Float, significance level\n",
    "    - dfn: Integer, degrees of freedom for the numerator\n",
    "    - dfd: Integer, degrees of freedom for the denominator\n",
    "\n",
    "    Returns:\n",
    "    - f_critical: Float, critical F-value\n",
    "    \"\"\"\n",
    "    # Calculate critical F-value\n",
    "    f_critical = f.ppf(1 - alpha / 2, dfn, dfd)\n",
    "\n",
    "    return f_critical\n",
    "\n",
    "# Example usage:\n",
    "alpha = 0.05\n",
    "dfn = 3  # degrees of freedom for the numerator\n",
    "dfd = 20  # degrees of freedom for the denominator\n",
    "f_critical = critical_f_value(alpha, dfn, dfd)\n",
    "print(\"Critical F-value:\", f_critical)\n",
    "```\n",
    "\n",
    "In this function:\n",
    "- We use the `f.ppf()` function from `scipy.stats` to calculate the critical F-value corresponding to a given significance level (`alpha`) and degrees of freedom for the numerator (`dfn`) and denominator (`dfd`).\n",
    "- The `1 - alpha / 2` argument in `f.ppf()` corresponds to the probability value for a two-tailed test, where `alpha` is divided by 2 because it's a two-tailed test.\n",
    "\n",
    "You can replace the `alpha`, `dfn`, and `dfd` variables with your desired values when using the function."
   ]
  },
  {
   "cell_type": "markdown",
   "metadata": {},
   "source": []
  },
  {
   "cell_type": "markdown",
   "metadata": {},
   "source": [
    "### Q3. Write a Python program that generates random samples from two normal distributions with known variances and uses an F-test to determine if the variances are equal. The program should output the Fvalue, degrees of freedom, and p-value for the test."
   ]
  },
  {
   "cell_type": "markdown",
   "metadata": {},
   "source": [
    "Ans. You can create a Python program that generates random samples from two normal distributions with known variances and performs an F-test to determine if the variances are equal. Here's a Python script demonstrating this:\n",
    "\n",
    "```python\n",
    "import numpy as np\n",
    "from scipy.stats import f\n",
    "\n",
    "def f_test(data1, data2):\n",
    "    \"\"\"\n",
    "    Perform F-test to determine if the variances of two datasets are equal.\n",
    "\n",
    "    Parameters:\n",
    "    - data1: Array-like, first dataset\n",
    "    - data2: Array-like, second dataset\n",
    "\n",
    "    Returns:\n",
    "    - f_value: Float, F-value for the F-test\n",
    "    - dfn: Integer, degrees of freedom for the numerator\n",
    "    - dfd: Integer, degrees of freedom for the denominator\n",
    "    - p_value: Float, p-value for the test\n",
    "    \"\"\"\n",
    "    # Calculate variances\n",
    "    var1 = np.var(data1, ddof=1)  # ddof=1 for unbiased estimator\n",
    "    var2 = np.var(data2, ddof=1)\n",
    "\n",
    "    # Determine which variance is larger\n",
    "    if var1 >= var2:\n",
    "        f_value = var1 / var2\n",
    "        dfn = len(data1) - 1\n",
    "        dfd = len(data2) - 1\n",
    "    else:\n",
    "        f_value = var2 / var1\n",
    "        dfn = len(data2) - 1\n",
    "        dfd = len(data1) - 1\n",
    "\n",
    "    # Calculate p-value\n",
    "    p_value = f.cdf(f_value, dfn, dfd)\n",
    "\n",
    "    return f_value, dfn, dfd, p_value\n",
    "\n",
    "# Generate random samples from two normal distributions\n",
    "np.random.seed(0)  # for reproducibility\n",
    "data1 = np.random.normal(loc=0, scale=1, size=100)  # mean=0, std=1\n",
    "data2 = np.random.normal(loc=0, scale=1.5, size=100)  # mean=0, std=1.5\n",
    "\n",
    "# Perform F-test\n",
    "f_value, dfn, dfd, p_value = f_test(data1, data2)\n",
    "print(\"F-value:\", f_value)\n",
    "print(\"Degrees of freedom (numerator):\", dfn)\n",
    "print(\"Degrees of freedom (denominator):\", dfd)\n",
    "print(\"p-value:\", p_value)\n",
    "```\n",
    "\n",
    "In this program:\n",
    "- We generate random samples from two normal distributions using `np.random.normal()`.\n",
    "- We define a function `f_test()` to perform the F-test, which calculates the variances of the datasets and determines which variance is larger. It then calculates the F-value, degrees of freedom for the numerator and denominator, and the p-value using the `f.cdf()` function from `scipy.stats`.\n",
    "- We use the `f_test()` function to perform the F-test on the generated data and print the F-value, degrees of freedom, and p-value.\n",
    "\n",
    "You can adjust the parameters of the normal distributions (mean and standard deviation) and the sample sizes according to your requirements."
   ]
  },
  {
   "cell_type": "markdown",
   "metadata": {},
   "source": []
  },
  {
   "cell_type": "markdown",
   "metadata": {},
   "source": [
    "### Q4.The variances of two populations are known to be 10 and 15. A sample of 12 observations is taken from each population. Conduct an F-test at the 5% significance level to determine if the variances are significantly different."
   ]
  },
  {
   "cell_type": "code",
   "execution_count": 1,
   "metadata": {},
   "outputs": [
    {
     "name": "stdout",
     "output_type": "stream",
     "text": [
      "F-statistic: 1.5\n",
      "Critical F-value: 3.473699051085809\n",
      "Fail to reject the null hypothesis. Variances are not significantly different.\n"
     ]
    }
   ],
   "source": [
    "from scipy.stats import f\n",
    "\n",
    "# Given data\n",
    "var1 = 15\n",
    "var2 = 10\n",
    "n1 = 12\n",
    "n2 = 12\n",
    "alpha = 0.05\n",
    "\n",
    "# Calculate F-statistic\n",
    "f_statistic = var1 / var2\n",
    "\n",
    "# Calculate degrees of freedom\n",
    "dfn = n1 - 1\n",
    "dfd = n2 - 1\n",
    "\n",
    "# Calculate critical F-value\n",
    "f_critical = f.ppf(1 - alpha / 2, dfn, dfd)\n",
    "\n",
    "# Perform F-test\n",
    "if f_statistic > f_critical:\n",
    "    print(\"F-statistic:\", f_statistic)\n",
    "    print(\"Critical F-value:\", f_critical)\n",
    "    print(\"Reject the null hypothesis. Variances are significantly different.\")\n",
    "else:\n",
    "    print(\"F-statistic:\", f_statistic)\n",
    "    print(\"Critical F-value:\", f_critical)\n",
    "    print(\"Fail to reject the null hypothesis. Variances are not significantly different.\")\n"
   ]
  },
  {
   "cell_type": "markdown",
   "metadata": {},
   "source": []
  },
  {
   "cell_type": "markdown",
   "metadata": {},
   "source": [
    "### Q5. A manufacturer claims that the variance of the diameter of a certain product is 0.005. A sample of 25 products is taken, and the sample variance is found to be 0.006. Conduct an F-test at the 1% significance level to determine if the claim is justified."
   ]
  },
  {
   "cell_type": "code",
   "execution_count": 2,
   "metadata": {},
   "outputs": [
    {
     "name": "stdout",
     "output_type": "stream",
     "text": [
      "F-statistic: 1.2\n",
      "Critical F-values (Lower, Upper): 0.3370701342685674 2.966741631292762\n",
      "Fail to reject the null hypothesis. The claimed variance is justified.\n"
     ]
    }
   ],
   "source": [
    "from scipy.stats import f\n",
    "\n",
    "# Given data\n",
    "sample_variance = 0.006\n",
    "claimed_variance = 0.005\n",
    "sample_size = 25\n",
    "alpha = 0.01\n",
    "\n",
    "# Calculate F-statistic\n",
    "f_statistic = sample_variance / claimed_variance\n",
    "\n",
    "# Degrees of freedom\n",
    "dfn = sample_size - 1\n",
    "dfd = sample_size - 1\n",
    "\n",
    "# Calculate critical F-value\n",
    "f_critical_lower = f.ppf(alpha / 2, dfn, dfd)\n",
    "f_critical_upper = f.ppf(1 - alpha / 2, dfn, dfd)\n",
    "\n",
    "# Perform F-test\n",
    "if f_statistic < f_critical_lower or f_statistic > f_critical_upper:\n",
    "    print(\"F-statistic:\", f_statistic)\n",
    "    print(\"Critical F-values (Lower, Upper):\", f_critical_lower, f_critical_upper)\n",
    "    print(\"Reject the null hypothesis. The claimed variance is not justified.\")\n",
    "else:\n",
    "    print(\"F-statistic:\", f_statistic)\n",
    "    print(\"Critical F-values (Lower, Upper):\", f_critical_lower, f_critical_upper)\n",
    "    print(\"Fail to reject the null hypothesis. The claimed variance is justified.\")\n"
   ]
  },
  {
   "cell_type": "markdown",
   "metadata": {},
   "source": []
  },
  {
   "cell_type": "markdown",
   "metadata": {},
   "source": [
    "### Q6. Write a Python function that takes in the degrees of freedom for the numerator and denominator of an F-distribution and calculates the mean and variance of the distribution. The function should return the mean and variance as a tuple."
   ]
  },
  {
   "cell_type": "code",
   "execution_count": 4,
   "metadata": {},
   "outputs": [
    {
     "name": "stdout",
     "output_type": "stream",
     "text": [
      "Mean of the F-distribution: 1.25\n",
      "Variance of the F-distribution: 1.3541666666666667\n"
     ]
    }
   ],
   "source": [
    "def f_distribution_mean_variance(dfn, dfd):\n",
    "    \"\"\"\n",
    "    Calculate the mean and variance of an F-distribution.\n",
    "\n",
    "    Parameters:\n",
    "    - dfn: Integer, degrees of freedom for the numerator\n",
    "    - dfd: Integer, degrees of freedom for the denominator\n",
    "\n",
    "    Returns:\n",
    "    - mean: Float, mean of the F-distribution\n",
    "    - variance: Float, variance of the F-distribution\n",
    "    \"\"\"\n",
    "    # Calculate mean\n",
    "    mean = dfd / (dfd - 2)\n",
    "\n",
    "    # Calculate variance\n",
    "    variance = (2 * (dfd**2) * (dfn + dfd - 2)) / (dfn * (dfd - 2)**2 * (dfd - 4))\n",
    "\n",
    "    return mean, variance\n",
    "\n",
    "# Example usage:\n",
    "dfn = 5\n",
    "dfd = 10\n",
    "mean, variance = f_distribution_mean_variance(dfn, dfd)\n",
    "print(\"Mean of the F-distribution:\", mean)\n",
    "print(\"Variance of the F-distribution:\", variance)"
   ]
  },
  {
   "cell_type": "markdown",
   "metadata": {},
   "source": []
  },
  {
   "cell_type": "markdown",
   "metadata": {},
   "source": [
    "### Q7. A random sample of 10 measurements is taken from a normal population with unknown variance. The sample variance is found to be 25. Another random sample of 15 measurements is taken from another normal population with unknown variance, and the sample variance is found to be 20. Conduct an F-test at the 10% significance level to determine if the variances are significantly different."
   ]
  },
  {
   "cell_type": "code",
   "execution_count": 6,
   "metadata": {},
   "outputs": [
    {
     "name": "stdout",
     "output_type": "stream",
     "text": [
      "F-statistic: 1.25\n",
      "Critical F-values (Lower, Upper): 0.3305268601412525 2.6457907352338195\n",
      "Fail to reject the null hypothesis. The variances are not significantly different.\n"
     ]
    }
   ],
   "source": [
    "from scipy.stats import f\n",
    "\n",
    "# Given data\n",
    "sample_variance1 = 25\n",
    "sample_variance2 = 20\n",
    "sample_size1 = 10\n",
    "sample_size2 = 15\n",
    "alpha = 0.10\n",
    "\n",
    "# Calculate F-statistic\n",
    "f_statistic = sample_variance1 / sample_variance2\n",
    "\n",
    "# Degrees of freedom\n",
    "dfn = sample_size1 - 1\n",
    "dfd = sample_size2 - 1\n",
    "\n",
    "# Calculate critical F-value\n",
    "f_critical_lower = f.ppf(alpha / 2, dfn, dfd)\n",
    "f_critical_upper = f.ppf(1 - alpha / 2, dfn, dfd)\n",
    "\n",
    "# Perform F-test\n",
    "if f_statistic < f_critical_lower or f_statistic > f_critical_upper:\n",
    "    print(\"F-statistic:\", f_statistic)\n",
    "    print(\"Critical F-values (Lower, Upper):\", f_critical_lower, f_critical_upper)\n",
    "    print(\"Reject the null hypothesis. The variances are significantly different.\")\n",
    "else:\n",
    "    print(\"F-statistic:\", f_statistic)\n",
    "    print(\"Critical F-values (Lower, Upper):\", f_critical_lower, f_critical_upper)\n",
    "    print(\"Fail to reject the null hypothesis. The variances are not significantly different.\")"
   ]
  },
  {
   "cell_type": "markdown",
   "metadata": {},
   "source": []
  },
  {
   "cell_type": "markdown",
   "metadata": {},
   "source": [
    "### Q8. The following data represent the waiting times in minutes at two different restaurants on a Saturday night: Restaurant A: 24, 25, 28, 23, 22, 20, 27; Restaurant B: 31, 33, 35, 30, 32, 36. Conduct an F-test at the 5% significance level to determine if the variances are significantly different."
   ]
  },
  {
   "cell_type": "code",
   "execution_count": 8,
   "metadata": {},
   "outputs": [
    {
     "name": "stdout",
     "output_type": "stream",
     "text": [
      "F-statistic: 1.4551907719609583\n",
      "Critical F-values (Lower, Upper): 0.16701279718024772 6.977701858535566\n",
      "Fail to reject the null hypothesis. The variances are not significantly different.\n"
     ]
    }
   ],
   "source": [
    "from scipy.stats import f\n",
    "import numpy as np\n",
    "\n",
    "# Given data\n",
    "waiting_times_a = [24, 25, 28, 23, 22, 20, 27]\n",
    "waiting_times_b = [31, 33, 35, 30, 32, 36]\n",
    "alpha = 0.05\n",
    "\n",
    "# Calculate sample variances\n",
    "sample_variance_a = np.var(waiting_times_a, ddof=1)\n",
    "sample_variance_b = np.var(waiting_times_b, ddof=1)\n",
    "\n",
    "# Determine larger and smaller sample variances\n",
    "if sample_variance_a >= sample_variance_b:\n",
    "    larger_sample_variance = sample_variance_a\n",
    "    smaller_sample_variance = sample_variance_b\n",
    "else:\n",
    "    larger_sample_variance = sample_variance_b\n",
    "    smaller_sample_variance = sample_variance_a\n",
    "\n",
    "# Calculate F-statistic\n",
    "f_statistic = larger_sample_variance / smaller_sample_variance\n",
    "\n",
    "# Degrees of freedom\n",
    "dfn = len(waiting_times_a) - 1\n",
    "dfd = len(waiting_times_b) - 1\n",
    "\n",
    "# Calculate critical F-value\n",
    "f_critical_lower = f.ppf(alpha / 2, dfn, dfd)\n",
    "f_critical_upper = f.ppf(1 - alpha / 2, dfn, dfd)\n",
    "\n",
    "# Perform F-test\n",
    "if f_statistic < f_critical_lower or f_statistic > f_critical_upper:\n",
    "    print(\"F-statistic:\", f_statistic)\n",
    "    print(\"Critical F-values (Lower, Upper):\", f_critical_lower, f_critical_upper)\n",
    "    print(\"Reject the null hypothesis. The variances are significantly different.\")\n",
    "else:\n",
    "    print(\"F-statistic:\", f_statistic)\n",
    "    print(\"Critical F-values (Lower, Upper):\", f_critical_lower, f_critical_upper)\n",
    "    print(\"Fail to reject the null hypothesis. The variances are not significantly different.\")"
   ]
  },
  {
   "cell_type": "markdown",
   "metadata": {},
   "source": []
  },
  {
   "cell_type": "markdown",
   "metadata": {},
   "source": [
    "### Q9. The following data represent the test scores of two groups of students: Group A: 80, 85, 90, 92, 87, 83; Group B: 75, 78, 82, 79, 81, 84. Conduct an F-test at the 1% significance level to determine if the variances are significantly different."
   ]
  },
  {
   "cell_type": "code",
   "execution_count": 9,
   "metadata": {},
   "outputs": [
    {
     "name": "stdout",
     "output_type": "stream",
     "text": [
      "F-statistic: 1.9442622950819677\n",
      "Critical F-values (Lower, Upper): 0.066936171954696 14.939605459912224\n",
      "Fail to reject the null hypothesis. The variances are not significantly different.\n"
     ]
    }
   ],
   "source": [
    "from scipy.stats import f\n",
    "\n",
    "# Given data\n",
    "scores_group_a = [80, 85, 90, 92, 87, 83]\n",
    "scores_group_b = [75, 78, 82, 79, 81, 84]\n",
    "alpha = 0.01\n",
    "\n",
    "# Calculate sample variances\n",
    "sample_variance_a = np.var(scores_group_a, ddof=1)\n",
    "sample_variance_b = np.var(scores_group_b, ddof=1)\n",
    "\n",
    "# Determine larger and smaller sample variances\n",
    "if sample_variance_a >= sample_variance_b:\n",
    "    larger_sample_variance = sample_variance_a\n",
    "    smaller_sample_variance = sample_variance_b\n",
    "else:\n",
    "    larger_sample_variance = sample_variance_b\n",
    "    smaller_sample_variance = sample_variance_a\n",
    "\n",
    "# Calculate F-statistic\n",
    "f_statistic = larger_sample_variance / smaller_sample_variance\n",
    "\n",
    "# Degrees of freedom\n",
    "dfn = len(scores_group_a) - 1\n",
    "dfd = len(scores_group_b) - 1\n",
    "\n",
    "# Calculate critical F-value\n",
    "f_critical_lower = f.ppf(alpha / 2, dfn, dfd)\n",
    "f_critical_upper = f.ppf(1 - alpha / 2, dfn, dfd)\n",
    "\n",
    "# Perform F-test\n",
    "if f_statistic < f_critical_lower or f_statistic > f_critical_upper:\n",
    "    print(\"F-statistic:\", f_statistic)\n",
    "    print(\"Critical F-values (Lower, Upper):\", f_critical_lower, f_critical_upper)\n",
    "    print(\"Reject the null hypothesis. The variances are significantly different.\")\n",
    "else:\n",
    "    print(\"F-statistic:\", f_statistic)\n",
    "    print(\"Critical F-values (Lower, Upper):\", f_critical_lower, f_critical_upper)\n",
    "    print(\"Fail to reject the null hypothesis. The variances are not significantly different.\")"
   ]
  },
  {
   "cell_type": "markdown",
   "metadata": {},
   "source": []
  }
 ],
 "metadata": {
  "kernelspec": {
   "display_name": "Python 3",
   "language": "python",
   "name": "python3"
  },
  "language_info": {
   "codemirror_mode": {
    "name": "ipython",
    "version": 3
   },
   "file_extension": ".py",
   "mimetype": "text/x-python",
   "name": "python",
   "nbconvert_exporter": "python",
   "pygments_lexer": "ipython3",
   "version": "3.8.18"
  }
 },
 "nbformat": 4,
 "nbformat_minor": 2
}
