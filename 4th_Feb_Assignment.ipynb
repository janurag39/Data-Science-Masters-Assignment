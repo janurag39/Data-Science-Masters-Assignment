{
 "cells": [
  {
   "cell_type": "markdown",
   "id": "07eb6805-380f-46f0-9f86-13eebde48439",
   "metadata": {},
   "source": [
    "### Q1. Create a python program to sort the given list of tuples based on integer value using a lambda function. \n",
    "\n",
    "lst = [('Sachin Tendulkar', 34357), ('Ricky Ponting', 27483), ('Jack Kallis', 25534), ('Virat Kohli', 24936)]"
   ]
  },
  {
   "cell_type": "code",
   "execution_count": 58,
   "id": "a65dff18-8f6a-4a0f-b926-2662630cbcdd",
   "metadata": {},
   "outputs": [],
   "source": [
    "#list of tuples\n",
    "lst = [('Sachin Tendulkar', 34357), ('Ricky Ponting', 27483), ('Jack Kallis', 25534), ('Virat Kohli', 24936)]"
   ]
  },
  {
   "cell_type": "code",
   "execution_count": 59,
   "id": "d1c72c3b-d203-4305-8be7-01e6f23a1c5b",
   "metadata": {},
   "outputs": [
    {
     "name": "stdout",
     "output_type": "stream",
     "text": [
      "The sorted list is: [('Virat Kohli', 24936), ('Jack Kallis', 25534), ('Ricky Ponting', 27483), ('Sachin Tendulkar', 34357)]\n"
     ]
    }
   ],
   "source": [
    "new_list = sorted(lst, key = lambda x : x[1]) # for descending order add reverse = True\n",
    "print('The sorted list is: {}'.format(new_list))"
   ]
  },
  {
   "cell_type": "code",
   "execution_count": 60,
   "id": "00e60303-6c58-4c7c-ac75-e65cb28417c7",
   "metadata": {},
   "outputs": [
    {
     "data": {
      "text/plain": [
       "[('Virat Kohli', 24936),\n",
       " ('Jack Kallis', 25534),\n",
       " ('Ricky Ponting', 27483),\n",
       " ('Sachin Tendulkar', 34357)]"
      ]
     },
     "execution_count": 60,
     "metadata": {},
     "output_type": "execute_result"
    }
   ],
   "source": [
    "# Can also be directly written as:\n",
    "list(sorted(lst, key = lambda x : x[1]))"
   ]
  },
  {
   "cell_type": "code",
   "execution_count": null,
   "id": "c398a5f0-886b-4c28-bee7-03f30e149952",
   "metadata": {},
   "outputs": [],
   "source": []
  },
  {
   "cell_type": "markdown",
   "id": "33200988-a7df-4569-ba7a-ff305cf78bf0",
   "metadata": {},
   "source": [
    "### Q2. Write a Python Program to find the squares of all the numbers in the given list of integers using lambda and map functions.\n",
    "\n",
    "lst_a = [1, 2, 3, 4, 5, 6, 7, 8, 9, 10]"
   ]
  },
  {
   "cell_type": "code",
   "execution_count": 11,
   "id": "5ea9ef2e-c790-48b2-b168-44e76ab6bc31",
   "metadata": {},
   "outputs": [],
   "source": [
    "lst_a = [1, 2, 3, 4, 5, 6, 7, 8, 9, 10]"
   ]
  },
  {
   "cell_type": "code",
   "execution_count": 14,
   "id": "1f6f8532-fb7d-467c-929b-612edad828f6",
   "metadata": {},
   "outputs": [
    {
     "data": {
      "text/plain": [
       "[1, 4, 9, 16, 25, 36, 49, 64, 81, 100]"
      ]
     },
     "execution_count": 14,
     "metadata": {},
     "output_type": "execute_result"
    }
   ],
   "source": [
    "# Square of all the elements in lst_a using lambda and map function\n",
    "list(map(lambda x: x**2, lst_a))"
   ]
  },
  {
   "cell_type": "code",
   "execution_count": null,
   "id": "4606795f-2055-48b6-9c2e-0c0abbcc4a05",
   "metadata": {},
   "outputs": [],
   "source": []
  },
  {
   "cell_type": "markdown",
   "id": "708b0e4d-6d7e-4953-90a5-d32a76f1207e",
   "metadata": {},
   "source": [
    "### Q3. Write a python program to convert the given list of integers into a tuple of strings. Use map and lambda functions\n",
    "\n",
    "\n",
    "Given String: [1, 2, 3, 4, 5, 6, 7, 8, 9, 10]\n",
    "\n",
    "Expected output: ('1', '2', '3', '4', '5', '6', '7', '8', '9', '10')"
   ]
  },
  {
   "cell_type": "code",
   "execution_count": 22,
   "id": "b5b92e3b-0bc0-4bc7-9bcb-da36524699d9",
   "metadata": {},
   "outputs": [],
   "source": [
    "lst_b = [1, 2, 3, 4, 5, 6, 7, 8, 9, 10]"
   ]
  },
  {
   "cell_type": "code",
   "execution_count": 23,
   "id": "9ef540da-a665-4dfb-9a7f-199adb4e00c0",
   "metadata": {},
   "outputs": [
    {
     "data": {
      "text/plain": [
       "('1', '2', '3', '4', '5', '6', '7', '8', '9', '10')"
      ]
     },
     "execution_count": 23,
     "metadata": {},
     "output_type": "execute_result"
    }
   ],
   "source": [
    "tuple(map(lambda x: str(x), lst_b))"
   ]
  },
  {
   "cell_type": "code",
   "execution_count": null,
   "id": "1caf9435-e813-4ff2-b79b-636e00510829",
   "metadata": {},
   "outputs": [],
   "source": []
  },
  {
   "cell_type": "markdown",
   "id": "eb310168-e2ca-454d-baf9-1d3926146d83",
   "metadata": {},
   "source": [
    "### Q4.  Write a python program using reduce function to compute the product of a list containing numbers from 1 to 25."
   ]
  },
  {
   "cell_type": "code",
   "execution_count": 17,
   "id": "343de2ca-c4b5-46aa-bb0c-952710666cb4",
   "metadata": {},
   "outputs": [],
   "source": [
    "def lst(n):\n",
    "    lst = []\n",
    "    for i in range(1, n+1):\n",
    "        lst.append(i)\n",
    "    return lst"
   ]
  },
  {
   "cell_type": "code",
   "execution_count": 20,
   "id": "7557ea08-8a5e-4278-b8ba-f383888d119c",
   "metadata": {},
   "outputs": [],
   "source": [
    "from functools import reduce"
   ]
  },
  {
   "cell_type": "code",
   "execution_count": 21,
   "id": "6edba34e-36c1-430d-acfd-580a4573e89e",
   "metadata": {},
   "outputs": [
    {
     "data": {
      "text/plain": [
       "15511210043330985984000000"
      ]
     },
     "execution_count": 21,
     "metadata": {},
     "output_type": "execute_result"
    }
   ],
   "source": [
    "reduce(lambda x, y: x*y, lst(25))"
   ]
  },
  {
   "cell_type": "code",
   "execution_count": null,
   "id": "7b5ab0a4-a56e-4b42-ba6a-418f10df1ed7",
   "metadata": {},
   "outputs": [],
   "source": []
  },
  {
   "cell_type": "markdown",
   "id": "642384ed-1442-42fc-b1a9-a8d512350308",
   "metadata": {},
   "source": [
    "### Q5. Write a python program to filter the numbers in a given list that are divisible by 2 and 3 using the filter function.\n",
    "\n",
    "\n",
    "[2, 3, 6, 9, 27, 60, 90, 120, 55, 46]"
   ]
  },
  {
   "cell_type": "code",
   "execution_count": 24,
   "id": "ee39df9b-ca55-43ae-83f5-b4d45a553a62",
   "metadata": {},
   "outputs": [],
   "source": [
    "lst_c = [2, 3, 6, 9, 27, 60, 90, 120, 55, 46]"
   ]
  },
  {
   "cell_type": "code",
   "execution_count": 29,
   "id": "949e30ef-d1d3-47cb-a4c7-dc968adefa73",
   "metadata": {},
   "outputs": [
    {
     "data": {
      "text/plain": [
       "[2, 3, 6, 9, 27, 60, 90, 120, 46]"
      ]
     },
     "execution_count": 29,
     "metadata": {},
     "output_type": "execute_result"
    }
   ],
   "source": [
    "list(filter(lambda x: (x%2)==0 or (x%3)==0, lst_c))"
   ]
  },
  {
   "cell_type": "code",
   "execution_count": null,
   "id": "e579ad2a-f528-4c8b-a80f-c6b80ec985e5",
   "metadata": {},
   "outputs": [],
   "source": []
  },
  {
   "cell_type": "markdown",
   "id": "683c21e1-db66-4552-8911-457f5d2d8652",
   "metadata": {},
   "source": [
    "### Q6. Write a python program to find palindromes in the given list of strings using lambda and filter function.\n",
    "\n",
    "\n",
    "['python', 'php', 'aba', 'radar', 'level']"
   ]
  },
  {
   "cell_type": "code",
   "execution_count": 53,
   "id": "ec777739-1d28-4c4d-a250-2118424c0816",
   "metadata": {},
   "outputs": [],
   "source": [
    "lst_d = ['python', 'php', 'aba', 'radar', 'level']"
   ]
  },
  {
   "cell_type": "code",
   "execution_count": 56,
   "id": "1e210102-b026-4e42-9957-9adb71835919",
   "metadata": {},
   "outputs": [
    {
     "data": {
      "text/plain": [
       "['php', 'aba', 'radar', 'level']"
      ]
     },
     "execution_count": 56,
     "metadata": {},
     "output_type": "execute_result"
    }
   ],
   "source": [
    "list(filter(lambda x: x if x == x[::-1] else False, lst_d ))"
   ]
  },
  {
   "cell_type": "code",
   "execution_count": null,
   "id": "77a2f151-78db-4e6e-90fc-c5a09386fdd7",
   "metadata": {},
   "outputs": [],
   "source": []
  }
 ],
 "metadata": {
  "kernelspec": {
   "display_name": "Python 3 (ipykernel)",
   "language": "python",
   "name": "python3"
  },
  "language_info": {
   "codemirror_mode": {
    "name": "ipython",
    "version": 3
   },
   "file_extension": ".py",
   "mimetype": "text/x-python",
   "name": "python",
   "nbconvert_exporter": "python",
   "pygments_lexer": "ipython3",
   "version": "3.10.8"
  }
 },
 "nbformat": 4,
 "nbformat_minor": 5
}
