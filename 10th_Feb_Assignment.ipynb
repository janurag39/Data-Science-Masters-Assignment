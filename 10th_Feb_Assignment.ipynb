{
 "cells": [
  {
   "cell_type": "markdown",
   "id": "99ef3b3d-d84b-4de5-8f47-ede522cae25e",
   "metadata": {},
   "source": [
    "### Q1. Which function is used to open a file? What are the different modes of opening a file? Explain each mode of file opening."
   ]
  },
  {
   "cell_type": "markdown",
   "id": "fdf8e0fa-4adf-4758-afbb-10b64c95cf15",
   "metadata": {},
   "source": [
    "Ans. In python open() function is used to open a file.\n",
    "Different modes to open a file:\n",
    "1. r : Open a file in reading mode, it is also the default mode for opening a file\n",
    "2. w : Open a file in writing. Creates a new file if it doesn't exists or override the file if exists.\n",
    "3. x : Open a file for exclusive creation. If the file already exists, the operation fails.\n",
    "4. a : Open a file for appending at the end of the file without truncating it. Creates a new file if it doesn't exists.\n",
    "5. t : Open a file in text mode.\n",
    "6. b : Open a file in binary mode\n",
    "7. '+' : Open a file for updating (reading and writing)"
   ]
  },
  {
   "cell_type": "code",
   "execution_count": null,
   "id": "5da702b6-708d-46fc-ab05-3ff2b0f1bbbd",
   "metadata": {},
   "outputs": [],
   "source": []
  },
  {
   "cell_type": "markdown",
   "id": "0363a20b-abb9-4ff2-8a9c-f07b4f257edd",
   "metadata": {},
   "source": [
    "### Q2. Why close() function is used? Why is it important to close a file?"
   ]
  },
  {
   "cell_type": "markdown",
   "id": "68a127c4-fcca-487f-bb86-216da68662ae",
   "metadata": {},
   "source": [
    "Ans. close() is used to close a file in python. we should always close the file because in some cases, due to buffering, changes made to a file may not show until the file is closed."
   ]
  },
  {
   "cell_type": "code",
   "execution_count": null,
   "id": "c7bab906-1647-429b-9d0a-c6bec5498735",
   "metadata": {},
   "outputs": [],
   "source": []
  },
  {
   "cell_type": "markdown",
   "id": "c3e207bf-d3d2-4f4f-924d-9ba9c9a9da22",
   "metadata": {},
   "source": [
    "### Q3. Write a python program to create a text file. Write ‘I want to become a Data Scientist’ in that file. Then close the file. Open this file and read the content of the file.  "
   ]
  },
  {
   "cell_type": "code",
   "execution_count": 2,
   "id": "675b1c32-129e-44af-9055-1cbb9e38cf93",
   "metadata": {},
   "outputs": [],
   "source": [
    "# creating a test.txt using write mode\n",
    "f_handle = open( 'test.txt', 'w' )"
   ]
  },
  {
   "cell_type": "code",
   "execution_count": 3,
   "id": "f0161c98-4e3a-4b0f-aa54-52d6b9a5f395",
   "metadata": {},
   "outputs": [
    {
     "data": {
      "text/plain": [
       "33"
      ]
     },
     "execution_count": 3,
     "metadata": {},
     "output_type": "execute_result"
    }
   ],
   "source": [
    "# using write() function to write into the file\n",
    "f_handle.write('I want to become a Data Scientist')"
   ]
  },
  {
   "cell_type": "code",
   "execution_count": 4,
   "id": "ab5fd628-2735-4377-afff-435d0525a2e9",
   "metadata": {},
   "outputs": [],
   "source": [
    "# Closing the file to make sure the data is saved in the file\n",
    "f_handle.close()"
   ]
  },
  {
   "cell_type": "code",
   "execution_count": 5,
   "id": "fe4c342b-585d-44a1-b768-bde798c68596",
   "metadata": {},
   "outputs": [],
   "source": [
    "# opening the test.txt in read mode\n",
    "f_handle = open( 'test.txt', 'r' )"
   ]
  },
  {
   "cell_type": "code",
   "execution_count": 6,
   "id": "ecca55e4-f4bb-45e2-8e43-a661440aadb2",
   "metadata": {},
   "outputs": [
    {
     "data": {
      "text/plain": [
       "'I want to become a Data Scientist'"
      ]
     },
     "execution_count": 6,
     "metadata": {},
     "output_type": "execute_result"
    }
   ],
   "source": [
    "# using read() function to read the content of test.txt\n",
    "f_handle.read()"
   ]
  },
  {
   "cell_type": "code",
   "execution_count": 7,
   "id": "67075528-f641-4986-86a9-86144cebb055",
   "metadata": {},
   "outputs": [],
   "source": [
    "f_handle.close()"
   ]
  },
  {
   "cell_type": "code",
   "execution_count": null,
   "id": "0b41619d-e6cd-406c-8490-a9ed3ed5a11f",
   "metadata": {},
   "outputs": [],
   "source": []
  },
  {
   "cell_type": "markdown",
   "id": "74bd610b-86d3-4fdd-b699-5e3ed44ec1db",
   "metadata": {},
   "source": [
    "### Q4. Explain the following with python code: read(), readline() and readlines()."
   ]
  },
  {
   "cell_type": "markdown",
   "id": "e03a8944-ae0f-4b25-9cfd-fe01d015960a",
   "metadata": {},
   "source": [
    "Ans. \n",
    "1. read(): The read() method returns the specified number of bytes from the file. Defauly is -1 which means the whole file4\n",
    "2. readline(): The readline() method returns one line from the file. we can also specify how many bytes from the line to return, by using size parameter.\n",
    "3. readlines(): The readlines() method returns a list containing each line in the file as a list item. we can limit the number of rows by passing the bytes\n"
   ]
  },
  {
   "cell_type": "code",
   "execution_count": 38,
   "id": "1a640e1a-e283-4873-bd95-b9eb60f31d45",
   "metadata": {},
   "outputs": [
    {
     "data": {
      "text/plain": [
       "722"
      ]
     },
     "execution_count": 38,
     "metadata": {},
     "output_type": "execute_result"
    }
   ],
   "source": [
    "f_handle = open('test1.txt', 'w+')\n",
    "\n",
    "f_handle.write('''Data Science Masters course is highly curated and uniquely designed according to the latest industry standards. \n",
    "This program instills students the skills essential to knowledge discovery efforts to identify standard, novel, and truly differentiated solutions and decision-making, including skills in managing, querying, analyzing, visualizing, and extracting meaning from extremely large data sets. \n",
    "This trending program provides students with the statistical, mathematical and computational skills needed to meet the large-scale data science challenges of today's professional world. \n",
    "You will learn all the stack required to work in data science industry including cloud infrastructure and real-time industry projects.''')"
   ]
  },
  {
   "cell_type": "code",
   "execution_count": 39,
   "id": "9d680ccc-5f09-4feb-9a72-932583e6d566",
   "metadata": {},
   "outputs": [
    {
     "data": {
      "text/plain": [
       "'Data Scien'"
      ]
     },
     "execution_count": 39,
     "metadata": {},
     "output_type": "execute_result"
    }
   ],
   "source": [
    "# example for read()\n",
    "'''  This will return the 10 byte of data from the file and on every execution next 10 bytes will be returned '''\n",
    "f_handle.read(10)"
   ]
  },
  {
   "cell_type": "code",
   "execution_count": 41,
   "id": "9a133f36-46b8-4ee1-8603-79eb701e0956",
   "metadata": {},
   "outputs": [
    {
     "data": {
      "text/plain": [
       "'Data Science Masters course is highly curated and uniquely designed according to the latest industry standards. \\n'"
      ]
     },
     "execution_count": 41,
     "metadata": {},
     "output_type": "execute_result"
    }
   ],
   "source": [
    "# example for readline()\n",
    "f_handle.readline()"
   ]
  },
  {
   "cell_type": "code",
   "execution_count": 44,
   "id": "4b04018b-c0da-4fcd-89c8-d444223fc7ea",
   "metadata": {
    "tags": []
   },
   "outputs": [
    {
     "data": {
      "text/plain": [
       "'Data Scien'"
      ]
     },
     "execution_count": 44,
     "metadata": {},
     "output_type": "execute_result"
    }
   ],
   "source": [
    "f_handle.readline(10)"
   ]
  },
  {
   "cell_type": "code",
   "execution_count": 46,
   "id": "90bd3366-e2a0-4ab3-b21c-0561d39d0e74",
   "metadata": {},
   "outputs": [
    {
     "data": {
      "text/plain": [
       "['Data Science Masters course is highly curated and uniquely designed according to the latest industry standards. \\n',\n",
       " 'This program instills students the skills essential to knowledge discovery efforts to identify standard, novel, and truly differentiated solutions and decision-making, including skills in managing, querying, analyzing, visualizing, and extracting meaning from extremely large data sets. \\n',\n",
       " \"This trending program provides students with the statistical, mathematical and computational skills needed to meet the large-scale data science challenges of today's professional world. \\n\",\n",
       " 'You will learn all the stack required to work in data science industry including cloud infrastructure and real-time industry projects.Data Science Masters course is highly curated and uniquely designed according to the latest industry standards. \\n',\n",
       " 'This program instills students the skills essential to knowledge discovery efforts to identify standard, novel, and truly differentiated solutions and decision-making, including skills in managing, querying, analyzing, visualizing, and extracting meaning from extremely large data sets. \\n',\n",
       " \"This trending program provides students with the statistical, mathematical and computational skills needed to meet the large-scale data science challenges of today's professional world. \\n\",\n",
       " 'You will learn all the stack required to work in data science industry including cloud infrastructure and real-time industry projects.']"
      ]
     },
     "execution_count": 46,
     "metadata": {},
     "output_type": "execute_result"
    }
   ],
   "source": [
    "# example for readlines()\n",
    "f_handle.readlines()"
   ]
  },
  {
   "cell_type": "code",
   "execution_count": 58,
   "id": "90f3031c-4fda-4693-b789-8ab659a44da4",
   "metadata": {},
   "outputs": [
    {
     "data": {
      "text/plain": [
       "['Data Science Masters course is highly curated and uniquely designed according to the latest industry standards. \\n',\n",
       " 'This program instills students the skills essential to knowledge discovery efforts to identify standard, novel, and truly differentiated solutions and decision-making, including skills in managing, querying, analyzing, visualizing, and extracting meaning from extremely large data sets. \\n']"
      ]
     },
     "execution_count": 58,
     "metadata": {},
     "output_type": "execute_result"
    }
   ],
   "source": [
    "f_handle.readlines(200)"
   ]
  },
  {
   "cell_type": "code",
   "execution_count": 59,
   "id": "8f3c289c-f515-4552-a554-86309c6da2ef",
   "metadata": {},
   "outputs": [],
   "source": [
    "f_handle.close()"
   ]
  },
  {
   "cell_type": "code",
   "execution_count": null,
   "id": "fe03b4b0-d44d-4985-b4ad-7b4084e90e02",
   "metadata": {},
   "outputs": [],
   "source": []
  },
  {
   "cell_type": "markdown",
   "id": "1615ee01-7087-450f-99bb-c80075573812",
   "metadata": {},
   "source": [
    "### Q5. Explain why with statement is used with open(). What is the advantage of using with statement and open() together?"
   ]
  },
  {
   "cell_type": "markdown",
   "id": "0815633f-f0f5-4b95-9397-e004b8fa4041",
   "metadata": {},
   "source": [
    "Ans. When we use 'with' statement with open() function, we don't need to close the file at the end because with would automatically close it for us.\n",
    "- Using the with statement makes the code compact and much more readable. Thus, with statement helps avoiding bugs and leaks by ensuring that a resource is properly released when the code using the resource is completely executed. The with statement is popularly used with file streams"
   ]
  },
  {
   "cell_type": "code",
   "execution_count": null,
   "id": "4d617260-2481-48fa-a811-8e9c4db5fd16",
   "metadata": {},
   "outputs": [],
   "source": []
  },
  {
   "cell_type": "markdown",
   "id": "baf9b557-5172-457a-8db7-ee17d180c5dc",
   "metadata": {},
   "source": [
    "### Q6. Explain the write() and writelines() functions. Give a suitable example."
   ]
  },
  {
   "cell_type": "markdown",
   "id": "8ae17cf7-1965-4f8c-85b1-938fcc40d112",
   "metadata": {},
   "source": [
    "Ans. \n",
    "1. The write() method writes a specified text to the file. \n",
    "2. The writelines() method writes the items of a list to the file.\n",
    "\n",
    "Where the specified test will be inserted depends on the file mode and stream position.\n",
    "\n",
    "- 'a' : The text will be inserted at the current file stream position, default at the end of the file.\n",
    "- 'w' : The file will be emptied before the text will be inserted at the current file stream position, default 0."
   ]
  },
  {
   "cell_type": "code",
   "execution_count": 63,
   "id": "51b65327-4f2a-4b66-82a1-a2009daa10d3",
   "metadata": {},
   "outputs": [],
   "source": [
    "# example for write()\n",
    "with open('test2.txt', 'w') as f_handle:\n",
    "    f_handle.write('This is my test2 file and writing this context with write() method')"
   ]
  },
  {
   "cell_type": "code",
   "execution_count": 65,
   "id": "94bb6afe-274a-49a8-b0b1-bfccd8974bef",
   "metadata": {},
   "outputs": [],
   "source": [
    "# example for writelines()\n",
    "lst = [ 'sudh\\n', 'krish\\n', 'Data Science Masters\\n', 'PWSkills\\n', 'Ash-DEL\\n' ]\n",
    "with open('test3.txt', 'w') as f_handle1:\n",
    "    f_handle1.writelines(lst)"
   ]
  },
  {
   "cell_type": "code",
   "execution_count": null,
   "id": "caa3a634-6878-4794-91ac-a4851feb93c9",
   "metadata": {},
   "outputs": [],
   "source": []
  }
 ],
 "metadata": {
  "kernelspec": {
   "display_name": "Python 3 (ipykernel)",
   "language": "python",
   "name": "python3"
  },
  "language_info": {
   "codemirror_mode": {
    "name": "ipython",
    "version": 3
   },
   "file_extension": ".py",
   "mimetype": "text/x-python",
   "name": "python",
   "nbconvert_exporter": "python",
   "pygments_lexer": "ipython3",
   "version": "3.10.8"
  }
 },
 "nbformat": 4,
 "nbformat_minor": 5
}
