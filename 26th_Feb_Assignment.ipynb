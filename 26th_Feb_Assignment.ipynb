{
 "cells": [
  {
   "cell_type": "markdown",
   "id": "b955b769-9262-4210-b852-1f6ba1cd6ae5",
   "metadata": {},
   "source": [
    "### Consider the below code to answer further questions:"
   ]
  },
  {
   "cell_type": "code",
   "execution_count": 35,
   "id": "545e990e-89a7-462c-8826-44ed3dc73904",
   "metadata": {},
   "outputs": [],
   "source": [
    "import numpy as np\n",
    "\n",
    "list_ = [\"1\", \"2\", \"3\", \"4\", \"5\"]\n",
    "array_list = np.array(object = list_)"
   ]
  },
  {
   "cell_type": "code",
   "execution_count": null,
   "id": "bb6af2cc-ae7a-42f2-925f-a2b46e27bfe2",
   "metadata": {},
   "outputs": [],
   "source": []
  },
  {
   "cell_type": "markdown",
   "id": "2ac7880c-b7c6-42c1-ae17-6acd55e3b903",
   "metadata": {},
   "source": [
    "### Q1. Is there any difference in the data type of variables list_ and array_list? If there is then write a code to print the data types of both the variables."
   ]
  },
  {
   "cell_type": "code",
   "execution_count": 36,
   "id": "17350ade-ad9b-4db9-9bdc-1fd96d64a6b5",
   "metadata": {},
   "outputs": [
    {
     "data": {
      "text/plain": [
       "['1', '2', '3', '4', '5']"
      ]
     },
     "execution_count": 36,
     "metadata": {},
     "output_type": "execute_result"
    }
   ],
   "source": [
    "list_"
   ]
  },
  {
   "cell_type": "code",
   "execution_count": 37,
   "id": "100df83c-e442-482b-9409-7b75a5d89366",
   "metadata": {},
   "outputs": [
    {
     "data": {
      "text/plain": [
       "array(['1', '2', '3', '4', '5'], dtype='<U1')"
      ]
     },
     "execution_count": 37,
     "metadata": {},
     "output_type": "execute_result"
    }
   ],
   "source": [
    "array_list"
   ]
  },
  {
   "cell_type": "code",
   "execution_count": 38,
   "id": "b93f078b-dbc4-4786-bd4a-2db3ba9bad33",
   "metadata": {},
   "outputs": [
    {
     "name": "stdout",
     "output_type": "stream",
     "text": [
      "Type: <class 'numpy.ndarray'>\n"
     ]
    }
   ],
   "source": [
    "# for array_list\n",
    "print(\"Type:\",type(array_list))"
   ]
  },
  {
   "cell_type": "code",
   "execution_count": 39,
   "id": "011fa07d-d3f6-4470-9d72-20ccf087804c",
   "metadata": {},
   "outputs": [
    {
     "name": "stdout",
     "output_type": "stream",
     "text": [
      "Type: <class 'list'>\n"
     ]
    }
   ],
   "source": [
    "# for list_\n",
    "print(\"Type:\",type(list_))"
   ]
  },
  {
   "cell_type": "markdown",
   "id": "607d6a1b-a7a0-42db-9ee9-ea8088f8a8e8",
   "metadata": {},
   "source": [
    "Ans. The data type of array_list variable is array that contains string elements, whereas list_ variable data type is list() that also contains string elements both array and list are different data types.\n",
    "- **List**: A list in Python is a collection of items which can contain elements of multiple data types, which may be either numeric, character logical values, etc. It is an ordered collection supporting negative indexing. A list can be created using [] containing data values.\n",
    "- **Array**: An array is a vector containing homogeneous elements i.e. belonging to the same data type. Elements are allocated with contiguous memory locations allowing easy modification, that is, addition, deletion, accessing of elements. In Python, we have to use the array module to declare arrays. If the elements of an array belong to different data types, an exception “Incompatible data types” is thrown."
   ]
  },
  {
   "cell_type": "code",
   "execution_count": null,
   "id": "ac68d35c-4700-4963-9543-a5dd46e25ac9",
   "metadata": {},
   "outputs": [],
   "source": []
  },
  {
   "cell_type": "markdown",
   "id": "6580a6ee-8146-4fe3-8bb7-b06ce9d7e899",
   "metadata": {},
   "source": [
    "### Q2. Write a code to print the data type of each and every element of both the variables list_ and array_list."
   ]
  },
  {
   "cell_type": "code",
   "execution_count": 40,
   "id": "7f703e6c-292c-4eba-8b0b-13cb8f695099",
   "metadata": {},
   "outputs": [
    {
     "data": {
      "text/plain": [
       "dtype('<U1')"
      ]
     },
     "execution_count": 40,
     "metadata": {},
     "output_type": "execute_result"
    }
   ],
   "source": [
    "# for array_list\n",
    "array_list.dtype # as array contains homogeneous elements that means all elements in the array will have the same data type"
   ]
  },
  {
   "cell_type": "code",
   "execution_count": 41,
   "id": "78b64c32-95c3-4949-b2b5-3a45d5fc2abc",
   "metadata": {},
   "outputs": [
    {
     "name": "stdout",
     "output_type": "stream",
     "text": [
      "Data type of element at index 0 is <class 'str'>\n",
      "Data type of element at index 1 is <class 'str'>\n",
      "Data type of element at index 2 is <class 'str'>\n",
      "Data type of element at index 3 is <class 'str'>\n",
      "Data type of element at index 4 is <class 'str'>\n"
     ]
    }
   ],
   "source": [
    "# for list_\n",
    "for i in list_:\n",
    "    print(f\"Data type of element at index {list_.index(i)} is {type(i)}\")"
   ]
  },
  {
   "cell_type": "code",
   "execution_count": null,
   "id": "ff9516ba-bd31-41b4-9a2f-bfacb5613ea4",
   "metadata": {},
   "outputs": [],
   "source": []
  },
  {
   "cell_type": "markdown",
   "id": "7becec08-efa0-4c01-9fd7-e0b4002bfe72",
   "metadata": {},
   "source": [
    "### Q3. Considering the following changes in the variable, array_list:\n",
    "\n",
    "array_list = np.array(object = list_, dtype = int)\n",
    "\n",
    "### Will there be any difference in the data type of the elements present in both the variables, list_ and arra_list? If so then print the data types of each and every element present in both the variables, list_ and arra_list."
   ]
  },
  {
   "cell_type": "code",
   "execution_count": 42,
   "id": "f9ae8ba2-0963-4a15-bfe1-cc9575b985ff",
   "metadata": {},
   "outputs": [],
   "source": [
    "import numpy as np\n",
    "\n",
    "array_list = np.array(object = list_, dtype = int)"
   ]
  },
  {
   "cell_type": "code",
   "execution_count": 52,
   "id": "a02f0f86-a68f-4117-baad-d2498ad44356",
   "metadata": {},
   "outputs": [
    {
     "data": {
      "text/plain": [
       "dtype('int64')"
      ]
     },
     "execution_count": 52,
     "metadata": {},
     "output_type": "execute_result"
    }
   ],
   "source": [
    "# for array_list\n",
    "array_list.dtype # as array contains homogeneous elements that means all elements in the array will have the same data type"
   ]
  },
  {
   "cell_type": "code",
   "execution_count": 53,
   "id": "ea5373ab-8219-443e-ab8e-21cb57ed9478",
   "metadata": {},
   "outputs": [
    {
     "name": "stdout",
     "output_type": "stream",
     "text": [
      "Data type of element at index 0 is <class 'str'>\n",
      "Data type of element at index 1 is <class 'str'>\n",
      "Data type of element at index 2 is <class 'str'>\n",
      "Data type of element at index 3 is <class 'str'>\n",
      "Data type of element at index 4 is <class 'str'>\n"
     ]
    }
   ],
   "source": [
    "# for list_\n",
    "for i in list_:\n",
    "    print(f\"Data type of element at index {list_.index(i)} is {type(i)}\")"
   ]
  },
  {
   "cell_type": "markdown",
   "id": "7cade565-afbd-4533-a439-7a6c076a2ba5",
   "metadata": {},
   "source": [
    "Ans. Yes, as while creating the array we have defined the dtype = int that means that array_list will contain elemnts that all are integer datatype, whereas list_ contains string datatype element."
   ]
  },
  {
   "cell_type": "code",
   "execution_count": null,
   "id": "c5c3bbd2-1a77-482e-b823-24ac6b7469f8",
   "metadata": {},
   "outputs": [],
   "source": []
  },
  {
   "cell_type": "markdown",
   "id": "e8b2c686-14b3-4140-a66a-a3190aa60c99",
   "metadata": {},
   "source": [
    "### Consider the below code to answer further questions:"
   ]
  },
  {
   "cell_type": "code",
   "execution_count": 60,
   "id": "e9dee42b-8cca-4b8f-805a-61c971a24059",
   "metadata": {},
   "outputs": [],
   "source": [
    "import numpy as np\n",
    "\n",
    "num_list = [ [ 1 , 2 , 3 ] , [ 4 , 5 , 6 ] ]\n",
    "num_array = np.array(object = num_list)"
   ]
  },
  {
   "cell_type": "code",
   "execution_count": 61,
   "id": "38171620-79f4-4ce3-ad02-b7b785bff0be",
   "metadata": {},
   "outputs": [
    {
     "data": {
      "text/plain": [
       "[[1, 2, 3], [4, 5, 6]]"
      ]
     },
     "execution_count": 61,
     "metadata": {},
     "output_type": "execute_result"
    }
   ],
   "source": [
    "num_list"
   ]
  },
  {
   "cell_type": "code",
   "execution_count": 62,
   "id": "60705a86-474d-4609-a6a6-9dd48df3459f",
   "metadata": {},
   "outputs": [
    {
     "data": {
      "text/plain": [
       "array([[1, 2, 3],\n",
       "       [4, 5, 6]])"
      ]
     },
     "execution_count": 62,
     "metadata": {},
     "output_type": "execute_result"
    }
   ],
   "source": [
    "num_array"
   ]
  },
  {
   "cell_type": "code",
   "execution_count": null,
   "id": "801c358f-18e4-4ee3-997c-eaed1d66aaf5",
   "metadata": {},
   "outputs": [],
   "source": []
  },
  {
   "cell_type": "markdown",
   "id": "317d6f08-d5eb-4783-9cd5-e466bcfaed15",
   "metadata": {},
   "source": [
    "### Q4. Write a code to find the following characteristics of variable, num_array:\n",
    "\n",
    "1. shape\n",
    "2. size"
   ]
  },
  {
   "cell_type": "code",
   "execution_count": 66,
   "id": "69f36422-9e6c-475c-9afd-31a6f3396490",
   "metadata": {},
   "outputs": [
    {
     "data": {
      "text/plain": [
       "(2, 3)"
      ]
     },
     "execution_count": 66,
     "metadata": {},
     "output_type": "execute_result"
    }
   ],
   "source": [
    "num_array.shape"
   ]
  },
  {
   "cell_type": "code",
   "execution_count": 64,
   "id": "c4f294a6-f772-4a09-ac56-9fe1d03df930",
   "metadata": {},
   "outputs": [
    {
     "data": {
      "text/plain": [
       "6"
      ]
     },
     "execution_count": 64,
     "metadata": {},
     "output_type": "execute_result"
    }
   ],
   "source": [
    "num_array.size"
   ]
  },
  {
   "cell_type": "code",
   "execution_count": null,
   "id": "916cd60c-02e0-48f2-a1b5-aff63b1cc49c",
   "metadata": {},
   "outputs": [],
   "source": []
  },
  {
   "cell_type": "markdown",
   "id": "e68aa911-e75c-4f4d-9488-22b62d391373",
   "metadata": {},
   "source": [
    "### Q5. Write a code to create numpy array of 3*3 matrix containing zeros only, using a numpy array creation function.\n",
    "\n",
    "[Hint: The size of the array will be 9 and the shape will be (3,3).]"
   ]
  },
  {
   "cell_type": "code",
   "execution_count": 73,
   "id": "0220d46b-bb44-4b76-bdb3-d7a68a713148",
   "metadata": {},
   "outputs": [],
   "source": [
    "arr0 = np.zeros((3,3))"
   ]
  },
  {
   "cell_type": "code",
   "execution_count": 74,
   "id": "0c12ec7c-65ff-43c3-9928-e4842522ee69",
   "metadata": {},
   "outputs": [
    {
     "data": {
      "text/plain": [
       "array([[0., 0., 0.],\n",
       "       [0., 0., 0.],\n",
       "       [0., 0., 0.]])"
      ]
     },
     "execution_count": 74,
     "metadata": {},
     "output_type": "execute_result"
    }
   ],
   "source": [
    "arr0"
   ]
  },
  {
   "cell_type": "code",
   "execution_count": 75,
   "id": "7375d60e-612b-4eb9-aa0c-f7956d832036",
   "metadata": {},
   "outputs": [
    {
     "data": {
      "text/plain": [
       "9"
      ]
     },
     "execution_count": 75,
     "metadata": {},
     "output_type": "execute_result"
    }
   ],
   "source": [
    "arr0.size"
   ]
  },
  {
   "cell_type": "code",
   "execution_count": null,
   "id": "7897f1c6-c715-443f-b64c-51cf759a2af2",
   "metadata": {},
   "outputs": [],
   "source": []
  },
  {
   "cell_type": "markdown",
   "id": "e98f5e81-c626-4e46-a3c7-0a161cd9a858",
   "metadata": {},
   "source": [
    "### Q6. Create an identity matrix of shape (5,5) using numpy functions?\n",
    "\n",
    "[Hint: An identity matrix is a matrix containing 1 diagonally and other elements will be 0.]"
   ]
  },
  {
   "cell_type": "code",
   "execution_count": 76,
   "id": "d799a496-531d-4512-8efa-2f1bbc836c06",
   "metadata": {},
   "outputs": [],
   "source": [
    "arr_iden = np.eye(5)"
   ]
  },
  {
   "cell_type": "code",
   "execution_count": 77,
   "id": "fe9dbea5-0817-4886-809f-62454d62a422",
   "metadata": {},
   "outputs": [
    {
     "data": {
      "text/plain": [
       "array([[1., 0., 0., 0., 0.],\n",
       "       [0., 1., 0., 0., 0.],\n",
       "       [0., 0., 1., 0., 0.],\n",
       "       [0., 0., 0., 1., 0.],\n",
       "       [0., 0., 0., 0., 1.]])"
      ]
     },
     "execution_count": 77,
     "metadata": {},
     "output_type": "execute_result"
    }
   ],
   "source": [
    "arr_iden"
   ]
  },
  {
   "cell_type": "code",
   "execution_count": null,
   "id": "0158fc7b-e1cf-4041-9a91-39609df5904f",
   "metadata": {},
   "outputs": [],
   "source": []
  }
 ],
 "metadata": {
  "kernelspec": {
   "display_name": "Python 3 (ipykernel)",
   "language": "python",
   "name": "python3"
  },
  "language_info": {
   "codemirror_mode": {
    "name": "ipython",
    "version": 3
   },
   "file_extension": ".py",
   "mimetype": "text/x-python",
   "name": "python",
   "nbconvert_exporter": "python",
   "pygments_lexer": "ipython3",
   "version": "3.10.8"
  }
 },
 "nbformat": 4,
 "nbformat_minor": 5
}
