{
 "cells": [
  {
   "cell_type": "markdown",
   "id": "a8f683a8-0225-4a48-b836-8fc965aaafd0",
   "metadata": {},
   "source": [
    "### Q1. Which keyword is used to create a function? Create a function to return a list of odd numbers in the range of 1 to 25."
   ]
  },
  {
   "cell_type": "markdown",
   "id": "cf913450-94a1-4128-9fd7-e687c072d048",
   "metadata": {},
   "source": [
    "Ans. def keyword is used to create function in python"
   ]
  },
  {
   "cell_type": "code",
   "execution_count": 1,
   "id": "d462ed80-bcd7-46f6-a4f3-595caddbba3f",
   "metadata": {},
   "outputs": [],
   "source": [
    "# Fn to return list of odd number in range 1 to 25\n",
    "def odd_num():\n",
    "    lst = []\n",
    "    for item in range(25):\n",
    "        if item % 2 != 0:\n",
    "            lst.append(item)\n",
    "    return lst"
   ]
  },
  {
   "cell_type": "code",
   "execution_count": 2,
   "id": "921154a8-f93d-4874-b496-6c97e462c765",
   "metadata": {},
   "outputs": [
    {
     "data": {
      "text/plain": [
       "[1, 3, 5, 7, 9, 11, 13, 15, 17, 19, 21, 23]"
      ]
     },
     "execution_count": 2,
     "metadata": {},
     "output_type": "execute_result"
    }
   ],
   "source": [
    "odd_num()"
   ]
  },
  {
   "cell_type": "code",
   "execution_count": null,
   "id": "67cd98d6-ad1c-4c76-a310-a280756c140b",
   "metadata": {},
   "outputs": [],
   "source": []
  },
  {
   "cell_type": "markdown",
   "id": "f79ad149-00c9-4a67-bdf8-cb0b91158191",
   "metadata": {},
   "source": [
    "### Q2. Why *args and **kwargs is used in some functions? Create a function each for *args and **kwargs to demonstrate their use."
   ]
  },
  {
   "cell_type": "markdown",
   "id": "d3a7630c-0d60-4cf7-963e-c5a7dd394cf9",
   "metadata": {},
   "source": [
    "Ans. *args in function definitions in python is used to pass a variable number of arguments to a function. It is used to pass a non-key worded, variable-length argument list.\n",
    "\n",
    "**kwargs in function definitions in python is used to pass a key,value pair as an argument in the function"
   ]
  },
  {
   "cell_type": "code",
   "execution_count": 19,
   "id": "22554786-be29-4d99-866e-6d5580b3c202",
   "metadata": {},
   "outputs": [],
   "source": [
    "# Example for *args\n",
    "def test(*args):\n",
    "    return args #the output will be of tuple type"
   ]
  },
  {
   "cell_type": "code",
   "execution_count": 21,
   "id": "df866570-49cc-4723-9c7e-ec028bad19ce",
   "metadata": {},
   "outputs": [
    {
     "data": {
      "text/plain": [
       "(1, 2, 3, 2, 5, 4, 8, 9, 55, 'Ash', 889.23)"
      ]
     },
     "execution_count": 21,
     "metadata": {},
     "output_type": "execute_result"
    }
   ],
   "source": [
    "test(1,2,3,2,5,4,8,9,55,'Ash',889.23)\n",
    "# type(test())"
   ]
  },
  {
   "cell_type": "code",
   "execution_count": 17,
   "id": "8070c56e-85c0-43a6-bd59-028f0593aec8",
   "metadata": {},
   "outputs": [],
   "source": [
    "# Example for **kwargs\n",
    "def test1(**kwargs):\n",
    "    return kwargs #the output will be of dict type"
   ]
  },
  {
   "cell_type": "code",
   "execution_count": 18,
   "id": "6cf40854-ff53-4dbd-bccf-7794bf74f8e8",
   "metadata": {},
   "outputs": [
    {
     "data": {
      "text/plain": [
       "{'name': 'Ash', 'location': 'Del', 'course': 'DS'}"
      ]
     },
     "execution_count": 18,
     "metadata": {},
     "output_type": "execute_result"
    }
   ],
   "source": [
    "test1(name = 'Ash', location = 'Del' , course = 'DS')"
   ]
  },
  {
   "cell_type": "code",
   "execution_count": null,
   "id": "70cc958d-25ec-416a-9ed6-90ab239f0703",
   "metadata": {},
   "outputs": [],
   "source": []
  },
  {
   "cell_type": "markdown",
   "id": "d4aae46c-631e-479e-a5f4-793cd34b0f6a",
   "metadata": {},
   "source": [
    "### Q3.  What is an iterator in python? Name the method used to initialise the iterator object and the method used for iteration. Use these methods to print the first five elements of the given list \n",
    "\n",
    "lst = [2, 4, 6, 8, 10, 12, 14, 16, \n",
    "18, 20]"
   ]
  },
  {
   "cell_type": "markdown",
   "id": "835e70f4-4b8e-4fb5-942e-231de37ac319",
   "metadata": {},
   "source": [
    "Ans. An iterator is an object that contains a countable number of values. An iterator is an object that can be iterated upon, meaning that you can traverse through all the values. In Python, an iterator is an object which implements the iterator protocol, which consist of the methods __iter__() and __next__().\n",
    "1. iter() method is used to initialise the iterator object and this always returns the iterator object itself.\n",
    "2. next() method is used for iterate over the values."
   ]
  },
  {
   "cell_type": "code",
   "execution_count": 23,
   "id": "3c448eff-0238-4ee8-adc7-09c6df7fa67f",
   "metadata": {},
   "outputs": [
    {
     "name": "stdout",
     "output_type": "stream",
     "text": [
      "2\n",
      "4\n",
      "6\n",
      "8\n",
      "10\n"
     ]
    }
   ],
   "source": [
    "# code\n",
    "lst = [2, 4, 6, 8, 10, 12, 14, 16, 18, 20]\n",
    "result = iter(lst)\n",
    "\n",
    "print(next(result))\n",
    "print(next(result))\n",
    "print(next(result))\n",
    "print(next(result))\n",
    "print(next(result))"
   ]
  },
  {
   "cell_type": "code",
   "execution_count": null,
   "id": "1675cbaf-cd00-4600-8ccd-2e6de194be50",
   "metadata": {},
   "outputs": [],
   "source": []
  },
  {
   "cell_type": "markdown",
   "id": "85c8e10d-a36a-483e-8025-6568834cda2e",
   "metadata": {},
   "source": [
    "### Q4.  What is a generator function in python? Why yield keyword is used? Give an example of a generator function."
   ]
  },
  {
   "cell_type": "markdown",
   "id": "a89aedef-f029-4c0d-867f-75067e800347",
   "metadata": {},
   "source": [
    "Ans. A generator-function is defined like a normal function, but whenever it needs to generate a value, it does so with the yield keyword rather than return. If the body of a def contains yield, the function automatically becomes a generator function.\n",
    "\n",
    "Yield Keyword - The yield statement suspends a function’s execution and sends a value back to the caller, but retains enough state to enable the function to resume where it left off. When the function resumes, it continues execution immediately after the last yield run. This allows its code to produce a series of values over time, rather than computing them at once and sending them back like a list."
   ]
  },
  {
   "cell_type": "code",
   "execution_count": 26,
   "id": "b8b4e243-f25d-4280-954d-49ee944bcef3",
   "metadata": {},
   "outputs": [
    {
     "name": "stdout",
     "output_type": "stream",
     "text": [
      "0\n",
      "2\n",
      "4\n",
      "6\n",
      "8\n"
     ]
    }
   ],
   "source": [
    "# Example for generator function\n",
    "def test():  \n",
    "    for i in range(10):  \n",
    "        if(i%2==0):  \n",
    "             yield i  \n",
    "\n",
    "for i in test():\n",
    "    print(i)  "
   ]
  },
  {
   "cell_type": "code",
   "execution_count": null,
   "id": "fa4d650c-8bec-421e-a804-0a5f6603bc7c",
   "metadata": {},
   "outputs": [],
   "source": []
  },
  {
   "cell_type": "markdown",
   "id": "d6b389bc-370b-4074-8153-62fb55df995c",
   "metadata": {},
   "source": [
    "### Q5. Create a generator function for prime numbers less than 1000. Use the next() method to print the first 20 prime numbers."
   ]
  },
  {
   "cell_type": "code",
   "execution_count": 1,
   "id": "0395d03c-7eae-44ac-8814-c5fa4f99bae8",
   "metadata": {},
   "outputs": [
    {
     "name": "stdout",
     "output_type": "stream",
     "text": [
      "2\n",
      "3\n",
      "5\n",
      "7\n",
      "11\n",
      "13\n",
      "17\n",
      "19\n",
      "23\n",
      "29\n",
      "31\n",
      "37\n",
      "41\n",
      "43\n",
      "47\n",
      "53\n",
      "59\n",
      "61\n",
      "67\n",
      "71\n"
     ]
    }
   ],
   "source": [
    "# prime number using generator function\n",
    "from math import sqrt\n",
    "def prime_number(n):\n",
    "    if n <= 1:\n",
    "        return False\n",
    "    elif n == 2:\n",
    "        return True\n",
    "    elif (n%2) == 0:\n",
    "        return False\n",
    "    \n",
    "    i = 3\n",
    "    while i <= sqrt(n):\n",
    "        if (n%i) == 0:\n",
    "            return False\n",
    "        i += 2\n",
    "    return True\n",
    "\n",
    "def prime_generator():\n",
    "    n = 1   \n",
    "    while True:\n",
    "        n += 1\n",
    "        if prime_number(n):\n",
    "            yield n # yeild all the prime_numbers\n",
    "            \n",
    "prime = prime_generator()\n",
    "for i in range (20):\n",
    "    print(next(prime)) # next() function to print the sucessive prime number"
   ]
  },
  {
   "cell_type": "code",
   "execution_count": null,
   "id": "8d1e31f3-717c-4670-b9f5-a335f4eac1e7",
   "metadata": {},
   "outputs": [],
   "source": []
  }
 ],
 "metadata": {
  "kernelspec": {
   "display_name": "Python 3 (ipykernel)",
   "language": "python",
   "name": "python3"
  },
  "language_info": {
   "codemirror_mode": {
    "name": "ipython",
    "version": 3
   },
   "file_extension": ".py",
   "mimetype": "text/x-python",
   "name": "python",
   "nbconvert_exporter": "python",
   "pygments_lexer": "ipython3",
   "version": "3.10.8"
  }
 },
 "nbformat": 4,
 "nbformat_minor": 5
}
