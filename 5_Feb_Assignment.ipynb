{
 "cells": [
  {
   "cell_type": "markdown",
   "id": "fa1fe233-4abf-4a87-a0a0-6efaf2616871",
   "metadata": {},
   "source": [
    "### Q1. Explain Class and Object with respect to Object-Oriented Programming. Give a suitable example"
   ]
  },
  {
   "cell_type": "markdown",
   "id": "76953d3b-6b42-4ecc-9235-c8511ba3d041",
   "metadata": {},
   "source": [
    "Ans. A Class is a user defined blueprint/prototype from which objects are created. Classes provide means of building data and functionality together. Creating a new class creates a new type of object, allowig new instances of that type to be made. Each class instance can have attributes attached to it for maintaining its state. Class instances can also have methods (defined by thier class) for modifying their state.\n",
    "\n",
    "An Object is an instance of a class. Object consist of:\n",
    "1. State: It is represented by the attributes of an object. It also reflects the properties of an object.\n",
    "2. Behaviour: It is represented by the methods of an object. It also reflects the response of an object to other objects.\n",
    "3. Identity: It gives a unique name to an object and enables one object to interact with other objects."
   ]
  },
  {
   "cell_type": "code",
   "execution_count": 35,
   "id": "44dc5a53-893c-47f1-bb86-538e6d49adab",
   "metadata": {},
   "outputs": [],
   "source": [
    "# Example for Class and Object in python\n",
    "class car:\n",
    "    \n",
    "    # defining class attributes\n",
    "    attr1 = 'Sports Car'\n",
    "    attr2 = 'Jet fuel'\n",
    "    \n",
    "    # Test method\n",
    "    def test(ash):\n",
    "        return 'This is a {} that uses {}'.format(ash.attr1, ash.attr2)"
   ]
  },
  {
   "cell_type": "code",
   "execution_count": 36,
   "id": "5983016c-9122-4037-8634-149f80f446f0",
   "metadata": {},
   "outputs": [],
   "source": [
    "# Initiating Object for the defined class 'car'\n",
    "sample_mustang = car()"
   ]
  },
  {
   "cell_type": "code",
   "execution_count": 37,
   "id": "f1dcde4d-7901-45e8-acce-64323568732f",
   "metadata": {},
   "outputs": [
    {
     "data": {
      "text/plain": [
       "'This is a Sports Car that uses Jet fuel'"
      ]
     },
     "execution_count": 37,
     "metadata": {},
     "output_type": "execute_result"
    }
   ],
   "source": [
    "sample_mustang.test() "
   ]
  },
  {
   "cell_type": "code",
   "execution_count": 38,
   "id": "3eca10db-6169-4935-9aa9-1a1cb5cd9f41",
   "metadata": {},
   "outputs": [
    {
     "data": {
      "text/plain": [
       "'This is a Sports Car that uses Jet fuel'"
      ]
     },
     "execution_count": 38,
     "metadata": {},
     "output_type": "execute_result"
    }
   ],
   "source": [
    "car.test(sample_mustang)"
   ]
  },
  {
   "cell_type": "code",
   "execution_count": null,
   "id": "a356d1a1-1da4-4d29-b415-029b070fe8d0",
   "metadata": {},
   "outputs": [],
   "source": []
  },
  {
   "cell_type": "markdown",
   "id": "1be6e15e-45bd-4377-a5a3-00a728fb4ac8",
   "metadata": {},
   "source": [
    "### Q2. Name the four pillars of OOPs."
   ]
  },
  {
   "cell_type": "markdown",
   "id": "3cab6e88-c76b-4bc8-a9f6-7721bffc2d74",
   "metadata": {},
   "source": [
    "Ans. 1. Abstraction\n",
    "\n",
    "2. Encapsulation\n",
    "\n",
    "3. Inheritance\n",
    "\n",
    "4. Polymorphism"
   ]
  },
  {
   "cell_type": "code",
   "execution_count": null,
   "id": "d931ed97-2dad-407f-9bf8-5b0760ff9f96",
   "metadata": {},
   "outputs": [],
   "source": []
  },
  {
   "cell_type": "markdown",
   "id": "fb584f4e-2994-4de0-ae8d-76b261105fcc",
   "metadata": {},
   "source": [
    "### Q3. Explain why the __init__() function is used. Give a suitable example."
   ]
  },
  {
   "cell_type": "markdown",
   "id": "153b7bac-6aae-4e29-b888-8b11a818c8d6",
   "metadata": {},
   "source": [
    "Ans. The __init__() method is used as a constructor in python. Constructors are used to initialize the object's state. Like methods, a constructor also contains a collection of statements that are executed at the time of Object creation. It runs as soon as an object of a class is instantiated. The method is useful to do any initialization we want to do with our object."
   ]
  },
  {
   "cell_type": "code",
   "execution_count": 54,
   "id": "75bf9bcf-cd69-4ddc-91bf-7dc0b03d4429",
   "metadata": {},
   "outputs": [],
   "source": [
    "# example for __init__()\n",
    "\n",
    "class human:\n",
    "    \n",
    "    # init method\n",
    "    def __init__(self, name, age, location):\n",
    "        self.name = name\n",
    "        self.age = age\n",
    "        self.location = location\n",
    "        \n",
    "    # test method\n",
    "    def info(self):\n",
    "        return [self.name, self.age, self.location]"
   ]
  },
  {
   "cell_type": "code",
   "execution_count": 55,
   "id": "e191ada8-f8d4-479d-ac49-5bfad0cdde93",
   "metadata": {},
   "outputs": [],
   "source": [
    "ash = human('Ash', 23, 'Del')"
   ]
  },
  {
   "cell_type": "code",
   "execution_count": 56,
   "id": "0e9ef340-ceb6-4307-b799-fd6d9cc51021",
   "metadata": {},
   "outputs": [
    {
     "data": {
      "text/plain": [
       "['Ash', 23, 'Del']"
      ]
     },
     "execution_count": 56,
     "metadata": {},
     "output_type": "execute_result"
    }
   ],
   "source": [
    "human.info(ash)"
   ]
  },
  {
   "cell_type": "code",
   "execution_count": 60,
   "id": "69b1b15e-1627-4251-8ced-602715842090",
   "metadata": {},
   "outputs": [
    {
     "name": "stdout",
     "output_type": "stream",
     "text": [
      "Ash\n",
      "23\n",
      "Del\n"
     ]
    }
   ],
   "source": [
    "print(ash.name)\n",
    "print(ash.age)\n",
    "print(ash.location)"
   ]
  },
  {
   "cell_type": "code",
   "execution_count": 62,
   "id": "4f23fdca-baca-4145-83ee-de67e774edab",
   "metadata": {},
   "outputs": [
    {
     "data": {
      "text/plain": [
       "['Ash', 23, 'Del']"
      ]
     },
     "execution_count": 62,
     "metadata": {},
     "output_type": "execute_result"
    }
   ],
   "source": [
    "ash.info()"
   ]
  },
  {
   "cell_type": "code",
   "execution_count": null,
   "id": "fcdb22f3-9955-47f5-9821-590b22225116",
   "metadata": {},
   "outputs": [],
   "source": []
  },
  {
   "cell_type": "markdown",
   "id": "45b8bbcf-146f-4d21-8bba-6afbb6c588e0",
   "metadata": {},
   "source": [
    "### Q4. Why self is used in OOPs?"
   ]
  },
  {
   "cell_type": "markdown",
   "id": "de9f87b6-c17c-4106-b1fa-d27b09946fb1",
   "metadata": {},
   "source": [
    "Ans. The self parameter is used as a reference to the currect instance of the class, and is used to access variables that belongs to the class. It doesn't have to be named 'self', we can call it whatever we like, but it has to be the first parameter of any function in class."
   ]
  },
  {
   "cell_type": "code",
   "execution_count": null,
   "id": "cce23ad3-207b-4d22-bfc7-b7dde90153b3",
   "metadata": {},
   "outputs": [],
   "source": []
  },
  {
   "cell_type": "markdown",
   "id": "78bbd568-5ec7-4634-8037-76c2bdb10aba",
   "metadata": {},
   "source": [
    "### Q5. What is inheritance? Give an example for each type of inheritance."
   ]
  },
  {
   "cell_type": "markdown",
   "id": "25a29b1d-4480-4e8d-96e3-8bf11d274514",
   "metadata": {},
   "source": [
    "Ans. Inheritance allows us to define a class that inhertis all the methods and properties from another class.\n",
    "\n",
    "Parent Class is the class being inherited from, also called base class.\n",
    "\n",
    "Child Class is the class that inherits from another class, also called derived class."
   ]
  },
  {
   "cell_type": "code",
   "execution_count": 4,
   "id": "94a9b2b7-f8e7-4897-b2f1-8c14fd836c03",
   "metadata": {},
   "outputs": [
    {
     "data": {
      "text/plain": [
       "'This is parent class'"
      ]
     },
     "execution_count": 4,
     "metadata": {},
     "output_type": "execute_result"
    }
   ],
   "source": [
    "# Single Inheritance\n",
    "''' Single inheritance allows a derivate class to inherit properties of one parent class, and this allow\n",
    "code reuse and the introduction of additional features in existing code '''\n",
    "\n",
    "class parent():\n",
    "    \n",
    "    def func_parent(self):\n",
    "        return 'This is parent class'\n",
    "    \n",
    "class child(parent):\n",
    "    \n",
    "    def func_child(self):\n",
    "        return 'This is child class'\n",
    "    \n",
    "    \n",
    "# Object initialization for child class\n",
    "child_obj = child()\n",
    "\n",
    "# calling parent func method using child class object\n",
    "child_obj.func_parent()"
   ]
  },
  {
   "cell_type": "code",
   "execution_count": 5,
   "id": "53ac35ed-2415-4b38-810f-8173ebbdd866",
   "metadata": {},
   "outputs": [],
   "source": [
    "# Multiple Inhertiance\n",
    "''' A single class will inherit methods and properties from multiple classes '''\n",
    "\n",
    "class test1():\n",
    "    \n",
    "    def func_test1(self):\n",
    "        return 'This is test1 method'\n",
    "    \n",
    "class test2():\n",
    "    \n",
    "    def func_test2(self):\n",
    "        return \"This is test2 method\"\n",
    "    \n",
    "class test3(test1, test2):\n",
    "    \n",
    "    def func_test3(self):\n",
    "        return \"This is test3 method\"\n",
    "    \n",
    "# object initialization\n",
    "test3_obj = test3()"
   ]
  },
  {
   "cell_type": "code",
   "execution_count": 9,
   "id": "094cebe6-e2ce-4e69-a41a-56970d1452ef",
   "metadata": {},
   "outputs": [
    {
     "name": "stdout",
     "output_type": "stream",
     "text": [
      "This is test1 method\n",
      "This is test2 method\n"
     ]
    }
   ],
   "source": [
    "# calling method of test1 and test2 using test3 object\n",
    "print(test3_obj.func_test1())\n",
    "print(test3_obj.func_test2())"
   ]
  },
  {
   "cell_type": "code",
   "execution_count": 10,
   "id": "0b7696a2-b2a1-421e-8d5c-29751b9cffb6",
   "metadata": {},
   "outputs": [],
   "source": [
    "# Multilevel Inheritance\n",
    "''' In this the method and properties from the original class is inherited by the intermediatory class\n",
    "and are passed down to the new class '''\n",
    "\n",
    "class test1():\n",
    "    \n",
    "    def func_test1(self):\n",
    "        return 'This is test1 method'\n",
    "    \n",
    "class test2(test1):\n",
    "    \n",
    "    def func_test2(self):\n",
    "        return \"This is test2 method\"\n",
    "    \n",
    "class test3(test2):\n",
    "    \n",
    "    def func_test3(self):\n",
    "        return \"This is test3 method\"\n",
    "    \n",
    "# object initialization\n",
    "test3_obj = test3()"
   ]
  },
  {
   "cell_type": "code",
   "execution_count": 11,
   "id": "0ed480e5-bc2c-400a-9863-944944ca4eef",
   "metadata": {},
   "outputs": [
    {
     "name": "stdout",
     "output_type": "stream",
     "text": [
      "This is test1 method\n",
      "This is test2 method\n"
     ]
    }
   ],
   "source": [
    "# calling method of test1 and test2 using test3 object\n",
    "print(test3_obj.func_test1())\n",
    "print(test3_obj.func_test2())"
   ]
  },
  {
   "cell_type": "code",
   "execution_count": 16,
   "id": "674bc3dd-d0b8-4ede-a9b6-d628678225a5",
   "metadata": {},
   "outputs": [],
   "source": [
    "# Hierarchical Inheritance\n",
    "''' If multiple derived classes are created from the same base, this kind of inheritance is known as\n",
    "hierarchical inheritance. In this instance, we have two base classes as a parent class as well as two \n",
    "childern classes '''\n",
    "\n",
    "# Base class\n",
    "class parent:\n",
    "    def func1(self):\n",
    "        return 'This is function in parent class'\n",
    "        \n",
    "class child1(parent):\n",
    "    def func2(self):\n",
    "        return \"This is function in child1 class\"\n",
    "    \n",
    "class child2(parent):\n",
    "    def func3(self):\n",
    "        return \"This is function in child2 class\"\n",
    "\n",
    "obj_child1 = child1()\n",
    "obj_child2 = child2()"
   ]
  },
  {
   "cell_type": "code",
   "execution_count": 20,
   "id": "6d8c4858-d15e-46ef-b6e1-10830b59cc55",
   "metadata": {},
   "outputs": [
    {
     "name": "stdout",
     "output_type": "stream",
     "text": [
      "This is function in parent class\n",
      "This is function in child1 class\n",
      "\n",
      "This is function in parent class\n",
      "This is function in child2 class\n"
     ]
    }
   ],
   "source": [
    "print(obj_child1.func1())\n",
    "print(obj_child1.func2())\n",
    "print('\\r')\n",
    "print(obj_child2.func1())\n",
    "print(obj_child2.func3())"
   ]
  },
  {
   "cell_type": "code",
   "execution_count": 21,
   "id": "e542eb03-4ede-430c-8ee3-83479401a0d3",
   "metadata": {},
   "outputs": [],
   "source": [
    "# Hybrid Inheritance\n",
    "''' Inheritance consist of multiple type of inheritance '''\n",
    "\n",
    "class classf():\n",
    "    \n",
    "    def func_classf(self):\n",
    "        return \"This is function in classF\"\n",
    "    \n",
    "class classg():\n",
    "    \n",
    "    def func_classg(self):\n",
    "        return \"This is function in classG\"\n",
    "    \n",
    "class classe(classf, classg):\n",
    "    \n",
    "    def func_classe(self):\n",
    "        return \"This is function in classE\"\n",
    "    \n",
    "class classb(classf):\n",
    "    \n",
    "    def func_classb(self):\n",
    "        return \"This is function in classB\"\n",
    "    \n",
    "class classa(classb):\n",
    "    \n",
    "    def func_classa(self):\n",
    "        return \"This is function in classA\"\n",
    "    \n",
    "class classc(classb):\n",
    "    \n",
    "    def func_classc(self):\n",
    "        return \"This is function in classC\"\n",
    "    \n",
    "obj_classf = classf()\n",
    "obj_classg = classg()\n",
    "obj_classe = classe()\n",
    "obj_classb = classb()\n",
    "obj_classa = classa()\n",
    "obj_classc = classc()"
   ]
  },
  {
   "cell_type": "code",
   "execution_count": 22,
   "id": "deea11f5-63ff-4527-b3e9-aa937a1ff38d",
   "metadata": {},
   "outputs": [
    {
     "data": {
      "text/plain": [
       "'This is function in classF'"
      ]
     },
     "execution_count": 22,
     "metadata": {},
     "output_type": "execute_result"
    }
   ],
   "source": [
    "obj_classe.func_classf()"
   ]
  },
  {
   "cell_type": "code",
   "execution_count": null,
   "id": "8989f71d-34d2-48f1-bae4-0df935fe66d2",
   "metadata": {},
   "outputs": [],
   "source": []
  }
 ],
 "metadata": {
  "kernelspec": {
   "display_name": "Python 3 (ipykernel)",
   "language": "python",
   "name": "python3"
  },
  "language_info": {
   "codemirror_mode": {
    "name": "ipython",
    "version": 3
   },
   "file_extension": ".py",
   "mimetype": "text/x-python",
   "name": "python",
   "nbconvert_exporter": "python",
   "pygments_lexer": "ipython3",
   "version": "3.10.8"
  }
 },
 "nbformat": 4,
 "nbformat_minor": 5
}
