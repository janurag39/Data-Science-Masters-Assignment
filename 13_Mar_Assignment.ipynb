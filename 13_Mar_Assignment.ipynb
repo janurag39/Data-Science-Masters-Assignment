{
 "cells": [
  {
   "cell_type": "markdown",
   "id": "4bac15b4-ed6d-4573-9976-d050a7eeaca2",
   "metadata": {},
   "source": [
    "### Q1. Explain the assumptions required to use ANOVA and provide examples of violations that could impact the validity of the results."
   ]
  },
  {
   "cell_type": "markdown",
   "id": "f6b94a44-16ad-490d-89b2-183daee00d59",
   "metadata": {},
   "source": [
    "Ans. **Assumptions required to use ANOVA (Analysis of Variance)**\n",
    "\n",
    "1. Normality of Sampling distribution of mean: The distrubution of sample mean is normally distributed (i.e. Follows Central Limit Theorem)\n",
    "2. Absence of Outliners: Outlying score need to be removed from the dataset.\n",
    "3. Homogenity of variance: Homogeneity means that the variance among the groups should be approximately equal.\n",
    "4. Samples are Independent and random.\n",
    "\n",
    "**Voilations that could impact the validity of results**\n",
    "\n",
    "Violations of the assumptions of your analysis impact your ability to trust your results and validly draw inferences about your results.\n",
    "\n",
    "1. *Data transformation:* A common issue that researchers face is a violation of the assumption of normality. Numerous statistics texts recommend data transformations, such as natural log or square root transformations, to address this violation. Data transformations are not without consequence; for example, once you transform a variable and conduct your analysis, you can only interpret the transformed variable. You cannot provide an interpretation of the results based on the untransformed variable values.\n",
    "\n",
    "2. *Non-parametric analysis:* You may encounter issues where multiple assumptions are violated, or a data transformation does not correct the violated assumption. In these cases, you may opt to use non-parametric analyses.\n",
    "\n",
    "3. *Alternative statistics for determining significance:* We may consider using more conservative statistics for determining significance if your assumptions are violated. For example, if the assumption of homogeneity of variance was violated in your analysis of variance (ANOVA), you can use alternative F statistics"
   ]
  },
  {
   "cell_type": "code",
   "execution_count": null,
   "id": "2cbd7330-0330-4af3-a064-c26c058c7fdc",
   "metadata": {},
   "outputs": [],
   "source": []
  },
  {
   "cell_type": "markdown",
   "id": "2211cdd6-ee62-4575-a9c2-75e9584e61db",
   "metadata": {},
   "source": [
    "### Q2. What are the three types of ANOVA, and in what situations would each be used?\n"
   ]
  },
  {
   "cell_type": "markdown",
   "id": "d9759361-0742-4d5f-a819-79cc49110e0d",
   "metadata": {},
   "source": [
    "Ans. Types of Anova:\n",
    "\n",
    "1. *One-way Anova:* One factor with atleast 2-levels and these levels are independent.\n",
    "2. *Repeated measures Anova:* One factor iwth aleast 2 levels, levels are independent.\n",
    "3. *Factorial Anova*: Two or more factors (each of which with atleast two levels), levels can be independent or dependent."
   ]
  },
  {
   "cell_type": "code",
   "execution_count": null,
   "id": "3ea52a47-e3fe-402b-acb8-8c2e5874d2f7",
   "metadata": {},
   "outputs": [],
   "source": []
  },
  {
   "cell_type": "markdown",
   "id": "e9da6b94-af6b-46bc-a12e-e60be76a0d68",
   "metadata": {},
   "source": [
    "### Q3. What is the partitioning of variance in ANOVA, and why is it important to understand this concept?"
   ]
  },
  {
   "cell_type": "markdown",
   "id": "14a2d6c9-886e-4ee1-80d5-09f9e3056e06",
   "metadata": {},
   "source": [
    "Ans. Partitoning of variance in Anova is dividing *Total Variance* into *Within Group Variance* and *Between Group Variance*. It is an important concept in the statistical field because it helps use to determine the overall relation between the groups and helps us to find if the result is statistically significant or not when dealing with more than 2 groups that are independent from eachother."
   ]
  },
  {
   "cell_type": "code",
   "execution_count": null,
   "id": "e6dfb993-6c56-4225-b3e5-a5dac6339655",
   "metadata": {},
   "outputs": [],
   "source": []
  },
  {
   "cell_type": "markdown",
   "id": "599ff047-2bac-4bd1-b4ee-7485f65b96a1",
   "metadata": {},
   "source": [
    "### Q4. How would you calculate the total sum of squares (SST), explained sum of squares (SSE), and residual sum of squares (SSR) in a one-way ANOVA using Python?"
   ]
  },
  {
   "cell_type": "markdown",
   "id": "b72a0710-0bc0-4711-802c-9602c35220e5",
   "metadata": {},
   "source": [
    "Ans. We can calculate SST (Total Sum of Squares), SSE (Explained Sum of Squares), and SSR (Residual Sum of Squares) in a one-way ANOVA using Python by following these steps:\n",
    "\n",
    "1. Calculate the overall mean (grand mean) of all observations.\n",
    "2. Calculate the sum of squares total (SST) by summing the squared deviations of each observation from the grand mean.\n",
    "3. Calculate the sum of squares explained (SSE) by summing the squared deviations of each group mean from the grand mean, weighted by the number of observations in each group.\n",
    "4. Calculate the sum of squares residual (SSR) by summing the squared deviations of each observation from its respective group mean.\n",
    "\n",
    "Here's a Python code snippet to demonstrate this calculation using the `numpy` library:\n",
    "\n",
    "```python\n",
    "import numpy as np\n",
    "\n",
    "def one_way_anova_sumsquares(groups):\n",
    "    # Calculate overall mean\n",
    "    overall_mean = np.mean(groups)\n",
    "\n",
    "    # Calculate SST (Total Sum of Squares)\n",
    "    sst = np.sum((groups - overall_mean) ** 2)\n",
    "\n",
    "    # Calculate SSE (Explained Sum of Squares)\n",
    "    sse = np.sum([np.sum((group - np.mean(group)) ** 2) for group in groups])\n",
    "\n",
    "    # Calculate SSR (Residual Sum of Squares)\n",
    "    ssr = sst - sse\n",
    "\n",
    "    return sst, sse, ssr\n",
    "\n",
    "# Example\n",
    "groups = np.array([[1, 2, 3], [4, 5, 6], [7, 8, 9]])\n",
    "sst, sse, ssr = one_way_anova_sumsquares(groups)\n",
    "print(\"SST:\", sst)\n",
    "print(\"SSE:\", sse)\n",
    "print(\"SSR:\", ssr)\n",
    "```"
   ]
  },
  {
   "cell_type": "code",
   "execution_count": null,
   "id": "f84d8e27-40f9-40a2-8aef-e313377e42b1",
   "metadata": {},
   "outputs": [],
   "source": []
  },
  {
   "cell_type": "markdown",
   "id": "376d2ee9-ef2a-4a09-a9fd-a8ab96489137",
   "metadata": {},
   "source": [
    "### Q5. In a two-way ANOVA, how would you calculate the main effects and interaction effects using Python?"
   ]
  },
  {
   "cell_type": "markdown",
   "id": "69c898d6-ebbb-4fec-ba8c-808de4b3c2e9",
   "metadata": {},
   "source": [
    "Ans. In a two-way ANOVA, you can calculate the main effects and interaction effects using Python by fitting a linear model to your data and then examining the coefficients associated with each factor and their interactions. You can use libraries like `statsmodels` or `scikit-learn` for this purpose. Here's a general outline of the steps involved:\n",
    "\n",
    "1. Prepare your data: Ensure your data is structured properly with one column for each factor or independent variable, and one column for the dependent variable.\n",
    "2. Fit a linear model: Use a suitable library to fit a linear model to your data, specifying both main effects and interaction terms.\n",
    "3. Extract coefficients: After fitting the model, extract the coefficients associated with the main effects and interaction terms.\n",
    "4. Interpret results: Examine the coefficients to determine the strength and direction of the main effects and interaction effects.\n",
    "\n",
    "Here's a Python code snippet using `statsmodels` to demonstrate this process:\n",
    "\n",
    "```python\n",
    "import pandas as pd\n",
    "import statsmodels.api as sm\n",
    "\n",
    "# Example data (replace with your actual data)\n",
    "data = {\n",
    "    'Factor1': [1, 2, 3, 1, 2, 3, 1, 2, 3],\n",
    "    'Factor2': ['A', 'A', 'A', 'B', 'B', 'B', 'C', 'C', 'C'],\n",
    "    'Dependent': [10, 15, 20, 12, 18, 24, 8, 10, 12]\n",
    "}\n",
    "\n",
    "df = pd.DataFrame(data)\n",
    "\n",
    "# Convert categorical variables to dummy variables\n",
    "df = pd.get_dummies(df, columns=['Factor1', 'Factor2'])\n",
    "\n",
    "# Add constant column for intercept\n",
    "df['Intercept'] = 1\n",
    "\n",
    "# Fit the linear model\n",
    "model = sm.OLS(df['Dependent'], df[['Intercept', 'Factor1_1', 'Factor1_2', 'Factor2_B', 'Factor2_C', 'Factor1_1:Factor2_B', 'Factor1_2:Factor2_B']])\n",
    "results = model.fit()\n",
    "\n",
    "# Print summary of the model\n",
    "print(results.summary())\n",
    "```\n",
    "\n",
    "In the above code:\n",
    "- `Factor1_1`, `Factor1_2`, `Factor2_B`, and `Factor2_C` represent the main effects of Factor1 and Factor2.\n",
    "- `Factor1_1:Factor2_B` and `Factor1_2:Factor2_B` represent the interaction effects between Factor1 and Factor2.\n",
    "- `Intercept` represents the intercept term.\n",
    "\n",
    "After fitting the model, you can examine the coefficients to interpret the main effects and interaction effects. The coefficients will indicate the direction and magnitude of the effects."
   ]
  },
  {
   "cell_type": "code",
   "execution_count": null,
   "id": "e75c070f-77b5-4875-9dca-5cbdb80e77dd",
   "metadata": {},
   "outputs": [],
   "source": []
  },
  {
   "cell_type": "markdown",
   "id": "42e61d47-0911-4371-aa1d-298df93f298f",
   "metadata": {},
   "source": [
    "### Q6. Suppose you conducted a one-way ANOVA and obtained an F-statistic of 5.23 and a p-value of 0.02. What can you conclude about the differences between the groups, and how would you interpret these results?"
   ]
  },
  {
   "cell_type": "markdown",
   "id": "69653854-1e5f-406c-92cb-42fd3f8ad5e8",
   "metadata": {},
   "source": [
    "Ans. In the context of a one-way ANOVA, the F-statistic measures the ratio of the variance between groups to the variance within groups. The p-value associated with the F-statistic indicates the probability of observing such an extreme F-statistic under the null hypothesis that the group means are all equal.\n",
    "\n",
    "Given that you obtained an F-statistic of 5.23 and a p-value of 0.02:\n",
    "\n",
    "1. **Significance of the F-statistic**: The F-statistic of 5.23 indicates that there is some difference among the group means. However, to determine whether this difference is statistically significant, we need to consider the p-value.\n",
    "2. **Interpretation of the p-value**: The p-value of 0.02 is less than the typical significance level of 0.05. Therefore, we would reject the null hypothesis at the 0.05 significance level. This suggests that there is strong evidence to conclude that there are differences between at least two of the groups.\n",
    "3. **Conclusion**: Based on these results, we can conclude that there are statistically significant differences between the groups. However, the ANOVA itself does not tell us which specific groups are different from each other. To determine pairwise differences between groups, post-hoc tests such as Tukey's HSD (Honestly Significant Difference) test or Bonferroni correction can be conducted.\n",
    "\n",
    "In summary, an F-statistic of 5.23 with a p-value of 0.02 indicates that there are statistically significant differences between the groups, warranting further investigation to determine the nature of these differences through post-hoc tests."
   ]
  },
  {
   "cell_type": "code",
   "execution_count": null,
   "id": "8d430a54-4945-4af8-99df-3647999dc960",
   "metadata": {},
   "outputs": [],
   "source": []
  },
  {
   "cell_type": "markdown",
   "id": "fc350c27-af7b-4036-83e4-2abb8c871235",
   "metadata": {},
   "source": [
    "### Q7. In a repeated measures ANOVA, how would you handle missing data, and what are the potential consequences of using different methods to handle missing data?"
   ]
  },
  {
   "cell_type": "markdown",
   "id": "3028a19e-843d-4790-a1e0-b5b90939e855",
   "metadata": {},
   "source": [
    "Ans. Handling missing data in repeated measures ANOVA is essential to ensure the validity and reliability of the analysis. There are several approaches to handle missing data, each with its potential consequences:\n",
    "\n",
    "1. **Complete Case Analysis (CCA)**:\n",
    "   - In CCA, cases with any missing data are completely excluded from the analysis.\n",
    "   - Pros: Simple to implement, retains all available data.\n",
    "   - Cons: May lead to biased estimates if missingness is related to the outcome or other variables of interest. Reduces statistical power if a large portion of data is missing.\n",
    "\n",
    "2. **Mean Imputation**:\n",
    "   - Missing values are replaced with the mean of the observed values for that variable.\n",
    "   - Pros: Preserves sample size, maintains the mean of the observed data.\n",
    "   - Cons: May underestimate standard errors, reduces variability, can distort relationships, and lead to biased estimates, especially if data are not missing at random.\n",
    "\n",
    "3. **Last Observation Carried Forward (LOCF)**:\n",
    "   - Missing values are replaced with the value from the last observed time point for that participant.\n",
    "   - Pros: Simple to implement, maintains temporal trends.\n",
    "   - Cons: May overestimate treatment effects, especially if missingness is related to treatment response. Can introduce bias and inaccurately inflate statistical significance.\n",
    "\n",
    "4. **Multiple Imputation (MI)**:\n",
    "   - Missing values are replaced with multiple sets of plausible values based on the observed data.\n",
    "   - Pros: Accounts for uncertainty due to missing data, retains variability, preserves statistical power, and provides unbiased parameter estimates under certain assumptions.\n",
    "   - Cons: More complex to implement, requires assumptions about the missing data mechanism (e.g., missing at random), computational intensity.\n",
    "\n",
    "5. **Model-Based Imputation**:\n",
    "   - Missing values are imputed using a statistical model fitted to the observed data.\n",
    "   - Pros: Accounts for complex patterns of missingness, provides unbiased estimates if the model is correctly specified.\n",
    "   - Cons: Requires assumptions about the underlying data distribution and missing data mechanism, may be computationally intensive.\n",
    "\n",
    "The choice of method depends on the nature of the missing data, the assumptions about the missing data mechanism, and the specific goals of the analysis. It's essential to consider the potential consequences of each method and perform sensitivity analyses to assess the robustness of the results. Additionally, documenting the methods used for handling missing data is crucial for transparency and reproducibility."
   ]
  },
  {
   "cell_type": "code",
   "execution_count": null,
   "id": "9f338abd-6e54-4f25-98ea-53035717a636",
   "metadata": {},
   "outputs": [],
   "source": []
  },
  {
   "cell_type": "markdown",
   "id": "9b083256-942e-4712-9d35-525b79d3bd39",
   "metadata": {},
   "source": [
    "### Q8. What are some common post-hoc tests used after ANOVA, and when would you use each one? Provide an example of a situation where a post-hoc test might be necessary."
   ]
  },
  {
   "cell_type": "markdown",
   "id": "e8ff334b-427f-4d1f-865f-0d768ee6a006",
   "metadata": {},
   "source": [
    "Ans. Post-hoc tests are used in ANOVA (Analysis of Variance) when the overall F-test indicates a significant difference among group means but does not specify which specific groups differ from each other. These tests help to identify pairwise differences between groups. Some common post-hoc tests include:\n",
    "\n",
    "1. **Tukey's Honestly Significant Difference (HSD)**:\n",
    "   - Tukey's HSD test controls the familywise error rate, providing simultaneous confidence intervals for all pairwise differences between group means.\n",
    "   - It is appropriate when you have a balanced design (equal sample sizes) and homogeneity of variances.\n",
    "   - Example: Suppose you conducted a one-way ANOVA with three treatment groups and found a significant difference among group means. Tukey's HSD test would help identify which specific pairs of treatment groups differ significantly.\n",
    "\n",
    "2. **Bonferroni Correction**:\n",
    "   - Bonferroni correction adjusts the significance level for multiple comparisons to maintain a desired overall Type I error rate.\n",
    "   - It is conservative and suitable for controlling the familywise error rate when conducting multiple pairwise comparisons.\n",
    "   - Example: If you have multiple pairwise comparisons to make after conducting an ANOVA, Bonferroni correction would adjust the p-values to ensure that the overall Type I error rate remains within an acceptable range.\n",
    "\n",
    "3. **Scheffé's Test**:\n",
    "   - Scheffé's test provides confidence intervals for all possible pairwise comparisons, regardless of sample size imbalances or heterogeneity of variances.\n",
    "   - It is more conservative than Tukey's HSD test but is robust to violations of assumptions.\n",
    "   - Example: When you have unequal sample sizes or variances among groups and want to conduct all possible pairwise comparisons while controlling the familywise error rate, Scheffé's test would be appropriate.\n",
    "\n",
    "4. **Dunnett's Test**:\n",
    "   - Dunnett's test is used when one group serves as the control or reference group, and you want to compare all other groups to this control group.\n",
    "   - It adjusts for multiple comparisons while focusing on specific group comparisons.\n",
    "   - Example: In a clinical trial comparing the effectiveness of different treatments to a control group, Dunnett's test would help identify which treatment groups differ significantly from the control group.\n",
    "\n",
    "The choice of post-hoc test depends on the specific study design, assumptions, and research questions. It's important to select a test that aligns with the characteristics of your data and the goals of your analysis. Additionally, it's essential to adjust for multiple comparisons to control the overall Type I error rate and avoid spurious findings."
   ]
  },
  {
   "cell_type": "code",
   "execution_count": null,
   "id": "9727a5c2-a0d5-4d82-8415-3dc3a1418af3",
   "metadata": {},
   "outputs": [],
   "source": []
  },
  {
   "cell_type": "markdown",
   "id": "6da41b34-1b48-4f9c-8455-dd55688ed4fa",
   "metadata": {},
   "source": [
    "### Q9. A researcher wants to compare the mean weight loss of three diets: A, B, and C. They collect data from 50 participants who were randomly assigned to one of the diets. Conduct a one-way ANOVA using Python to determine if there are any significant differences between the mean weight loss of the three diets. Report the F-statistic and p-value, and interpret the results."
   ]
  },
  {
   "cell_type": "markdown",
   "id": "739ecd17-a405-4cad-96c0-a0b6f36dc1df",
   "metadata": {},
   "source": [
    "Ans. To conduct a one-way ANOVA in Python, you can use the `scipy.stats` module. Below is a Python code example demonstrating how to perform a one-way ANOVA on the weight loss data for diets A, B, and C:\n",
    "\n",
    "```python\n",
    "import numpy as np\n",
    "from scipy.stats import f_oneway\n",
    "\n",
    "# Weight loss data for each diet\n",
    "diet_A = np.array([1.5, 2.0, 1.8, 2.2, 1.9, 2.1, 1.7, 1.8, 1.6, 2.0,\n",
    "                   1.9, 2.2, 1.5, 1.8, 1.6, 2.0, 1.7, 1.9, 2.1, 1.8,\n",
    "                   2.0, 1.6, 1.9, 2.1, 1.7, 2.0, 1.8, 1.9, 2.2, 1.6,\n",
    "                   1.8, 2.1, 1.7, 1.9, 2.0, 1.6, 1.8, 1.7, 1.9, 2.2,\n",
    "                   1.6, 1.8, 1.7, 2.1, 1.9, 2.0, 1.5, 2.2, 1.8, 1.6])\n",
    "\n",
    "diet_B = np.array([1.3, 1.7, 1.5, 1.8, 1.6, 1.9, 1.4, 1.6, 1.5, 1.7,\n",
    "                   1.3, 1.6, 1.4, 1.8, 1.5, 1.7, 1.4, 1.6, 1.3, 1.8,\n",
    "                   1.5, 1.7, 1.4, 1.6, 1.3, 1.5, 1.8, 1.4, 1.6, 1.3,\n",
    "                   1.5, 1.8, 1.4, 1.6, 1.3, 1.7, 1.5, 1.9, 1.4, 1.6,\n",
    "                   1.3, 1.7, 1.5, 1.8, 1.4, 1.6, 1.3, 1.5, 1.8, 1.4])\n",
    "\n",
    "diet_C = np.array([1.0, 1.2, 0.8, 1.3, 1.1, 1.4, 0.9, 1.1, 1.0, 1.2,\n",
    "                   0.8, 1.3, 1.0, 1.2, 0.9, 1.4, 1.1, 1.3, 0.8, 1.2,\n",
    "                   1.0, 1.4, 0.9, 1.1, 1.0, 1.3, 0.8, 1.2, 1.0, 1.4,\n",
    "                   0.9, 1.1, 1.1, 1.3, 0.9, 1.2, 1.0, 1.4, 0.8, 1.1,\n",
    "                   1.0, 1.3, 0.9, 1.2, 1.1, 1.4, 0.8, 1.0, 1.2, 1.3])\n",
    "\n",
    "# Perform one-way ANOVA\n",
    "f_statistic, p_value = f_oneway(diet_A, diet_B, diet_C)\n",
    "\n",
    "# Print results\n",
    "print(\"F-statistic:\", f_statistic)\n",
    "print(\"p-value:\", p_value)\n",
    "\n",
    "# Interpret the results\n",
    "if p_value < 0.05:\n",
    "    print(\"The p-value is less than 0.05, so we reject the null hypothesis.\")\n",
    "    print(\"There is a significant difference between the mean weight loss of the three diets.\")\n",
    "else:\n",
    "    print(\"The p-value is greater than or equal to 0.05, so we fail to reject the null hypothesis.\")\n",
    "    print(\"There is no significant difference between the mean weight loss of the three diets.\")\n",
    "```\n",
    "\n",
    "This code first defines the weight loss data for each diet, then performs a one-way ANOVA using `f_oneway()` function from `scipy.stats`. Finally, it prints out the F-statistic and p-value and interprets the results. If the p-value is less than 0.05, it concludes that there is a significant difference between the mean weight loss of the three diets; otherwise, it concludes that there is no significant difference."
   ]
  },
  {
   "cell_type": "code",
   "execution_count": null,
   "id": "0e538996-1f3e-4c52-a5dd-61141146bee9",
   "metadata": {},
   "outputs": [],
   "source": []
  },
  {
   "cell_type": "markdown",
   "id": "23fc4c8c-7bb5-4b9f-bbaf-d88eb308a491",
   "metadata": {},
   "source": [
    "### Q10. A company wants to know if there are any significant differences in the average time it takes to complete a task using three different software programs: Program A, Program B, and Program C. They randomly assign 30 employees to one of the programs and record the time it takes each employee to complete the task. Conduct a two-way ANOVA using Python to determine if there are any main effects or interaction effects between the software programs and employee experience level (novice vs. experienced). Report the F-statistics and p-values, and interpret the results."
   ]
  },
  {
   "cell_type": "markdown",
   "id": "a8aba44e-f9e4-41fc-b737-27b2012191fb",
   "metadata": {},
   "source": [
    "To conduct a two-way ANOVA in Python, you can use the `statsmodels` library, which provides an easy-to-use interface for fitting linear models. Below is a Python code example demonstrating how to perform a two-way ANOVA on the task completion time data for different software programs and employee experience levels:\n",
    "\n",
    "```python\n",
    "import pandas as pd\n",
    "import statsmodels.api as sm\n",
    "from statsmodels.formula.api import ols\n",
    "\n",
    "# Sample data (replace with your actual data)\n",
    "data = {\n",
    "    'Software': ['A', 'A', 'A', 'B', 'B', 'B', 'C', 'C', 'C'] * 10,\n",
    "    'Experience': ['Novice', 'Experienced'] * 45,\n",
    "    'Time': [10.2, 11.5, 9.8, 12.3, 13.2, 11.0, 9.5, 10.8, 9.2,\n",
    "             11.9, 12.7, 10.5, 10.1, 11.4, 9.7, 12.2, 13.0, 10.8,\n",
    "             9.3, 10.6, 8.9, 12.5, 13.4, 11.2, 9.7, 11.0, 9.3,\n",
    "             10.0, 11.3, 9.6, 11.1, 12.8, 10.6, 10.2, 11.5, 9.8,\n",
    "             12.3, 13.2, 11.0, 9.5, 10.8, 9.2, 11.9, 12.7, 10.5]\n",
    "}\n",
    "\n",
    "# Convert data to DataFrame\n",
    "df = pd.DataFrame(data)\n",
    "\n",
    "# Fit the two-way ANOVA model\n",
    "model = ols('Time ~ C(Software) + C(Experience) + C(Software):C(Experience)', data=df).fit()\n",
    "\n",
    "# Perform ANOVA\n",
    "anova_table = sm.stats.anova_lm(model, typ=2)\n",
    "print(anova_table)\n",
    "```\n",
    "\n",
    "This code first creates a DataFrame `df` containing the software program, employee experience level, and task completion time data. Then, it fits a two-way ANOVA model using the `ols()` function from `statsmodels.formula.api`, specifying both main effects (`C(Software)` and `C(Experience)`) and their interaction (`C(Software):C(Experience)`). Finally, it performs ANOVA using `sm.stats.anova_lm()` and prints out the ANOVA table containing the F-statistics and p-values for main effects and interaction effects.\n",
    "\n",
    "Interpreting the results of the two-way ANOVA involves examining the p-values associated with the main effects and interaction effect:\n",
    "\n",
    "- If the p-value for the main effect of software program or employee experience level is less than the chosen significance level (e.g., 0.05), it indicates a significant main effect.\n",
    "- If the p-value for the interaction effect is less than the chosen significance level, it suggests that there is a significant interaction effect between software program and employee experience level."
   ]
  },
  {
   "cell_type": "code",
   "execution_count": null,
   "id": "a16273bb-1880-4879-87fc-3efae1bdf6b2",
   "metadata": {},
   "outputs": [],
   "source": []
  },
  {
   "cell_type": "markdown",
   "id": "6a0b8184-cf0d-4606-b69b-91f5f443e180",
   "metadata": {},
   "source": [
    "### Q11. An educational researcher is interested in whether a new teaching method improves student test scores. They randomly assign 100 students to either the control group (traditional teaching method) or the experimental group (new teaching method) and administer a test at the end of the semester. Conduct a two-sample t-test using Python to determine if there are any significant differences in test scores between the two groups. If the results are significant, follow up with a post-hoc test to determine which group(s) differ significantly from each other."
   ]
  },
  {
   "cell_type": "markdown",
   "id": "7031b260-849c-4ee0-adc1-d593a9d900fb",
   "metadata": {},
   "source": [
    "Ans. To conduct a two-sample t-test in Python and follow up with a post-hoc test if the results are significant, you can use libraries like `scipy.stats` and `statsmodels`. Below is a Python code example demonstrating how to perform these analyses:\n",
    "\n",
    "```python\n",
    "import numpy as np\n",
    "from scipy.stats import ttest_ind\n",
    "from statsmodels.stats.multitest import multipletests\n",
    "\n",
    "# Test scores for control group (traditional teaching method)\n",
    "control_scores = np.array([85, 78, 90, 82, 79, 88, 92, 81, 84, 87,\n",
    "                           80, 83, 86, 89, 91, 77, 79, 81, 83, 85,\n",
    "                           78, 80, 82, 84, 86, 88, 90, 92, 94, 96,\n",
    "                           85, 88, 81, 79, 87, 83, 82, 90, 88, 85,\n",
    "                           84, 82, 86, 89, 91, 87, 83, 85, 88, 80])\n",
    "\n",
    "# Test scores for experimental group (new teaching method)\n",
    "experimental_scores = np.array([88, 82, 95, 85, 84, 91, 94, 86, 90, 92,\n",
    "                                83, 87, 89, 93, 96, 81, 85, 87, 89, 88,\n",
    "                                81, 83, 85, 87, 89, 91, 93, 95, 97, 99,\n",
    "                                88, 91, 84, 82, 90, 87, 85, 93, 91, 88,\n",
    "                                86, 85, 89, 92, 94, 90, 87, 88, 91, 82])\n",
    "\n",
    "# Perform two-sample t-test\n",
    "t_statistic, p_value = ttest_ind(control_scores, experimental_scores)\n",
    "print(\"Two-sample t-test results:\")\n",
    "print(\"t-statistic:\", t_statistic)\n",
    "print(\"p-value:\", p_value)\n",
    "\n",
    "# Check if the results are significant\n",
    "if p_value < 0.05:\n",
    "    print(\"The difference in test scores between the two groups is significant.\")\n",
    "    \n",
    "    # Perform post-hoc tests\n",
    "    p_adjusted = multipletests(p_value, method='bonferroni')[1]\n",
    "    if p_adjusted < 0.05:\n",
    "        print(\"The difference remains significant after adjusting for multiple comparisons.\")\n",
    "    else:\n",
    "        print(\"The difference is not significant after adjusting for multiple comparisons.\")\n",
    "else:\n",
    "    print(\"There is no significant difference in test scores between the two groups.\")\n",
    "```\n",
    "\n",
    "In this code:\n",
    "- We define the test scores for the control group (`control_scores`) and the experimental group (`experimental_scores`).\n",
    "- We perform a two-sample t-test using `ttest_ind()` from `scipy.stats`.\n",
    "- If the t-test results are significant (p-value < 0.05), we perform post-hoc tests using `multipletests()` from `statsmodels.stats.multitest` with the Bonferroni correction to adjust for multiple comparisons."
   ]
  },
  {
   "cell_type": "code",
   "execution_count": null,
   "id": "821ba55a-8165-4228-8042-9499334a82a8",
   "metadata": {},
   "outputs": [],
   "source": []
  },
  {
   "cell_type": "markdown",
   "id": "d8da356b-4504-40a0-8ea7-5488a782b42f",
   "metadata": {},
   "source": [
    "### Q12. A researcher wants to know if there are any significant differences in the average daily sales of three retail stores: Store A, Store B, and Store C. They randomly select 30 days and record the sales for each store on those days. Conduct a repeated measures ANOVA using Python to determine if there are any significant differences in sales between the three stores. If the results are significant, follow up with a posthoc test to determine which store(s) differ significantly from each other."
   ]
  },
  {
   "cell_type": "markdown",
   "id": "e42c8190-9b76-4b24-bd91-6e5137629aef",
   "metadata": {},
   "source": [
    "Ans. To conduct a repeated measures ANOVA in Python and follow up with a post-hoc test if the results are significant, you can use libraries like `statsmodels` and `pingouin`. Below is a Python code example demonstrating how to perform these analyses:\n",
    "\n",
    "```python\n",
    "import pandas as pd\n",
    "import pingouin as pg\n",
    "from statsmodels.stats.multicomp import pairwise_tukeyhsd\n",
    "\n",
    "# Sample data (replace with your actual data)\n",
    "data = {\n",
    "    'Day': list(range(1, 31)) * 3,\n",
    "    'Store': ['Store A'] * 30 + ['Store B'] * 30 + ['Store C'] * 30,\n",
    "    'Sales': [100, 110, 95, 105, 115, 90, 100, 110, 105, 115,\n",
    "              95, 105, 100, 110, 95, 105, 115, 90, 100, 110,\n",
    "              105, 115, 95, 105, 100, 110, 95, 105, 115, 90,\n",
    "              100, 110, 95, 105, 115, 90, 100, 110, 105, 115,\n",
    "              95, 105, 100, 110, 95, 105, 115, 90, 100, 110]\n",
    "}\n",
    "\n",
    "# Convert data to DataFrame\n",
    "df = pd.DataFrame(data)\n",
    "\n",
    "# Perform repeated measures ANOVA\n",
    "pg.rm_anova(data=df, dv='Sales', within='Store', subject='Day').round(3)\n",
    "\n",
    "# If the results are significant, follow up with post-hoc tests (Tukey HSD)\n",
    "posthoc = pairwise_tukeyhsd(df['Sales'], df['Store'], alpha=0.05)\n",
    "print(posthoc)\n",
    "```\n",
    "\n",
    "In this code:\n",
    "- We define the sales data for each store (`Store A`, `Store B`, and `Store C`) over 30 days.\n",
    "- We perform a repeated measures ANOVA using the `rm_anova()` function from the `pingouin` library. This function conducts a repeated measures ANOVA with the specified within-subject factor (`Store`) and subject variable (`Day`).\n",
    "- If the repeated measures ANOVA results are significant, we perform post-hoc tests using the `pairwise_tukeyhsd()` function from the `statsmodels` library to determine which stores differ significantly from each other."
   ]
  },
  {
   "cell_type": "code",
   "execution_count": null,
   "id": "2ee9d3d7-040c-463f-af1d-a1ab60bc7e72",
   "metadata": {},
   "outputs": [],
   "source": []
  }
 ],
 "metadata": {
  "kernelspec": {
   "display_name": "Python 3 (ipykernel)",
   "language": "python",
   "name": "python3"
  },
  "language_info": {
   "codemirror_mode": {
    "name": "ipython",
    "version": 3
   },
   "file_extension": ".py",
   "mimetype": "text/x-python",
   "name": "python",
   "nbconvert_exporter": "python",
   "pygments_lexer": "ipython3",
   "version": "3.10.8"
  }
 },
 "nbformat": 4,
 "nbformat_minor": 5
}
